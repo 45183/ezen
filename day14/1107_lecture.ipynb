{
 "cells": [
  {
   "cell_type": "code",
   "execution_count": null,
   "id": "bcd2e80e",
   "metadata": {},
   "outputs": [],
   "source": [
    "# [실습] 문자 빈도수 구하기[1]\n",
    "charset = ['abc', 'code', 'band', 'band', 'abc']\n",
    "wc = {}\n",
    "\n",
    "for ch in charset :\n",
    "    if ch in wc:\n",
    "        wc[ch] +=1 #dictionary의 성질 이용\n",
    "    else:\n",
    "        wc[ch] =1\n",
    "print(wc)        \n",
    "# 위 for 문을 사용하여 각 단어의 출현 개수를 구하시오"
   ]
  },
  {
   "cell_type": "code",
   "execution_count": null,
   "id": "e6160e20",
   "metadata": {},
   "outputs": [],
   "source": [
    "charset = ['abc', 'code', 'band', 'band', 'abc']\n",
    "wc = {}\n",
    "\n",
    "for key in charset : \n",
    "    # get()함수 : key 이용 value 가져오기 \n",
    "    wc[key] = wc.get(key, 0) + 1 # get() 이용\n",
    "\n",
    "print(wc)\n",
    "\n",
    "'''\n",
    "get(key, 0) + 1 \n",
    " - 해당 key의 값이 없으면 0, 있으면 기존 값에 +1 \n",
    "'''"
   ]
  },
  {
   "cell_type": "code",
   "execution_count": null,
   "id": "ccb6cbcc",
   "metadata": {},
   "outputs": [],
   "source": [
    "# 3. 검색 (인생 하드모드) 데이터 정렬이 우선되야 해\n",
    "dataset = [5, 10, 18, 22, 35, 55, 75, 103]\n",
    "value = int(input(\"검색할 값 입력 : \"))\n",
    "# 아래 코드를 보시고 어떤 원리로 입력숫자를 찾는지 생각해 보세요\n",
    "low = 0\n",
    "high = len(dataset)-1\n",
    "loc = 0\n",
    "state= False\n",
    "while (low <= high):\n",
    "    mid = (low + high) //2\n",
    "    if dataset[mid] > value:\n",
    "        high = mid - 1\n",
    "    elif dataset[mid] < value: \n",
    "        low = mid + 1\n",
    "    else: # 입력한 숫자가 리스트안에 값이 있어 숫자를 찾은경우\n",
    "        loc = mid\n",
    "        state = True\n",
    "        break\n",
    "if True:\n",
    "    print('당신의 숫자는 %d번째에 있군요' %(loc+1))\n",
    "else:\n",
    "    print('찾는 값은 없어요')"
   ]
  },
  {
   "cell_type": "code",
   "execution_count": null,
   "id": "fd1d1a7e",
   "metadata": {},
   "outputs": [],
   "source": [
    "#version1\n",
    "position = ['과장', '부장', '대리', '사장', '대리', '과장']\n",
    "\n",
    "# 1. 위 데이터 셋의 중복된 원소를 제거해 주세요\n",
    "uni_position = list(set(position))\n",
    "print(uni_position)\n",
    "\n",
    "# 2. 위 데이터 셋 그대로 각 직급 데이터를 세어 주세요 (get함수 사용)\n",
    "position_cnt = {}\n",
    "for p in position:\n",
    "    position_cnt[p] = position_cnt.get(p,0) + 1\n",
    "print(position_cnt)\n"
   ]
  },
  {
   "cell_type": "code",
   "execution_count": null,
   "id": "c5678310",
   "metadata": {},
   "outputs": [],
   "source": [
    "user_input = input(\"이름을 입력하세요: \")\n",
    "print(\"안녕하세요, \" + user_input + \"님!\")\n",
    "\n"
   ]
  },
  {
   "cell_type": "code",
   "execution_count": null,
   "id": "4cd8bbea",
   "metadata": {},
   "outputs": [],
   "source": [
    "user_input = input(\"나이를 입력하세요: \")\n",
    "print(\"당신의 나이는 \" , user_input , \"세 입니다.\")\n",
    "# 문자열과 숫자를 출력할 때 + 사인을 쓰면 연산을 시키는 것 같이 \n",
    "# 컴퓨터에 인식되어 오류가 난다. ,를 사용하여 오해를 풀자 ^^"
   ]
  },
  {
   "cell_type": "code",
   "execution_count": null,
   "id": "cf4a620d",
   "metadata": {},
   "outputs": [],
   "source": [
    "message = \"Hello, \" + \"World!\"\n",
    "print(message)"
   ]
  },
  {
   "cell_type": "code",
   "execution_count": null,
   "id": "62cd2f85",
   "metadata": {},
   "outputs": [],
   "source": [
    "name = \"Alice\"\n",
    "age = 30\n",
    "print(\"이름:\", name, \"나이:\", age)\n"
   ]
  },
  {
   "cell_type": "code",
   "execution_count": null,
   "id": "1bc2e32b",
   "metadata": {},
   "outputs": [],
   "source": [
    "print(\"한 줄에 출력\", end=\", \")\n",
    "print(\"계속 출력\")\n"
   ]
  },
  {
   "cell_type": "code",
   "execution_count": null,
   "id": "2d80b5e1",
   "metadata": {},
   "outputs": [],
   "source": [
    "def profit_calc(revenue, cost, tax, dividend): # 당기순이익 계산\n",
    "    x = (revenue - cost) * (1 - tax) - dividend\n",
    "    return x\n",
    "\n",
    "\n",
    "def revenue_breakdown(revenue, chicken, pizza, sause): # 매출액 분석 및 검증\n",
    "    y = chicken / revenue\n",
    "    z = pizza / revenue\n",
    "    r = sause / revenue\n",
    "    error_chk = (chicken + pizza + sause) / revenue\n",
    "    return y, z, r, error_chk"
   ]
  },
  {
   "cell_type": "code",
   "execution_count": null,
   "id": "ec8f4c62",
   "metadata": {},
   "outputs": [],
   "source": [
    "revenue = 50000\n",
    "cost = 10000\n",
    "tax = 0.3\n",
    "dividend = 14000\n",
    "x = (revenue - cost) * (1 - tax) - dividend\n",
    "print(x)"
   ]
  },
  {
   "cell_type": "code",
   "execution_count": null,
   "id": "b48990a8",
   "metadata": {},
   "outputs": [],
   "source": [
    "import financial_reporting\n",
    "\n",
    "financial_reporting.profit_calc(50200, 100001, 0.3, 14000)"
   ]
  },
  {
   "cell_type": "code",
   "execution_count": null,
   "id": "9edd764d",
   "metadata": {},
   "outputs": [],
   "source": [
    "def greet(name):\n",
    "    print(f\"Hello, {name}!\")\n",
    "\n"
   ]
  },
  {
   "cell_type": "code",
   "execution_count": null,
   "id": "d27f5a14",
   "metadata": {},
   "outputs": [],
   "source": [
    "greet(\"sang jin\")  # \"Alice\"가 인수로 전달됨"
   ]
  },
  {
   "cell_type": "code",
   "execution_count": null,
   "id": "c0b2a055",
   "metadata": {},
   "outputs": [],
   "source": [
    "print(\"Hello, sang jin!\")"
   ]
  },
  {
   "cell_type": "code",
   "execution_count": null,
   "id": "be5a7725",
   "metadata": {},
   "outputs": [],
   "source": [
    "def greet(name, age):\n",
    "    print(f\"Hello, {name}! You are {age} years old.\")\n",
    "\n",
    "greet(age=30, name=\"Alice\")  # 매개변수를 지정하여 호출\n"
   ]
  },
  {
   "cell_type": "code",
   "execution_count": null,
   "id": "fb29c56f",
   "metadata": {},
   "outputs": [],
   "source": [
    "def add(*args):\n",
    "    result = 0\n",
    "    for num in args:\n",
    "        result += num\n",
    "    return result\n",
    "\n",
    "total = add(1, 2, 3, 4, 5,6,7,8,9)  # 임의의 개수의 인수 전달\n",
    "print(total)"
   ]
  },
  {
   "cell_type": "code",
   "execution_count": null,
   "id": "5b928855",
   "metadata": {},
   "outputs": [],
   "source": [
    "def person_info(**kwargs):\n",
    "    for key, value in kwargs.items():\n",
    "        print(f\"{key}: {value}\")\n",
    "\n",
    "person_info(name=\"Alice\", age=30, city=\"New York\")\n"
   ]
  },
  {
   "cell_type": "code",
   "execution_count": null,
   "id": "df6ecb4d",
   "metadata": {
    "scrolled": true
   },
   "outputs": [],
   "source": [
    "data = [{'name': 'Alice', 'age': 30}, {'name': 'Bob', 'age': 25}, {'name': 'Charlie', 'age': 35}]\n",
    "sorted_data = sorted(data, key=lambda x: x['name'])\n",
    "print(sorted_data)"
   ]
  },
  {
   "cell_type": "code",
   "execution_count": null,
   "id": "61dd0e7a",
   "metadata": {},
   "outputs": [],
   "source": [
    "numbers = [1, 2, 3, 4, 5, 6, 7, 8, 9, 10]\n",
    "even_numbers = list(filter(lambda x: x % 2 == 0, numbers))\n",
    "print(even_numbers)"
   ]
  },
  {
   "cell_type": "code",
   "execution_count": null,
   "id": "6ed790e7",
   "metadata": {},
   "outputs": [],
   "source": [
    "quiz) 표준체중을 구하는 함수형 프로그램을 만드시오\n",
    "\n",
    "*표준체중: 각 개인의 키에 적당한 체중 (키는 미터 단위로 변환해서 넣으세요)\n",
    "\n",
    "(성별에 따른 공식)\n",
    "남자: 키 * 키 * 22 여자: 키 * 키 * 21\n",
    "\n",
    "조건1: 표준체중은 별도의 함수 내에서 계산 \n",
    "       *함수명: std_weight *전달값: 키(height), 성별(gender)\n",
    "\n",
    "조건2: 표준체중은 소수점 둘째자리 까지만 표시\n",
    "\n",
    "(출력예제) 키 175 남자 표준체중은 67.38 kg 입니다"
   ]
  },
  {
   "cell_type": "code",
   "execution_count": null,
   "id": "87eda061",
   "metadata": {},
   "outputs": [],
   "source": [
    "def std_weight(height, gender):\n",
    "    if gender == \"남자\":\n",
    "        return round(height ** 2 * 22, 2)\n",
    "    else:\n",
    "        return round(height ** 2 * 21, 2)\n",
    "\n",
    "height = 175\n",
    "gender = \"남자\"\n",
    "weight = std_weight(height / 100, gender)\n",
    "print(weight)"
   ]
  },
  {
   "cell_type": "code",
   "execution_count": 1,
   "id": "5707ffe4",
   "metadata": {},
   "outputs": [
    {
     "data": {
      "text/plain": [
       "<function sum(iterable, /, start=0)>"
      ]
     },
     "execution_count": 1,
     "metadata": {},
     "output_type": "execute_result"
    }
   ],
   "source": [
    "# 여러 결과를 한번에 나타낼 수 있다.\n",
    "def sum_and_mul(a, b) :\n",
    "    return a + b, a * b\n",
    "\n",
    "result = sum_and_mul(3, 4) # (7, 12)\n",
    "result\n",
    "\n",
    "# sum, mul = sum_and_mul(3, 4) # 결과를 하나씩 쪼개서 받을 수 있다.\n",
    "# sum, mul\n",
    "_, mul = sum_and_mul(3, 4)\n",
    "sum"
   ]
  },
  {
   "cell_type": "code",
   "execution_count": 3,
   "id": "023c5468",
   "metadata": {},
   "outputs": [
    {
     "data": {
      "text/plain": [
       "5"
      ]
     },
     "execution_count": 3,
     "metadata": {},
     "output_type": "execute_result"
    }
   ],
   "source": [
    "# 잘못된 예시, 리턴은 한번만 (조건문인경우 복수로 쓰지만 해당 조건에 하나씩만)\n",
    "def sum_and_mul(a, b) :\n",
    "    return a + b\n",
    "    return a * b # 무시\n",
    "\n",
    "result = sum_and_mul(2, 3)\n",
    "result"
   ]
  },
  {
   "cell_type": "code",
   "execution_count": 9,
   "id": "5ec7a143",
   "metadata": {},
   "outputs": [
    {
     "ename": "SyntaxError",
     "evalue": "non-default argument follows default argument (1937791064.py, line 4)",
     "output_type": "error",
     "traceback": [
      "\u001b[1;36m  Cell \u001b[1;32mIn[9], line 4\u001b[1;36m\u001b[0m\n\u001b[1;33m    def say_myself(name, old=43, man) :\u001b[0m\n\u001b[1;37m                                 ^\u001b[0m\n\u001b[1;31mSyntaxError\u001b[0m\u001b[1;31m:\u001b[0m non-default argument follows default argument\n"
     ]
    }
   ],
   "source": [
    "# 입력 인수에 초깃값 미리 설정하기\n",
    "# 남초 회사를 상상하자\n",
    "# 초기값은 뒤에 변수부터 설정해야 됩니다.\n",
    "def say_myself(name, old=43, man) :\n",
    "    print('나의 이름은 %s입니다.' % name)\n",
    "    print('나이는 %d살 입니다.' % old)\n",
    "    if man :\n",
    "        print('남자입니다.')\n",
    "    else:\n",
    "        print('여자입니다.')\n",
    "\n",
    "say_myself(\"박상진\",True)"
   ]
  },
  {
   "cell_type": "code",
   "execution_count": 10,
   "id": "3c8db89d",
   "metadata": {
    "scrolled": true
   },
   "outputs": [
    {
     "name": "stdout",
     "output_type": "stream",
     "text": [
      "0 1 1 2 3 5 8 13 21 34 "
     ]
    }
   ],
   "source": [
    "'''\n",
    "첫 번째 항의 값이 0이고 두 번째 항의 값이 1일때,\n",
    "이후에 이어지는 항들은 이전의 두 항을 더한 값으로\n",
    "이루어지는 수열을 피보나치 수열이라고 한다.\n",
    "0, 1, 1, 2, 3, 5, 8, 13, ...\n",
    "첫 값을 0, 둘째 값을 1로 설정 하시고 3번째 수부터 더하게만드세요\n",
    "입력을 정수 n으로 받았을 때, n 이하까지의\n",
    "피보나치 수열을 출력하는 함수를 작성해보자.\n",
    "예시) n=10으로 하면\n",
    "# 0 1 1 2 3 5 8 13 21 34 요렇게 나오도록\n",
    "'''\n",
    "def fib(n) :\n",
    "    if n == 0 : return 0\n",
    "    if n == 1 : return 1\n",
    "    return fib(n-1) + fib(n-2)\n",
    "\n",
    "for i in range(0, 10) :\n",
    "    print(fib(i), end = ' ')"
   ]
  },
  {
   "cell_type": "code",
   "execution_count": 21,
   "id": "74ba9132",
   "metadata": {},
   "outputs": [],
   "source": [
    "file = open(\"example1107.txt\", \"a\")\n",
    "file.write('\\n안녕 여러분')\n",
    "file.close()  # 파일을 생성하고 닫음\n"
   ]
  },
  {
   "cell_type": "code",
   "execution_count": 14,
   "id": "bb2f0453",
   "metadata": {},
   "outputs": [
    {
     "name": "stdout",
     "output_type": "stream",
     "text": [
      "안녕 여러분안녕 여러분"
     ]
    }
   ],
   "source": [
    "file = open(\"example1107.txt\", \"r\")\n",
    "line = file.readline()\n",
    "while line:\n",
    "    print(line, end=\"\")  # 줄 바꿈 문자를 무시\n",
    "    line = file.readline()\n",
    "file.close()\n"
   ]
  },
  {
   "cell_type": "code",
   "execution_count": 16,
   "id": "5ff3b566",
   "metadata": {},
   "outputs": [
    {
     "name": "stdout",
     "output_type": "stream",
     "text": [
      "안녕 여러분안녕 여러분"
     ]
    }
   ],
   "source": [
    "with open(\"example1107.txt\", \"r\") as file:\n",
    "    for line in file:\n",
    "        print(line, end=\"\")\n"
   ]
  },
  {
   "cell_type": "code",
   "execution_count": 15,
   "id": "7595c377",
   "metadata": {},
   "outputs": [
    {
     "name": "stdout",
     "output_type": "stream",
     "text": [
      "안녕 여러분안녕 여러분"
     ]
    }
   ],
   "source": [
    "file = open(\"example1107.txt\", \"r\")\n",
    "lines = file.readlines()\n",
    "for line in lines:\n",
    "    print(line, end=\"\")\n",
    "file.close()\n"
   ]
  },
  {
   "cell_type": "code",
   "execution_count": 22,
   "id": "57d4dad8",
   "metadata": {},
   "outputs": [],
   "source": [
    "f = open(\"./새파일.txt\", 'w')\n",
    "for i in range(1, 11):\n",
    "    data = \"%d번째 줄입니다.\\n\" % i\n",
    "    f.write(data)\n",
    "f.close()\n"
   ]
  },
  {
   "cell_type": "code",
   "execution_count": null,
   "id": "38978557",
   "metadata": {},
   "outputs": [],
   "source": [
    "'''\n",
    "오른쪽과 같이 총 10줄로 이루어진 sample.txt 파일이 있다.\n",
    "다음 쪽을 보며, sample.txt 파일의 숫자값을 모두 읽어\n",
    "총합과 평균값을 구한 후 평균값을 result.txt라는\n",
    "파일에 쓰는 프로그램을 작성해보자.\n",
    "\n",
    "sample.txt\n",
    "70\n",
    "60\n",
    "55\n",
    "75\n",
    "95\n",
    "90\n",
    "80\n",
    "80\n",
    "85\n",
    "100\n",
    "'''"
   ]
  },
  {
   "cell_type": "code",
   "execution_count": 28,
   "id": "42e206e5",
   "metadata": {},
   "outputs": [],
   "source": [
    "# 데이터를 읽어서 lines라는 변수에 결과저장\n",
    "f = open ('sample.txt', 'r')\n",
    "lines = f.readlines()\n",
    "f.close()\n",
    "\n",
    "# for문에서 lines의 개별 데이터를 읽음\n",
    "# 그리고 개별 데이터를 정수형으로 변환한 다음에 total 변수에 저장 \n",
    "total = 0\n",
    "for line in lines:\n",
    "    score = int(line)\n",
    "    total += score\n",
    "\n",
    "# average변수에 평균을 계산 한 후에 result.txt를 생성하여 결과저장\n",
    "average = total / len(lines)\n",
    "g = open('result.txt', 'w')\n",
    "g.write(str(total))\n",
    "g.write('\\n'+ str(average))\n",
    "g.close()"
   ]
  },
  {
   "cell_type": "code",
   "execution_count": null,
   "id": "ea9e9c9f",
   "metadata": {},
   "outputs": [],
   "source": [
    "# 함수만 사용하기엔 프로그램의 재사용에 한계가 있다.\n",
    "\n",
    "# 한 프로그램에서 2개의 계산기가 필요한 상황\n",
    "result1 = 0\n",
    "result2 = 0\n",
    "\n",
    "def adder1(num) :\n",
    "    global result1\n",
    "    result1 += num\n",
    "    return result1\n",
    "\n",
    "def adder2(num) :\n",
    "    global result2\n",
    "    result2 += num\n",
    "    return result2\n",
    "\n",
    "print(adder1(3)) # 3\n",
    "print(adder1(4)) # 7\n",
    "print(adder2(3)) # 3\n",
    "print(adder2(7)) # 10"
   ]
  },
  {
   "cell_type": "code",
   "execution_count": 29,
   "id": "58afef20",
   "metadata": {},
   "outputs": [
    {
     "name": "stdout",
     "output_type": "stream",
     "text": [
      "3\n",
      "43\n",
      "3\n",
      "73\n",
      "3\n",
      "50\n",
      "3\n",
      "780\n",
      "3\n",
      "4447\n",
      "3\n",
      "7132579\n"
     ]
    }
   ],
   "source": [
    "# 클래스 이용\n",
    "class Calculator :\n",
    "    def __init__(self) :  #클래스를 실행하면 무적권 실행되는 블럭 - 생성자\n",
    "        self.result = 0\n",
    "\n",
    "    def adder(self, num) : #클래스 내부 더하기 함수 \n",
    "        self.result += num  # 누적 더하기\n",
    "        return self.result\n",
    "\n",
    "cal1 = Calculator() #클래스를 실행해서 cal1이라는 객체를 생성\n",
    "cal2 = Calculator() #클래스를 실행해서 cal2이라는 객체를 생성\n",
    "cal3 = Calculator() \n",
    "cal4 = Calculator() \n",
    "cal5 = Calculator() \n",
    "cal6 = Calculator() \n",
    "\n",
    "print(cal1.adder(3)) # 3  #cal1객체에서 adder라는 함수를 불러서 3을 더함\n",
    "print(cal1.adder(40)) # 7  #cal1객체에서 adder라는 함수를 불러서 4을 더함 누적은 7\n",
    "print(cal2.adder(3)) # 3\n",
    "print(cal2.adder(70)) # 10\n",
    "print(cal3.adder(3)) # 3  #cal1객체에서 adder라는 함수를 불러서 3을 더함\n",
    "print(cal3.adder(47)) # 7  #cal1객체에서 adder라는 함수를 불러서 4을 더함 누적은 7\n",
    "print(cal4.adder(3)) # 3\n",
    "print(cal4.adder(777)) # 10\n",
    "print(cal5.adder(3)) # 3  #cal1객체에서 adder라는 함수를 불러서 3을 더함\n",
    "print(cal5.adder(4444)) # 7  #cal1객체에서 adder라는 함수를 불러서 4을 더함 누적은 7\n",
    "print(cal6.adder(3)) # 3\n",
    "print(cal6.adder(7132576)) # 10"
   ]
  },
  {
   "cell_type": "code",
   "execution_count": 30,
   "id": "f5154583",
   "metadata": {},
   "outputs": [
    {
     "name": "stdout",
     "output_type": "stream",
     "text": [
      "Blue Sedan이 출발합니다.\n",
      "Red SUV이 출발합니다.\n"
     ]
    }
   ],
   "source": [
    "\"\"\"\n",
    "현대차기업에서 자동차 여러모델을 만든다 생각\n",
    "# 클래스 사용 방법은 \n",
    "1. 클래스를 만들고 생성자를 사용하여 초기 조건을 지정한다.\n",
    "2. 클래스 내부에 하위 함수를 구현하여 사용하고싶은 함수를 만든다.\n",
    "3. 만든 클래스를 호출하여 지정한 변수에 부여하여 객체를 형성한다.\n",
    "4. 생성된 객체는 자유롭게 하위 함수를 호출하여 원하는 작업을 한다.\n",
    "\"\"\"\n",
    "class Car:\n",
    "    def __init__(self, model1, color1, speed1):\n",
    "        self.model = model1\n",
    "        self.color = color1\n",
    "        self.speed = speed1\n",
    "\n",
    "    def start(self):\n",
    "        print(f\"{self.color} {self.model}이 출발합니다.\")\n",
    "\n",
    "        \n",
    "car1 = Car(\"Sedan\", \"Blue\", 100)\n",
    "car2 = Car(\"SUV\", \"Red\", 120)\n",
    "\n",
    "car1.start()\n",
    "car2.start()"
   ]
  },
  {
   "cell_type": "code",
   "execution_count": 31,
   "id": "dbe0f17c",
   "metadata": {},
   "outputs": [
    {
     "name": "stdout",
     "output_type": "stream",
     "text": [
      "Buddy is 3 years old.\n",
      "Milo is 2 years old.\n",
      "Buddy is barking!\n",
      "Milo is barking!\n"
     ]
    }
   ],
   "source": [
    "#생성자가 없는 경우\n",
    "# 클래스 하위 함수인 set_name, set_age는 초기 강아지 정보를 부르는 함수이다.\n",
    "# 생성자가 없다면 클래스 자체를 부른 후에 \n",
    "#  클래스 내부 하위 함수를 통해 정보를 2단계로 읽어야한다.\n",
    "class Dog:\n",
    "    def set_name(self, name):\n",
    "        self.name = name\n",
    "\n",
    "    def set_age(self, age):\n",
    "        self.age = age\n",
    "\n",
    "    def bark(self):\n",
    "        print(f\"{self.name} is barking!\")\n",
    "\n",
    "# Dog 클래스의 인스턴스 생성\n",
    "dog1 = Dog()\n",
    "dog2 = Dog()\n",
    "\n",
    "# 각 개의 이름과 나이 설정\n",
    "dog1.set_name(\"Buddy\")\n",
    "dog1.set_age(3)\n",
    "\n",
    "dog2.set_name(\"Milo\")\n",
    "dog2.set_age(2)\n",
    "\n",
    "# 개의 정보 출력\n",
    "print(f\"{dog1.name} is {dog1.age} years old.\")\n",
    "print(f\"{dog2.name} is {dog2.age} years old.\")\n",
    "\n",
    "# 개의 짖는 소리 출력\n",
    "dog1.bark()\n",
    "dog2.bark()"
   ]
  },
  {
   "cell_type": "code",
   "execution_count": 32,
   "id": "67e00ca0",
   "metadata": {},
   "outputs": [
    {
     "name": "stdout",
     "output_type": "stream",
     "text": [
      "Buddy is 3 years old.\n",
      "Milo is 2 years old.\n",
      "Buddy is barking!\n",
      "Milo is barking!\n"
     ]
    }
   ],
   "source": [
    "# 생성자 예제와 블로그 방금 예제를 합쳐서 생성자를 사용하는 예제로 만드세요\n",
    "# 생성자가 있을때와 없을 때 객체생성과 함수호출이 어떻게 달라질까요?\n",
    "\n",
    "class Dog:\n",
    "    def __init__(self, name, age):\n",
    "        self.name = name\n",
    "        self.age = age\n",
    "\n",
    "    def bark(self):\n",
    "        print(f\"{self.name} is barking!\")\n",
    "\n",
    "# Dog 클래스의 인스턴스 생성\n",
    "dog1 = Dog(\"Buddy\", 3)\n",
    "dog2 = Dog(\"Milo\", 2)\n",
    "\n",
    "# 개의 정보 출력\n",
    "print(f\"{dog1.name} is {dog1.age} years old.\")\n",
    "print(f\"{dog2.name} is {dog2.age} years old.\")\n",
    "\n",
    "# 개의 짖는 소리 출력\n",
    "dog1.bark()\n",
    "dog2.bark()"
   ]
  },
  {
   "cell_type": "code",
   "execution_count": 33,
   "id": "e6b90b0f",
   "metadata": {},
   "outputs": [
    {
     "data": {
      "text/plain": [
       "2.0"
      ]
     },
     "execution_count": 33,
     "metadata": {},
     "output_type": "execute_result"
    }
   ],
   "source": [
    "class Fourcal:\n",
    "    def __init__(self, first, second):  # 생성자: 클래스 실행 시 항상실행되는 메서드(함수)\n",
    "        self.first = first\n",
    "        self.second = second\n",
    "    def add(self):\n",
    "        result = self.first + self.second\n",
    "        return result\n",
    "    def sub(self):\n",
    "        result = self.first - self.second\n",
    "        return result\n",
    "    def div(self):\n",
    "        result = self.first / self.second\n",
    "        return result    \n",
    "    def mul(self):\n",
    "        result = self.first * self.second\n",
    "        return result    \n",
    "\n",
    "b = Fourcal(4,2)\n",
    "#b.setdata(4,2)\n",
    "b.add()\n",
    "b.div()"
   ]
  },
  {
   "cell_type": "code",
   "execution_count": 34,
   "id": "381fefac",
   "metadata": {},
   "outputs": [
    {
     "name": "stdout",
     "output_type": "stream",
     "text": [
      "2\n",
      "66\n",
      "44\n"
     ]
    }
   ],
   "source": [
    "# 곱하기, 빼기, 나누기, 기능 만들기\n",
    "class FourCal :\n",
    "    def setdata(self, first, second) :\n",
    "        self.first = first\n",
    "        self.second = second\n",
    "\n",
    "    def sum(self) :\n",
    "        result = self.first + self.second\n",
    "        return result\n",
    "\n",
    "    def mul(self) :\n",
    "        result = self.first * self.second\n",
    "        return result\n",
    "\n",
    "    def sub(self) :\n",
    "        result = self.first - self.second\n",
    "        return result\n",
    "\n",
    "    def div(self) :\n",
    "        result = self.first / self.second\n",
    "        return result\n",
    "    \n",
    "# 클래스의 독립성 확인 예시\n",
    "f = FourCal() \n",
    "d = FourCal() \n",
    "k = FourCal() \n",
    "\n",
    "f.setdata(2,7) \n",
    "d.setdata(66,99) \n",
    "k.setdata(44,33) \n",
    "\n",
    "print(f.first )\n",
    "print(d.first)\n",
    "print(k.first)"
   ]
  },
  {
   "cell_type": "code",
   "execution_count": 35,
   "id": "f0a13ff5",
   "metadata": {},
   "outputs": [
    {
     "name": "stdout",
     "output_type": "stream",
     "text": [
      "140722738535240\n",
      "140722738533192\n"
     ]
    }
   ],
   "source": [
    "\"\"\"\n",
    "클래스로 만든 객체의 객체변수는\n",
    "다른 객체의 객체변수와 상관없이 독립적인 값을 유지!\n",
    "id 함수는 변수의 메모리 주소를 찾는 명령어\n",
    "메모리 주소가 다르다면 독립적으로 따로 저장되어 있는 것이다.\n",
    "# id 함수를 사용해서 독립성 증명\n",
    "\"\"\" \n",
    "\n",
    "print(id(d.first))\n",
    "print(id(f.first))"
   ]
  },
  {
   "cell_type": "code",
   "execution_count": 37,
   "id": "a672252e",
   "metadata": {},
   "outputs": [],
   "source": [
    "# quiz)\n",
    "\n",
    "# 당신의 회사는 매주 1회 작성해야하는 보고서가 있습니다.\n",
    "# 보고서는 항상 아래와 같은 형태로 출력되어야 합니다.\n",
    "# (각 텍스트 파일은 아래 4가지 내용이 담겨야 합니다)\n",
    "# x주차 주간보고\n",
    "# 부서\n",
    "# 이름\n",
    "# 업무요약\n",
    "\n",
    "# 1주차부터 50주차 까지의 보고서파일을 만드는 프로그램을 작성한다\n",
    "# 조건: 파일명은 1주차.txt 2주차.txt...와 같이 만듭니다.\n",
    "\n",
    "for i in range(1,51):\n",
    "    report_file = open(str(i) + \"주차.txt\", \"w\")\n",
    "    report_file.write(\"{}주차 주간보고\".format(i))\n",
    "    report_file.write(\"\\n부서 :\")\n",
    "    report_file.write(\"\\n이름 :\")\n",
    "    report_file.write(\"\\n업무요약 :\")\n",
    "    report_file.close()\n",
    "    \n",
    "# 위에 코드를 with구분을 써서 바꾸세요"
   ]
  },
  {
   "cell_type": "code",
   "execution_count": 40,
   "id": "ea7a5275",
   "metadata": {},
   "outputs": [],
   "source": [
    "for i in range(1,51):\n",
    "    with open(str(i) + \"주차.txt\", \"w\") as report_file:\n",
    "        report_file.write(\"{}주차 주간보고\".format(i))\n",
    "        report_file.write(\"\\n부서 :\")\n",
    "        report_file.write(\"\\n이름 :\")\n",
    "        report_file.write(\"\\n업무요약 :\")\n"
   ]
  },
  {
   "cell_type": "code",
   "execution_count": 1,
   "id": "e0e16803",
   "metadata": {},
   "outputs": [
    {
     "name": "stdout",
     "output_type": "stream",
     "text": [
      "Division by zero is not allowed.\n"
     ]
    }
   ],
   "source": [
    "try:\n",
    "    result = 10 / 0\n",
    "except ZeroDivisionError:\n",
    "    print(\"Division by zero is not allowed.\")\n",
    "    pass\n"
   ]
  },
  {
   "cell_type": "code",
   "execution_count": 2,
   "id": "958a3631",
   "metadata": {},
   "outputs": [
    {
     "ename": "ZeroDivisionError",
     "evalue": "division by zero",
     "output_type": "error",
     "traceback": [
      "\u001b[1;31m---------------------------------------------------------------------------\u001b[0m",
      "\u001b[1;31mZeroDivisionError\u001b[0m                         Traceback (most recent call last)",
      "Cell \u001b[1;32mIn[2], line 1\u001b[0m\n\u001b[1;32m----> 1\u001b[0m result \u001b[38;5;241m=\u001b[39m \u001b[38;5;241m10\u001b[39m \u001b[38;5;241m/\u001b[39m \u001b[38;5;241m0\u001b[39m\n",
      "\u001b[1;31mZeroDivisionError\u001b[0m: division by zero"
     ]
    }
   ],
   "source": [
    "result = 10 / 0"
   ]
  },
  {
   "cell_type": "code",
   "execution_count": 3,
   "id": "6ff621d8",
   "metadata": {
    "scrolled": true
   },
   "outputs": [
    {
     "name": "stdout",
     "output_type": "stream",
     "text": [
      "File not found.\n"
     ]
    },
    {
     "ename": "NameError",
     "evalue": "name 'file' is not defined",
     "output_type": "error",
     "traceback": [
      "\u001b[1;31m---------------------------------------------------------------------------\u001b[0m",
      "\u001b[1;31mNameError\u001b[0m                                 Traceback (most recent call last)",
      "Cell \u001b[1;32mIn[3], line 7\u001b[0m\n\u001b[0;32m      5\u001b[0m     \u001b[38;5;28mprint\u001b[39m(\u001b[38;5;124m\"\u001b[39m\u001b[38;5;124mFile not found.\u001b[39m\u001b[38;5;124m\"\u001b[39m)\n\u001b[0;32m      6\u001b[0m \u001b[38;5;28;01mfinally\u001b[39;00m:\n\u001b[1;32m----> 7\u001b[0m     file\u001b[38;5;241m.\u001b[39mclose()\n",
      "\u001b[1;31mNameError\u001b[0m: name 'file' is not defined"
     ]
    }
   ],
   "source": [
    "try:\n",
    "    file = open(\"example.txt\", \"r\")\n",
    "    content = file.read()\n",
    "except FileNotFoundError:\n",
    "    print(\"File not found.\")\n",
    "finally:\n",
    "    file.close()\n"
   ]
  },
  {
   "cell_type": "code",
   "execution_count": 4,
   "id": "37bf2aea",
   "metadata": {},
   "outputs": [
    {
     "name": "stdout",
     "output_type": "stream",
     "text": [
      "No exception occurred.\n"
     ]
    }
   ],
   "source": [
    "try:\n",
    "    result = 10 / 5\n",
    "except ZeroDivisionError:\n",
    "    print(\"Division by zero is not allowed.\")\n",
    "else:\n",
    "    print(\"No exception occurred.\")\n"
   ]
  },
  {
   "cell_type": "code",
   "execution_count": null,
   "id": "e73ac6b8",
   "metadata": {},
   "outputs": [],
   "source": [
    "# 아래와 같이 오류를 유형별로 나타내면서 예외처리를 해줄 수 있습니다."
   ]
  },
  {
   "cell_type": "code",
   "execution_count": 6,
   "id": "a67ce636",
   "metadata": {},
   "outputs": [],
   "source": [
    "def divide_numbers(a, b):\n",
    "    try:\n",
    "        result = a / b\n",
    "        return result\n",
    "    except ZeroDivisionError:\n",
    "        print(\"Error: Division by zero is not allowed.\")\n",
    "    except TypeError as e:\n",
    "        print(f\"Error: Invalid data type - {e}\")\n",
    "    except Exception as e:\n",
    "        print(f\"Error: An unexpected error occurred - {e}\")\n",
    "    finally:\n",
    "        print(\"This block is always executed, regardless of whether an exception occurred or not.\")"
   ]
  },
  {
   "cell_type": "code",
   "execution_count": 9,
   "id": "8fd14267",
   "metadata": {},
   "outputs": [
    {
     "name": "stdout",
     "output_type": "stream",
     "text": [
      "Error: Invalid data type - unsupported operand type(s) for /: 'int' and 'str'\n",
      "This block is always executed, regardless of whether an exception occurred or not.\n"
     ]
    }
   ],
   "source": [
    "divide_numbers(8,'888')"
   ]
  },
  {
   "cell_type": "code",
   "execution_count": 11,
   "id": "bdc16c0e",
   "metadata": {},
   "outputs": [
    {
     "name": "stdout",
     "output_type": "stream",
     "text": [
      "very fast\n"
     ]
    },
    {
     "ename": "NotImplementedError",
     "evalue": "",
     "output_type": "error",
     "traceback": [
      "\u001b[1;31m---------------------------------------------------------------------------\u001b[0m",
      "\u001b[1;31mNotImplementedError\u001b[0m                       Traceback (most recent call last)",
      "Cell \u001b[1;32mIn[11], line 16\u001b[0m\n\u001b[0;32m     13\u001b[0m     \u001b[38;5;28mprint\u001b[39m(\u001b[38;5;124m'\u001b[39m\u001b[38;5;124mvery fast\u001b[39m\u001b[38;5;124m'\u001b[39m)\n\u001b[0;32m     15\u001b[0m eagle \u001b[38;5;241m=\u001b[39m Eagle()\n\u001b[1;32m---> 16\u001b[0m eagle\u001b[38;5;241m.\u001b[39mfly()\n",
      "Cell \u001b[1;32mIn[11], line 4\u001b[0m, in \u001b[0;36mBird.fly\u001b[1;34m(self)\u001b[0m\n\u001b[0;32m      3\u001b[0m \u001b[38;5;28;01mdef\u001b[39;00m \u001b[38;5;21mfly\u001b[39m(\u001b[38;5;28mself\u001b[39m) :\n\u001b[1;32m----> 4\u001b[0m     \u001b[38;5;28;01mraise\u001b[39;00m \u001b[38;5;167;01mNotImplementedError\u001b[39;00m\n",
      "\u001b[1;31mNotImplementedError\u001b[0m: "
     ]
    }
   ],
   "source": [
    "# 오류 일부러 발생시키기\n",
    "class Bird :\n",
    "    def fly(self) :\n",
    "        raise NotImplementedError\n",
    "\n",
    "class Eagle(Bird) :\n",
    "    pass\n",
    "\n",
    "# eagle = Eagle()\n",
    "# eagle.fly() # 'NotImplementedError'\n",
    "\n",
    "class Eagle(Bird) :\n",
    "    def fly(self) :\n",
    "        print('very fast')\n",
    "\n",
    "eagle = Eagle()\n",
    "eagle.fly() # 'very fast'"
   ]
  },
  {
   "cell_type": "code",
   "execution_count": 14,
   "id": "900ef176",
   "metadata": {},
   "outputs": [
    {
     "name": "stdout",
     "output_type": "stream",
     "text": [
      ": 5\n",
      ": '999'\n",
      "올바른 숫자를 입력해주세요.\n",
      "프로그램이 종료되었습니다.\n"
     ]
    }
   ],
   "source": [
    "def divide_numbers():\n",
    "    try:\n",
    "        # 숫자 입력 받기\n",
    "        num1 = float(input(\": \"))\n",
    "        num2 = float(input(\": \"))\n",
    "        \n",
    "        # 숫자 나누기\n",
    "        result = num1 / num2\n",
    "        \n",
    "        # 결과 출력\n",
    "        print(f\"{num1} / {num2} = {result}\")\n",
    "        \n",
    "    except ValueError:\n",
    "        print(\"올바른 숫자를 입력해주세요.\")\n",
    "        \n",
    "    except ZeroDivisionError:\n",
    "        print(\"0으로 나눌 수 없습니다.\")\n",
    "        \n",
    "    except Exception as e:\n",
    "        print(f\"오류가 발생했습니다: {e}\")\n",
    "        \n",
    "    else:\n",
    "        print(\"나눗셈이 성공적으로 수행되었습니다.\")\n",
    "        \n",
    "    finally:\n",
    "        print(\"프로그램이 종료되었습니다.\")\n",
    "\n",
    "# divide_numbers 함수 호출\n",
    "divide_numbers()\n"
   ]
  },
  {
   "cell_type": "code",
   "execution_count": null,
   "id": "945d3475",
   "metadata": {},
   "outputs": [],
   "source": [
    "#1부터 1000사이 정수 중에 3과 5의 배수 합하기\n",
    "sum = 0\n",
    "for n in range(1, 1000) :\n",
    "    if n % 3 == 0 or n % 5 == 0 :\n",
    "        sum += n\n",
    "print(sum) # 233168"
   ]
  },
  {
   "cell_type": "code",
   "execution_count": 16,
   "id": "af26ba78",
   "metadata": {},
   "outputs": [
    {
     "name": "stdout",
     "output_type": "stream",
     "text": [
      "233168\n"
     ]
    }
   ],
   "source": [
    "# 부장님께서 오셔서 아래와 같이 코드를 작성하였다.\n",
    "# 부장님께서 열받지 않게 아래 코드를 건드리지 말고 \n",
    "# 코드를 추가하여 답을 맞추시오\n",
    "sum2 = 0\n",
    "for n in range(1, 1000):\n",
    "    if n % 3 == 0:\n",
    "        sum2 += n\n",
    "    if n % 5 == 0:\n",
    "        sum2 += n\n",
    "    if n % 15 == 0:\n",
    "        sum2 += -n  \n",
    "\n",
    "print(sum2) "
   ]
  },
  {
   "cell_type": "code",
   "execution_count": null,
   "id": "d34e05dd",
   "metadata": {},
   "outputs": [],
   "source": [
    "아래는 집합의 특성을 이용해서 풀었습니다."
   ]
  },
  {
   "cell_type": "code",
   "execution_count": 17,
   "id": "bbcce14e",
   "metadata": {},
   "outputs": [
    {
     "name": "stdout",
     "output_type": "stream",
     "text": [
      "233168\n"
     ]
    }
   ],
   "source": [
    "# 부장님께서 오셔서 아래와 같이 코드를 작성하였다.\n",
    "# 부장님께서 열받지 않게 아래 코드를 건드리지 말고 \n",
    "# 코드를 추가하여 답을 맞추시오\n",
    "import numpy as np\n",
    "sum2 = 0\n",
    "sum_tot = []\n",
    "for n in range(1, 1000):\n",
    "    if n % 3 == 0:\n",
    "        sum2 += n\n",
    "        sum_tot.append(n)\n",
    "    if n % 5 == 0:\n",
    "        sum2 += n\n",
    "        sum_tot.append(n)\n",
    "        \n",
    "excluded_set = set(range(15,1000,15))\n",
    "answers = set(sum_tot) - excluded_set # 차집합의 성질\n",
    "answer_final = list(answers) + list(excluded_set) # 날아간 교집합 복원\n",
    "print(np.sum(answer_final))        "
   ]
  },
  {
   "cell_type": "code",
   "execution_count": null,
   "id": "4751a70d",
   "metadata": {},
   "outputs": [],
   "source": []
  }
 ],
 "metadata": {
  "kernelspec": {
   "display_name": "Python 3 (ipykernel)",
   "language": "python",
   "name": "python3"
  },
  "language_info": {
   "codemirror_mode": {
    "name": "ipython",
    "version": 3
   },
   "file_extension": ".py",
   "mimetype": "text/x-python",
   "name": "python",
   "nbconvert_exporter": "python",
   "pygments_lexer": "ipython3",
   "version": "3.11.5"
  }
 },
 "nbformat": 4,
 "nbformat_minor": 5
}
