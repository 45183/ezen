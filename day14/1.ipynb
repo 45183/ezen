{
 "cells": [
  {
   "cell_type": "code",
   "execution_count": null,
   "id": "20f4346c",
   "metadata": {},
   "outputs": [],
   "source": [
    "# [실습] 문자 빈도수 구하기[1]\n",
    "charset = ['abc', 'code', 'band', 'band', 'abc']\n",
    "wc = {}\n",
    "\n",
    "for ch in charset :\n",
    "\n",
    "# 위 for 문을 사용하여 각 단어의 출현 개수를 구하시오"
   ]
  },
  {
   "cell_type": "code",
   "execution_count": null,
   "id": "c86aafd0",
   "metadata": {},
   "outputs": [],
   "source": [
    "charset = ['abc', 'code', 'band', 'band', 'abc']\n",
    "wc = {}\n",
    "\n",
    "for ch in charset :\n",
    "    if ch not in wc :\n",
    "        wc[ch] = 1\n",
    "    else :\n",
    "        wc[ch] += 1\n",
    "print(wc)"
   ]
  },
  {
   "cell_type": "code",
   "execution_count": null,
   "id": "53437ac9",
   "metadata": {},
   "outputs": [],
   "source": [
    "# 별해\n",
    "\n",
    "charset = ['abc', 'code', 'band', 'band', 'abc']\n",
    "wc = {}\n",
    "\n",
    "for key in charset :\n",
    "    wc[key] = wc.get(key, 0) + 1   # get() 함수 : key이용 value 가져오기\n",
    "    \n",
    "    # get(key, 0) + 1   ->  해당 키 값이 없으면 0, 있으면 기존 값에 + 1\n",
    "    \n",
    "print(wc)"
   ]
  },
  {
   "cell_type": "code",
   "execution_count": null,
   "id": "76f3b38d",
   "metadata": {},
   "outputs": [],
   "source": [
    "# 검색 (함수 없이)\n",
    "# 물음표 채우기\n",
    "dataset = [5, 10, 18, 22, 35, 55, 75, 103]\n",
    "value = int(input(\"검색할 값 입력 : \"))\n",
    "\n",
    "low = 0\n",
    "high = ???\n",
    "loc = 0\n",
    "state = False\n",
    "\n",
    "while(low <= high):\n",
    "    mid = (low + high) // 2\n",
    "    if dataset[???] > value :\n",
    "        high = mid ???\n",
    "    elif dataset[???] < value :\n",
    "        low = mid + 1\n",
    "    else : # 입력한 숫자가 리스트 안에 값이 있어 숫자를 찾은 경우\n",
    "        loc = mid\n",
    "        state = ???\n",
    "        ???\n",
    "if state :\n",
    "    print('당신의 숫자는 %d번째에 있군요' %(loc+1))\n",
    "else :\n",
    "    print('찾는 값은 없어요')"
   ]
  },
  {
   "cell_type": "code",
   "execution_count": null,
   "id": "58d6d98d",
   "metadata": {},
   "outputs": [],
   "source": [
    "dataset = [5, 10, 18, 22, 35, 55, 75, 103]\n",
    "value = int(input(\"검색할 값 입력 : \"))\n",
    "\n",
    "low = 0\n",
    "# high = 8 # 7, 8, 9 가능  -> 8, 9는 dataset보다 큰 값이 들어가면 에러발생\n",
    "high = len(dataset) -1\n",
    "loc = 0\n",
    "state = False\n",
    "\n",
    "while(low <= high):\n",
    "    mid = (low + high) // 2\n",
    "    if dataset[mid] > value :\n",
    "        high = mid - 1\n",
    "    elif dataset[mid] < value :\n",
    "        low = mid + 1\n",
    "    else : # 입력한 숫자가 리스트 안에 값이 있어 숫자를 찾은 경우\n",
    "        loc = mid\n",
    "        state = True\n",
    "        break\n",
    "if state :\n",
    "    print('당신의 숫자는 %d번째에 있군요' %(loc+1))\n",
    "else :\n",
    "    print('찾는 값은 없어요')"
   ]
  },
  {
   "cell_type": "code",
   "execution_count": null,
   "id": "283cc4c6",
   "metadata": {},
   "outputs": [],
   "source": [
    "# 검색 - 데이터 정렬이 우선되야 한다.\n",
    "\n",
    "dataset = [5, 10, 18, 22, 35, 55, 75, 103]\n",
    "value = int(input(\"검색할 값 입력 : \"))\n",
    "\n",
    "low = 0\n",
    "high = len(dataset)-1\n",
    "loc = 0\n",
    "state = False\n",
    "\n",
    "while(low <= high):\n",
    "    mid = (low + high) // 2\n",
    "    if dataset[mid] > value :\n",
    "        high = mid - 1\n",
    "    elif dataset[mid] < value :\n",
    "        low = mid + 1\n",
    "    else : # 입력한 숫자가 리스트 안에 값이 있어 숫자를 찾은 경우\n",
    "        loc = mid\n",
    "        state = True\n",
    "        break\n",
    "if state :\n",
    "    print('당신의 숫자는 %d번째에 있군요' %(loc+1))\n",
    "else :\n",
    "    print('찾는 값은 없어요')"
   ]
  },
  {
   "cell_type": "code",
   "execution_count": null,
   "id": "0a71f636",
   "metadata": {},
   "outputs": [],
   "source": [
    "# quiz \n",
    "\n",
    "#version1\n",
    "positions = ['과장', '부장', '대리', '사장', '대리', '과장']\n",
    "\n",
    "# 1. 위 데이터 셋의 중복된 원소를 제거해 주세요\n",
    "positions2 =[]\n",
    "for position in positions :\n",
    "    if position not in positions2 :\n",
    "        positions2.append(position)\n",
    "    else :\n",
    "        pass\n",
    "print(positions2)\n",
    "\n",
    "\n",
    "\n",
    "\n",
    "uni_position = list(set(positions))\n",
    "print(uni_position)\n",
    "\n",
    "# 2. 위데이터 셋 그대로 각 직급 데이터를 세어 주세요 (get함수 사용)\n",
    "position = ['과장', '부장', '대리', '사장', '대리', '과장']\n",
    "\n",
    "x ={}\n",
    "\n",
    "for i in position :\n",
    "    x[i] = x.get(i, 0) + 1\n",
    "print(x)\n",
    "\n",
    "\n",
    "\n",
    "\n",
    "position_cnt = {}\n",
    "for p in position :\n",
    "    position_cnt[p] = position_cnt.get(p, 0) + 1\n",
    "print(position_cnt)"
   ]
  },
  {
   "cell_type": "code",
   "execution_count": null,
   "id": "2b678891",
   "metadata": {},
   "outputs": [],
   "source": [
    "user_input = input(\"이름을 입력하세요: \")\n",
    "print(\"안녕하세요, \" + user_input + \"님!\")"
   ]
  },
  {
   "cell_type": "code",
   "execution_count": null,
   "id": "4373afd0",
   "metadata": {},
   "outputs": [],
   "source": [
    "user_input = input(\"나이를 입력하세요: \")\n",
    "print(\"당신의 나이는 \" + user_input + \"세 입니다.\")"
   ]
  },
  {
   "cell_type": "code",
   "execution_count": null,
   "id": "ed2d3941",
   "metadata": {},
   "outputs": [],
   "source": [
    "user_input = int(input(\"나이를 입력하세요: \")) \n",
    "print(\"당신의 나이는 \", user_input, \"세 입니다.\") # 문자열, 숫자 연결시 , 사용 (문자열 + 숫자열 사용시 에러)"
   ]
  },
  {
   "cell_type": "code",
   "execution_count": null,
   "id": "bf30a3a7",
   "metadata": {},
   "outputs": [],
   "source": [
    "message = \"Hello, \" + \"World!\"\n",
    "print(message)"
   ]
  },
  {
   "cell_type": "code",
   "execution_count": null,
   "id": "1b71a499",
   "metadata": {},
   "outputs": [],
   "source": [
    "name = \"Alice\"\n",
    "age = 30\n",
    "print(\"이름:\", name, \"나이:\", age)"
   ]
  },
  {
   "cell_type": "code",
   "execution_count": null,
   "id": "dbfe1962",
   "metadata": {},
   "outputs": [],
   "source": [
    "print(\"한 줄에 출력\", end=\", \")\n",
    "print(\"계속 출력\")\n",
    "\n",
    "# end 사용하지 않을 시 자동 줄 바꿈"
   ]
  },
  {
   "cell_type": "code",
   "execution_count": null,
   "id": "2232c897",
   "metadata": {},
   "outputs": [],
   "source": [
    "def add(*args): # *args - 가변인수\n",
    "    result = 0\n",
    "    for num in args:\n",
    "        result += num\n",
    "    return result\n",
    "\n",
    "total = add(1, 2, 3, 4, 5)  # 임의의 개수의 인수 전달\n",
    "print(total)"
   ]
  },
  {
   "cell_type": "code",
   "execution_count": null,
   "id": "d5779ff4",
   "metadata": {},
   "outputs": [],
   "source": [
    "def person_info(**kwargs):    # **kwargs - 키워드 매개변수\n",
    "    for key, value in kwargs.items():\n",
    "        print(f\"{key}: {value}\")\n",
    "\n",
    "person_info(name=\"Alice\", age=30, city=\"New York\")"
   ]
  },
  {
   "cell_type": "code",
   "execution_count": null,
   "id": "d327d321",
   "metadata": {},
   "outputs": [],
   "source": [
    "data = [{'name': 'Alice', 'age': 30}, {'name': 'Bob', 'age': 25}, {'name': 'Charlie', 'age': 35}]\n",
    "sorted_data = sorted(data, key=lambda x: x['age']) # age를 기준으로 정렬\n",
    "print(sorted_data)"
   ]
  },
  {
   "cell_type": "code",
   "execution_count": null,
   "id": "c445a346",
   "metadata": {},
   "outputs": [],
   "source": [
    "numbers = [1, 2, 3, 4, 5, 6, 7, 8, 9, 10]\n",
    "even_numbers = list(filter(lambda x: x % 2 == 0, numbers))\n",
    "print(even_numbers)"
   ]
  },
  {
   "cell_type": "code",
   "execution_count": null,
   "id": "35da6024",
   "metadata": {},
   "outputs": [],
   "source": [
    "# quiz) 표준체중을 구하는 함수형 프로그램을 만드시오\n",
    "\n",
    "# *표준체중: 각 개인의 키에 적당한 체중\n",
    "# 키는 미터 단위\n",
    "\n",
    "# (성별에 따른 공식)\n",
    "# 남자: 키 * 키 * 22 여자: 키 * 키 * 21\n",
    "\n",
    "# 조건1: 표준체중은 별도의 함수 내에서 계산 *함수명: std_weight *전달값: 키(height), 성별(gender)\n",
    "\n",
    "# 조건2: 표준체중은 소수점 둘째자리 까지만 표시\n",
    "\n",
    "# (출력예제) 키 175 남자 표준체중은 67.38 kg 입니다"
   ]
  },
  {
   "cell_type": "code",
   "execution_count": null,
   "id": "ff986629",
   "metadata": {},
   "outputs": [],
   "source": [
    "def std_weight (height, gender) :\n",
    "    if gender == '남자':\n",
    "        x = height * height * 22\n",
    "    else :\n",
    "        x = height * height * 21\n",
    "    return print(\"키 %dcm %s의 표준체중은 %.2fkg입니다.\" %(height*100, gender, x))\n",
    "\n",
    "std_weight(1.75, '남자')"
   ]
  },
  {
   "cell_type": "code",
   "execution_count": null,
   "id": "73e93372",
   "metadata": {},
   "outputs": [],
   "source": [
    "def std_weight (height, gender) :\n",
    "    if gender == '남자':\n",
    "        x = round(height ** 2 * 22, 2)\n",
    "    else :\n",
    "        x = round(height ** 2 * 21, 2)\n",
    "    return print(\"키 %dcm %s의 표준체중은 %.2fkg입니다.\" %(height*100, gender, x))\n",
    "\n",
    "std_weight(1.75, '남자')"
   ]
  },
  {
   "cell_type": "code",
   "execution_count": null,
   "id": "813fbba2",
   "metadata": {},
   "outputs": [],
   "source": [
    "# 여러 결과를 한번에 나타낼 수 있다.\n",
    "\n",
    "def sum_and_mul (a, b) :\n",
    "    return a + b, a * b\n",
    "\n",
    "result = sum_and_mul(3, 4)\n",
    "result\n",
    "\n",
    "# 결과를 하나씩 쪼개서 받을 수 있다.\n",
    "sum, mul = sum_and_mul(3, 4)\n",
    "print(sum)\n",
    "print(mul)"
   ]
  },
  {
   "cell_type": "code",
   "execution_count": 1,
   "id": "22a14a24",
   "metadata": {},
   "outputs": [
    {
     "data": {
      "text/plain": [
       "<function sum(iterable, /, start=0)>"
      ]
     },
     "execution_count": 1,
     "metadata": {},
     "output_type": "execute_result"
    }
   ],
   "source": [
    "def sum_and_mul (a, b) :\n",
    "    return a + b, a * b\n",
    "\n",
    "_, mul = sum_and_mul(3, 4)\n",
    "sum"
   ]
  },
  {
   "cell_type": "code",
   "execution_count": 2,
   "id": "93983391",
   "metadata": {},
   "outputs": [
    {
     "data": {
      "text/plain": [
       "5"
      ]
     },
     "execution_count": 2,
     "metadata": {},
     "output_type": "execute_result"
    }
   ],
   "source": [
    "# 잘못된 예시 - return은 한번만 (조건문인 경우는 복수로 쓸 수 있음 - 조건에 하나씩만)\n",
    "def sum_and_mul(a, b) :\n",
    "    return a + b\n",
    "    return a * b  # 무시\n",
    "\n",
    "result = sum_and_mul(2, 3)\n",
    "result"
   ]
  },
  {
   "cell_type": "code",
   "execution_count": 4,
   "id": "2d8abe96",
   "metadata": {},
   "outputs": [
    {
     "name": "stdout",
     "output_type": "stream",
     "text": [
      "나의 이름은 a입니다.\n",
      "나이는 20살 입니다.\n",
      "남자입니다.\n"
     ]
    }
   ],
   "source": [
    "# 입력 인수에 초깃값 미리 설정하기\n",
    "# 남초 회사 상상\n",
    "# 초기값은 뒤에 있는 변수에서부터 설정해야한다.\n",
    "\n",
    "def say_myself(name, old, man=True) :   # man=True를 할 경우 입력하지 않으면 자동으로 man\n",
    "    print('나의 이름은 %s입니다.' % name)\n",
    "    print('나이는 %d살 입니다.' % old)\n",
    "    if man :\n",
    "        print('남자입니다.')\n",
    "    else :\n",
    "        print('여자입니다.')\n",
    "\n",
    "say_myself('a', 20, 'man')"
   ]
  },
  {
   "cell_type": "code",
   "execution_count": 5,
   "id": "d715fec7",
   "metadata": {},
   "outputs": [
    {
     "ename": "SyntaxError",
     "evalue": "non-default argument follows default argument (1569251572.py, line 1)",
     "output_type": "error",
     "traceback": [
      "\u001b[1;36m  Cell \u001b[1;32mIn[5], line 1\u001b[1;36m\u001b[0m\n\u001b[1;33m    def say_myself(name, old=43, man) :\u001b[0m\n\u001b[1;37m                                 ^\u001b[0m\n\u001b[1;31mSyntaxError\u001b[0m\u001b[1;31m:\u001b[0m non-default argument follows default argument\n"
     ]
    }
   ],
   "source": [
    "def say_myself(name, old=43, man) :\n",
    "    print('나의 이름은 %s입니다.' % name)\n",
    "    print('나이는 %d살 입니다.' % old)\n",
    "    if man :\n",
    "        print('남자입니다.')\n",
    "    else :\n",
    "        print('여자입니다.')\n",
    "        \n",
    "# 디폴트 값은 맨뒤부터 설정하지 않으면 에러"
   ]
  },
  {
   "cell_type": "code",
   "execution_count": 11,
   "id": "9f136b1f",
   "metadata": {},
   "outputs": [
    {
     "name": "stdout",
     "output_type": "stream",
     "text": [
      "0 1 1 2 3 5 8 13 21 34 "
     ]
    }
   ],
   "source": [
    "# 첫번째 항의 값이 0이고 두번째 항의 값이 1일때\n",
    "# 이후에 이어지는 항들은 이전의 두 항을 더한 값으로\n",
    "# 이루어지는 수열을 피보나치 수열이라고 한다.\n",
    "\n",
    "# 입력을 정수 n으로 받았을때, n 이하까지의 피보나치 수열을 출력하는 함수를 작성해보자\n",
    "# ex) n = 10이면\n",
    "# 0 1 1 2 3 5 8 13 21 34\n",
    "\n",
    "\n",
    "def fib(n) :\n",
    "    if n == 0 : \n",
    "        return 0\n",
    "    elif n == 1 : \n",
    "        return 1\n",
    "    else :\n",
    "        return fib(n-1) + fib(n-2) # 재귀함수\n",
    "\n",
    "\n",
    "for i in range(0, 10):\n",
    "    print(fib(i), end = ' ')"
   ]
  },
  {
   "cell_type": "code",
   "execution_count": 34,
   "id": "2e0815c9",
   "metadata": {},
   "outputs": [],
   "source": [
    "file = open(\"example1107.txt\", \"a\") # 파일 존재하지 않으면 새로 생성     # 'a' - 기존 내용에 추가, 'w' - 새로 씀, 'r' - 읽기만\n",
    "file.write(\"\\n안녕하세요\") # 내용 작성\n",
    "file.close()  # 파일을 생성하고 닫음"
   ]
  },
  {
   "cell_type": "code",
   "execution_count": 36,
   "id": "55662f4c",
   "metadata": {},
   "outputs": [
    {
     "name": "stdout",
     "output_type": "stream",
     "text": [
      "안녕하세요안녕하세요안녕하세요안녕하세요안녕하세요\n",
      "This is a new line.\n",
      "안녕하세요\n",
      "안녕하세요\n",
      "안녕하세요\n",
      "This is a new line."
     ]
    }
   ],
   "source": [
    "file = open(\"example1107.txt\", \"r\")\n",
    "line = file.readline()\n",
    "while line:\n",
    "    print(line, end=\"\")  # 줄 바꿈 문자를 무시\n",
    "    line = file.readline()\n",
    "file.close()"
   ]
  },
  {
   "cell_type": "code",
   "execution_count": 37,
   "id": "4649acb1",
   "metadata": {},
   "outputs": [
    {
     "name": "stdout",
     "output_type": "stream",
     "text": [
      "안녕하세요안녕하세요안녕하세요안녕하세요안녕하세요\n",
      "This is a new line.\n",
      "안녕하세요\n",
      "안녕하세요\n",
      "안녕하세요\n",
      "This is a new line."
     ]
    }
   ],
   "source": [
    "file = open(\"example1107.txt\", \"r\")\n",
    "lines = file.readlines()\n",
    "for line in lines:\n",
    "    print(line, end=\"\")\n",
    "file.close()"
   ]
  },
  {
   "cell_type": "code",
   "execution_count": 35,
   "id": "ada76872",
   "metadata": {},
   "outputs": [],
   "source": [
    "with open(\"example1107.txt\", \"a\") as file:\n",
    "    file.write(\"\\nThis is a new line.\")\n",
    "# with open -> close 없어도 된다."
   ]
  },
  {
   "cell_type": "code",
   "execution_count": 38,
   "id": "b2a618ec",
   "metadata": {},
   "outputs": [],
   "source": [
    "f = open(\"./새파일.txt\", 'w')\n",
    "for i in range(1, 11):\n",
    "    data = \"%d번째 줄입니다.\\n\" % i\n",
    "    f.write(data)\n",
    "f.close()"
   ]
  },
  {
   "cell_type": "code",
   "execution_count": null,
   "id": "9dc680e1",
   "metadata": {},
   "outputs": [],
   "source": [
    "'''\n",
    "아래와 같이 총 10줄로 이루어진 sample.txt 파일이 있다.\n",
    "다음 쪽을 보며, sample.txt 파일의 숫자값을 모두 읽어\n",
    "총합과 평균값을 구한 후 평균값을 result.txt라는\n",
    "파일에 쓰는 프로그램을 작성해보자.\n",
    "\n",
    "sample.txt\n",
    "70\n",
    "60\n",
    "55\n",
    "75\n",
    "95\n",
    "90\n",
    "80\n",
    "80\n",
    "85\n",
    "100\n",
    "'''"
   ]
  },
  {
   "cell_type": "code",
   "execution_count": 46,
   "id": "1ed93c0f",
   "metadata": {},
   "outputs": [],
   "source": [
    "# 데이터를 읽어서 lines라는 변수에 저장\n",
    "f = open ('sample.txt', 'r') \n",
    "lines = f.readlines()\n",
    "f.close()\n",
    "\n",
    "# lines의 개별 데이터를 for문으로 읽음\n",
    "# 각 개별 데이터를 정수형으로 변환한 후 더하고 total 변수에 저장\n",
    "total = 0\n",
    "for line in lines :\n",
    "    score = int(line)\n",
    "    total += score\n",
    "\n",
    "# 평균 구하기\n",
    "average = total / len(lines)\n",
    "\n",
    "# result.txt 생성하여 결과 저장\n",
    "f = open('result.txt', 'w') # \n",
    "f.write(str(total))\n",
    "f.write('\\n'+ str(average))\n",
    "f.close()"
   ]
  },
  {
   "cell_type": "code",
   "execution_count": null,
   "id": "1de78e4b",
   "metadata": {},
   "outputs": [],
   "source": [
    "# quiz\n",
    "\n",
    "# 당신의 회사는 매주 1회 작성해야하는 보고서가 있습니다.\n",
    "# 보고서는 항상 아래와 같은 형태로 출력되어야 합니다.\n",
    "\n",
    "# 각 텍스트 파일을 아래 4가지 내용이 담겨야 합니다.\n",
    "# x주차 주간보고\n",
    "# 부서\n",
    "# 이름\n",
    "# 업무요약\n",
    "\n",
    "# 1주차부터 50주차 까지의 보고서파일을 만드는 프로그램을 작성한다\n",
    "# 조건: 파일명은 1주차.txt 2주차.txt...와 같이 만듭니다.\n",
    "\n",
    "# for i in range(1,51):"
   ]
  },
  {
   "cell_type": "code",
   "execution_count": 55,
   "id": "31e16bde",
   "metadata": {},
   "outputs": [],
   "source": [
    "for i in range(1, 51) :\n",
    "    f = open('%d주차.txt' %i, 'w')\n",
    "    f.write('%d주차 주간보고\\n부서\\n이름\\n업무요약' %i)\n",
    "    f.close()\n",
    "    \n",
    "    \n",
    "# with 구문 사용해서 변경\n",
    "for i in range(1, 51) :\n",
    "    with open('%d주차.txt' %i, 'w') as file:\n",
    "        file.write('%d주차 주간보고\\n부서\\n이름\\n업무요약' %i)"
   ]
  },
  {
   "cell_type": "code",
   "execution_count": 48,
   "id": "cc5f1444",
   "metadata": {},
   "outputs": [
    {
     "name": "stdout",
     "output_type": "stream",
     "text": [
      "3\n",
      "7\n",
      "3\n",
      "10\n"
     ]
    }
   ],
   "source": [
    "# 함수만 사용하기엔 프로그램의 재사용에 한계가 있다.\n",
    "\n",
    "# 한 프로그램에 2개의 계산기가 필요한 상황\n",
    "\n",
    "result1 = 0\n",
    "result2 = 0\n",
    "\n",
    "def adder1(num) :\n",
    "    global result1\n",
    "    result1 += num\n",
    "    return result1\n",
    "\n",
    "def adder2(num) :\n",
    "    global result2\n",
    "    result2 += num\n",
    "    return result2\n",
    "\n",
    "print(adder1(3))\n",
    "print(adder1(4))\n",
    "print(adder2(3))\n",
    "print(adder2(7))\n"
   ]
  },
  {
   "cell_type": "code",
   "execution_count": 50,
   "id": "969fbb0d",
   "metadata": {},
   "outputs": [
    {
     "ename": "SyntaxError",
     "evalue": "incomplete input (1664944265.py, line 8)",
     "output_type": "error",
     "traceback": [
      "\u001b[1;36m  Cell \u001b[1;32mIn[50], line 8\u001b[1;36m\u001b[0m\n\u001b[1;33m    \u001b[0m\n\u001b[1;37m    ^\u001b[0m\n\u001b[1;31mSyntaxError\u001b[0m\u001b[1;31m:\u001b[0m incomplete input\n"
     ]
    }
   ],
   "source": [
    "# 클래스 이용\n",
    "class Calculator :\n",
    "    def __init__(self) :  #클래스를 실행하면 무적권 실행되는 블럭 - 생성자\n",
    "        self.result = 0\n",
    "\n",
    "    def adder(self, num) : #클래스 내부 더하기 함수 \n",
    "        self.result += num  # 누적 더하기\n",
    "        return self.result\n",
    "\n",
    "cal1 = Calculator() #클래스를 실행해서 cal1이라는 객체를 생성\n",
    "cal2 = Calculator() #클래스를 실행해서 cal2이라는 객체를 생성\n",
    "cal3 = Calculator() \n",
    "cal4 = Calculator() \n",
    "cal5 = Calculator() \n",
    "cal6 = Calculator() \n",
    "\n",
    "print(cal1.adder(3)) # 3  #cal1객체에서 adder라는 함수를 불러서 3을 더함\n",
    "print(cal1.adder(40)) # 7  #cal1객체에서 adder라는 함수를 불러서 4을 더함 누적은 7\n",
    "print(cal2.adder(3)) # 3\n",
    "print(cal2.adder(70)) # 10\n",
    "print(cal3.adder(3)) # 3  #cal1객체에서 adder라는 함수를 불러서 3을 더함\n",
    "print(cal3.adder(47)) # 7  #cal1객체에서 adder라는 함수를 불러서 4을 더함 누적은 7\n",
    "print(cal4.adder(3)) # 3\n",
    "print(cal4.adder(777)) # 10\n",
    "print(cal5.adder(3)) # 3  #cal1객체에서 adder라는 함수를 불러서 3을 더함\n",
    "print(cal5.adder(4444)) # 7  #cal1객체에서 adder라는 함수를 불러서 4을 더함 누적은 7\n",
    "print(cal6.adder(3)) # 3\n",
    "print(cal6.adder(7132576)) # 10"
   ]
  },
  {
   "cell_type": "code",
   "execution_count": null,
   "id": "eae0c6a1",
   "metadata": {},
   "outputs": [],
   "source": [
    "\"\"\"\n",
    "현대차기업에서 자동차 여러모델을 만든다 생각\n",
    "# 클래스 사용 방법은 \n",
    "1. 클래스를 만들고 생성자를 사용하여 초기 조건을 지정한다.\n",
    "2. 클래스 내부에 하위 함수를 구현하여 사용하고싶은 함수를 만든다.\n",
    "3. 만든 클래스를 호출하여 지정한 변수에 부여하여 객체를 형성한다.\n",
    "4. 생성된 객체는 자유롭게 하위 함수를 호출하여 원하는 작업을 한다.\n",
    "\"\"\"\n",
    "class Car:\n",
    "    def __init__(self, model1, color1, speed1):\n",
    "        self.model = model1\n",
    "        self.color = color1\n",
    "        self.speed = speed1\n",
    "\n",
    "    def start(self):\n",
    "        print(f\"{self.color} {self.model}이 출발합니다.\")\n",
    "\n",
    "        \n",
    "car1 = Car(\"Sedan\", \"Blue\", 100)\n",
    "car2 = Car(\"SUV\", \"Red\", 120)\n",
    "\n",
    "car1.start()\n",
    "car2.start()"
   ]
  },
  {
   "cell_type": "code",
   "execution_count": null,
   "id": "e22faf4e",
   "metadata": {},
   "outputs": [],
   "source": [
    "#생성자가 없는 경우\n",
    "# 클래스 하위 함수인 set_name, set_age는 초기 강아지 정보를 부르는 함수이다.\n",
    "# 생성자가 없다면 클래스 자체를 부른 후에 \n",
    "#  클래스 내부 하위 함수를 통해 정보를 2단계로 읽어야한다.\n",
    "class Dog:\n",
    "    def set_name(self, name):\n",
    "        self.name = name\n",
    "\n",
    "    def set_age(self, age):\n",
    "        self.age = age\n",
    "\n",
    "    def bark(self):\n",
    "        print(f\"{self.name} is barking!\")\n",
    "\n",
    "# Dog 클래스의 인스턴스 생성\n",
    "dog1 = Dog()\n",
    "dog2 = Dog()\n",
    "\n",
    "# 각 개의 이름과 나이 설정\n",
    "dog1.set_name(\"Buddy\")\n",
    "dog1.set_age(3)\n",
    "\n",
    "dog2.set_name(\"Milo\")\n",
    "dog2.set_age(2)\n",
    "\n",
    "# 개의 정보 출력\n",
    "print(f\"{dog1.name} is {dog1.age} years old.\")\n",
    "print(f\"{dog2.name} is {dog2.age} years old.\")\n",
    "\n",
    "# 개의 짖는 소리 출력\n",
    "dog1.bark()\n",
    "dog2.bark()"
   ]
  },
  {
   "cell_type": "code",
   "execution_count": null,
   "id": "c50ccdf3",
   "metadata": {},
   "outputs": [],
   "source": [
    "# 생성자 예제와 블로그 방금 예제를 합쳐서 생성자를 사용하는 예제로 만드세요\n",
    "# 생성자가 있을때와 없을 때 객체생성과 함수호출이 어떻게 달라질까요?\n",
    "\n",
    "class Dog:\n",
    "    def __init__(self, name, age):\n",
    "        self.name = name\n",
    "        self.age = age\n",
    "\n",
    "    def bark(self):\n",
    "        print(f\"{self.name} is barking!\")\n",
    "\n",
    "# Dog 클래스의 인스턴스 생성\n",
    "dog1 = Dog(\"Buddy\", 3)\n",
    "dog2 = Dog(\"Milo\", 2)\n",
    "\n",
    "# 개의 정보 출력\n",
    "print(f\"{dog1.name} is {dog1.age} years old.\")\n",
    "print(f\"{dog2.name} is {dog2.age} years old.\")\n",
    "\n",
    "# 개의 짖는 소리 출력\n",
    "dog1.bark()\n",
    "dog2.bark()"
   ]
  },
  {
   "cell_type": "code",
   "execution_count": null,
   "id": "69f77c0b",
   "metadata": {},
   "outputs": [],
   "source": [
    "class Fourcal:\n",
    "    def __init__(self, first, second):  # 생성자: 클래스 실행 시 항상실행되는 메서드(함수)\n",
    "        self.first = first\n",
    "        self.second = second\n",
    "    def add(self):\n",
    "        result = self.first + self.second\n",
    "        return result\n",
    "    def sub(self):\n",
    "        result = self.first - self.second\n",
    "        return result\n",
    "    def div(self):\n",
    "        result = self.first / self.second\n",
    "        return result    \n",
    "    def mul(self):\n",
    "        result = self.first * self.second\n",
    "        return result    \n",
    "\n",
    "b = Fourcal(4,2)\n",
    "#b.setdata(4,2)\n",
    "b.add()\n",
    "b.div()"
   ]
  },
  {
   "cell_type": "code",
   "execution_count": null,
   "id": "e4fd1090",
   "metadata": {},
   "outputs": [],
   "source": [
    "# 곱하기, 빼기, 나누기, 기능 만들기\n",
    "class FourCal :\n",
    "    def setdata(self, first, second) :\n",
    "        self.first = first\n",
    "        self.second = second\n",
    "\n",
    "    def sum(self) :\n",
    "        result = self.first + self.second\n",
    "        return result\n",
    "\n",
    "    def mul(self) :\n",
    "        result = self.first * self.second\n",
    "        return result\n",
    "\n",
    "    def sub(self) :\n",
    "        result = self.first - self.second\n",
    "        return result\n",
    "\n",
    "    def div(self) :\n",
    "        result = self.first / self.second\n",
    "        return result\n",
    "    \n",
    "# 클래스의 독립성 확인 예시\n",
    "f = FourCal() \n",
    "d = FourCal() \n",
    "k = FourCal() \n",
    "\n",
    "f.setdata(2,7) \n",
    "d.setdata(66,99) \n",
    "k.setdata(44,33) \n",
    "\n",
    "print(f.first )\n",
    "print(d.first)\n",
    "print(k.first)"
   ]
  },
  {
   "cell_type": "code",
   "execution_count": null,
   "id": "15a18361",
   "metadata": {},
   "outputs": [],
   "source": [
    "\"\"\"\n",
    "클래스로 만든 객체의 객체변수는\n",
    "다른 객체의 객체변수와 상관없이 독립적인 값을 유지!\n",
    "id 함수는 변수의 메모리 주소를 찾는 명령어\n",
    "메모리 주소가 다르다면 독립적으로 따로 저장되어 있는 것이다.\n",
    "# id 함수를 사용해서 독립성 증명\n",
    "\"\"\" \n",
    "\n",
    "print(id(d.first))\n",
    "print(id(f.first))"
   ]
  },
  {
   "cell_type": "code",
   "execution_count": 56,
   "id": "acf973a1",
   "metadata": {},
   "outputs": [
    {
     "name": "stdout",
     "output_type": "stream",
     "text": [
      "Division by zero is not allowed.\n"
     ]
    }
   ],
   "source": [
    "try:\n",
    "    result = 10 / 0\n",
    "except ZeroDivisionError:\n",
    "    print(\"Division by zero is not allowed.\")"
   ]
  },
  {
   "cell_type": "code",
   "execution_count": 57,
   "id": "e7a31ecf",
   "metadata": {},
   "outputs": [
    {
     "name": "stdout",
     "output_type": "stream",
     "text": [
      "File not found.\n"
     ]
    }
   ],
   "source": [
    "try:\n",
    "    file = open(\"example0.txt\", \"r\")\n",
    "    content = file.read()\n",
    "except FileNotFoundError:\n",
    "    print(\"File not found.\")\n",
    "finally:\n",
    "    file.close()\n",
    "    \n",
    "    # 에러가 나도 finally 부분 진행"
   ]
  },
  {
   "cell_type": "code",
   "execution_count": 58,
   "id": "36bc5ff3",
   "metadata": {},
   "outputs": [
    {
     "name": "stdout",
     "output_type": "stream",
     "text": [
      "Division by zero is not allowed.\n"
     ]
    }
   ],
   "source": [
    "try:\n",
    "    result = 10 / 0\n",
    "except ZeroDivisionError:\n",
    "    print(\"Division by zero is not allowed.\")\n",
    "except ArithmeticError:\n",
    "    print(\"Arithmetic error occurred.\")"
   ]
  },
  {
   "cell_type": "code",
   "execution_count": 59,
   "id": "b084baaa",
   "metadata": {},
   "outputs": [
    {
     "name": "stdout",
     "output_type": "stream",
     "text": [
      "No exception occurred.\n"
     ]
    }
   ],
   "source": [
    "try:\n",
    "    result = 10 / 5\n",
    "except ZeroDivisionError:\n",
    "    print(\"Division by zero is not allowed.\")\n",
    "else:\n",
    "    print(\"No exception occurred.\")"
   ]
  },
  {
   "cell_type": "code",
   "execution_count": 61,
   "id": "45233acb",
   "metadata": {},
   "outputs": [],
   "source": [
    "def divide_numbers(a, b) :\n",
    "    try :\n",
    "        result = a / b\n",
    "        return result\n",
    "    except ZeroDivisionError :\n",
    "        print(\"Error : Division by zero is not allowed.\")\n",
    "    except TypeError as e :\n",
    "        print(f\"Error : Invalid data type - {e}\")\n",
    "    except Exception as e :\n",
    "        print(f\"Error : An unexpected error occurred - {e}\")\n",
    "    finally :\n",
    "        print(\"This block is always executed, regardless of whether an exception occurred or not.\")"
   ]
  },
  {
   "cell_type": "code",
   "execution_count": 62,
   "id": "15b8cd51",
   "metadata": {},
   "outputs": [
    {
     "name": "stdout",
     "output_type": "stream",
     "text": [
      "This block is always executed, regardless of whether an exception occurred or not.\n"
     ]
    },
    {
     "data": {
      "text/plain": [
       "0.009009009009009009"
      ]
     },
     "execution_count": 62,
     "metadata": {},
     "output_type": "execute_result"
    }
   ],
   "source": [
    "divide_numbers(8, 888)"
   ]
  },
  {
   "cell_type": "code",
   "execution_count": 63,
   "id": "67dbd0f0",
   "metadata": {},
   "outputs": [
    {
     "name": "stdout",
     "output_type": "stream",
     "text": [
      "Error : Division by zero is not allowed.\n",
      "This block is always executed, regardless of whether an exception occurred or not.\n"
     ]
    }
   ],
   "source": [
    "divide_numbers(8, 0)"
   ]
  },
  {
   "cell_type": "code",
   "execution_count": 65,
   "id": "81365340",
   "metadata": {},
   "outputs": [
    {
     "name": "stdout",
     "output_type": "stream",
     "text": [
      "Error : Invalid data type - unsupported operand type(s) for /: 'int' and 'str'\n",
      "This block is always executed, regardless of whether an exception occurred or not.\n"
     ]
    }
   ],
   "source": [
    "divide_numbers(8, '888')"
   ]
  },
  {
   "cell_type": "code",
   "execution_count": 74,
   "id": "c91271cf",
   "metadata": {},
   "outputs": [
    {
     "name": "stdout",
     "output_type": "stream",
     "text": [
      "very fast\n"
     ]
    }
   ],
   "source": [
    "# 오류 일부러 발생시키기\n",
    "class Bird :\n",
    "    def fly(self) :\n",
    "        raise NotImplementedError\n",
    "        \n",
    "class Eagle(Bird) :\n",
    "    pass\n",
    "\n",
    "# eagle = Eagle()\n",
    "# eagle.fly() # 'NotImplementedError'\n",
    "\n",
    "\n",
    "class Eagle(Bird) :\n",
    "    def fly(self) :\n",
    "        print('very fast')\n",
    "        \n",
    "eagle = Eagle()\n",
    "eagle.fly()  # very fast"
   ]
  },
  {
   "cell_type": "code",
   "execution_count": 69,
   "id": "2b1ea3e5",
   "metadata": {},
   "outputs": [
    {
     "data": {
      "text/plain": [
       "233168"
      ]
     },
     "execution_count": 69,
     "metadata": {},
     "output_type": "execute_result"
    }
   ],
   "source": [
    "# 1부터 1000사이 정수 중에 3과 5의 배수 합하기\n",
    "sum = 0\n",
    "for i in range(1, 1000):\n",
    "    if i % 3 == 0 or i % 5 == 0:\n",
    "        sum += i\n",
    "    else :\n",
    "        pass\n",
    "sum"
   ]
  },
  {
   "cell_type": "code",
   "execution_count": 97,
   "id": "a9ef5f89",
   "metadata": {},
   "outputs": [
    {
     "name": "stdout",
     "output_type": "stream",
     "text": [
      "233168\n"
     ]
    }
   ],
   "source": [
    "# 황금 낙하산 인턴께서 오셔서 아래와 같이 코드를 작성하였다.\n",
    "# 낙하산 님이 열받지 않게 아래 코드를 건드리지 말고\n",
    "# 코드를 추가하여 답을 맞추시오\n",
    "\n",
    "\n",
    "# 어렵게 풀기\n",
    "\n",
    "sum2 = 0\n",
    "for n in range(1, 1000) :\n",
    "    try : \n",
    "        if n % 3 == 0 :\n",
    "            sum2 += n\n",
    "        if n % 5 == 0 :\n",
    "            sum2 += n\n",
    "        if n % 3 == 0 and n % 5 == 0 :\n",
    "            raise Exception\n",
    "    except Exception :\n",
    "#         if n % 3 == 0 and n % 5 == 0 :\n",
    "        sum2 -= n\n",
    "        \n",
    "\n",
    "print(sum2)"
   ]
  },
  {
   "cell_type": "code",
   "execution_count": 81,
   "id": "8577caf5",
   "metadata": {},
   "outputs": [
    {
     "data": {
      "text/plain": [
       "233168"
      ]
     },
     "execution_count": 81,
     "metadata": {},
     "output_type": "execute_result"
    }
   ],
   "source": [
    "# 간단히 \n",
    "sum2 = 0\n",
    "for n in range(1, 1000) :\n",
    "    if n % 3 == 0 :\n",
    "        sum2 += n\n",
    "    if n % 5 == 0 :\n",
    "        sum2 += n\n",
    "    if n % 3 == 0 and n % 5 == 0 :\n",
    "        sum2 -= n\n",
    "sum2"
   ]
  },
  {
   "cell_type": "code",
   "execution_count": 99,
   "id": "7d62a5e2",
   "metadata": {},
   "outputs": [
    {
     "name": "stdout",
     "output_type": "stream",
     "text": [
      "233168\n"
     ]
    }
   ],
   "source": [
    "# 집합의 특성 이용해서 해결\n",
    "import numpy as np\n",
    "\n",
    "sum2 = 0\n",
    "sum_tot = []\n",
    "for n in range(1, 1000) :\n",
    "    if n % 3 == 0 :\n",
    "        sum2 += n\n",
    "        sum_tot.append(n)\n",
    "    if n % 5 == 0 :\n",
    "        sum2 += n\n",
    "        sum_tot.append(n)\n",
    "        \n",
    "excluded_set = set(range(15, 1000, 15)) # 15부터 1000사이 15배수 - 교집합\n",
    "answers =  set(sum_tot) - excluded_set  # 차집합의 성질 - 15배수 두번 들어간것 전부 제거 (교집합 전부 제거)\n",
    "answer_final = list(answers) + list(excluded_set) # 남은 부분(교집합 부분이 없음) + 15의 배수(교집합)\n",
    "print(np.sum(answer_final))"
   ]
  },
  {
   "cell_type": "code",
   "execution_count": null,
   "id": "81b53db1",
   "metadata": {},
   "outputs": [],
   "source": []
  },
  {
   "cell_type": "code",
   "execution_count": null,
   "id": "7cd75822",
   "metadata": {},
   "outputs": [],
   "source": []
  },
  {
   "cell_type": "code",
   "execution_count": null,
   "id": "c043ed13",
   "metadata": {},
   "outputs": [],
   "source": []
  },
  {
   "cell_type": "code",
   "execution_count": null,
   "id": "68744b0c",
   "metadata": {},
   "outputs": [],
   "source": []
  },
  {
   "cell_type": "code",
   "execution_count": null,
   "id": "3cedc8c4",
   "metadata": {},
   "outputs": [],
   "source": []
  },
  {
   "cell_type": "code",
   "execution_count": null,
   "id": "bfe56fbc",
   "metadata": {},
   "outputs": [],
   "source": []
  },
  {
   "cell_type": "code",
   "execution_count": null,
   "id": "bcde5444",
   "metadata": {},
   "outputs": [],
   "source": []
  },
  {
   "cell_type": "code",
   "execution_count": null,
   "id": "2f4306a8",
   "metadata": {},
   "outputs": [],
   "source": []
  }
 ],
 "metadata": {
  "kernelspec": {
   "display_name": "Python 3 (ipykernel)",
   "language": "python",
   "name": "python3"
  },
  "language_info": {
   "codemirror_mode": {
    "name": "ipython",
    "version": 3
   },
   "file_extension": ".py",
   "mimetype": "text/x-python",
   "name": "python",
   "nbconvert_exporter": "python",
   "pygments_lexer": "ipython3",
   "version": "3.11.5"
  }
 },
 "nbformat": 4,
 "nbformat_minor": 5
}
