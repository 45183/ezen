{
 "cells": [
  {
   "cell_type": "code",
   "execution_count": 3,
   "id": "f482dfdf",
   "metadata": {},
   "outputs": [
    {
     "name": "stdout",
     "output_type": "stream",
     "text": [
      "현재 count 값 :  0\n",
      "현재 count 값 :  1\n",
      "현재 count 값 :  2\n"
     ]
    }
   ],
   "source": [
    "count = 0\n",
    "while count < 5 :\n",
    "    if count == 3 :\n",
    "        break\n",
    "    print(\"현재 count 값 : \", count)\n",
    "    count += 1"
   ]
  },
  {
   "cell_type": "code",
   "execution_count": 5,
   "id": "d81238e8",
   "metadata": {},
   "outputs": [
    {
     "name": "stdout",
     "output_type": "stream",
     "text": [
      "현재 count 값 :  0\n",
      "현재 count 값 :  1\n",
      "현재 count 값 :  2\n",
      "현재 count 값 :  4\n"
     ]
    }
   ],
   "source": [
    "# quiz : continue를 사용해서 코드를 바꿔서 \n",
    "# 현재 count 값 : 4도 출력되게 프로그램 변경\n",
    "\n",
    "count = 0\n",
    "while count < 5 :\n",
    "    if count == 3 :\n",
    "        count += 1\n",
    "        continue\n",
    "    print(\"현재 count 값 : \", count)\n",
    "    count += 1"
   ]
  },
  {
   "cell_type": "code",
   "execution_count": 6,
   "id": "4c5da8e8",
   "metadata": {},
   "outputs": [
    {
     "name": "stdout",
     "output_type": "stream",
     "text": [
      "현재 count 값 :  0\n",
      "현재 count 값 :  1\n",
      "현재 count 값 :  2\n",
      "현재 count 값 :  4\n"
     ]
    }
   ],
   "source": [
    "# quiz : continue를 사용해서 코드를 바꿔서 \n",
    "# 현재 count 값 : 4도 출력되게 프로그램 변경\n",
    "\n",
    "count = 0\n",
    "while count < 5 :\n",
    "    if count == 3 :\n",
    "        count += 1 # 건너뛰기 전에 4를 만드려고 추가\n",
    "        continue\n",
    "    else : #  3이 아닌 다른 케이스 건너뛰지 않았을 때\n",
    "        print(\"현재 count 값 : \", count)\n",
    "    count += 1"
   ]
  },
  {
   "cell_type": "code",
   "execution_count": 8,
   "id": "aeb575f5",
   "metadata": {},
   "outputs": [
    {
     "name": "stdout",
     "output_type": "stream",
     "text": [
      "1\n",
      "3\n",
      "5\n",
      "7\n",
      "9\n"
     ]
    }
   ],
   "source": [
    "# 1에서 9까지 정수에서 홀수만 출력 - while, if만 사용\n",
    "\n",
    "a = 0\n",
    "while a < 10 :\n",
    "    a += 1\n",
    "    if a % 2 != 0 :\n",
    "        print(a)"
   ]
  },
  {
   "cell_type": "code",
   "execution_count": 9,
   "id": "cbb8827c",
   "metadata": {},
   "outputs": [
    {
     "name": "stdout",
     "output_type": "stream",
     "text": [
      "1\n",
      "3\n",
      "5\n",
      "7\n",
      "9\n"
     ]
    }
   ],
   "source": [
    "a = 0\n",
    "while a < 10:\n",
    "    a += 1\n",
    "    if a % 2 == 0 :\n",
    "        continue\n",
    "    else : \n",
    "        print(a)"
   ]
  },
  {
   "cell_type": "code",
   "execution_count": 12,
   "id": "68473a57",
   "metadata": {},
   "outputs": [
    {
     "name": "stdout",
     "output_type": "stream",
     "text": [
      "one\n",
      "two\n",
      "three\n"
     ]
    }
   ],
   "source": [
    "# for문의 기본 구조\n",
    "test_list = ['one', 'two', 'three'] # 데이터를 정의\n",
    "for i in test_list : # 변수 이름 i 말고 다른 것 사용해도 상관 없음\n",
    "    print(i)"
   ]
  },
  {
   "cell_type": "code",
   "execution_count": 13,
   "id": "0e802b65",
   "metadata": {},
   "outputs": [
    {
     "name": "stdout",
     "output_type": "stream",
     "text": [
      "H\n",
      "e\n",
      "l\n",
      "l\n",
      "o\n"
     ]
    }
   ],
   "source": [
    "# 데이터 셋이 문자열 단어면 글자별로 탐색해서 작업\n",
    "\n",
    "text = \"Hello\"\n",
    "for char in text :\n",
    "    print(char)"
   ]
  },
  {
   "cell_type": "code",
   "execution_count": 14,
   "id": "4a67f5ff",
   "metadata": {},
   "outputs": [
    {
     "name": "stdout",
     "output_type": "stream",
     "text": [
      "[1, 2, 3, 4, 5]\n"
     ]
    }
   ],
   "source": [
    "# a = [1, 2, 3, 4, 5]\n",
    "\n",
    "a = range(1, 6) # 1에서 6 미만\n",
    "a = list(a)\n",
    "print(a)"
   ]
  },
  {
   "cell_type": "code",
   "execution_count": 17,
   "id": "7e8f553d",
   "metadata": {},
   "outputs": [
    {
     "name": "stdout",
     "output_type": "stream",
     "text": [
      "0\n",
      "1\n",
      "2\n",
      "4\n",
      "5\n"
     ]
    }
   ],
   "source": [
    "numbers = [0, 1, 2, 3, 4, 5]\n",
    "for number in numbers :\n",
    "    if number == 3 :\n",
    "        continue\n",
    "    print(number)\n",
    "    \n",
    "# while문은 조건이 변하기 전까지 작업을 반복하므로 while문에서는 작업 수행의 범위를 지정하는 로직이 포함되어야한다. (무한 루프 방지)\n",
    "# 반면 for문은 데이터셋의 범위 내에서 모든 원소에 대해 반복 작업을 수행해야 하므로 작업을 멈추는 로직이 없어도 데이터셋의 범위 자체가 이미 작업의 범위를 지정하는 것이다. (무한 루프 없음)"
   ]
  },
  {
   "cell_type": "code",
   "execution_count": 18,
   "id": "a2d570f5",
   "metadata": {},
   "outputs": [
    {
     "name": "stdout",
     "output_type": "stream",
     "text": [
      "3\n",
      "7\n",
      "11\n"
     ]
    }
   ],
   "source": [
    "# 다양한 for문의 사용\n",
    "\n",
    "a = [(1, 2), (3, 4), (5, 6)]\n",
    "for (first, last) in a :\n",
    "    print(first + last)"
   ]
  },
  {
   "cell_type": "code",
   "execution_count": 25,
   "id": "d1c8a65f",
   "metadata": {},
   "outputs": [
    {
     "name": "stdout",
     "output_type": "stream",
     "text": [
      "1번 학생은 합격\n",
      "2번 학생은 불합격\n",
      "3번 학생은 합격\n",
      "4번 학생은 불합격\n",
      "5번 학생은 합격\n"
     ]
    }
   ],
   "source": [
    "\"\"\"\n",
    "5명의 학생 점수를 하나씩 꺼내서 60점 이상은 \"합격\"이라 출력하고\n",
    "60점 미만은 \"불합격\"으로 출력\n",
    "\"\"\"\n",
    "\n",
    "marks = [90, 25, 67, 45, 80]\n",
    "number = 0 # 학생 번호를 부여\n",
    "for i in marks : # 데이터 셋 안의 원소를 하나씩 끄집어 내기\n",
    "    number += 1 # 학생별로 1~5번까지 번호 부여\n",
    "    if i >= 60 : # 60점 이상(조건문)\n",
    "        print(\"%d번 학생은 합격\" %number) \n",
    "    else : # if 반대의 경우(60점 미만)\n",
    "        print(\"%d번 학생은 불합격\" %number)"
   ]
  },
  {
   "cell_type": "code",
   "execution_count": 26,
   "id": "40dee1e8",
   "metadata": {},
   "outputs": [
    {
     "name": "stdout",
     "output_type": "stream",
     "text": [
      "2 x 1 = 2\n",
      "2 x 2 = 4\n",
      "2 x 3 = 6\n",
      "2 x 4 = 8\n",
      "2 x 5 = 10\n",
      "2 x 6 = 12\n",
      "2 x 7 = 14\n",
      "2 x 8 = 16\n",
      "2 x 9 = 18\n",
      "3 x 1 = 3\n",
      "3 x 2 = 6\n",
      "3 x 3 = 9\n",
      "3 x 4 = 12\n",
      "3 x 5 = 15\n",
      "3 x 6 = 18\n",
      "3 x 7 = 21\n",
      "3 x 8 = 24\n",
      "3 x 9 = 27\n",
      "4 x 1 = 4\n",
      "4 x 2 = 8\n",
      "4 x 3 = 12\n",
      "4 x 4 = 16\n",
      "4 x 5 = 20\n",
      "4 x 6 = 24\n",
      "4 x 7 = 28\n",
      "4 x 8 = 32\n",
      "4 x 9 = 36\n",
      "5 x 1 = 5\n",
      "5 x 2 = 10\n",
      "5 x 3 = 15\n",
      "5 x 4 = 20\n",
      "5 x 5 = 25\n",
      "5 x 6 = 30\n",
      "5 x 7 = 35\n",
      "5 x 8 = 40\n",
      "5 x 9 = 45\n",
      "6 x 1 = 6\n",
      "6 x 2 = 12\n",
      "6 x 3 = 18\n",
      "6 x 4 = 24\n",
      "6 x 5 = 30\n",
      "6 x 6 = 36\n",
      "6 x 7 = 42\n",
      "6 x 8 = 48\n",
      "6 x 9 = 54\n",
      "7 x 1 = 7\n",
      "7 x 2 = 14\n",
      "7 x 3 = 21\n",
      "7 x 4 = 28\n",
      "7 x 5 = 35\n",
      "7 x 6 = 42\n",
      "7 x 7 = 49\n",
      "7 x 8 = 56\n",
      "7 x 9 = 63\n",
      "8 x 1 = 8\n",
      "8 x 2 = 16\n",
      "8 x 3 = 24\n",
      "8 x 4 = 32\n",
      "8 x 5 = 40\n",
      "8 x 6 = 48\n",
      "8 x 7 = 56\n",
      "8 x 8 = 64\n",
      "8 x 9 = 72\n",
      "9 x 1 = 9\n",
      "9 x 2 = 18\n",
      "9 x 3 = 27\n",
      "9 x 4 = 36\n",
      "9 x 5 = 45\n",
      "9 x 6 = 54\n",
      "9 x 7 = 63\n",
      "9 x 8 = 72\n",
      "9 x 9 = 81\n"
     ]
    }
   ],
   "source": [
    "# 이중 for문 : 개별 원소에 대해 추가적인 반복 연산 가능\n",
    "\n",
    "for i in range(2, 10) : # 구구단 2에서 9단까지의 몇 단 설정\n",
    "    for j in range(1, 10) : # 각 구구단의 계산\n",
    "        print(f\"{i} x {j} = {i * j}\")"
   ]
  },
  {
   "cell_type": "code",
   "execution_count": 27,
   "id": "1e725f33",
   "metadata": {},
   "outputs": [
    {
     "data": {
      "text/plain": [
       "[1, 4, 9, 16, 25]"
      ]
     },
     "execution_count": 27,
     "metadata": {},
     "output_type": "execute_result"
    }
   ],
   "source": [
    "# for문은 한줄에 쓸 수 있다\n",
    "\n",
    "numbers = [1, 2, 3, 4, 5]\n",
    "squares = [x**2 for x in numbers] # 하고싶은 작업 for 원소 in 데이터셋\n",
    "squares\n",
    "\n",
    "'''\n",
    "for x in numbers :\n",
    "    print(x**2)\n",
    "'''"
   ]
  },
  {
   "cell_type": "code",
   "execution_count": 31,
   "id": "36a17a14",
   "metadata": {},
   "outputs": [
    {
     "name": "stdout",
     "output_type": "stream",
     "text": [
      "[2, 4, 6, 8, 10, 12, 14, 16, 18, 3, 6, 9, 12, 15, 18, 21, 24, 27, 4, 8, 12, 16, 20, 24, 28, 32, 36, 5, 10, 15, 20, 25, 30, 35, 40, 45, 6, 12, 18, 24, 30, 36, 42, 48, 54, 7, 14, 21, 28, 35, 42, 49, 56, 63, 8, 16, 24, 32, 40, 48, 56, 64, 72, 9, 18, 27, 36, 45, 54, 63, 72, 81]\n"
     ]
    }
   ],
   "source": [
    "# 구구단(이중 for문)의 결과값 출력을 한줄로 \n",
    "result = [x*y for x in range(2, 10) for y in range(1, 10)]\n",
    "print(result)"
   ]
  },
  {
   "cell_type": "code",
   "execution_count": 32,
   "id": "66c43ab4",
   "metadata": {},
   "outputs": [
    {
     "name": "stdout",
     "output_type": "stream",
     "text": [
      "55\n"
     ]
    }
   ],
   "source": [
    "# 1에서 10까지 정수를 더한 값을 만드세요\n",
    "\n",
    "sum = 0\n",
    "for i in range(1, 11) :\n",
    "    sum += i\n",
    "print(sum)"
   ]
  },
  {
   "cell_type": "code",
   "execution_count": 40,
   "id": "5220afbe",
   "metadata": {},
   "outputs": [
    {
     "name": "stdout",
     "output_type": "stream",
     "text": [
      "광해\n",
      "공작\n",
      "관상\n",
      "[9.4, 1200]\n",
      "[7.86, 500]\n",
      "[8.01, 900]\n",
      "광해 [9.4, 1200]\n",
      "공작 [7.86, 500]\n",
      "관상 [8.01, 900]\n",
      "('광해', [9.4, 1200])\n",
      "('공작', [7.86, 500])\n",
      "('관상', [8.01, 900])\n"
     ]
    }
   ],
   "source": [
    "# {key : [val1, val2] - {'영화' : [평점, 관객수(만명)]}}\n",
    "movie = {'광해' : [9.4, 1200], '공작' : [7.86, 500], '관상' : [8.01, 900],}\n",
    "\n",
    "# for문으로 딕셔너리에서 key값들만 한줄씩 출력\n",
    "for xx in movie.keys() :\n",
    "    print(xx)\n",
    "\n",
    "# for문으로 딕셔너리에서 value값들만 한줄씩 출력\n",
    "for yy in movie.values() :\n",
    "    print(yy)\n",
    "    \n",
    "# for문으로 딕셔너리에서 key랑 value값 둘 다 한줄씩 출력\n",
    "for zz, k in movie.items() :\n",
    "    print(zz, k)\n",
    "    \n",
    "for x in movie.items() :\n",
    "    print(x)"
   ]
  },
  {
   "cell_type": "code",
   "execution_count": 50,
   "id": "be904397",
   "metadata": {},
   "outputs": [
    {
     "name": "stdout",
     "output_type": "stream",
     "text": [
      "광해\n",
      "관상\n",
      "2100\n"
     ]
    }
   ],
   "source": [
    "# {key : [val1, val2] - {'영화' : [평점, 관객수(만명)]}}\n",
    "movie = {'광해' : [9.4, 1200], '공작' : [7.86, 500], '관상' : [8.01, 900],}\n",
    "\n",
    "# 문제) 평점 8 이상인 영화들의 제목과 합산 관객수 출력\n",
    "'''\n",
    "광해, 관상\n",
    "합산관객수 2,100\n",
    "'''\n",
    "# 혼자 생각\n",
    "# total = 0\n",
    "# for a,b in movie.values() :\n",
    "#     if a >= 8 :\n",
    "#         total += b\n",
    "# print(total)\n",
    "\n",
    "tot = 0 # 합산 관객수\n",
    "for zz, k in movie.items() : # 데이터 셋 내부 개별 데이터 호출\n",
    "    if k[0] >= 8 : # 데이터 안에 평점이 담긴 위치를 호출\n",
    "        print(zz) # 영화 제목 호출\n",
    "        tot += k[1]\n",
    "print(tot)"
   ]
  },
  {
   "cell_type": "code",
   "execution_count": 51,
   "id": "88c10402",
   "metadata": {},
   "outputs": [
    {
     "data": {
      "text/plain": [
       "[1, 2, 3, 4, 5]"
      ]
     },
     "execution_count": 51,
     "metadata": {},
     "output_type": "execute_result"
    }
   ],
   "source": [
    "# sort() 사용시\n",
    "dataset = [3, 5, 1, 2, 4]\n",
    "dataset.sort()\n",
    "dataset"
   ]
  },
  {
   "cell_type": "code",
   "execution_count": 59,
   "id": "c3398a61",
   "metadata": {},
   "outputs": [
    {
     "name": "stdout",
     "output_type": "stream",
     "text": [
      "[3, 5, 1, 2, 4]\n",
      "[3, 1, 2, 4, 5]\n",
      "[1, 2, 3, 4, 5]\n",
      "[1, 2, 3, 4, 5]\n",
      "[1, 2, 3, 4, 5]\n"
     ]
    }
   ],
   "source": [
    "# 오름차순 정렬 sort 함수 없이 정렬 (2중 for문 사용) -1 \n",
    "\n",
    "dataset = [3, 5, 1, 2, 4]\n",
    "\n",
    "n = len(dataset)\n",
    "for i in range(0, n-1) : # 1 ~ n-1까지\n",
    "    print(dataset)\n",
    "    for j in range(0, n-i-1) : # i+1 ~ n-1\n",
    "        if dataset[j] > dataset[j+1] :\n",
    "            dataset[j], dataset[j+1] = dataset[j+1], dataset[j] # 위치 변환\n",
    "        \n",
    "print(dataset)\n"
   ]
  },
  {
   "cell_type": "code",
   "execution_count": 64,
   "id": "d384a7fb",
   "metadata": {},
   "outputs": [
    {
     "name": "stdout",
     "output_type": "stream",
     "text": [
      "0 1 [3, 5, 1, 2, 4]\n",
      "0 2 [3, 5, 1, 2, 4]\n",
      "0 3 [1, 5, 3, 2, 4]\n",
      "0 4 [1, 5, 3, 2, 4]\n",
      "1 2 [1, 5, 3, 2, 4]\n",
      "1 3 [1, 3, 5, 2, 4]\n",
      "1 4 [1, 2, 5, 3, 4]\n",
      "2 3 [1, 2, 5, 3, 4]\n",
      "2 4 [1, 2, 3, 5, 4]\n",
      "3 4 [1, 2, 3, 5, 4]\n",
      "[1, 2, 3, 4, 5]\n"
     ]
    }
   ],
   "source": [
    "# 오름차순 정렬 sort 함수 없이 정렬 (2중 for문 사용) -2\n",
    "\n",
    "dataset = [3, 5, 1, 2, 4]\n",
    "\n",
    "n = len(dataset)\n",
    "for i in range(0, n-1) : # 1 ~ n-1까지 (기준 원소)\n",
    "    for j in range(i+1, n) : # i+1 ~ n-1 (비교할 원소)\n",
    "        print(i, j, dataset)\n",
    "        if dataset[i] > dataset[j] :\n",
    "            tmp = dataset[i]\n",
    "            dataset[i] = dataset[j]\n",
    "            dataset[j] = tmp\n",
    "            \n",
    "print(dataset)\n",
    "\n",
    "# 코드를 많이 읽어보자"
   ]
  },
  {
   "cell_type": "code",
   "execution_count": 62,
   "id": "03a671ec",
   "metadata": {},
   "outputs": [
    {
     "name": "stdout",
     "output_type": "stream",
     "text": [
      "[3, 5, 1, 2, 4]\n",
      "[5, 3, 2, 4, 1]\n",
      "[5, 3, 4, 2, 1]\n",
      "[5, 4, 3, 2, 1]\n",
      "[5, 4, 3, 2, 1]\n"
     ]
    }
   ],
   "source": [
    "dataset = [3, 5, 1, 2, 4]\n",
    "\n",
    "n = len(dataset)\n",
    "for i in range(0, n-1) : # 1 ~ n-1까지\n",
    "    print(dataset)\n",
    "    for j in range(0, n-i-1) : # i+1 ~ n-1\n",
    "        if dataset[j] < dataset[j+1] :\n",
    "            dataset[j], dataset[j+1] = dataset[j+1], dataset[j] # 위치 변환\n",
    "        \n",
    "print(dataset)"
   ]
  },
  {
   "cell_type": "code",
   "execution_count": 65,
   "id": "9de079c0",
   "metadata": {},
   "outputs": [
    {
     "name": "stdout",
     "output_type": "stream",
     "text": [
      "0 1 [3, 5, 1, 2, 4]\n",
      "0 2 [5, 3, 1, 2, 4]\n",
      "0 3 [5, 3, 1, 2, 4]\n",
      "0 4 [5, 3, 1, 2, 4]\n",
      "1 2 [5, 3, 1, 2, 4]\n",
      "1 3 [5, 3, 1, 2, 4]\n",
      "1 4 [5, 3, 1, 2, 4]\n",
      "2 3 [5, 4, 1, 2, 3]\n",
      "2 4 [5, 4, 2, 1, 3]\n",
      "3 4 [5, 4, 3, 1, 2]\n",
      "3 4 [5, 4, 3, 2, 1]\n"
     ]
    }
   ],
   "source": [
    "dataset = [3, 5, 1, 2, 4]\n",
    "\n",
    "n = len(dataset)\n",
    "for i in range(0, n-1) : # 1 ~ n-1\n",
    "    for j in range(i+1, n) : # i+1 ~ n-1\n",
    "        print(i,  j, dataset)\n",
    "        if dataset[i] < dataset[j] :\n",
    "            tmp = dataset[i]\n",
    "            dataset[i] = dataset[j]\n",
    "            dataset[j] = tmp\n",
    "print(i, j, dataset)\n",
    "\n",
    "# 디버깅 팁 : 내가 검증하고 싶은 로직 바로 밑에 print 함수 사용 + 변수도 추가(더 정확하게 확인 가능)"
   ]
  },
  {
   "cell_type": "code",
   "execution_count": 72,
   "id": "10db93d7",
   "metadata": {},
   "outputs": [
    {
     "name": "stdout",
     "output_type": "stream",
     "text": [
      "[9, 7, 19, 37, 46, 9]\n"
     ]
    }
   ],
   "source": [
    "# 로또 프로그램\n",
    "\n",
    "import random # 무작위 수 추출하는 모듈\n",
    "\n",
    "r = [] # 빈 리스트 자료구조 생성 - 추출한 번호 넣는 용도\n",
    "\n",
    "for i in range(6) : # 6개의 숫자 추출\n",
    "    r.append(random.randint(1, 45)) # random.randint(1, 45) - 1 ~ 45 정수 중 무작위 하나 추출\n",
    "    \n",
    "print(r) # 결과 출력\n",
    "\n",
    "# 중복된 수 나올 수 있음"
   ]
  },
  {
   "cell_type": "code",
   "execution_count": 87,
   "id": "354cc7ef",
   "metadata": {},
   "outputs": [
    {
     "name": "stdout",
     "output_type": "stream",
     "text": [
      "[25, 27, 30, 37, 28, 40]\n"
     ]
    }
   ],
   "source": [
    "import random\n",
    "\n",
    "r = []\n",
    "while len(r) < 6 :\n",
    "    number = random.randint(1, 45)\n",
    "    if number not in r: # 중복 체크\n",
    "        r.append(number)\n",
    "print(r)"
   ]
  },
  {
   "cell_type": "code",
   "execution_count": 80,
   "id": "49cfb468",
   "metadata": {},
   "outputs": [
    {
     "name": "stdout",
     "output_type": "stream",
     "text": [
      "{0: [43, 28, 9, 16, 30, 20], 1: [10, 32, 33, 25, 43, 13], 2: [30, 41, 40, 22, 14, 29], 3: [16, 7, 10, 17, 11, 3], 4: [28, 27, 22, 8, 5, 25], 5: [16, 24, 23, 14, 44, 30], 6: [25, 8, 12, 35, 7, 19], 7: [43, 29, 20, 14, 33, 4], 8: [29, 38, 25, 42, 19, 12], 9: [21, 40, 33, 31, 41, 7]}\n"
     ]
    }
   ],
   "source": [
    "# 10개 구매\n",
    "\n",
    "import random\n",
    "\n",
    "results = {} # 최종 복권결과를 저장하는 자료구조 선언\n",
    "for i in range(10) : # 복권 10장\n",
    "    r = [] # 개별 복권 결과를 저장하는 자료구조 선언\n",
    "\n",
    "    while len(r) < 6 : # 당첨숫자 6개 나올때까지 계속 로직 수행\n",
    "        number = random.randint(1, 45) # 1 ~ 45 중 정수 하나 추출\n",
    "        if number not in r : # 중복된 숫자 유무 체크\n",
    "            r.append(number) # 중복된 숫자가 아닌 경우 당첨숫자에 추가\n",
    "            \n",
    "        results[i] = r # 만들어진 당첨 복권 세트 하나씩 최종 결과에 추가\n",
    "            \n",
    "print(results) # 결과 출력"
   ]
  },
  {
   "cell_type": "code",
   "execution_count": 90,
   "id": "9b3336dc",
   "metadata": {},
   "outputs": [
    {
     "data": {
      "text/plain": [
       "{0: [4, 12, 15, 19, 36, 41],\n",
       " 1: [8, 12, 15, 28, 31, 39],\n",
       " 2: [3, 16, 19, 22, 29, 30],\n",
       " 3: [8, 10, 11, 21, 27, 41],\n",
       " 4: [8, 15, 17, 18, 21, 28],\n",
       " 5: [1, 11, 17, 24, 28, 35],\n",
       " 6: [2, 3, 8, 15, 21, 36],\n",
       " 7: [2, 7, 23, 34, 40, 43],\n",
       " 8: [8, 16, 23, 25, 30, 45],\n",
       " 9: [3, 11, 12, 33, 39, 40]}"
      ]
     },
     "execution_count": 90,
     "metadata": {},
     "output_type": "execute_result"
    }
   ],
   "source": [
    "import random\n",
    "\n",
    "results = {}\n",
    "\n",
    "for j in range(10) :\n",
    "    r = random.sample(range(1, 46), 6) # 1 ~ 45까지 정수 중 6개 출력\n",
    "    r.sort() # 오름차순 정렬\n",
    "    results[j] = r\n",
    "\n",
    "results"
   ]
  },
  {
   "cell_type": "code",
   "execution_count": null,
   "id": "4e39c5f3",
   "metadata": {},
   "outputs": [],
   "source": [
    "# 정렬알고리즘에서 오름차순 알고리즘을 사용하여\n",
    "# 아래 5개 데이터셋의 정렬작업을 순차적으로 진행하여 주시기 바랍니다.\n",
    "#맨 위에 for문 하나만 더 쓰면 됩니다.\n",
    "\n",
    "dataset_1 = [3, 5, 1, 2, 4]\n",
    "dataset_2 = [3, 11, 77, 32, 99]\n",
    "dataset_3 = [3, 75645, 32, 2, 666]\n",
    "dataset_4 = [3, 32, 1, 666, 4]\n",
    "dataset_5 = [323, 5, 7, 2, 666]\n",
    "datasets = [dataset_1, dataset_2, dataset_3, dataset_4, dataset_5 ]\n",
    "\n",
    "# 아래의 정렬알고리즘을 변환하여 위 데이터셋을 한번에 정렬시키세요\n",
    "------------------------\n",
    "dataset = [3, 5, 1, 2, 4]\n",
    "n = len(dataset)\n",
    "for i in range(0, n-1) : # 1 ~ n-1\n",
    "    for j in range(i+1, n) : # i+1 ~ n-1\n",
    "        #print(i, j, dataset) # 그냥 dataset을 출력하면 내가 어디있는지 잘 몰라\n",
    "        if dataset[i] > dataset[j] :\n",
    "            tmp = dataset[i]\n",
    "            dataset[i] = dataset[j]\n",
    "            dataset[j] = tmp\n",
    "print(dataset)\n"
   ]
  },
  {
   "cell_type": "code",
   "execution_count": 98,
   "id": "2e23f92a",
   "metadata": {},
   "outputs": [
    {
     "name": "stdout",
     "output_type": "stream",
     "text": [
      "[[1, 2, 3, 4, 5], [3, 11, 32, 77, 99], [2, 3, 32, 666, 75645], [1, 3, 4, 32, 666], [2, 5, 7, 323, 666]]\n"
     ]
    }
   ],
   "source": [
    "dataset_1 = [3, 5, 1, 2, 4]\n",
    "dataset_2 = [3, 11, 77, 32, 99]\n",
    "dataset_3 = [3, 75645, 32, 2, 666]\n",
    "dataset_4 = [3, 32, 1, 666, 4]\n",
    "dataset_5 = [323, 5, 7, 2, 666]\n",
    "datasets = [dataset_1, dataset_2, dataset_3, dataset_4, dataset_5 ]\n",
    "\n",
    "for i in datasets :\n",
    "    n = len(i)\n",
    "    for j in range(0, n-1) :\n",
    "        for k in range(j+1, n) :\n",
    "            if i[j] > i[k] :\n",
    "                tmp = i[j]\n",
    "                i[j] = i[k]\n",
    "                i[k] = tmp\n",
    "                \n",
    "print(datasets)"
   ]
  },
  {
   "cell_type": "code",
   "execution_count": 99,
   "id": "579d1f1b",
   "metadata": {},
   "outputs": [
    {
     "name": "stdout",
     "output_type": "stream",
     "text": [
      "[2, 4, 6, 8, 10, 12, 14, 16, 18, 20, 22, 24, 26, 28, 30, 32, 34, 36, 38, 40, 42, 44, 46, 48, 50, 52, 54, 56, 58, 60, 62, 64, 66, 68, 70, 72, 74, 76, 78, 80, 82, 84, 86, 88, 90, 92, 94, 96, 98, 100]\n"
     ]
    }
   ],
   "source": [
    "# 1 ~ 100까지의 정수 중에서 짝수만 뽑아서 출력\n",
    "\n",
    "result = list(range(1, 101))\n",
    "result3 = []\n",
    "\n",
    "for i in result :\n",
    "    if i % 2 == 0 :\n",
    "        result3.append(i)\n",
    "        \n",
    "print(result3)"
   ]
  },
  {
   "cell_type": "code",
   "execution_count": null,
   "id": "a4d33506",
   "metadata": {},
   "outputs": [],
   "source": []
  },
  {
   "cell_type": "code",
   "execution_count": null,
   "id": "9fdc6a0c",
   "metadata": {},
   "outputs": [],
   "source": []
  },
  {
   "cell_type": "code",
   "execution_count": null,
   "id": "d55d195d",
   "metadata": {},
   "outputs": [],
   "source": []
  },
  {
   "cell_type": "code",
   "execution_count": null,
   "id": "218e8875",
   "metadata": {},
   "outputs": [],
   "source": []
  },
  {
   "cell_type": "code",
   "execution_count": null,
   "id": "627f245a",
   "metadata": {},
   "outputs": [],
   "source": []
  }
 ],
 "metadata": {
  "kernelspec": {
   "display_name": "Python 3 (ipykernel)",
   "language": "python",
   "name": "python3"
  },
  "language_info": {
   "codemirror_mode": {
    "name": "ipython",
    "version": 3
   },
   "file_extension": ".py",
   "mimetype": "text/x-python",
   "name": "python",
   "nbconvert_exporter": "python",
   "pygments_lexer": "ipython3",
   "version": "3.11.5"
  }
 },
 "nbformat": 4,
 "nbformat_minor": 5
}
