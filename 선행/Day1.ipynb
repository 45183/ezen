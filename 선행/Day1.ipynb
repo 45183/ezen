{
 "cells": [
  {
   "cell_type": "code",
   "execution_count": 3,
   "id": "47abcef0",
   "metadata": {},
   "outputs": [
    {
     "data": {
      "text/plain": [
       "81"
      ]
     },
     "execution_count": 3,
     "metadata": {},
     "output_type": "execute_result"
    }
   ],
   "source": [
    "# 숫자열\n",
    "\n",
    "a = 3\n",
    "b = 4\n",
    "\n",
    "a + b\n",
    "a - b\n",
    "a * b\n",
    "a / b\n",
    "\n",
    "a // b\n",
    "a % b\n",
    "\n",
    "a ** b"
   ]
  },
  {
   "cell_type": "code",
   "execution_count": 5,
   "id": "0b3783a6",
   "metadata": {},
   "outputs": [
    {
     "data": {
      "text/plain": [
       "'LG전자의 이번 2023년 3분기 당기 순이익은 2조원 입니다.'"
      ]
     },
     "execution_count": 5,
     "metadata": {},
     "output_type": "execute_result"
    }
   ],
   "source": [
    "# 문자열 - 큰 따옴표, 작은 따옴표\n",
    "\n",
    "\n",
    "\"abc\"\n",
    "'abc'\n",
    "\n",
    "# 큰 따옴포 혹은 작은 따옴표 3개는 영역 코멘트 처리\n",
    "\n",
    "'''\n",
    "2023-10-11\n",
    "'''\n",
    "\n",
    "# 문자열 연결\n",
    "\n",
    "a = \"abc\"\n",
    "b = \"def\"\n",
    "\n",
    "a + b\n",
    "\n",
    "# 문자열 연결 응용\n",
    "\n",
    "a = \"삼성전자\"\n",
    "b = \"의 이번 2023년 3분기 당기 순이익은 2조원 입니다.\"\n",
    "c = \"LG전자\"\n",
    "\n",
    "a + b\n",
    "c + b"
   ]
  },
  {
   "cell_type": "code",
   "execution_count": 10,
   "id": "1158bd00",
   "metadata": {},
   "outputs": [
    {
     "name": "stdout",
     "output_type": "stream",
     "text": [
      "------------------------------------------------------------\n",
      "삼성전자의 이번 2023년 3분기 당기 순이익은 2조원 입니다.\n",
      "------------------------------------------------------------\n"
     ]
    }
   ],
   "source": [
    "# 문자열 곱하기 - 해당 문자가 반복 출력\n",
    "\n",
    "a * 3\n",
    "x = \"---\" * 20\n",
    "\n",
    "print(x)\n",
    "print(a + b)\n",
    "print(x)\n",
    "\n",
    "# 변수의 숫자와 문자 데이터는 향후에 SQL 등의 데이터 서버에서 불러올 수 있다."
   ]
  },
  {
   "cell_type": "code",
   "execution_count": 14,
   "id": "aa5c8177",
   "metadata": {},
   "outputs": [
    {
     "data": {
      "text/plain": [
       "'f'"
      ]
     },
     "execution_count": 14,
     "metadata": {},
     "output_type": "execute_result"
    }
   ],
   "source": [
    "# 문자의 인덱싱 - 원하는 요소 끌어오기\n",
    "\n",
    "a = \"abc def\"\n",
    "\n",
    "a[0] #a\n",
    "a[6] #f - 띄어쓰기도 문자로 인식\n",
    "a[:-1] # f"
   ]
  },
  {
   "cell_type": "code",
   "execution_count": 19,
   "id": "4c9a787d",
   "metadata": {},
   "outputs": [
    {
     "data": {
      "text/plain": [
       "'def'"
      ]
     },
     "execution_count": 19,
     "metadata": {},
     "output_type": "execute_result"
    }
   ],
   "source": [
    "# 문자의 슬라이싱 - 콜론(:)을 사용하여 범위에 속한 문자 가져오기\n",
    "\n",
    "a[:3] # 4번째 문자 미만까지\n",
    "a[:] # 전체\n",
    "a[4:] # 5번째부터 끝까지\n",
    "\n",
    "a[:-1] # 마지막 문자 미만"
   ]
  },
  {
   "cell_type": "code",
   "execution_count": 21,
   "id": "ec665923",
   "metadata": {},
   "outputs": [
    {
     "name": "stdout",
     "output_type": "stream",
     "text": [
      "삼성전자의 이번 2023년 3분기 당기 순이익은 2조원 입니다. 현재 결과는 미래를 보장해 주지는 않으니 참고하세요.\n"
     ]
    }
   ],
   "source": [
    "\"\"\"\n",
    "문자열 데이터 처리 응용\n",
    "원하는 위치에 %s, %d, %f 등 사용해서 문자열 데이터 처리, 뒤에 사용할 변수 부분에 %로 처리\n",
    "%s = 문자열 변수\n",
    "%d = 정수형 변수\n",
    "%f = 정수형 변수\n",
    "\"\"\"\n",
    "\n",
    "a = \"삼성전자\"\n",
    "b = \"의 이번 2023년 3분기 당기 순이익은 2조원 입니다.\"\n",
    "c = \"LG전자\"\n",
    "d = \"현재 결과는 미래를 보장해 주지는 않으니 참고하세요.\"\n",
    "\n",
    "p = \"%s의 이번 2023년 3분기 당기 순이익은 2조원 입니다. %s\" %(a, d)\n",
    "print(p)"
   ]
  },
  {
   "cell_type": "code",
   "execution_count": 29,
   "id": "47ba4507",
   "metadata": {},
   "outputs": [
    {
     "name": "stdout",
     "output_type": "stream",
     "text": [
      "삼성전자의 이번 2023년 3분기 당기 순이익은 3조원 입니다. 현재 결과는 미래를 보장해 주지는 않으니 참고하세요.\n",
      "LG전자의 이번 2023년 3분기 당기 순이익은 0.2조원 입니다. 현재 결과는 미래를 보장해 주지는 않으니 참고하세요.\n",
      "LG전자의 이번 2023년 3분기 당기 순이익은 0.2조원 입니다. 현재 결과는 미래를 보장해 주지는 않으니 참고하세요.\n"
     ]
    }
   ],
   "source": [
    "a = \"삼성전자\"\n",
    "b = \"의 이번 2023년 3분기 당기 순이익은 2조원 입니다.\"\n",
    "c = \"LG전자\"\n",
    "d = \"현재 결과는 미래를 보장해 주지는 않으니 참고하세요.\"\n",
    "e = 3\n",
    "f = 0.2\n",
    "\n",
    "p = \"{}의 이번 2023년 3분기 당기 순이익은 {}조원 입니다. {}\".format(a, e, d)\n",
    "p_2 = \"{}의 이번 2023년 3분기 당기 순이익은 {}조원 입니다. {}\".format(c, f, d)\n",
    "p_3 = \"{1}의 이번 2023년 3분기 당기 순이익은 {2}조원 입니다. {0}\".format(d, c, f)\n",
    "print(p)\n",
    "print(p_2)\n",
    "print(p_3)"
   ]
  },
  {
   "cell_type": "code",
   "execution_count": 42,
   "id": "ca492428",
   "metadata": {},
   "outputs": [
    {
     "data": {
      "text/plain": [
       "'LG전자의 이번 2023년 3분기 당기 순이익은 2조원 입니다.'"
      ]
     },
     "execution_count": 42,
     "metadata": {},
     "output_type": "execute_result"
    }
   ],
   "source": [
    "\"\"\"\n",
    "파이썬 문자열 관련 함수\n",
    "\"\"\"\n",
    "\n",
    "a = \"삼성전자\"\n",
    "b = \"의 이번 2023년 3분기 당기 순이익은 2조원 입니다.\"\n",
    "c = \"LG전자\"\n",
    "d = \"현재 결과는 미래를 보장해 주지는 않으니 참고하세요...\"\n",
    "e = 3\n",
    "f = 0.2\n",
    "j = \"WelCome0000\"\n",
    "\n",
    "# 문자개수 세기\n",
    "d.count(\"현\") # 1\n",
    "d.count(\".\") # 3\n",
    "\n",
    "# 위치를 알려주기 - find, index 같은 기능 수행하지만 에러메세지 유형이 다르다.(find는 -1, index는 에러메세지 출력)\n",
    "d.index(\"현\")\n",
    "# a.index(\"현\")\n",
    "a.find(\"현\")\n",
    "\n",
    "# 문자열 삽입\n",
    "t =  \",\"\n",
    "t.join(j)\n",
    "\n",
    "# 대문자 변환\n",
    "j.upper()\n",
    "\n",
    "# 소문자 변환\n",
    "j.lower()\n",
    "\n",
    "# 문자열 변환 (고치고 싶은 단어, 고칠 단어)\n",
    "\n",
    "b = \"삼성전자의 이번 2023년 3분기 당기 순이익은 2조원 입니다.\"\n",
    "c = \"LG전자\"\n",
    "\n",
    "\n",
    "b.replace(\"삼성전자\", \"LG디스플레이\")\n",
    "b.replace(\"삼성전자\", c)\n"
   ]
  },
  {
   "cell_type": "code",
   "execution_count": 43,
   "id": "30fe6d6f",
   "metadata": {},
   "outputs": [
    {
     "data": {
      "text/plain": [
       "['삼성전자의', '이번', '2023년', '3분기', '당기', '순이익은', '2조원', '입니다.']"
      ]
     },
     "execution_count": 43,
     "metadata": {},
     "output_type": "execute_result"
    }
   ],
   "source": [
    "# 문자열 나누기\n",
    "\n",
    "b = \"삼성전자의 이번 2023년 3분기 당기 순이익은 2조원 입니다.\"\n",
    "b.split()"
   ]
  },
  {
   "cell_type": "code",
   "execution_count": 46,
   "id": "d7a7a4fe",
   "metadata": {},
   "outputs": [
    {
     "name": "stdout",
     "output_type": "stream",
     "text": [
      "LG전자의 이번 2023년 3분기 당기 순이익은 2조원 입니다.\n"
     ]
    }
   ],
   "source": [
    "# 문자열 교체 (replace 모를 경우)\n",
    "# 내부 함수를 숙지하지 않으면 문제 해결 능력이 축소됨\n",
    "\n",
    "b = \"삼성전자의 이번 2023년 3분기 당기 순이익은 2조원 입니다.\"\n",
    "f = \"LG전자\"\n",
    "x = f + b[4:]\n",
    "print(x)"
   ]
  },
  {
   "cell_type": "code",
   "execution_count": null,
   "id": "9568b919",
   "metadata": {},
   "outputs": [],
   "source": [
    "\"\"\"\n",
    "데이터 자료구조의 이해\n",
    "\n",
    "리스트 : 가변 자료구조, 순서형 구조, 대괄호 안에 데이터가 들어간다. [1, 2, 3]\n",
    "중복 리스트 가능 [1, 2, [1,2,3]] 이미지 데이터 처리 시 사용 (딥러닝)\n",
    "\n",
    "딕셔너리 : 가변 자료구조, key와 value로 구성, {\"캐릭터\" : [\"마리오\", \"루이지\"], \"아이템\" : \"버섯\"}\n",
    "튜플 : 불변 자료구조, 순서형 구조, 소괄호 안에 데이터가 들어간다. (1, 2, 3)\n",
    "\n",
    "집합 : 가변 자료구조, 비순서형 구조, 합집합 차집합 여집합 계산 가능\n",
    "\n",
    "\"\"\"\n"
   ]
  },
  {
   "cell_type": "code",
   "execution_count": 52,
   "id": "1e5b72f9",
   "metadata": {},
   "outputs": [
    {
     "data": {
      "text/plain": [
       "9"
      ]
     },
     "execution_count": 52,
     "metadata": {},
     "output_type": "execute_result"
    }
   ],
   "source": [
    "u = [1, 2, [7,8,9]]\n",
    "u[0] # 1\n",
    "u[1] # 2\n",
    "u[2] # 7,8,9\n",
    "u[2][1] # 8\n",
    "u[2][2] # 9"
   ]
  },
  {
   "cell_type": "code",
   "execution_count": 54,
   "id": "a13efef5",
   "metadata": {},
   "outputs": [
    {
     "data": {
      "text/plain": [
       "'zelle'"
      ]
     },
     "execution_count": 54,
     "metadata": {},
     "output_type": "execute_result"
    }
   ],
   "source": [
    "u = [1, 2, [7,8,9, [\"zelle\"]]]\n",
    "\n",
    "u[2][3][0]\n"
   ]
  },
  {
   "cell_type": "code",
   "execution_count": 57,
   "id": "1e7d0df1",
   "metadata": {},
   "outputs": [
    {
     "data": {
      "text/plain": [
       "'zelle'"
      ]
     },
     "execution_count": 57,
     "metadata": {},
     "output_type": "execute_result"
    }
   ],
   "source": [
    "# 원하는 데이터 슬라이싱\n",
    "\n",
    "u = [1, 2, [7,8,9, [\"zelle\"]]]\n",
    "u[:2]\n",
    "u[-1][-1][0]"
   ]
  },
  {
   "cell_type": "code",
   "execution_count": 61,
   "id": "8f4b0b8b",
   "metadata": {},
   "outputs": [
    {
     "name": "stdout",
     "output_type": "stream",
     "text": [
      "[2, 3, 4]\n"
     ]
    },
    {
     "data": {
      "text/plain": [
       "[2, 3, 4, 4, 5, 6]"
      ]
     },
     "execution_count": 61,
     "metadata": {},
     "output_type": "execute_result"
    }
   ],
   "source": [
    "'''\n",
    "행렬의 연산\n",
    "행렬 전체에 1씩 더하는 방법\n",
    "'''\n",
    "r = [1, 2, 3]\n",
    "k = [4, 5, 6]\n",
    "\n",
    "# r + 1 실행 시 에러\n",
    "\n",
    "r[0] = 2\n",
    "r[1] = 3\n",
    "r[2] = 4\n",
    "\n",
    "print(r)\n",
    "\n",
    "# 두 리스트의 확장\n",
    "\n",
    "r + k"
   ]
  },
  {
   "cell_type": "code",
   "execution_count": 65,
   "id": "d0634366",
   "metadata": {},
   "outputs": [
    {
     "data": {
      "text/plain": [
       "[3, 4]"
      ]
     },
     "execution_count": 65,
     "metadata": {},
     "output_type": "execute_result"
    }
   ],
   "source": [
    "# 리스트에서 원소 삭제\n",
    "del r[0]\n",
    "\n",
    "r"
   ]
  },
  {
   "cell_type": "code",
   "execution_count": null,
   "id": "eefea4e3",
   "metadata": {},
   "outputs": [],
   "source": []
  }
 ],
 "metadata": {
  "kernelspec": {
   "display_name": "Python 3 (ipykernel)",
   "language": "python",
   "name": "python3"
  },
  "language_info": {
   "codemirror_mode": {
    "name": "ipython",
    "version": 3
   },
   "file_extension": ".py",
   "mimetype": "text/x-python",
   "name": "python",
   "nbconvert_exporter": "python",
   "pygments_lexer": "ipython3",
   "version": "3.11.5"
  }
 },
 "nbformat": 4,
 "nbformat_minor": 5
}
