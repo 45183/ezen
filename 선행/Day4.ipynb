{
 "cells": [
  {
   "cell_type": "code",
   "execution_count": null,
   "id": "61c37fd8",
   "metadata": {},
   "outputs": [],
   "source": [
    "# 아래처럼 출력되도록 for문 사용\n",
    "\n",
    "a = [1, 2, 3, 4]\n",
    "result = []\n",
    "\n",
    "'''\n",
    "출력시 \n",
    "[]\n",
    "[3]\n",
    "[3, 6]\n",
    "[3, 6, 9]\n",
    "'''\n",
    "\n",
    "# 처음에는 빈칸 출력, 그 다음부터 결과를 하나씩 넣어서 출력\n",
    "# for i in a :\n",
    "#     print(result)\n",
    "#     result.append(3*i)\n",
    "\n",
    "    \n",
    "for i in a : # for문을 호출해서 데이터 셋 안에 데이터를 하나씩 끄집어낸다.\n",
    "    print(result) # result 출력 - 처음 빈칸 출력을 위해 앞에 배치 / 마지막줄에 사용시 [3], [3, 6], [3, 6, 9], [3, 6, 9, 12]\n",
    "    k = i * 3 # for문을 사용해서 꺼낸 데이터 i에 3을 곱한 수를 k라 지정\n",
    "    result.append(k) # k를 result에 추가\n",
    "\n",
    "# 바운더리 컨디션"
   ]
  },
  {
   "cell_type": "code",
   "execution_count": null,
   "id": "f9b25670",
   "metadata": {},
   "outputs": [],
   "source": [
    "result = []\n",
    "\n",
    "for x in range(2, 10) :\n",
    "    for y in range(1, 10) :\n",
    "        z = x * y\n",
    "        result.append(z)\n",
    "        \n",
    "print(result)"
   ]
  },
  {
   "cell_type": "code",
   "execution_count": null,
   "id": "c1439041",
   "metadata": {},
   "outputs": [],
   "source": [
    "# 1줄 for문\n",
    "result = [x * y for x in range(2, 10) for y in range(1, 10)]\n",
    "print(result)"
   ]
  },
  {
   "cell_type": "code",
   "execution_count": null,
   "id": "573e7e67",
   "metadata": {},
   "outputs": [],
   "source": [
    "lst = [0, 1, 2, 3, 4]\n",
    "for i in lst : # for문을 호출해서 데이터 셋 안에 데이터를 하나씩 끄집어낸다.\n",
    "    k = i + 1 # 꺼낸 i에 1 더해 k라 지정\n",
    "    print(lst[:k]) # lst[:k] -> 0부터 k-1 까지 출력 (앞에서부터 k개 출력)\n",
    "    \n",
    "'''\n",
    "출력시\n",
    "[0]\n",
    "[0, 1]\n",
    "[0, 1, 2]\n",
    "[0, 1, 2, 3]\n",
    "[0, 1, 2, 3, 4]\n",
    "'''"
   ]
  },
  {
   "cell_type": "code",
   "execution_count": null,
   "id": "e687954d",
   "metadata": {},
   "outputs": [],
   "source": [
    "lst = [1, 2, 3, 4, 5]\n",
    "for i in lst : # for문을 호출해서 데이터 셋 안에 데이터를 하나씩 끄집어낸다.\n",
    "    k = i - 1 # 꺼낸 i에 1 빼서 k라 지정\n",
    "    print(lst[:k]) # lst[:k] -> 앞에서부터 k개 출력\n",
    "    \n",
    "'''\n",
    "출력시\n",
    "[]\n",
    "[1]\n",
    "[1, 2]\n",
    "[1, 2, 3]\n",
    "[1, 2, 3, 4]\n",
    "'''"
   ]
  },
  {
   "cell_type": "code",
   "execution_count": null,
   "id": "dc89ab63",
   "metadata": {},
   "outputs": [],
   "source": [
    "lst = [1, 2, 3, 4, 5]\n",
    "for i in lst :\n",
    "    print(lst[i-1:]) # lst[i-1] 부터 끝까지 출력\n",
    "    \n",
    "\n",
    "\"\"\"\n",
    "출력시\n",
    "[1, 2, 3, 4, 5]\n",
    "[2, 3, 4, 5]\n",
    "[3, 4, 5]\n",
    "[4, 5]\n",
    "[5]\n",
    "\"\"\""
   ]
  },
  {
   "cell_type": "code",
   "execution_count": null,
   "id": "69eb3d77",
   "metadata": {},
   "outputs": [],
   "source": [
    "# 직급별로 단어 숫자 세서 딕셔너리에 저장\n",
    "# for문과 if문의 적절한 조화로 문제 풀기\n",
    "\n",
    "position = ['과장', '부장', '대리', '사장', '대리', '과장']\n",
    "position_cnt = {} # 결과를 저장할 딕셔너리 지정\n",
    "\n",
    "for ch in position : # position 데이터셋에서 데이터 하나씩 꺼냄\n",
    "    if ch in position_cnt : # 만약 꺼낸 데이터가 postion_cnt의 key값에 있는 경우 value에 +1 # 결과 데이터셋 내부에 꺼낸 데이터가 있다면\n",
    "        position_cnt[ch] +=1                                                                # 직급 key 데이터에 사람수 value 1 더하기\n",
    "    else : # 꺼낸 데이터가 position_cnt의 key 값에 없는 경우 value = 1                      # 결과 데이터셋에 해당 데이터가 없다면\n",
    "        position_cnt[ch] = 1                                                                # 직급 key 데이터 생성하고 사람수 value 1 지정\n",
    "        \n",
    "print(position_cnt)"
   ]
  },
  {
   "cell_type": "code",
   "execution_count": null,
   "id": "bf969958",
   "metadata": {},
   "outputs": [],
   "source": [
    "student = [\"윤석열\", \"김건희\", \"한동훈\"]\n",
    "numbers = 0\n",
    "\n",
    "\n",
    "for i in student : \n",
    "#     print(\"%d번 학생\" %numbers, i)\n",
    "    print(\"%d번 학생 %s\" %(numbers, i))\n",
    "    numbers += 1\n",
    "\n",
    "'''\n",
    "출력시\n",
    "0번 학생 윤석열\n",
    "1번 학생 김건희\n",
    "2번 학생 한동훈\n",
    "'''"
   ]
  },
  {
   "cell_type": "code",
   "execution_count": null,
   "id": "e680df72",
   "metadata": {},
   "outputs": [],
   "source": [
    "# index 이용해서 더 간단히\n",
    "\n",
    "student = [\"윤석열\", \"김건희\", \"한동훈\"]\n",
    "for i in student :\n",
    "    print(\"%d번 학생 %s\" %(student.index(i), i))"
   ]
  },
  {
   "cell_type": "code",
   "execution_count": null,
   "id": "96b7397c",
   "metadata": {},
   "outputs": [],
   "source": [
    "# 다음 코드 결과값\n",
    "\n",
    "a = \"Life is too short, you need a python\"\n",
    "\n",
    "if \"wife\" in a: # 1번\n",
    "    print(\"wife\") \n",
    "elif \"python\" in a and \"you\" not in a : # 2번\n",
    "    print(\"python\")\n",
    "elif \"shirt\" not in a : # 3번\n",
    "    print(\"shirt\") \n",
    "elif \"need\" in a : # 4번\n",
    "    print(\"need\") \n",
    "else : # 5번\n",
    "    print(\"none\") \n",
    "    \n",
    "# 4번도 맞지만 3번이 순서상 먼저 처리되면서 3번 출력"
   ]
  },
  {
   "cell_type": "code",
   "execution_count": null,
   "id": "5de3938d",
   "metadata": {},
   "outputs": [],
   "source": [
    "user_input = input(\"이름을 입력하세요 : \")\n",
    "print(\"안녕하세요, \" + user_input + \"님!\")"
   ]
  },
  {
   "cell_type": "code",
   "execution_count": null,
   "id": "f25f7143",
   "metadata": {},
   "outputs": [],
   "source": [
    "message = \"Hello, \" + \"World!\"\n",
    "print(message)"
   ]
  },
  {
   "cell_type": "code",
   "execution_count": null,
   "id": "b8f2049b",
   "metadata": {},
   "outputs": [],
   "source": [
    "name = \"Alice\"\n",
    "age = 30\n",
    "print(\"이름 : \", name, \", 나이 : \", age)"
   ]
  },
  {
   "cell_type": "code",
   "execution_count": null,
   "id": "b9338a8c",
   "metadata": {},
   "outputs": [],
   "source": [
    "# 당기 순이익 계산 식 = 매출 - 배달비 - 세금 - 주주배당 이라 할 경우\n",
    "# a = revenue - delivery - tax - dividend\n",
    "\n",
    "# def my_profit(revenue, delivery, tax, dividend) :\n",
    "#     x = (revenue - delivery) * (1- tax) - dividend\n",
    "#     return x\n",
    "\n",
    "# my_profit(10000, 1000, 0.22, 400)"
   ]
  },
  {
   "cell_type": "markdown",
   "id": "df5423f9",
   "metadata": {},
   "source": [
    "import profit\n",
    "\n",
    "profit.my_profit(10000, 1000, 0.22, 400)"
   ]
  },
  {
   "cell_type": "code",
   "execution_count": null,
   "id": "b82da4a0",
   "metadata": {},
   "outputs": [],
   "source": [
    "import profit\n",
    "\n",
    "profit.my_profit(10000, 1000, 0.22, 400)"
   ]
  },
  {
   "cell_type": "code",
   "execution_count": null,
   "id": "1870e499",
   "metadata": {},
   "outputs": [],
   "source": [
    "def greet(name, age) :\n",
    "    print(f\"Hello, {name}! You are {age} years old.\")\n",
    "    \n",
    "greet(\"Alice\", 30)\n",
    "greet(age = 30, name = \"Alice\")"
   ]
  },
  {
   "cell_type": "code",
   "execution_count": null,
   "id": "ae5e9596",
   "metadata": {},
   "outputs": [],
   "source": [
    "print(greet(\"Alice\", 30))\n",
    "# return 값이 없으므로 None까지 출력"
   ]
  },
  {
   "cell_type": "code",
   "execution_count": null,
   "id": "84de2f05",
   "metadata": {},
   "outputs": [],
   "source": [
    "# 입력값 3개 받아서 더해주는 식을 함수로\n",
    "\n",
    "def sum_many(x, y, z) :\n",
    "    a = x + y + z\n",
    "    return a\n",
    "\n",
    "result = sum_many(1, 2, 3)\n",
    "result"
   ]
  },
  {
   "cell_type": "code",
   "execution_count": null,
   "id": "605e348b",
   "metadata": {},
   "outputs": [],
   "source": [
    "# 입력값 5개, 7개 이런식으로 늘어날 경우 - 가변인수 사용\n",
    "# 가변인수는 변수앞에 *붙이면 된다 (같은 데이터 타입)\n",
    "\n",
    "def add(*args) :\n",
    "    result = 0\n",
    "    for num in args:\n",
    "        result += num\n",
    "    return result\n",
    "\n",
    "total = add(1, 2, 3, 4, 5, 6, 7) # 임의의 개수의 인수 전달\n",
    "total\n",
    "\n",
    "total2 = add(1, 2, 3, 4, 5, 6, 7, 8, 9, 10)\n",
    "total2"
   ]
  },
  {
   "cell_type": "code",
   "execution_count": null,
   "id": "4e02aeaa",
   "metadata": {},
   "outputs": [],
   "source": [
    "# def sum_mul(choice, *args) :\n",
    "#     if choice == 'sum' :\n",
    "#         result = 0\n",
    "#         for i in args :\n",
    "#             result = result + i\n",
    "#     elif choice == 'mul' :\n",
    "#         result = 1\n",
    "#         for i in args :\n",
    "#             result = result * i\n",
    "#     return result\n",
    "\n",
    "# result = sum_mul('sum', 1, 2, 3, 4, 5)\n",
    "# print(result)\n",
    "\n",
    "# result2 = sum_mul('mul', 1, 2, 3, 4, 5)\n",
    "# print(result2)"
   ]
  },
  {
   "cell_type": "code",
   "execution_count": 7,
   "id": "63570417",
   "metadata": {},
   "outputs": [
    {
     "name": "stdout",
     "output_type": "stream",
     "text": [
      "0.008333333333333333\n"
     ]
    }
   ],
   "source": [
    "# 로직 추가해서 나눗셈 기능 추가\n",
    "\n",
    "def sum_mul(choice, *args) :\n",
    "    if choice == 'sum' :\n",
    "        result = 0\n",
    "        for i in args :\n",
    "            result = result + i\n",
    "    elif choice == 'mul' :\n",
    "        result = 1\n",
    "        for i in args :\n",
    "            result = result * i\n",
    "    elif choice == 'div' :\n",
    "        result = 1\n",
    "        for i in args :\n",
    "            result = result / i\n",
    "    return result\n",
    "\n",
    "result = sum_mul('div', 1, 2, 3, 4, 5)\n",
    "print(result)"
   ]
  },
  {
   "cell_type": "code",
   "execution_count": null,
   "id": "0faf009e",
   "metadata": {},
   "outputs": [],
   "source": [
    "# 여러 결과를 한번에 나타낼 수 있다.\n",
    "\n",
    "def sum_and_mul(a, b) :\n",
    "    return a + b, a * b\n",
    "\n",
    "result = sum_and_mul(3, 4)\n",
    "result\n",
    "\n",
    "sum, mul = sum_and_mul(3, 4) # 결과를 하나씩 쪼개서 받을 수 있다.\n",
    "sum\n",
    "mul\n",
    "_, mul = sum_and_mul(3,4) # _ 사용시 해당 결과를 받지 않고 무시\n"
   ]
  },
  {
   "cell_type": "code",
   "execution_count": null,
   "id": "abaadf63",
   "metadata": {},
   "outputs": [],
   "source": [
    "def sum_and_mul(a, b) :\n",
    "    return a + b\n",
    "    return a * b # 무시\n",
    "\n",
    "result = sum_and_mul(2,3)\n",
    "result\n",
    "\n",
    "# 함수당 return 하나만 가능 두번째 리턴은 무시"
   ]
  },
  {
   "cell_type": "code",
   "execution_count": null,
   "id": "489527aa",
   "metadata": {},
   "outputs": [],
   "source": [
    "# 입력 인수에 초깃값 미리 설정\n",
    "\n",
    "def say_myself(name, old, man = True) : # 기본값을 남자로 잡음\n",
    "    print('나의 이름은 %s입니다.' %name)\n",
    "    print('나이는 %d살입니다.' %old)\n",
    "    if man :\n",
    "        print('남자입니다.')\n",
    "    else :\n",
    "        print('여자입니다.')\n",
    "\n",
    "say_myself(\"ㅇㅇㅇ\", 30) \n",
    "say_myself(\"ㅁㅁㅁ\", 20, False)"
   ]
  },
  {
   "cell_type": "code",
   "execution_count": null,
   "id": "b23a77cd",
   "metadata": {},
   "outputs": [],
   "source": [
    "def say_myself(name, man = True, old) : # 초깃값은 뒤에서부터 설정해야 한다 - 중간에서 설정시 에러\n",
    "    print('나의 이름은 %s입니다.' %name)\n",
    "    print('나이는 %d살입니다.' %old)\n",
    "    if man :\n",
    "        print('남자입니다.')\n",
    "    else :\n",
    "        print('여자입니다.')\n",
    "        \n",
    "say_myself(\"ㅇㅇㅇ\", True, 30) \n"
   ]
  },
  {
   "cell_type": "code",
   "execution_count": null,
   "id": "bfa1e570",
   "metadata": {},
   "outputs": [],
   "source": [
    "# 칼만필터"
   ]
  },
  {
   "cell_type": "code",
   "execution_count": null,
   "id": "678ee069",
   "metadata": {},
   "outputs": [],
   "source": [
    "# **kwargs - 딕셔너리 형태의 가변변수\n",
    "\n",
    "# 딕셔너리 자료구조에 한해 **를 사용해서 가변변수 설정가능\n",
    "\n",
    "def person_info(**kwargs) :\n",
    "    for key, value in kwargs.items() :\n",
    "        print(f\"{key}: {value}\")\n",
    "\n",
    "person_info(name=\"Alice\", age=30, city=\"New York\")"
   ]
  },
  {
   "cell_type": "code",
   "execution_count": null,
   "id": "4da03dbe",
   "metadata": {},
   "outputs": [],
   "source": [
    "# lambda 함수\n",
    "\n",
    "# 복합자료구조 - 리스트 안에 딕셔너리\n",
    "data = [{'name': 'Alice', 'age': 30}, {'name': 'Bob', 'age': 25}, {'name': 'Charlie', 'age': 35}]\n",
    "sorted_data = sorted(data, key=lambda x: x['age']) # 나이를 기준으로 sort\n",
    "# 주어진 데이터를 기준으로 각 딕셔너리 데이터셋에서 key값 age를 확인하여 sort함수를 통해 오름차순 정렬\n",
    "sorted_data"
   ]
  },
  {
   "cell_type": "code",
   "execution_count": null,
   "id": "187349b6",
   "metadata": {},
   "outputs": [],
   "source": [
    "numbers = [1, 2, 3, 4, 5, 6, 7, 8, 9, 10]\n",
    "even_number = list(filter(lambda x : x % 2 == 0, numbers))\n",
    "# number 데이터 셋에서 개별 원소를 꺼내서 2로 나눈 나머지가 0인 것만 filter함수를 통해 포함\n",
    "even_number"
   ]
  },
  {
   "cell_type": "code",
   "execution_count": null,
   "id": "16461ab1",
   "metadata": {},
   "outputs": [],
   "source": [
    "# 주의할 점\n",
    "\n",
    "# 람다함수의 한계 - 람다 함수는 단순한 함수에만 사용해야 한다\n",
    "# 복잡한 함수나 여러 줄의 코드를 포함하는 함수를 람다로 정의하면 코드의 가독성이 떨어지고 유지보수가 어려워진다\n",
    "\n",
    "# 변수 범위 - 람다 함수는 자신이 정의된 범위 내에서만 사용할 수 있는 변수를 참조할 수 있다.\n",
    "\n",
    "# 가독성 - 람다 함수는 간단한 경우에만 사용해야하며, 함수의 이름과 문서화가 빠져있어 가독성이 떨어질 수 있다.\n",
    "# 따라서 의미 있는 함수일 경우에는 명시적인 함수 정의를 고려해야 한다.\n",
    "\n",
    "# 람다함수는 파이썬에서 코드를 간결하게 작성할 때 유용하지만, 복잡한 작업에는 일반 함수를 사용하는 것이 더 좋을 수 있다."
   ]
  },
  {
   "cell_type": "code",
   "execution_count": null,
   "id": "8571cc0a",
   "metadata": {},
   "outputs": [],
   "source": [
    "# 실습 - 문자 빈도수 구하기\n",
    "\n",
    "charset = ['abc', 'code', 'band', 'band', 'abc']\n",
    "wc = {}"
   ]
  },
  {
   "cell_type": "code",
   "execution_count": null,
   "id": "ca5ccba0",
   "metadata": {},
   "outputs": [],
   "source": []
  }
 ],
 "metadata": {
  "kernelspec": {
   "display_name": "Python 3 (ipykernel)",
   "language": "python",
   "name": "python3"
  },
  "language_info": {
   "codemirror_mode": {
    "name": "ipython",
    "version": 3
   },
   "file_extension": ".py",
   "mimetype": "text/x-python",
   "name": "python",
   "nbconvert_exporter": "python",
   "pygments_lexer": "ipython3",
   "version": "3.11.5"
  }
 },
 "nbformat": 4,
 "nbformat_minor": 5
}
