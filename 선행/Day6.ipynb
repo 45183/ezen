{
 "cells": [
  {
   "cell_type": "code",
   "execution_count": null,
   "id": "104d86d9",
   "metadata": {},
   "outputs": [],
   "source": [
    "# 객체 지향 프로그래밍\n",
    "# 추상화, 상속성, 다형성, 캡슐화\n",
    "\n",
    "# https://d-craftshop.tistory.com/67"
   ]
  },
  {
   "cell_type": "code",
   "execution_count": null,
   "id": "d1dee81a",
   "metadata": {},
   "outputs": [],
   "source": [
    "# 추상화 예시\n",
    "\n",
    "from abc import ABC, abstractmethod\n",
    "\n",
    "class Shape(ABC):\n",
    "    @abstractmethod\n",
    "    def area(self):\n",
    "        pass\n",
    "\n",
    "class Circle(Shape):\n",
    "    def __init__(self, radius):\n",
    "        self.radius = radius\n",
    "\n",
    "    def area(self):\n",
    "        return 3.14 * self.radius * self.radius\n",
    "\n",
    "class Rectangle(Shape):\n",
    "    def __init__(self, width, height):\n",
    "        self.width = width\n",
    "        self.height = height\n",
    "\n",
    "    def area(self):\n",
    "        return self.width * self.height\n",
    "\n",
    "# 추상화를 사용하여 도형의 면적을 계산\n",
    "circle = Circle(5)\n",
    "rectangle = Rectangle(4, 6)\n",
    "\n",
    "print(\"Circle Area:\", circle.area())\n",
    "print(\"Rectangle Area:\", rectangle.area())"
   ]
  },
  {
   "cell_type": "code",
   "execution_count": null,
   "id": "d1b455b2",
   "metadata": {},
   "outputs": [],
   "source": [
    "# 상속 예시\n",
    "\n",
    "class Animal:\n",
    "    def __init__(self, name):\n",
    "        self.name = name\n",
    "\n",
    "    def speak(self):\n",
    "        pass\n",
    "\n",
    "class Dog(Animal):\n",
    "    def speak(self):\n",
    "        return f\"{self.name} says Woof!\"\n",
    "\n",
    "class Cat(Animal):\n",
    "    def speak(self):\n",
    "        return f\"{self.name} says Meow!\"\n",
    "\n",
    "dog = Dog(\"Buddy\")\n",
    "cat = Cat(\"Whiskers\")\n",
    "\n",
    "print(dog.speak())  # \"Buddy says Woof!\"\n",
    "print(cat.speak())  # \"Whiskers says Meow!\""
   ]
  },
  {
   "cell_type": "code",
   "execution_count": null,
   "id": "38d20dd1",
   "metadata": {},
   "outputs": [],
   "source": [
    "# 다형성 예시\n",
    "\n",
    "class Animal:\n",
    "    def speak(self):\n",
    "        pass\n",
    "\n",
    "class Dog(Animal):\n",
    "    def speak(self):\n",
    "        return \"Woof!\"\n",
    "\n",
    "class Cat(Animal):\n",
    "    def speak(self):\n",
    "        return \"Meow!\"\n",
    "\n",
    "class Duck(Animal):\n",
    "    def speak(self):\n",
    "        return \"Quack!\"\n",
    "\n",
    "# Animal 타입의 리스트에 다양한 동물 객체 저장\n",
    "animals = [Dog(), Cat(), Duck()]\n",
    "\n",
    "# 모든 동물들의 소리 출력\n",
    "for animal in animals:\n",
    "    print(animal.speak())\n",
    "    \n",
    "    \n",
    "    \n",
    "'''   \n",
    "# 다형성이 없으면 dog, cat, duck의 speak가 전부 다르게 바뀌어야하고, 그러면 상속도 의미가 없어짐\n",
    "\n",
    "class Animal:\n",
    "    def speak(self):\n",
    "        pass\n",
    "\n",
    "class Dog(Animal):\n",
    "    def speak1(self):\n",
    "        return \"Woof!\"\n",
    "\n",
    "class Cat(Animal):\n",
    "    def speak2(self):\n",
    "        return \"Meow!\"\n",
    "\n",
    "class Duck(Animal):\n",
    "    def speak3(self):\n",
    "        return \"Quack!\"\n",
    "\n",
    "# Animal 타입의 리스트에 다양한 동물 객체 저장\n",
    "animals = [Dog(), Cat(), Duck()]\n",
    "\n",
    "# 모든 동물들의 소리 출력\n",
    "for animal in animals:\n",
    "    print(animal.speak())\n",
    "    \n",
    "''' "
   ]
  },
  {
   "cell_type": "code",
   "execution_count": 1,
   "id": "3fd51020",
   "metadata": {},
   "outputs": [
    {
     "name": "stdout",
     "output_type": "stream",
     "text": [
      "개발할거 빼먹었어요\n",
      "Meow!\n",
      "Quack!\n"
     ]
    }
   ],
   "source": [
    "class Animal:\n",
    "    def speak(self):\n",
    "        return \"개발할거 빼먹었어요\"\n",
    "\n",
    "class Dog(Animal):\n",
    "    pass # 모듈이 제대로 안성되지 않으면 부모 클래스 리턴\n",
    "\n",
    "class Cat(Animal):\n",
    "    def speak(self):\n",
    "        return \"Meow!\"\n",
    "\n",
    "class Duck(Animal):\n",
    "    def speak(self):\n",
    "        return \"Quack!\"\n",
    "\n",
    "# Animal 타입의 리스트에 다양한 동물 객체 저장\n",
    "animals = [Dog(), Cat(), Duck()]\n",
    "\n",
    "# 모든 동물들의 소리 출력\n",
    "for animal in animals:\n",
    "    print(animal.speak())"
   ]
  },
  {
   "cell_type": "code",
   "execution_count": 2,
   "id": "6e15a2f9",
   "metadata": {},
   "outputs": [
    {
     "name": "stdout",
     "output_type": "stream",
     "text": [
      "Balance: 1300\n"
     ]
    }
   ],
   "source": [
    "# 캡슐화 예시\n",
    "\n",
    "class BankAccount:\n",
    "    def __init__(self, balance):\n",
    "        self.__balance = balance  # __로 시작하는 변수는 비공개\n",
    "\n",
    "    def deposit(self, amount):\n",
    "        if amount > 0:\n",
    "            self.__balance += amount\n",
    "\n",
    "    def withdraw(self, amount):\n",
    "        if amount > 0 and amount <= self.__balance:\n",
    "            self.__balance -= amount\n",
    "        else:\n",
    "            print(\"Insufficient funds!\")\n",
    "\n",
    "    def get_balance(self):\n",
    "        return self.__balance\n",
    "\n",
    "account = BankAccount(1000)\n",
    "account.deposit(500)\n",
    "account.withdraw(200)\n",
    "print(\"Balance:\", account.get_balance())  # \"Balance: 1300\""
   ]
  },
  {
   "cell_type": "code",
   "execution_count": 4,
   "id": "abc4537f",
   "metadata": {},
   "outputs": [
    {
     "data": {
      "text/plain": [
       "1000"
      ]
     },
     "execution_count": 4,
     "metadata": {},
     "output_type": "execute_result"
    }
   ],
   "source": [
    "class BankAccount:\n",
    "    def __init__(self, balance):\n",
    "        self.balance = balance  # __로 시작하는 변수는 비공개\n",
    "\n",
    "    def deposit(self, amount):\n",
    "        if amount > 0:\n",
    "            self.__balance += amount\n",
    "\n",
    "    def withdraw(self, amount):\n",
    "        if amount > 0 and amount <= self.__balance:\n",
    "            self.__balance -= amount\n",
    "        else:\n",
    "            print(\"Insufficient funds!\")\n",
    "\n",
    "    def get_balance(self):\n",
    "        return self.__balance\n",
    "\n",
    "account = BankAccount(1000)\n",
    "account.balance"
   ]
  },
  {
   "cell_type": "code",
   "execution_count": 3,
   "id": "661173ba",
   "metadata": {},
   "outputs": [
    {
     "ename": "AttributeError",
     "evalue": "'BankAccount' object has no attribute 'balance'",
     "output_type": "error",
     "traceback": [
      "\u001b[1;31m---------------------------------------------------------------------------\u001b[0m",
      "\u001b[1;31mAttributeError\u001b[0m                            Traceback (most recent call last)",
      "Cell \u001b[1;32mIn[3], line 19\u001b[0m\n\u001b[0;32m     16\u001b[0m         \u001b[38;5;28;01mreturn\u001b[39;00m \u001b[38;5;28mself\u001b[39m\u001b[38;5;241m.\u001b[39m__balance\n\u001b[0;32m     18\u001b[0m account \u001b[38;5;241m=\u001b[39m BankAccount(\u001b[38;5;241m1000\u001b[39m)\n\u001b[1;32m---> 19\u001b[0m account\u001b[38;5;241m.\u001b[39mbalance\n",
      "\u001b[1;31mAttributeError\u001b[0m: 'BankAccount' object has no attribute 'balance'"
     ]
    }
   ],
   "source": [
    "class BankAccount:\n",
    "    def __init__(self, balance):\n",
    "        self.__balance = balance  # __로 시작하는 변수는 비공개\n",
    "\n",
    "    def deposit(self, amount):\n",
    "        if amount > 0:\n",
    "            self.__balance += amount\n",
    "\n",
    "    def withdraw(self, amount):\n",
    "        if amount > 0 and amount <= self.__balance:\n",
    "            self.__balance -= amount\n",
    "        else:\n",
    "            print(\"Insufficient funds!\")\n",
    "\n",
    "    def get_balance(self):\n",
    "        return self.__balance\n",
    "\n",
    "account = BankAccount(1000)\n",
    "account.balance"
   ]
  },
  {
   "cell_type": "code",
   "execution_count": 7,
   "id": "a3d76d8c",
   "metadata": {},
   "outputs": [
    {
     "data": {
      "text/plain": [
       "1000"
      ]
     },
     "execution_count": 7,
     "metadata": {},
     "output_type": "execute_result"
    }
   ],
   "source": [
    "class BankAccount:\n",
    "    def __init__(self, balance):\n",
    "        self.__balance = balance  # __로 시작하는 변수는 비공개\n",
    "        \n",
    "    def balance_show(self) : # 비공개 변수 확인 가능하게 해주는 메서드 만들기\n",
    "        k = self.__balance\n",
    "        return k\n",
    "\n",
    "    def deposit(self, amount):\n",
    "        if amount > 0:\n",
    "            self.__balance += amount\n",
    "\n",
    "    def withdraw(self, amount):\n",
    "        if amount > 0 and amount <= self.__balance:\n",
    "            self.__balance -= amount\n",
    "        else:\n",
    "            print(\"Insufficient funds!\")\n",
    "\n",
    "    def get_balance(self):\n",
    "        return self.__balance\n",
    "\n",
    "account = BankAccount(1000)\n",
    "account.balance_show()"
   ]
  },
  {
   "cell_type": "code",
   "execution_count": 8,
   "id": "d1cd1562",
   "metadata": {},
   "outputs": [
    {
     "name": "stdout",
     "output_type": "stream",
     "text": [
      "5\n"
     ]
    }
   ],
   "source": [
    "# abs(x) - x의 절댓값\n",
    "\n",
    "num = -5\n",
    "abs_num = abs(num)\n",
    "print(abs_num)  # 5"
   ]
  },
  {
   "cell_type": "code",
   "execution_count": 12,
   "id": "19da04bf",
   "metadata": {},
   "outputs": [
    {
     "name": "stdout",
     "output_type": "stream",
     "text": [
      "False\n"
     ]
    }
   ],
   "source": [
    "# all() - 모든 요소가 참인 경우만 True 반환 - 무결성과 연관\n",
    "\n",
    "numbers = [True, True, False, True]\n",
    "result = all(numbers)\n",
    "print(result)  # False"
   ]
  },
  {
   "cell_type": "code",
   "execution_count": 11,
   "id": "13b12645",
   "metadata": {},
   "outputs": [
    {
     "name": "stdout",
     "output_type": "stream",
     "text": [
      "True\n"
     ]
    }
   ],
   "source": [
    "# any() - 요소 하나라도 참이면 True 반환\n",
    "\n",
    "numbers = [False, False, True, False]\n",
    "result = any(numbers)\n",
    "print(result)  # True"
   ]
  },
  {
   "cell_type": "code",
   "execution_count": 10,
   "id": "d282f738",
   "metadata": {},
   "outputs": [
    {
     "name": "stdout",
     "output_type": "stream",
     "text": [
      "A\n"
     ]
    }
   ],
   "source": [
    "# chr() - 아스키코드 - 16진수 변환/역변환 오류 없애기 위해\n",
    "\n",
    "char = chr(65)\n",
    "print(char)  # 'A'"
   ]
  },
  {
   "cell_type": "code",
   "execution_count": 9,
   "id": "64badb08",
   "metadata": {},
   "outputs": [
    {
     "name": "stdout",
     "output_type": "stream",
     "text": [
      "['__add__', '__class__', '__class_getitem__', '__contains__', '__delattr__', '__delitem__', '__dir__', '__doc__', '__eq__', '__format__', '__ge__', '__getattribute__', '__getitem__', '__getstate__', '__gt__', '__hash__', '__iadd__', '__imul__', '__init__', '__init_subclass__', '__iter__', '__le__', '__len__', '__lt__', '__mul__', '__ne__', '__new__', '__reduce__', '__reduce_ex__', '__repr__', '__reversed__', '__rmul__', '__setattr__', '__setitem__', '__sizeof__', '__str__', '__subclasshook__', 'append', 'clear', 'copy', 'count', 'extend', 'index', 'insert', 'pop', 'remove', 'reverse', 'sort']\n"
     ]
    }
   ],
   "source": [
    "# dir() - 객체의 메서드와 속성을 나열 \n",
    "\n",
    "print(dir(list))"
   ]
  },
  {
   "cell_type": "code",
   "execution_count": null,
   "id": "2d7bdd38",
   "metadata": {},
   "outputs": [],
   "source": [
    "# divmod(a, b) - a를 b로 나눈 몫과 나머지를 튜플로 반환\n",
    "\n",
    "result = divmod(10, 3)\n",
    "print(result)  # (3, 1)"
   ]
  },
  {
   "cell_type": "code",
   "execution_count": null,
   "id": "2992db4f",
   "metadata": {},
   "outputs": [],
   "source": [
    "# enumerate() - 반복 가능한(iterable) 객체를 받아 인덱스와 해당 요소로 이루어진 튜플을 생성\n",
    "\n",
    "fruits = ['apple', 'banana', 'cherry']\n",
    "enum_fruits = list(enumerate(fruits))\n",
    "print(enum_fruits)"
   ]
  },
  {
   "cell_type": "code",
   "execution_count": null,
   "id": "13f92a76",
   "metadata": {},
   "outputs": [],
   "source": [
    "# eval() - 문자열로 표현된 파이썬 표현식을 평가하고 결과를 반환\n",
    "\n",
    "expression = \"2 + 3\"\n",
    "result = eval(expression)\n",
    "print(result)  # 5"
   ]
  },
  {
   "cell_type": "code",
   "execution_count": null,
   "id": "13a0cf56",
   "metadata": {},
   "outputs": [],
   "source": [
    "# filter() \n",
    "\n",
    "numbers = [1, 2, 3, 4, 5, 6, 7, 8, 9]\n",
    "even_numbers = list(filter(lambda x: x % 2 == 0, numbers))\n",
    "print(even_numbers)"
   ]
  },
  {
   "cell_type": "code",
   "execution_count": null,
   "id": "b50bfb09",
   "metadata": {},
   "outputs": [],
   "source": [
    "# hex(x) - 정수 x를 16진수 문자열로 반환\n",
    "\n",
    "number = 255\n",
    "hex_string = hex(number)\n",
    "print(hex_string)  # '0xff'"
   ]
  },
  {
   "cell_type": "code",
   "execution_count": null,
   "id": "f32f4343",
   "metadata": {},
   "outputs": [],
   "source": [
    "# id() - 객체의 고유 식별자(메모리 주소)를 반환\n",
    "\n",
    "x = 42\n",
    "object_id = id(x)\n",
    "print(object_id)"
   ]
  },
  {
   "cell_type": "code",
   "execution_count": null,
   "id": "2d476579",
   "metadata": {},
   "outputs": [],
   "source": [
    "# input() - 사용자로부터 입력을 받음\n",
    "\n",
    "user_input = input(\"Enter your name: \")\n",
    "print(f\"Hello, {user_input}!\")"
   ]
  },
  {
   "cell_type": "code",
   "execution_count": null,
   "id": "896d8a9b",
   "metadata": {},
   "outputs": [],
   "source": [
    "# int(x, base) - 문자열 또는 숫자 x를 정수로 변환, base는 몇진수(기본 10진수)\n",
    "\n",
    "num_str = \"42\"\n",
    "num = int(num_str)\n",
    "print(num)"
   ]
  },
  {
   "cell_type": "code",
   "execution_count": null,
   "id": "b22c50aa",
   "metadata": {},
   "outputs": [],
   "source": [
    "# isinstance() - \n",
    "\n",
    "x = 42\n",
    "result = isinstance(x, int)\n",
    "print(result)"
   ]
  },
  {
   "cell_type": "code",
   "execution_count": null,
   "id": "a6246994",
   "metadata": {},
   "outputs": [],
   "source": [
    "# len() - 길이 반환\n",
    "\n",
    "my_list = [1, 2, 3, 4, 5]\n",
    "length = len(my_list)\n",
    "print(length)"
   ]
  },
  {
   "cell_type": "code",
   "execution_count": null,
   "id": "1b29fb00",
   "metadata": {},
   "outputs": [],
   "source": [
    "# list() - \n",
    "\n",
    "my_tuple = (1, 2, 3, 4, 5)\n",
    "my_list = list(my_tuple)\n",
    "print(my_list)"
   ]
  },
  {
   "cell_type": "code",
   "execution_count": 13,
   "id": "c541d2c5",
   "metadata": {},
   "outputs": [
    {
     "name": "stdout",
     "output_type": "stream",
     "text": [
      "[2, 3, 4, 5, 6, 7]\n"
     ]
    }
   ],
   "source": [
    "# 중복된 데이터 제거할 때\n",
    "\n",
    "xx = [2, 2, 2, 2, 2, 2, 2, 3, 3, 3, 4, 4, 4, 4, 4, 5, 6, 6, 6, 7] # 중복된 데이터 존재\n",
    "x = set(xx) # 집합형 자료구조로 변환(중복 허용하지 않는 비순서 자료구조)\n",
    "y = list(x) # 리스트 자료구조로 원복\n",
    "print(y)"
   ]
  },
  {
   "cell_type": "code",
   "execution_count": null,
   "id": "8cb520d2",
   "metadata": {},
   "outputs": [],
   "source": [
    "# map() - 함수 function을 반복 가능한(iterable) 객체에 적용하여 새로운 iterable을 생성합니다.\n",
    "\n",
    "numbers = [1, 2, 3, 4, 5]\n",
    "squared = list(map(lambda x: x ** 2, numbers))\n",
    "print(squared)"
   ]
  },
  {
   "cell_type": "code",
   "execution_count": null,
   "id": "511b164b",
   "metadata": {},
   "outputs": [],
   "source": [
    "# max() - 최댓값\n",
    "\n",
    "numbers = [5, 2, 8, 1, 9]\n",
    "max_num = max(numbers)\n",
    "print(max_num)"
   ]
  },
  {
   "cell_type": "code",
   "execution_count": null,
   "id": "357762ae",
   "metadata": {},
   "outputs": [],
   "source": [
    "# min() - 최솟값 \n",
    "\n",
    "numbers = [5, 2, 8, 1, 9]\n",
    "min_num = min(numbers)\n",
    "print(min_num)"
   ]
  },
  {
   "cell_type": "code",
   "execution_count": null,
   "id": "ab1e1bf1",
   "metadata": {},
   "outputs": [],
   "source": [
    "# oct(x) - 정수 x를 8진수 문자열로 반환\n",
    "\n",
    "number = 63\n",
    "oct_string = oct(number)\n",
    "print(oct_string)"
   ]
  },
  {
   "cell_type": "code",
   "execution_count": null,
   "id": "858be02d",
   "metadata": {},
   "outputs": [],
   "source": [
    "# open() - 파일 열기\n",
    "\n",
    "file = open(\"example.txt\", \"r\")\n",
    "content = file.read()\n",
    "file.close()"
   ]
  },
  {
   "cell_type": "code",
   "execution_count": null,
   "id": "4d595771",
   "metadata": {},
   "outputs": [],
   "source": [
    "# ord() - 유니코드\n",
    "\n",
    "char = 'A'\n",
    "unicode_value = ord(char)\n",
    "print(unicode_value)"
   ]
  },
  {
   "cell_type": "code",
   "execution_count": null,
   "id": "b543d238",
   "metadata": {},
   "outputs": [],
   "source": [
    "# pow(x, y, z) - x의 y 거듭제곱, z로 나눈 나머지\n",
    "\n",
    "result = pow(2, 3)\n",
    "print(result)"
   ]
  },
  {
   "cell_type": "code",
   "execution_count": null,
   "id": "232d195d",
   "metadata": {},
   "outputs": [],
   "source": [
    "# range()\n",
    "\n",
    "numbers = list(range(1, 6))\n",
    "print(numbers)"
   ]
  },
  {
   "cell_type": "code",
   "execution_count": null,
   "id": "bd37ef1a",
   "metadata": {},
   "outputs": [],
   "source": [
    "# round(number, ndigits): 숫자 number를 반올림하고, 소수점 이하 ndigits 자릿수로 제한합니다.\n",
    "\n",
    "value = 3.14159\n",
    "rounded = round(value, 2)\n",
    "print(rounded)"
   ]
  },
  {
   "cell_type": "code",
   "execution_count": null,
   "id": "b6cebd41",
   "metadata": {},
   "outputs": [],
   "source": [
    "# sorted(iterable, *, key=None, reverse=False): 반복 가능한(iterable) 객체를 정렬하고 정렬된 리스트를 반환합니다.\n",
    "\n",
    "numbers = [3, 1, 4, 1, 5, 9, 2, 6, 5, 3, 5]\n",
    "sorted_numbers = sorted(numbers)\n",
    "print(sorted_numbers)"
   ]
  },
  {
   "cell_type": "code",
   "execution_count": null,
   "id": "d33ac24a",
   "metadata": {},
   "outputs": [],
   "source": [
    "# str(object=''): 객체 object를 문자열로 변환하고 반환합니다.\n",
    "\n",
    "num = 42\n",
    "num_str = str(num)\n",
    "print(num_str)"
   ]
  },
  {
   "cell_type": "code",
   "execution_count": null,
   "id": "429fca9e",
   "metadata": {},
   "outputs": [],
   "source": [
    "# sum(iterable, /, start=0): 반복 가능한(iterable) 객체의 모든 요소의 합을 반환합니다.\n",
    "\n",
    "numbers = [1, 2, 3, 4, 5]\n",
    "total = sum(numbers)\n",
    "print(total)"
   ]
  },
  {
   "cell_type": "code",
   "execution_count": null,
   "id": "401c14be",
   "metadata": {},
   "outputs": [],
   "source": [
    "# tuple(iterable): 반복 가능한(iterable) 객체를 튜플로 변환합니다.\n",
    "\n",
    "my_list = [1, 2, 3, 4, 5]\n",
    "my_tuple = tuple(my_list)\n",
    "print(my_tuple)"
   ]
  },
  {
   "cell_type": "code",
   "execution_count": null,
   "id": "c63fe08b",
   "metadata": {},
   "outputs": [],
   "source": [
    "# type(object) - 객체 object의 데이터 타입을 반환\n",
    "\n",
    "x = 42\n",
    "data_type = type(x)\n",
    "print(data_type)"
   ]
  },
  {
   "cell_type": "code",
   "execution_count": 93,
   "id": "87dbcf65",
   "metadata": {},
   "outputs": [
    {
     "name": "stdout",
     "output_type": "stream",
     "text": [
      "오프라인 스터디 모임 날짜는 매월 26일로 선정되었습니다.\n"
     ]
    }
   ],
   "source": [
    "'''\n",
    "퀴즈\n",
    "\n",
    "월 4회 스터디 - 3번 온라인, 1번 오프라인\n",
    "오프라인 모임날짜 정해주는 프로그램 작성\n",
    "\n",
    "\n",
    "1. 랜덤으로 날짜뽑기\n",
    "2. 월별 날짜가 다름을 감안하여 최소 28일 이내로 정함\n",
    "3. 매월 1~3일은 스터디 준비를 해야하므로 제외\n",
    "\n",
    "출력 예제\n",
    "오프라인 스터디 모임 날짜는 매월 x일로 선정되었습니다.\n",
    "'''\n",
    "\n",
    "\n",
    "from random import *\n",
    "date = randint(4, 28) # 4 <= N <= 28 인 정수 N 반환\n",
    "\n",
    "print(\"오프라인 스터디 모임 날짜는 매월 %d일로 선정되었습니다.\" %date)"
   ]
  },
  {
   "cell_type": "code",
   "execution_count": 113,
   "id": "c8775a5e",
   "metadata": {},
   "outputs": [
    {
     "name": "stdout",
     "output_type": "stream",
     "text": [
      "오프라인 스터디 모임 날짜는 매월 16일로 선정되었습니다.\n"
     ]
    }
   ],
   "source": [
    "# 추가질문 : 무작위로 추출한 스터디 날짜를 고정하려면?\n",
    "\n",
    "from random import seed\n",
    "\n",
    "seed(0) # 난수 고정\n",
    "date = randint(4 ,28)\n",
    "print(\"오프라인 스터디 모임 날짜는 매월 %d일로 선정되었습니다.\" %date)\n",
    "\n",
    "\n",
    "# https://docs.python.org/ko/3/library/random.html 참고"
   ]
  },
  {
   "cell_type": "code",
   "execution_count": 145,
   "id": "70dc8f90",
   "metadata": {},
   "outputs": [
    {
     "name": "stdout",
     "output_type": "stream",
     "text": [
      "사이트 주소 입력해주세요 : http://naver.com\n",
      "naver\n",
      "nav\n",
      "5\n",
      "1\n",
      "http://naver.com의 비밀번호는 nav51! 입니다.\n"
     ]
    }
   ],
   "source": [
    "'''\n",
    "퀴즈\n",
    "\n",
    "사이트별로 비밀번호를 만들어주는 프로그램을 작성\n",
    "\n",
    "예) http://naver.com\n",
    "1. http:// 부분 제외 -> naver.com\n",
    "2. 점 이후 부분 제외 -> naver\n",
    "3. 남은 글자 중 처음 세자리 + 글자 개수 + 글자 내 'e' 개수 + \"!\"로 비밀번호 생성\n",
    "            nav                  5               1                 !\n",
    "=> 생성된 비밀번호 : nav51!\n",
    "\n",
    "출력 : \"~~의 비밀번호는 ~~~~입니다.\"\n",
    "'''\n",
    "\n",
    "x = input(\"사이트 주소 입력해주세요 : \") # x - 사이트 주소 입력받음\n",
    "# list(x)\n",
    "y = x[7:-4] # y - 입력받은 사이트 주소에서 http://와 .com 제외\n",
    "print(y)\n",
    "z = y[:3] # z - y의 앞 3글자\n",
    "print(z)\n",
    "print(len(y)) # y의 글자수\n",
    "count = 0\n",
    "for i in y:\n",
    "    if i == 'e':\n",
    "        count += 1\n",
    "count\n",
    "print(count) # y에 포함된 'e'의 개수 - count('e')로 간단히 가능\n",
    "pw = z + str(len(y)) + str(count) + \"!\"\n",
    "print(\"%s의 비밀번호는 %s 입니다.\" %(x, pw))"
   ]
  },
  {
   "cell_type": "code",
   "execution_count": 143,
   "id": "debbc832",
   "metadata": {},
   "outputs": [
    {
     "name": "stdout",
     "output_type": "stream",
     "text": [
      "http://naver.com의 비밀번호는 nav51! 입니다.\n"
     ]
    }
   ],
   "source": [
    "url = \"http://naver.com\"\n",
    "\n",
    "my_str = url[7:12]\n",
    "# print(my_str)\n",
    "password = my_str[:3] + str(len(my_str)) + str(my_str.count('e')) + \"!\"\n",
    "print(\"%s의 비밀번호는 %s 입니다.\" %(url, password))"
   ]
  },
  {
   "cell_type": "code",
   "execution_count": 146,
   "id": "fb047881",
   "metadata": {},
   "outputs": [],
   "source": [
    "# https://d-craftshop.tistory.com/43 참고"
   ]
  },
  {
   "cell_type": "code",
   "execution_count": null,
   "id": "6451f627",
   "metadata": {},
   "outputs": [],
   "source": []
  },
  {
   "cell_type": "code",
   "execution_count": 147,
   "id": "bf78739b",
   "metadata": {},
   "outputs": [
    {
     "name": "stdout",
     "output_type": "stream",
     "text": [
      "{2: 'mario'}\n"
     ]
    }
   ],
   "source": [
    "ss = {2 : \"mario\"}\n",
    "print(ss)"
   ]
  },
  {
   "cell_type": "code",
   "execution_count": 148,
   "id": "49ba1c0f",
   "metadata": {},
   "outputs": [
    {
     "ename": "TypeError",
     "evalue": "unhashable type: 'list'",
     "output_type": "error",
     "traceback": [
      "\u001b[1;31m---------------------------------------------------------------------------\u001b[0m",
      "\u001b[1;31mTypeError\u001b[0m                                 Traceback (most recent call last)",
      "Cell \u001b[1;32mIn[148], line 1\u001b[0m\n\u001b[1;32m----> 1\u001b[0m ss \u001b[38;5;241m=\u001b[39m {[\u001b[38;5;241m2\u001b[39m] : \u001b[38;5;124m\"\u001b[39m\u001b[38;5;124mmario\u001b[39m\u001b[38;5;124m\"\u001b[39m}\n\u001b[0;32m      2\u001b[0m \u001b[38;5;28mprint\u001b[39m(ss)\n",
      "\u001b[1;31mTypeError\u001b[0m: unhashable type: 'list'"
     ]
    }
   ],
   "source": [
    "ss = {[2] : \"mario\"}\n",
    "print(ss)\n",
    "# 에러\n",
    "# 리스트는 변할수 있으므로 딕셔너리에 들어가지 못함"
   ]
  },
  {
   "cell_type": "code",
   "execution_count": 151,
   "id": "304b9799",
   "metadata": {},
   "outputs": [
    {
     "name": "stdout",
     "output_type": "stream",
     "text": [
      "{2: 'mario'}\n"
     ]
    }
   ],
   "source": [
    "ss = {(2) : \"mario\"}\n",
    "print(ss)\n",
    "# 튜플은 불변의 성질을 가지므로 딕셔너리의 키값으로 사용 가능"
   ]
  },
  {
   "cell_type": "code",
   "execution_count": 156,
   "id": "eb508483",
   "metadata": {},
   "outputs": [],
   "source": [
    "# 딕셔너리 자료 구조에서 key 값은 변하지 않는 데이터가 들어와야 한다.\n",
    "# 그래서 key 값에 [] 리스트 자료 구조가 들어오게 되면 에러가 발생한다.\n",
    "# 리스트 자료구조는 변하는(mutable한) 존재로, 변하지 않는 속성에 변하는 존재가 들어와서 에러를 일으킨다.\n",
    "\n",
    "# 반면 튜플 자료구조는 불변의 자료구조로 딕셔너리 key 값의 요건에 부합하므로 문제없이 사용 가능하다."
   ]
  },
  {
   "cell_type": "code",
   "execution_count": 157,
   "id": "e1d828fc",
   "metadata": {},
   "outputs": [
    {
     "data": {
      "text/plain": [
       "{'apple': 2, 'banana': 3, 'cherry': 5}"
      ]
     },
     "execution_count": 157,
     "metadata": {},
     "output_type": "execute_result"
    }
   ],
   "source": [
    "my_dict = {'apple': 2, 'banana': 3}\n",
    "my_dict['cherry'] = 5\n",
    "\n",
    "my_dict\n",
    "\n",
    "# 머신러닝 - 분류와 예측\n",
    "\n",
    "# *args - 리스트형태\n",
    "# **kwargs - 딕셔너리 형태"
   ]
  }
 ],
 "metadata": {
  "kernelspec": {
   "display_name": "Python 3 (ipykernel)",
   "language": "python",
   "name": "python3"
  },
  "language_info": {
   "codemirror_mode": {
    "name": "ipython",
    "version": 3
   },
   "file_extension": ".py",
   "mimetype": "text/x-python",
   "name": "python",
   "nbconvert_exporter": "python",
   "pygments_lexer": "ipython3",
   "version": "3.11.5"
  }
 },
 "nbformat": 4,
 "nbformat_minor": 5
}
