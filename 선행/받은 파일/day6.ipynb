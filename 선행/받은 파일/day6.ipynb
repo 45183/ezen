{
 "cells": [
  {
   "cell_type": "code",
   "execution_count": 1,
   "id": "f32e8151",
   "metadata": {},
   "outputs": [
    {
     "name": "stdout",
     "output_type": "stream",
     "text": [
      "Player 1 - Name: Necro, Health: 88, Skill: Bomb\n",
      "Player 2 - Name: Alice, Health: 100, Skill: Fireball\n",
      "Player 1 - Name: Necro, Health: 78, Skill: Bomb\n",
      "Player 2 - Name: Alice, Health: 100, Skill: Ice Beam\n"
     ]
    }
   ],
   "source": [
    "# 각 플레이어 객체를 개별적으로 정의\n",
    "player1_name = \"Necro\"\n",
    "player1_health = 88\n",
    "player1_skill = \"Bomb\"\n",
    "\n",
    "player2_name = \"Alice\"\n",
    "player2_health = 100\n",
    "player2_skill = \"Fireball\"\n",
    "\n",
    "# 각 플레이어 정보 출력\n",
    "print(f\"Player 1 - Name: {player1_name}, Health: {player1_health}, Skill: {player1_skill}\")\n",
    "print(f\"Player 2 - Name: {player2_name}, Health: {player2_health}, Skill: {player2_skill}\")\n",
    "\n",
    "# 플레이어 속성 변경\n",
    "player1_health -= 10\n",
    "player2_skill = \"Ice Beam\"\n",
    "\n",
    "# 수정된 정보 출력\n",
    "print(f\"Player 1 - Name: {player1_name}, Health: {player1_health}, Skill: {player1_skill}\")\n",
    "print(f\"Player 2 - Name: {player2_name}, Health: {player2_health}, Skill: {player2_skill}\")"
   ]
  },
  {
   "cell_type": "code",
   "execution_count": 2,
   "id": "dc4ed84c",
   "metadata": {},
   "outputs": [
    {
     "name": "stdout",
     "output_type": "stream",
     "text": [
      "Hi, I'm Necro. I have 88 health and my skill is Bomb.\n",
      "Hi, I'm Alice. I have 100 health and my skill is Fireball.\n",
      "Alice uses Fireball skill!\n"
     ]
    }
   ],
   "source": [
    "class Player:\n",
    "    def __init__(self, name, health, skill):\n",
    "        self.name = name\n",
    "        self.health = health\n",
    "        self.skill = skill\n",
    "\n",
    "    def introduce(self):\n",
    "        print(f\"Hi, I'm {self.name}. I have {self.health} health and my skill is {self.skill}.\")\n",
    "\n",
    "    def take_damage(self, damage):\n",
    "        self.health -= damage\n",
    "\n",
    "    def use_skill(self):\n",
    "        print(f\"{self.name} uses {self.skill} skill!\")\n",
    "\n",
    "# 플레이어 객체 생성\n",
    "player1 = Player(\"Necro\", 88, \"Bomb\")\n",
    "player2 = Player(\"Alice\", 100, \"Fireball\")\n",
    "\n",
    "# 플레이어 속성 확인\n",
    "player1.introduce()\n",
    "player2.introduce()\n",
    "\n",
    "# 플레이어가 공격 받음\n",
    "player1.take_damage(10)\n",
    "\n",
    "# 스킬 사용\n",
    "player2.use_skill()"
   ]
  },
  {
   "cell_type": "code",
   "execution_count": 7,
   "id": "87b3cf89",
   "metadata": {},
   "outputs": [
    {
     "name": "stdout",
     "output_type": "stream",
     "text": [
      "개발할거 빼먹었어요\n",
      "Meow!\n",
      "Quack!\n"
     ]
    }
   ],
   "source": [
    "class Animal:\n",
    "    def speak(self):\n",
    "        return \"개발할거 빼먹었어요\"\n",
    "\n",
    "class Dog(Animal):\n",
    "    pass\n",
    "#     def speak(self):\n",
    "#         return \"Woof!\"\n",
    "\n",
    "class Cat(Animal):\n",
    "    def speak1(self):\n",
    "        return \"Meow!\"\n",
    "\n",
    "class Duck(Animal):\n",
    "    def speak2(self):\n",
    "        return \"Quack!\"\n",
    "\n",
    "# Animal 타입의 리스트에 다양한 동물 객체 저장\n",
    "animals = [Dog(), Cat(), Duck()]\n",
    "\n",
    "# 모든 동물들의 소리 출력\n",
    "for animal in animals:\n",
    "    print(animal.speak())"
   ]
  },
  {
   "cell_type": "code",
   "execution_count": 17,
   "id": "8f13cf0f",
   "metadata": {},
   "outputs": [
    {
     "data": {
      "text/plain": [
       "1000"
      ]
     },
     "execution_count": 17,
     "metadata": {},
     "output_type": "execute_result"
    }
   ],
   "source": [
    "class BankAccount:\n",
    "    def __init__(self, balance):\n",
    "        self.__balance = balance  # __로 시작하는 변수는 비공개\n",
    "\n",
    "    def balance_show(self):   \n",
    "        k = self.__balance\n",
    "        return k\n",
    "    def deposit(self, amount):\n",
    "        if amount > 0:\n",
    "            self.__balance += amount\n",
    "\n",
    "    def withdraw(self, amount):\n",
    "        if amount > 0 and amount <= self.__balance:\n",
    "            self.__balance -= amount\n",
    "        else:\n",
    "            print(\"Insufficient funds!\")\n",
    "\n",
    "    def get_balance(self):\n",
    "        return self.__balance\n",
    "\n",
    "account = BankAccount(1000)\n",
    "#account.balance\n",
    "account.balance_show()\n",
    "# account.deposit(500)\n",
    "# account.withdraw(200)\n",
    "# print(\"Balance:\", account.get_balance())  # \"Balance: 1300\""
   ]
  },
  {
   "cell_type": "code",
   "execution_count": 18,
   "id": "5f409d25",
   "metadata": {},
   "outputs": [
    {
     "name": "stdout",
     "output_type": "stream",
     "text": [
      "5\n"
     ]
    }
   ],
   "source": [
    "num = -5\n",
    "abs_num = abs(num)\n",
    "print(abs_num)  # 5"
   ]
  },
  {
   "cell_type": "code",
   "execution_count": 19,
   "id": "25e9d835",
   "metadata": {},
   "outputs": [
    {
     "name": "stdout",
     "output_type": "stream",
     "text": [
      "False\n"
     ]
    }
   ],
   "source": [
    "numbers = [True, True, False, True]\n",
    "result = all(numbers)\n",
    "print(result)  # False"
   ]
  },
  {
   "cell_type": "code",
   "execution_count": 20,
   "id": "61ef0e38",
   "metadata": {},
   "outputs": [
    {
     "name": "stdout",
     "output_type": "stream",
     "text": [
      "True\n"
     ]
    }
   ],
   "source": [
    "numbers = [False, False, True, False]\n",
    "result = any(numbers)\n",
    "print(result)  # True"
   ]
  },
  {
   "cell_type": "code",
   "execution_count": 21,
   "id": "d78433d0",
   "metadata": {},
   "outputs": [
    {
     "name": "stdout",
     "output_type": "stream",
     "text": [
      "A\n"
     ]
    }
   ],
   "source": [
    "char = chr(65)\n",
    "print(char)  # 'A'"
   ]
  },
  {
   "cell_type": "code",
   "execution_count": 27,
   "id": "6094bbbf",
   "metadata": {},
   "outputs": [
    {
     "ename": "NameError",
     "evalue": "name 'sort' is not defined",
     "output_type": "error",
     "traceback": [
      "\u001b[1;31m---------------------------------------------------------------------------\u001b[0m",
      "\u001b[1;31mNameError\u001b[0m                                 Traceback (most recent call last)",
      "Cell \u001b[1;32mIn[27], line 1\u001b[0m\n\u001b[1;32m----> 1\u001b[0m \u001b[38;5;28mprint\u001b[39m(\u001b[38;5;28mdir\u001b[39m(sort()))\n",
      "\u001b[1;31mNameError\u001b[0m: name 'sort' is not defined"
     ]
    }
   ],
   "source": [
    "\n",
    "print(dir(list))"
   ]
  },
  {
   "cell_type": "code",
   "execution_count": 28,
   "id": "819fbf19",
   "metadata": {},
   "outputs": [
    {
     "name": "stdout",
     "output_type": "stream",
     "text": [
      "[(0, 'apple'), (1, 'banana'), (2, 'cherry')]\n"
     ]
    }
   ],
   "source": [
    "fruits = ['apple', 'banana', 'cherry']\n",
    "enum_fruits = list(enumerate(fruits))\n",
    "print(enum_fruits)\n"
   ]
  },
  {
   "cell_type": "code",
   "execution_count": 29,
   "id": "def0c657",
   "metadata": {},
   "outputs": [
    {
     "name": "stdout",
     "output_type": "stream",
     "text": [
      "5\n"
     ]
    }
   ],
   "source": [
    "expression = \"2 + 3\"\n",
    "result = eval(expression)\n",
    "print(result)  # 5"
   ]
  },
  {
   "cell_type": "code",
   "execution_count": 30,
   "id": "dc709245",
   "metadata": {},
   "outputs": [
    {
     "name": "stdout",
     "output_type": "stream",
     "text": [
      "[2, 4, 6, 8]\n"
     ]
    }
   ],
   "source": [
    "numbers = [1, 2, 3, 4, 5, 6, 7, 8, 9]\n",
    "even_numbers = list(filter(lambda x: x % 2 == 0, numbers))\n",
    "print(even_numbers)"
   ]
  },
  {
   "cell_type": "code",
   "execution_count": 32,
   "id": "ba905187",
   "metadata": {},
   "outputs": [
    {
     "name": "stdout",
     "output_type": "stream",
     "text": [
      "False\n"
     ]
    }
   ],
   "source": [
    "x = 42.888888\n",
    "result = isinstance(x, int)\n",
    "print(result)"
   ]
  },
  {
   "cell_type": "code",
   "execution_count": 34,
   "id": "234fb9b6",
   "metadata": {},
   "outputs": [
    {
     "name": "stdout",
     "output_type": "stream",
     "text": [
      "[32, 2, 3, 4, 5, 6, 7, 74]\n"
     ]
    }
   ],
   "source": [
    "#중복된 데이터 제거할 때\n",
    "\n",
    "xx = [2,2,2,2,2,2,2,3,3,4,4,5,6,6,7,74,3,32,3,6,6] #중복된 데이터가 존재\n",
    "x = set(xx) #집합형 자료구조로 변환 (중복을 허용하지 않는 비순서 자료구조)\n",
    "y = list(x) # 리스트 자료구조로 원복\n",
    "print(y)"
   ]
  },
  {
   "cell_type": "code",
   "execution_count": 35,
   "id": "3dcb4ab0",
   "metadata": {},
   "outputs": [
    {
     "name": "stdout",
     "output_type": "stream",
     "text": [
      "9\n"
     ]
    }
   ],
   "source": [
    "numbers = [5, 2, 8, 1, 9]\n",
    "max_num = max(numbers)\n",
    "print(max_num)"
   ]
  },
  {
   "cell_type": "code",
   "execution_count": 36,
   "id": "85637ca4",
   "metadata": {},
   "outputs": [
    {
     "name": "stdout",
     "output_type": "stream",
     "text": [
      "8\n"
     ]
    }
   ],
   "source": [
    "result = pow(2, 3)\n",
    "print(result)"
   ]
  },
  {
   "cell_type": "code",
   "execution_count": 37,
   "id": "2b9c584a",
   "metadata": {},
   "outputs": [
    {
     "name": "stdout",
     "output_type": "stream",
     "text": [
      "3.14\n"
     ]
    }
   ],
   "source": [
    "value = 3.14159\n",
    "rounded = round(value, 2)\n",
    "print(rounded)"
   ]
  },
  {
   "cell_type": "code",
   "execution_count": 38,
   "id": "5d3fada0",
   "metadata": {},
   "outputs": [
    {
     "name": "stdout",
     "output_type": "stream",
     "text": [
      "[1, 1, 2, 3, 3, 4, 5, 5, 5, 6, 9]\n"
     ]
    }
   ],
   "source": [
    "numbers = [3, 1, 4, 1, 5, 9, 2, 6, 5, 3, 5]\n",
    "sorted_numbers = sorted(numbers)\n",
    "print(sorted_numbers)"
   ]
  },
  {
   "cell_type": "code",
   "execution_count": 41,
   "id": "916b5bc1",
   "metadata": {},
   "outputs": [
    {
     "name": "stdout",
     "output_type": "stream",
     "text": [
      "42\n"
     ]
    },
    {
     "data": {
      "text/plain": [
       "'4288'"
      ]
     },
     "execution_count": 41,
     "metadata": {},
     "output_type": "execute_result"
    }
   ],
   "source": [
    "num = 42\n",
    "num_str = str(num)\n",
    "print(num_str)\n",
    "\n",
    "c = \"88\"\n",
    "num_str + c"
   ]
  },
  {
   "cell_type": "code",
   "execution_count": 44,
   "id": "47eab7db",
   "metadata": {},
   "outputs": [
    {
     "name": "stdout",
     "output_type": "stream",
     "text": [
      "<class 'str'>\n"
     ]
    }
   ],
   "source": [
    "x = '42.8'\n",
    "data_type = type(x)\n",
    "print(data_type)"
   ]
  },
  {
   "cell_type": "code",
   "execution_count": 57,
   "id": "1424f469",
   "metadata": {},
   "outputs": [
    {
     "name": "stdout",
     "output_type": "stream",
     "text": [
      "오프라인 스터디 모임 날짜는 매월 25일로 선정되었습니다.\n"
     ]
    }
   ],
   "source": [
    "\"\"\"\n",
    "quiz) 당신은 최근 코딩 스터디 모임을 새로 만들었습니다.\n",
    "월 4회 스터디를 하는데 3번은 온라인으로 1번은 오프라인으로 하기로 했습니다.\n",
    "아래 조건에 맞는 오프라인 모임날짜를 정해주는 프로그램을 작성하시오\n",
    "조건1: 랜덤으로 날짜뽑기\n",
    "조건2: 월별 날짜가 다름을 감안하여 최소28일 이내로 정함\n",
    "조건3: 매월 1~3일은 스터디준비를 해야하므로 제외\n",
    "출력 예제:\n",
    "오프라인 스터디 모임 날짜는 매월 x일로 선정되었습니다.\n",
    "\"\"\"\n",
    "#추가질문: 무작위로 추출한 스터디 날짜를 고정하려면?\n",
    "from random import seed\n",
    "seed(999)\n",
    "date = randint(4,28)\n",
    "print(\"오프라인 스터디 모임 날짜는 매월 %d일로 선정되었습니다.\" % date)"
   ]
  },
  {
   "cell_type": "code",
   "execution_count": 59,
   "id": "620449bc",
   "metadata": {},
   "outputs": [
    {
     "name": "stdout",
     "output_type": "stream",
     "text": [
      "naver\n",
      "nav51!\n"
     ]
    }
   ],
   "source": [
    "\"\"\"\n",
    "quiz) 사이트별로 비밀번호를 만들어 주는 프로그램을 작성하시오\n",
    "\n",
    "예) http://naver.com\n",
    "조건1: http:// 부분 제외 --> naver.com\n",
    "조건2: 점 이후 부분 제외 --> naver\n",
    "조건3: 남은 글자 중 처음 세자리 + 글자 개수 + 글자 내 'e' 개수 + \"!\"로 비번 만들기\n",
    "            nav                   5                   1           !\n",
    "예) 생성된 비번: nav51!\n",
    "요렇게 결과출력 부탁합니다. --> \"~~의 비번은 ~~~입니다\"\n",
    "\"\"\"\n",
    "\n",
    "url = \"http://naver.com\"\n",
    "my_str = url[7:12]\n",
    "print(my_str)\n",
    "password = my_str[:3] + str(len(my_str)) + str(my_str.count('e')) + \"!\"\n",
    "print(password)"
   ]
  },
  {
   "cell_type": "code",
   "execution_count": 60,
   "id": "6428791a",
   "metadata": {},
   "outputs": [
    {
     "name": "stdout",
     "output_type": "stream",
     "text": [
      "{2: 'mario'}\n"
     ]
    }
   ],
   "source": [
    "\"\"\"\n",
    "딕셔너리 자료구조에서 key 값은 변하지 않는 데이터가 들어와야 한다.\n",
    "그래서 key 값에 [] 리스트 자료구조가 들어오게 되면 에러가 난다.\n",
    "리스트 자료구조는 변하는(mutable)한 존재로, 변하지 않는 속성에 \n",
    "변하는 존재가 들어와서 에러를 일으킨다.\n",
    "\n",
    "반면 튜플 자료구조는 불변의 자료구조로 딕셔너리 key값의 요건에 부합하므로\n",
    "문제없이 사용 가능하다.\n",
    "\n",
    "\"\"\" \n",
    "ss = {2: \"mario\"}\n",
    "print(ss)"
   ]
  },
  {
   "cell_type": "code",
   "execution_count": 61,
   "id": "ad172c64",
   "metadata": {},
   "outputs": [
    {
     "ename": "TypeError",
     "evalue": "unhashable type: 'list'",
     "output_type": "error",
     "traceback": [
      "\u001b[1;31m---------------------------------------------------------------------------\u001b[0m",
      "\u001b[1;31mTypeError\u001b[0m                                 Traceback (most recent call last)",
      "Cell \u001b[1;32mIn[61], line 1\u001b[0m\n\u001b[1;32m----> 1\u001b[0m ss \u001b[38;5;241m=\u001b[39m {[\u001b[38;5;241m2\u001b[39m]: \u001b[38;5;124m\"\u001b[39m\u001b[38;5;124mmario\u001b[39m\u001b[38;5;124m\"\u001b[39m}\n\u001b[0;32m      2\u001b[0m \u001b[38;5;28mprint\u001b[39m(ss)\n",
      "\u001b[1;31mTypeError\u001b[0m: unhashable type: 'list'"
     ]
    }
   ],
   "source": [
    "# 이런식으로 에러가 난다.\n",
    "ss = {[2]: \"mario\"}\n",
    "print(ss)"
   ]
  },
  {
   "cell_type": "code",
   "execution_count": null,
   "id": "3af01031",
   "metadata": {},
   "outputs": [],
   "source": [
    "#튜플은 에러없이 수용이 된다.\n",
    "\n",
    "ss = {(2): \"mario\"}\n",
    "print(ss)"
   ]
  },
  {
   "cell_type": "code",
   "execution_count": 63,
   "id": "0d243177",
   "metadata": {},
   "outputs": [
    {
     "data": {
      "text/plain": [
       "{'apple': 2, 'banana': 3, 'cherry': 5}"
      ]
     },
     "execution_count": 63,
     "metadata": {},
     "output_type": "execute_result"
    }
   ],
   "source": [
    "my_dict = {'apple': 2, 'banana': 3}\n",
    "my_dict['cherry'] = 5\n",
    "# my_dict는 {'apple': 2, 'banana': 3, 'cherry': 5}\n",
    "my_dict"
   ]
  },
  {
   "cell_type": "code",
   "execution_count": 64,
   "id": "23d319fb",
   "metadata": {},
   "outputs": [],
   "source": [
    "my_dict = {'apple': 2, 'banana': 3, 'cherry': 5}\n",
    "del my_dict['banana']\n",
    "# my_dict는 {'apple': 2, 'cherry': 5}"
   ]
  },
  {
   "cell_type": "code",
   "execution_count": 67,
   "id": "98e3b55e",
   "metadata": {},
   "outputs": [
    {
     "data": {
      "text/plain": [
       "6"
      ]
     },
     "execution_count": 67,
     "metadata": {},
     "output_type": "execute_result"
    }
   ],
   "source": [
    "def calculate(a, b, c):\n",
    "    return a + b + c \n",
    "    return ((a*b)**c)\n",
    "\n",
    "result = calculate(1, 2, 3)\n",
    "result"
   ]
  },
  {
   "cell_type": "code",
   "execution_count": 66,
   "id": "b7ab956b",
   "metadata": {},
   "outputs": [
    {
     "data": {
      "text/plain": [
       "(6, 8)"
      ]
     },
     "execution_count": 66,
     "metadata": {},
     "output_type": "execute_result"
    }
   ],
   "source": [
    "def calculate(a, b, c):\n",
    "    return a + b + c, ((a*b)**c)\n",
    "\n",
    "result = calculate(1, 2, 3)\n",
    "result\n"
   ]
  },
  {
   "cell_type": "code",
   "execution_count": 69,
   "id": "01fa29c2",
   "metadata": {},
   "outputs": [
    {
     "name": "stdout",
     "output_type": "stream",
     "text": [
      "1\n",
      "2\n",
      "4\n",
      "5\n"
     ]
    }
   ],
   "source": [
    "numbers = [1, 2, 3, 4, 5]\n",
    "for number in numbers:\n",
    "    if number == 3:\n",
    "        continue\n",
    "    print(number)"
   ]
  },
  {
   "cell_type": "code",
   "execution_count": null,
   "id": "17247f74",
   "metadata": {},
   "outputs": [],
   "source": []
  }
 ],
 "metadata": {
  "kernelspec": {
   "display_name": "Python 3 (ipykernel)",
   "language": "python",
   "name": "python3"
  },
  "language_info": {
   "codemirror_mode": {
    "name": "ipython",
    "version": 3
   },
   "file_extension": ".py",
   "mimetype": "text/x-python",
   "name": "python",
   "nbconvert_exporter": "python",
   "pygments_lexer": "ipython3",
   "version": "3.11.5"
  }
 },
 "nbformat": 4,
 "nbformat_minor": 5
}
