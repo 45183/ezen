{
 "cells": [
  {
   "cell_type": "code",
   "execution_count": null,
   "id": "8bddf32e",
   "metadata": {},
   "outputs": [],
   "source": [
    "# library 생성 예제\n",
    "\n",
    "\n",
    "def profit_calc(revenue, cost, tax, dividend):\n",
    "    x = (revenue - cost) * (1 - tax) - dividend\n",
    "    return x\n",
    "\n",
    "def revenue_breakdown(revenue, chicken, pizza, sause):\n",
    "    y = chicken / revenue\n",
    "    z = pizza / revenue\n",
    "    r = sause / revenue\n",
    "    error_chk = (chicken + pizza + sause) / revenue\n",
    "    return y, z, r, error_chk\n",
    "\n",
    "profit_calc(10000, 1000, 0.22, 400)\n",
    "revenue_breakdown(10000, 5000, 4000, 1000)\n",
    "\n",
    "#if __name__ == \"__main__\":\n",
    "\n"
   ]
  },
  {
   "cell_type": "code",
   "execution_count": null,
   "id": "67b0dc39",
   "metadata": {},
   "outputs": [],
   "source": [
    "#파이썬에서 파일을 생성하는 법\n",
    "\n",
    "file = open(\"이젠aws.txt\", \"w\") #파일을 새로 생성하며 파일을 엽니다.\n",
    "file.write(\"Hello, World_aws!\") # 열린 파일에 원하는 메세지 입력\n",
    "file.close()  # 파일을 생성 후 닫음"
   ]
  },
  {
   "cell_type": "code",
   "execution_count": null,
   "id": "6763470e",
   "metadata": {},
   "outputs": [],
   "source": [
    "# for 문을 사용하여 예제와 같은 메세지를 txt파일내에 저장해 주세요\n",
    "f = open(\"./이젠aws.txt\", \"w\") # ./의 뜻은 작업하는 현재폴더란 말입니다.\n",
    "for i in range(1,11):\n",
    "    data = \"%d 번째 줄입니다.\\n\" % i\n",
    "    f.write(data)\n",
    "f.close()"
   ]
  },
  {
   "cell_type": "code",
   "execution_count": null,
   "id": "b617df11",
   "metadata": {},
   "outputs": [],
   "source": [
    "f = open(\"./이젠aws.txt\", \"r\") #open 뒤에 r 이란 말은 파일을 읽는단 말입니다.\n",
    "while True :\n",
    "    line = f.readline() # 파일의 내용을 한줄씩 읽습니다.\n",
    "    if not line : #파일의 내용이 더이상 존재하지 않는다면 강제종료 합니다.\n",
    "        break\n",
    "    print(line) #읽은 내용을 출력합니다.\n",
    "f.close()"
   ]
  },
  {
   "cell_type": "code",
   "execution_count": null,
   "id": "08f9e686",
   "metadata": {},
   "outputs": [],
   "source": [
    "f = open(\"./이젠aws.txt\", \"r\")\n",
    "lines = f.readlines() # 모든 라인을 읽어서 각각의 줄을 요소로 갖는 리스트 리턴\n",
    "print(lines)\n",
    "# for line in lines :\n",
    "#     print(line)\n",
    "f.close()"
   ]
  },
  {
   "cell_type": "code",
   "execution_count": null,
   "id": "edcdbb80",
   "metadata": {},
   "outputs": [],
   "source": [
    "f = open(\"./이젠aws.txt\", \"r\")\n",
    "data = f.read() # 파일 내용의 전체를 문자열로 리턴\n",
    "print(data)\n",
    "f.close()"
   ]
  },
  {
   "cell_type": "code",
   "execution_count": null,
   "id": "af5d3080",
   "metadata": {},
   "outputs": [],
   "source": [
    "# for 문을 사용하여 예제와 같은 메세지를 txt파일내에 저장해 주세요\n",
    "f = open(\"./이젠aws.txt\", \"w\") # ./의 뜻은 작업하는 현재폴더란 말입니다.\n",
    "for i in range(1,11):\n",
    "    data = \"%d 번째 줄입니다.\\n\" % i\n",
    "    f.write(data)\n",
    "f.close()"
   ]
  },
  {
   "cell_type": "code",
   "execution_count": null,
   "id": "5aadf330",
   "metadata": {},
   "outputs": [],
   "source": [
    "# for 문을 사용하여 '11 ~ 20 번째 줄입니다.' 메세지를 추가해 주세요.\n",
    "f = open(\"./이젠aws.txt\", \"a\")\n",
    "for i in range(11, 21) :\n",
    "    data = '%d번째 줄입니다.\\n' % i\n",
    "    f.write(data)\n",
    "f.close()"
   ]
  },
  {
   "cell_type": "code",
   "execution_count": null,
   "id": "74dd8336",
   "metadata": {},
   "outputs": [],
   "source": [
    "# with문과 함께 사용하기\n",
    "# 지금 까지의 방식\n",
    "f = open('./foo.txt', 'w')\n",
    "f.write('Life is too short, you need python')\n",
    "f.close()"
   ]
  },
  {
   "cell_type": "code",
   "execution_count": null,
   "id": "9d2a6513",
   "metadata": {},
   "outputs": [],
   "source": [
    "# with 블록을 벗어나는 순간 f가 자동으로 close()\n",
    "with open('./foo.txt', 'w') as f :\n",
    "    f.write('Life is too short, you need python')"
   ]
  },
  {
   "cell_type": "code",
   "execution_count": null,
   "id": "501f7630",
   "metadata": {},
   "outputs": [],
   "source": [
    "# 두개의 인풋값을 받아서 결과를 더하는 함수를 만드세요\n",
    "# 첫째 인풋에 6넣고 둘째인풋에 7 넣으면 13나오게 만들어 주세요\n",
    "input1 = input('입력값 1:')\n",
    "input2 = input('입력값 2:')\n",
    "\n",
    "def sum_tot(input1, input2):\n",
    "    total = int(input1) + int(input2)  \n",
    "    # input함수로 받는데이터는 문자열이다\n",
    "    return total\n",
    "\n",
    "print(sum_tot(input1, input2))\n",
    "\n"
   ]
  },
  {
   "cell_type": "code",
   "execution_count": null,
   "id": "c9ab3a38",
   "metadata": {},
   "outputs": [],
   "source": [
    "# 한 프로그램에서 2개의 계산기가 필요한 상황\n",
    "result1 = 0\n",
    "result2 = 0\n",
    "\n",
    "def adder1(num) :\n",
    "    global result1\n",
    "    result1 += num\n",
    "    return result1\n",
    "def adder2(num) :\n",
    "    global result2\n",
    "    result2 += num\n",
    "    return result2\n",
    "\n",
    "print(adder1(3)) # 3\n",
    "print(adder1(4)) # 7\n",
    "print(adder2(3)) # 3\n",
    "print(adder2(7)) # 10"
   ]
  },
  {
   "cell_type": "code",
   "execution_count": null,
   "id": "7b6cab91",
   "metadata": {},
   "outputs": [],
   "source": [
    "# 클래스 이용\n",
    "class Calculator :\n",
    "    def __init__(self) :  #클래스를 실행하면 무적권 실행되는 블럭 - 생성자\n",
    "        self.result = 0\n",
    "\n",
    "    def adder(self, num) : #클래스 내부 더하기 함수 \n",
    "        self.result += num  # 누적 더하기\n",
    "        return self.result\n",
    "\n",
    "cal1 = Calculator() #클래스를 실행해서 cal1이라는 객체를 생성\n",
    "cal2 = Calculator() #클래스를 실행해서 cal2이라는 객체를 생성\n",
    "cal3 = Calculator() \n",
    "cal4 = Calculator() \n",
    "cal5 = Calculator() \n",
    "cal6 = Calculator() \n",
    "\n",
    "print(cal1.adder(3)) # 3  #cal1객체에서 adder라는 함수를 불러서 3을 더함\n",
    "print(cal1.adder(4)) # 7  #cal1객체에서 adder라는 함수를 불러서 4을 더함 누적은 7\n",
    "print(cal2.adder(3)) # 3\n",
    "print(cal2.adder(7)) # 10\n",
    "print(cal3.adder(3)) # 3  #cal1객체에서 adder라는 함수를 불러서 3을 더함\n",
    "print(cal3.adder(4)) # 7  #cal1객체에서 adder라는 함수를 불러서 4을 더함 누적은 7\n",
    "print(cal4.adder(3)) # 3\n",
    "print(cal4.adder(7)) # 10\n",
    "print(cal5.adder(3)) # 3  #cal1객체에서 adder라는 함수를 불러서 3을 더함\n",
    "print(cal5.adder(4)) # 7  #cal1객체에서 adder라는 함수를 불러서 4을 더함 누적은 7\n",
    "print(cal6.adder(3)) # 3\n",
    "print(cal6.adder(7)) # 10"
   ]
  },
  {
   "cell_type": "code",
   "execution_count": null,
   "id": "21407ad8",
   "metadata": {},
   "outputs": [],
   "source": [
    "\"\"\"\n",
    "현대차기업이라 생각\n",
    "# 클래스 사용 방법은 \n",
    "1. 클래스를 만들고 생성자를 사용하여 초기 조건을 지정한다.\n",
    "2. 클래스 내부에 하위 함수를 구현하여 사용하고싶은 함수를 만든다.\n",
    "3. 만든 클래스를 호출하여 지정한 변수에 부여하여 객체를 형성한다.\n",
    "4. 생성된 객체는 자유롭게 하위 함수를 호출하여 원하는 작업을 한다.\n",
    "\"\"\"\n",
    "class Car:\n",
    "    def __init__(self, model1, color1, speed1):\n",
    "        self.model = model1\n",
    "        self.color = color1\n",
    "        self.speed = speed1\n",
    "\n",
    "    def start(self):\n",
    "        print(f\"{self.color} {self.model}이 출발합니다.\")\n",
    "\n",
    "        \n",
    "car1 = Car(\"Sedan\", \"Blue\", 100)\n",
    "car2 = Car(\"SUV\", \"Red\", 120)\n",
    "\n",
    "car1.start()\n",
    "car2.start()"
   ]
  },
  {
   "cell_type": "code",
   "execution_count": null,
   "id": "b5cd9121",
   "metadata": {},
   "outputs": [],
   "source": [
    "class Person:\n",
    "    def __init__(self, name, age):\n",
    "        self.name = name\n",
    "        self.age = age\n",
    "\n",
    "    def greet(self):\n",
    "        print(f\"안녕, 나는 {self.name}이고, {self.age}살이야.\")\n",
    "\n",
    "person1 = Person(\"Alice\", 30)\n",
    "person2 = Person(\"Bob\", 25)\n",
    "\n",
    "person1.greet()\n",
    "person2.greet()"
   ]
  },
  {
   "cell_type": "code",
   "execution_count": null,
   "id": "1c0b188c",
   "metadata": {},
   "outputs": [],
   "source": [
    "#생성자가 없는 경우\n",
    "# 클래스 하위 함수인 set_name, set_age는 초기 강아지 정보를 부르는 함수이다.\n",
    "# 생성자가 없다면 클래스 자체를 부른 후에 \n",
    "#  클래스 내부 하위 함수를 통해 정보를 2단계로 읽어야한다.\n",
    "class Dog:\n",
    "    def set_name(self, name):\n",
    "        self.name = name\n",
    "\n",
    "    def set_age(self, age):\n",
    "        self.age = age\n",
    "\n",
    "    def bark(self):\n",
    "        print(f\"{self.name} is barking!\")\n",
    "\n",
    "# Dog 클래스의 인스턴스 생성\n",
    "dog1 = Dog()\n",
    "dog2 = Dog()\n",
    "\n",
    "# 각 개의 이름과 나이 설정\n",
    "dog1.set_name(\"Buddy\")\n",
    "dog1.set_age(3)\n",
    "\n",
    "dog2.set_name(\"Milo\")\n",
    "dog2.set_age(2)\n",
    "\n",
    "# 개의 정보 출력\n",
    "print(f\"{dog1.name} is {dog1.age} years old.\")\n",
    "print(f\"{dog2.name} is {dog2.age} years old.\")\n",
    "\n",
    "# 개의 짖는 소리 출력\n",
    "dog1.bark()\n",
    "dog2.bark()"
   ]
  },
  {
   "cell_type": "code",
   "execution_count": null,
   "id": "3eb03305",
   "metadata": {},
   "outputs": [],
   "source": [
    "# 생성자 예제와 블로그 방금 예제를 합쳐서 생성자를 사용하는 예제로 만드세요\n",
    "# 생성자가 있을때와 없을 때 객체생성과 함수호출이 어떻게 달라질까요?\n",
    "\n",
    "class Dog:\n",
    "    def __init__(self, name, age):\n",
    "        self.name = name\n",
    "        self.age = age\n",
    "\n",
    "    def bark(self):\n",
    "        print(f\"{self.name} is barking!\")\n",
    "\n",
    "# Dog 클래스의 인스턴스 생성\n",
    "dog1 = Dog(\"Buddy\", 3)\n",
    "dog2 = Dog(\"Milo\", 2)\n",
    "\n",
    "# 개의 정보 출력\n",
    "print(f\"{dog1.name} is {dog1.age} years old.\")\n",
    "print(f\"{dog2.name} is {dog2.age} years old.\")\n",
    "\n",
    "# 개의 짖는 소리 출력\n",
    "dog1.bark()\n",
    "dog2.bark()"
   ]
  },
  {
   "cell_type": "code",
   "execution_count": null,
   "id": "dc4cdd7c",
   "metadata": {},
   "outputs": [],
   "source": [
    "class Fourcal:\n",
    "    def __init__(self, first, second):  # 생성자: 클래스 실행 시 항상실행되는 메서드(함수)\n",
    "        self.first = first\n",
    "        self.second = second\n",
    "    def add(self):\n",
    "        result = self.first + self.second\n",
    "        return result\n",
    "    def sub(self):\n",
    "        result = self.first - self.second\n",
    "        return result\n",
    "    def div(self):\n",
    "        result = self.first / self.second\n",
    "        return result    \n",
    "    def mul(self):\n",
    "        result = self.first * self.second\n",
    "        return result    \n",
    "\n",
    "b = Fourcal(4,2)\n",
    "#b.setdata(4,2)\n",
    "b.add()\n",
    "b.div()"
   ]
  },
  {
   "cell_type": "code",
   "execution_count": 1,
   "id": "fb402729",
   "metadata": {},
   "outputs": [],
   "source": [
    "# 곱하기, 빼기, 나누기, 기능 만들기\n",
    "class FourCal :\n",
    "    def setdata(self, first, second) :\n",
    "        self.first = first\n",
    "        self.second = second\n",
    "\n",
    "    def sum(self) :\n",
    "        result = self.first + self.second\n",
    "        return result\n",
    "\n",
    "    def mul(self) :\n",
    "        result = self.first * self.second\n",
    "        return result\n",
    "\n",
    "    def sub(self) :\n",
    "        result = self.first - self.second\n",
    "        return result\n",
    "\n",
    "    def div(self) :\n",
    "        result = self.first / self.second\n",
    "        return result"
   ]
  },
  {
   "cell_type": "code",
   "execution_count": 3,
   "id": "25bd4563",
   "metadata": {},
   "outputs": [
    {
     "name": "stdout",
     "output_type": "stream",
     "text": [
      "2\n",
      "66\n",
      "44\n"
     ]
    }
   ],
   "source": [
    "# 클래스의 독립성 확인 예시\n",
    "f = FourCal() \n",
    "d = FourCal() \n",
    "k = FourCal() \n",
    "\n",
    "f.setdata(2,7) \n",
    "d.setdata(66,99) \n",
    "k.setdata(44,33) \n",
    "\n",
    "print(f.first )\n",
    "print(d.first)\n",
    "print(k.first)"
   ]
  },
  {
   "cell_type": "code",
   "execution_count": 4,
   "id": "8458eced",
   "metadata": {},
   "outputs": [
    {
     "name": "stdout",
     "output_type": "stream",
     "text": [
      "140723244997448\n",
      "140723244995400\n"
     ]
    }
   ],
   "source": [
    "\"\"\"\n",
    "클래스로 만든 객체의 객체변수는\n",
    "다른 객체의 객체변수와 상관없이 독립적인 값을 유지!\n",
    "id 함수는 변수의 메모리 주소를 찾는 명령어\n",
    "메모리 주소가 다르다면 독립적으로 따로 저장되어 있는 것이다.\n",
    "# id 함수를 사용해서 독립성 증명\n",
    "\"\"\" \n",
    "\n",
    "print(id(d.first))\n",
    "print(id(f.first))"
   ]
  },
  {
   "cell_type": "code",
   "execution_count": 5,
   "id": "2c0b24ba",
   "metadata": {},
   "outputs": [],
   "source": [
    "# 클래스 상속 예시\n",
    "class Fourcal:\n",
    "    lastname = \"lee\"\n",
    "    def __init__(self, first, second):  # 생성자: 클래스 실행 시 항상실행되는 메서드(함수)\n",
    "        self.first = first\n",
    "        self.second = second\n",
    "    def add(self):\n",
    "        result = self.first + self.second\n",
    "        return result\n",
    "    def sub(self):\n",
    "        result = self.first - self.second\n",
    "        return result\n",
    "    def div(self):\n",
    "        result = self.first / self.second\n",
    "        return result    \n",
    "    def mul(self):\n",
    "        result = self.first * self.second\n",
    "        return result   "
   ]
  },
  {
   "cell_type": "code",
   "execution_count": 9,
   "id": "f3568d23",
   "metadata": {},
   "outputs": [
    {
     "name": "stdout",
     "output_type": "stream",
     "text": [
      "8\n",
      "lee\n"
     ]
    }
   ],
   "source": [
    "# 상속에 대한 설명\n",
    "class Morefour(Fourcal):\n",
    "    pass\n",
    "\n",
    "\n",
    "a = Morefour(4,2) #Fourcal 부모클래스를 상속받은 Morefour 자식클래스 호출\n",
    "print(a.mul()) # 자식클래스가 부모클래스 하위 함수를 호출하여 실행\n",
    "print(Fourcal.lastname)"
   ]
  },
  {
   "cell_type": "code",
   "execution_count": null,
   "id": "7acbcb10",
   "metadata": {},
   "outputs": [],
   "source": [
    "# 부모클래스와 자식 클래스에 같은 함수 이름이 있으면 자식 클래스꺼가 돌아가고\n",
    "# 자식클래스가 호출된 함수 이름이 없는 경우 부모 클래스 함수가 돌아간다."
   ]
  }
 ],
 "metadata": {
  "kernelspec": {
   "display_name": "Python 3 (ipykernel)",
   "language": "python",
   "name": "python3"
  },
  "language_info": {
   "codemirror_mode": {
    "name": "ipython",
    "version": 3
   },
   "file_extension": ".py",
   "mimetype": "text/x-python",
   "name": "python",
   "nbconvert_exporter": "python",
   "pygments_lexer": "ipython3",
   "version": "3.11.5"
  }
 },
 "nbformat": 4,
 "nbformat_minor": 5
}
