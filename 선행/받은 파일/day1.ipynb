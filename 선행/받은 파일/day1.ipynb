{
 "cells": [
  {
   "cell_type": "code",
   "execution_count": null,
   "id": "73395f27",
   "metadata": {},
   "outputs": [],
   "source": [
    "# 데이터 형: 문자형 숫자형 - 정수, 실수\n"
   ]
  },
  {
   "cell_type": "code",
   "execution_count": null,
   "id": "1413f3fc",
   "metadata": {},
   "outputs": [],
   "source": [
    "# 정수형\n",
    "\n",
    "a = 123\n",
    "a = -178\n",
    "a = 0"
   ]
  },
  {
   "cell_type": "code",
   "execution_count": null,
   "id": "e3b24b75",
   "metadata": {},
   "outputs": [],
   "source": [
    "# 실수형\n",
    "\n",
    "a = 1.2\n",
    "a = -3.45"
   ]
  },
  {
   "cell_type": "code",
   "execution_count": 5,
   "id": "a3017b78",
   "metadata": {},
   "outputs": [
    {
     "data": {
      "text/plain": [
       "81"
      ]
     },
     "execution_count": 5,
     "metadata": {},
     "output_type": "execute_result"
    }
   ],
   "source": [
    "# 계산\n",
    "\n",
    "a = 3\n",
    "b = 4\n",
    "\n",
    "a + b\n",
    "a - b\n",
    "a * b\n",
    "a / b\n",
    "\n",
    "# 제곱은 어떻게?\n",
    "\n",
    "a ** b"
   ]
  },
  {
   "cell_type": "code",
   "execution_count": 7,
   "id": "51ca8d3f",
   "metadata": {},
   "outputs": [
    {
     "data": {
      "text/plain": [
       "1"
      ]
     },
     "execution_count": 7,
     "metadata": {},
     "output_type": "execute_result"
    }
   ],
   "source": [
    "# 나눗셈 후 나머지\n",
    "\n",
    "a % b"
   ]
  },
  {
   "cell_type": "code",
   "execution_count": 8,
   "id": "f17b45d4",
   "metadata": {},
   "outputs": [
    {
     "data": {
      "text/plain": [
       "0"
      ]
     },
     "execution_count": 8,
     "metadata": {},
     "output_type": "execute_result"
    }
   ],
   "source": [
    "# 나눗셈 후 몫\n",
    "\n",
    "a // b"
   ]
  },
  {
   "cell_type": "code",
   "execution_count": null,
   "id": "cc53e0c3",
   "metadata": {},
   "outputs": [],
   "source": [
    "# 문자열 - 큰 따옴표 혹은 작은 따옴표\n",
    "\n",
    "\"윤석열 대통령\"\n",
    "'윤석열 대통령'"
   ]
  },
  {
   "cell_type": "code",
   "execution_count": null,
   "id": "4bd9b709",
   "metadata": {},
   "outputs": [],
   "source": [
    "# 큰 따옴표 혹은 작은 따옴표 3개는 영역 코멘트 처리\n",
    "\n",
    "'''\n",
    "새로 버그가 패치된 스타2 1.23 패치가 나왔습니다.\n",
    "2023-10-11\n",
    "아직 배포하진 마세요.\n",
    "'''\n",
    "\n"
   ]
  },
  {
   "cell_type": "code",
   "execution_count": 10,
   "id": "cdd6ef7a",
   "metadata": {},
   "outputs": [
    {
     "ename": "IndentationError",
     "evalue": "unexpected indent (1721529312.py, line 3)",
     "output_type": "error",
     "traceback": [
      "\u001b[1;36m  Cell \u001b[1;32mIn[10], line 3\u001b[1;36m\u001b[0m\n\u001b[1;33m    a = \"윤석열 \"\u001b[0m\n\u001b[1;37m    ^\u001b[0m\n\u001b[1;31mIndentationError\u001b[0m\u001b[1;31m:\u001b[0m unexpected indent\n"
     ]
    }
   ],
   "source": [
    "# 문자열 연결하기\n",
    "\n",
    "a = \"윤석열 \"\n",
    "b = \"대통령\"\n",
    "\n",
    "a+b\n"
   ]
  },
  {
   "cell_type": "code",
   "execution_count": 14,
   "id": "822722ff",
   "metadata": {},
   "outputs": [
    {
     "data": {
      "text/plain": [
       "'LG전자의 이번 2023년 3분기 당기 순이익은 2조원 입니다.'"
      ]
     },
     "execution_count": 14,
     "metadata": {},
     "output_type": "execute_result"
    }
   ],
   "source": [
    "# 문자열 연결하기의 응용\n",
    "\n",
    "a = \"삼성전자\"\n",
    "b = '의 이번 2023년 3분기 당기 순이익은 2조원 입니다.'\n",
    "c = 'LG전자'\n",
    "\n",
    "a + b\n",
    "c + b"
   ]
  },
  {
   "cell_type": "code",
   "execution_count": 19,
   "id": "69d26d0b",
   "metadata": {},
   "outputs": [],
   "source": [
    "# 문자열 곱하기 - 해당 문자가 반복 출력된다.\n",
    "\n",
    "a * 3\n",
    "x = \"----\" * 10"
   ]
  },
  {
   "cell_type": "code",
   "execution_count": 21,
   "id": "8d93f82a",
   "metadata": {},
   "outputs": [
    {
     "name": "stdout",
     "output_type": "stream",
     "text": [
      "----------------------------------------\n",
      "삼성전자의 이번 2023년 3분기 당기 순이익은 2조원 입니다.\n",
      "----------------------------------------\n"
     ]
    }
   ],
   "source": [
    "# 변수의 숫자와 문자 데이터는 향후에 SQL 등의 데이터 서버에서 불러올 수 있다.\n",
    "\n",
    "\n",
    "print(x)\n",
    "print(a + b)\n",
    "print(x)"
   ]
  },
  {
   "cell_type": "code",
   "execution_count": 99,
   "id": "ba1cca23",
   "metadata": {},
   "outputs": [
    {
     "data": {
      "text/plain": [
       "'윤석열_'"
      ]
     },
     "execution_count": 99,
     "metadata": {},
     "output_type": "execute_result"
    }
   ],
   "source": [
    "# 문자의 인덱싱 - 원하는 요소를 끌어오기\n",
    "a = \"윤석열_대통령\"\n",
    "\n",
    "a[:4] #윤\n",
    "#a[1] #석\n",
    "\n",
    "#a[6] # 띄어쓰기도 글자로 인식합니다."
   ]
  },
  {
   "cell_type": "code",
   "execution_count": 28,
   "id": "6588362b",
   "metadata": {},
   "outputs": [
    {
     "data": {
      "text/plain": [
       "'윤석열 대통'"
      ]
     },
     "execution_count": 28,
     "metadata": {},
     "output_type": "execute_result"
    }
   ],
   "source": [
    "#문자의 슬라이싱 - 콜론 : 을 사용하여 범위에 속한 글자 가져오기\n",
    "\n",
    "a[:3] #4번째 글자 미만까지 가져오기\n",
    "a[:]  # 전체 다 가져오기\n",
    "# \"대통령 글자만 가져오려면?\"\n",
    "a[4:]\n",
    "# 왜 이렇게 나왔을까요? - 마지막 글자 미만\n",
    "a[:-1]"
   ]
  },
  {
   "cell_type": "code",
   "execution_count": 33,
   "id": "9857cf53",
   "metadata": {},
   "outputs": [
    {
     "data": {
      "text/plain": [
       "'윤석열'"
      ]
     },
     "execution_count": 33,
     "metadata": {},
     "output_type": "execute_result"
    }
   ],
   "source": [
    "a[:3]"
   ]
  },
  {
   "cell_type": "code",
   "execution_count": 36,
   "id": "dffa0e18",
   "metadata": {},
   "outputs": [
    {
     "name": "stdout",
     "output_type": "stream",
     "text": [
      "삼성전자 의 이번 2023년 3분기 당기 순이익은 2조원 입니다. 현재 결과는 미래를 보장해 주지는 않으니 참고하세요\n"
     ]
    }
   ],
   "source": [
    "\"\"\"  \n",
    "문자열 데이터 처리 응용\n",
    "원하는 위치에 %s, %d, %f 등을 사용해서 문자열 데이터 처리합니다. 뒤에 사용할 변수 부분에 %로 처리합니다.\n",
    "%s = 문자열 변수 넣을 때\n",
    "%d = 정수형 변수 넣을 때\n",
    "%f = 정수형 변수 넣을 때\n",
    "\"\"\"\n",
    "\n",
    "a = \"삼성전자\"\n",
    "b = '의 이번 2023년 3분기 당기 순이익은 2조원 입니다.'\n",
    "c = 'LG전자'\n",
    "d = \"현재 결과는 미래를 보장해 주지는 않으니 참고하세요\"\n",
    "\n",
    "p = '%s 의 이번 2023년 3분기 당기 순이익은 2조원 입니다. %s' %(a, d)\n",
    "print(p)"
   ]
  },
  {
   "cell_type": "code",
   "execution_count": null,
   "id": "eef9ac9b",
   "metadata": {},
   "outputs": [],
   "source": []
  },
  {
   "cell_type": "code",
   "execution_count": 45,
   "id": "72a54c98",
   "metadata": {},
   "outputs": [
    {
     "name": "stdout",
     "output_type": "stream",
     "text": [
      "삼성전자 의 이번 2023년 3분기 당기 순이익은 3조원 입니다. 현재 결과는 미래를 보장해 주지는 않으니 참고하세요\n",
      "0.2 의 이번 2023년 3분기 당기 순이익은 현재 결과는 미래를 보장해 주지는 않으니 참고하세요조원 입니다. LG전자\n"
     ]
    }
   ],
   "source": [
    "a = \"삼성전자\"\n",
    "b = '의 이번 2023년 3분기 당기 순이익은 2조원 입니다.'\n",
    "c = 'LG전자'\n",
    "d = \"현재 결과는 미래를 보장해 주지는 않으니 참고하세요\"\n",
    "e = 3\n",
    "h = 0.2\n",
    "\n",
    "p = '{} 의 이번 2023년 3분기 당기 순이익은 {}조원 입니다. {}'.format(a,e,d)\n",
    "p_2 = '{} 의 이번 2023년 3분기 당기 순이익은 {}조원 입니다. {}'.format(c,h,d)\n",
    "print(p)\n",
    "print(p_2)"
   ]
  },
  {
   "cell_type": "code",
   "execution_count": 61,
   "id": "34497d56",
   "metadata": {},
   "outputs": [
    {
     "data": {
      "text/plain": [
       "'LG전자의 이번 2023년 3분기 당기 순이익은 2조원 입니다.'"
      ]
     },
     "execution_count": 61,
     "metadata": {},
     "output_type": "execute_result"
    }
   ],
   "source": [
    "\"\"\"  \n",
    "파이썬 문자열 관련 함수\n",
    "find, index 함수는 같은기능을 하는데 에러메세지 유형이 다르다.\n",
    "find는 찾는 문자열이 없으면 -1, \n",
    "index는 찾는 문자열이 없으면 에러를 일으킨다.\n",
    "\"\"\"\n",
    "a = \"삼성전자\"\n",
    "b = '의 이번 2023년 3분기 당기 순이익은 2조원 입니다.'\n",
    "c = 'LG전자'\n",
    "d = \"현재 결과는 미래를 보장해 주지는 않으니 참고하세요...\"\n",
    "e = 3\n",
    "h = 0.2\n",
    "j = \"wElCome0000\"\n",
    "\n",
    "# 문자개수 세기 \n",
    "d.count(\"현\") #1\n",
    "d.count(\".\") #3\n",
    "\n",
    "#위치를 알려주기 find, index 함수는 같은기능을 하는데 에러메세지 유형이 다르다.\n",
    "a.find(\"현\")\n",
    "\n",
    "#문자열 삽입\n",
    "ttt = \" \"\n",
    "ttt.join(j)\n",
    "\n",
    "#대문자\n",
    "j.upper()\n",
    "\n",
    "#소문자\n",
    "j.lower()\n",
    "\n",
    "# 문자열 변환\n",
    "\n",
    "b = '삼성전자의 이번 2023년 3분기 당기 순이익은 2조원 입니다.'\n",
    "c = 'LG전자'\n",
    "\n",
    "b.replace(\"삼성전자\", \"LG디스플레이\") #고치고 싶은 단어, 고칠 단어\n",
    "b.replace(\"삼성전자\", c)"
   ]
  },
  {
   "cell_type": "code",
   "execution_count": 63,
   "id": "11d68108",
   "metadata": {},
   "outputs": [
    {
     "data": {
      "text/plain": [
       "['삼성전자의', '이번', '2023년', '3분기', '당기', '순이익은', '2조원', '입니다.']"
      ]
     },
     "execution_count": 63,
     "metadata": {},
     "output_type": "execute_result"
    }
   ],
   "source": [
    "# 문자열 나누기\n",
    "\n",
    "b = '삼성전자의 이번 2023년 3분기 당기 순이익은 2조원 입니다.'\n",
    "b.split()\n"
   ]
  },
  {
   "cell_type": "code",
   "execution_count": 71,
   "id": "aee8bb07",
   "metadata": {},
   "outputs": [
    {
     "name": "stdout",
     "output_type": "stream",
     "text": [
      "Lg 전자의 이번 2023년 3분기 당기 순이익은 2조원 입니다.\n"
     ]
    }
   ],
   "source": [
    "# 문자열 교체 (replace를 모르는 인생 하드모드)\n",
    "# 내부 함수를 숙지하지 않으면 문제 해결 능력이 축소된다.\n",
    "\n",
    "b = \"삼성전자의 이번 2023년 3분기 당기 순이익은 2조원 입니다.\"\n",
    "f = \"Lg 전자\"\n",
    "xxx = f + b[4:]\n",
    "\n",
    "print(xxx)"
   ]
  },
  {
   "cell_type": "code",
   "execution_count": null,
   "id": "e556bfe4",
   "metadata": {},
   "outputs": [],
   "source": [
    "\"\"\" \n",
    "데이터 자료구조의 이해\n",
    "\n",
    "리스트: 가변 자료구조, 순서형 구조, 대괄호안에 데이터 들간다 [1, 2, 3]\n",
    "중복 리스트 가능 [1, 2, [1,2,3]] 이미지 데이터 처리 시 사용 (딥러닝)\n",
    "\n",
    "딕셔너리 : 가변 자료구조, key와 value로 구성, {\"캐릭터\": [\"마리오\", \"루이지\"], \"아이템\": \"버섯\"}\n",
    "튜플 : 변경 불가능 자료구조, 순서형 구조, 소괄호안에 데이터 들감 (1, 2, 3)\n",
    "\n",
    "집합 : 가변 자료구조, \"비\"순서형 구조, 합집합 차집합 여집합 계산 가능\n",
    "\n",
    "\"\"\""
   ]
  },
  {
   "cell_type": "code",
   "execution_count": 77,
   "id": "f85616dd",
   "metadata": {},
   "outputs": [
    {
     "data": {
      "text/plain": [
       "9"
      ]
     },
     "execution_count": 77,
     "metadata": {},
     "output_type": "execute_result"
    }
   ],
   "source": [
    "\n",
    "u = [1, 2, [7,8,9]]\n",
    "\n",
    "u[0] #1\n",
    "u[1] #2\n",
    "u[2] # 7,8,9\n",
    "u[2][1] #8\n",
    "u[2][2] #9"
   ]
  },
  {
   "cell_type": "code",
   "execution_count": 78,
   "id": "4073cf49",
   "metadata": {},
   "outputs": [
    {
     "data": {
      "text/plain": [
       "'zelle'"
      ]
     },
     "execution_count": 78,
     "metadata": {},
     "output_type": "execute_result"
    }
   ],
   "source": [
    "u = [1, 2, [7,8,9,[\"zelle\"]]]\n",
    "u[2][3][0]"
   ]
  },
  {
   "cell_type": "code",
   "execution_count": 103,
   "id": "d216542e",
   "metadata": {},
   "outputs": [
    {
     "data": {
      "text/plain": [
       "777"
      ]
     },
     "execution_count": 103,
     "metadata": {},
     "output_type": "execute_result"
    }
   ],
   "source": [
    "# 원하는 데이터 슬라이싱\n",
    "\n",
    "u = [1, 2, [7,8,9,[\"zelle\", 777]]]\n",
    "u[:2]\n",
    "u[-1][-1][-1]"
   ]
  },
  {
   "cell_type": "code",
   "execution_count": 87,
   "id": "444c2689",
   "metadata": {},
   "outputs": [
    {
     "name": "stdout",
     "output_type": "stream",
     "text": [
      "[2, 3, 4]\n"
     ]
    },
    {
     "data": {
      "text/plain": [
       "[2, 3, 4, 4, 5, 6]"
      ]
     },
     "execution_count": 87,
     "metadata": {},
     "output_type": "execute_result"
    }
   ],
   "source": [
    "\"\"\" \n",
    "행렬의 연산\n",
    "행렬전체에 1씩 더하는 방법은?\n",
    "\"\"\"\n",
    "\n",
    "r = [1,2,3]\n",
    "k = [4,5,6]\n",
    "\n",
    "#r + 1 #이거 어떻게 되는지 돌려보세요\n",
    "# 이게 해결방법인데 물론 인생 하드모드입니다. 추후에 방법 설명\n",
    "r[0] = 2\n",
    "r[1] = 3\n",
    "r[2] = 4\n",
    "\n",
    "print(r)\n",
    "\n",
    "# 두 리스트의 확장\n",
    "r + k"
   ]
  },
  {
   "cell_type": "code",
   "execution_count": 90,
   "id": "bcd276f1",
   "metadata": {},
   "outputs": [
    {
     "data": {
      "text/plain": [
       "[[], 3, 4]"
      ]
     },
     "execution_count": 90,
     "metadata": {},
     "output_type": "execute_result"
    }
   ],
   "source": [
    "# 리스트에서 원소삭제\n",
    "\n",
    "r[0] = []\n",
    "r"
   ]
  },
  {
   "cell_type": "code",
   "execution_count": 96,
   "id": "2ca91845",
   "metadata": {},
   "outputs": [
    {
     "data": {
      "text/plain": [
       "[]"
      ]
     },
     "execution_count": 96,
     "metadata": {},
     "output_type": "execute_result"
    }
   ],
   "source": [
    "#r = [1,2,3]\n",
    "\n",
    "del r[0]\n",
    "\n",
    "r"
   ]
  },
  {
   "cell_type": "code",
   "execution_count": null,
   "id": "de653597",
   "metadata": {},
   "outputs": [],
   "source": []
  },
  {
   "cell_type": "code",
   "execution_count": null,
   "id": "71f19f68",
   "metadata": {},
   "outputs": [],
   "source": []
  }
 ],
 "metadata": {
  "kernelspec": {
   "display_name": "Python 3 (ipykernel)",
   "language": "python",
   "name": "python3"
  },
  "language_info": {
   "codemirror_mode": {
    "name": "ipython",
    "version": 3
   },
   "file_extension": ".py",
   "mimetype": "text/x-python",
   "name": "python",
   "nbconvert_exporter": "python",
   "pygments_lexer": "ipython3",
   "version": "3.11.5"
  }
 },
 "nbformat": 4,
 "nbformat_minor": 5
}
