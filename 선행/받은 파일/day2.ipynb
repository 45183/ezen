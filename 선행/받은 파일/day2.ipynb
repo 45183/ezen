{
 "cells": [
  {
   "cell_type": "code",
   "execution_count": 1,
   "id": "e1ae1480",
   "metadata": {},
   "outputs": [
    {
     "ename": "TypeError",
     "evalue": "can only concatenate list (not \"int\") to list",
     "output_type": "error",
     "traceback": [
      "\u001b[1;31m---------------------------------------------------------------------------\u001b[0m",
      "\u001b[1;31mTypeError\u001b[0m                                 Traceback (most recent call last)",
      "Cell \u001b[1;32mIn[1], line 3\u001b[0m\n\u001b[0;32m      1\u001b[0m my_list \u001b[38;5;241m=\u001b[39m [\u001b[38;5;241m1\u001b[39m, \u001b[38;5;241m2\u001b[39m, \u001b[38;5;241m3\u001b[39m]\n\u001b[1;32m----> 3\u001b[0m my_list \u001b[38;5;241m+\u001b[39m \u001b[38;5;241m4\u001b[39m\n",
      "\u001b[1;31mTypeError\u001b[0m: can only concatenate list (not \"int\") to list"
     ]
    }
   ],
   "source": [
    "# 정확한 명령을 해야한다. \n",
    "# 정확한 명령의 의미는 어떤 자료구조에 어떤 결과를 기대한 연산인가?\n",
    "\n",
    "my_list = [1,2,3]\n",
    "\n",
    "my_list + 4\n"
   ]
  },
  {
   "cell_type": "code",
   "execution_count": 3,
   "id": "04321724",
   "metadata": {},
   "outputs": [],
   "source": [
    "#내가 원소에 4씩 더하고 싶다면?\n",
    "\n",
    "# 변할 변수의 위치 = 현재 변수의 위치, 하고싶은 연산\n",
    "my_list[0] = my_list[0] +4\n",
    "my_list[1] = my_list[1] +4\n",
    "my_list[2] = my_list[2] +4"
   ]
  },
  {
   "cell_type": "code",
   "execution_count": 4,
   "id": "88d973bc",
   "metadata": {},
   "outputs": [
    {
     "data": {
      "text/plain": [
       "[5, 6, 7]"
      ]
     },
     "execution_count": 4,
     "metadata": {},
     "output_type": "execute_result"
    }
   ],
   "source": [
    "my_list"
   ]
  },
  {
   "cell_type": "code",
   "execution_count": 32,
   "id": "478eeef6",
   "metadata": {},
   "outputs": [
    {
     "data": {
      "text/plain": [
       "[1, 2, 3, 37, 47]"
      ]
     },
     "execution_count": 32,
     "metadata": {},
     "output_type": "execute_result"
    }
   ],
   "source": [
    "# 리스트라는 자료구조를 어떻게 처리할 것인가?\n",
    "# --> 리스트 관련함수\n",
    "# 리스트에 요소 추가하기 - append:\n",
    "\n",
    "my_list = [1, 2, 3]\n",
    "list2 = [37, 47]\n",
    "my_list.extend(list2)\n",
    "my_list"
   ]
  },
  {
   "cell_type": "code",
   "execution_count": 7,
   "id": "f18b754f",
   "metadata": {},
   "outputs": [
    {
     "data": {
      "text/plain": [
       "[1, 2, 3, 4]"
      ]
     },
     "execution_count": 7,
     "metadata": {},
     "output_type": "execute_result"
    }
   ],
   "source": [
    "my_list = [1, 2, 3]\n",
    "c = [4]\n",
    "\n",
    "my_newlist = my_list + c\n",
    "my_newlist"
   ]
  },
  {
   "cell_type": "code",
   "execution_count": 11,
   "id": "e3ee2a92",
   "metadata": {},
   "outputs": [
    {
     "ename": "TypeError",
     "evalue": "'<' not supported between instances of 'str' and 'int'",
     "output_type": "error",
     "traceback": [
      "\u001b[1;31m---------------------------------------------------------------------------\u001b[0m",
      "\u001b[1;31mTypeError\u001b[0m                                 Traceback (most recent call last)",
      "Cell \u001b[1;32mIn[11], line 4\u001b[0m\n\u001b[0;32m      1\u001b[0m \u001b[38;5;66;03m# 리스트 정렬 - sort:\u001b[39;00m\n\u001b[0;32m      3\u001b[0m my_list \u001b[38;5;241m=\u001b[39m [\u001b[38;5;241m3\u001b[39m, \u001b[38;5;124m\"\u001b[39m\u001b[38;5;124m3\u001b[39m\u001b[38;5;124m\"\u001b[39m, \u001b[38;5;241m2\u001b[39m, \u001b[38;5;241m4.3476347\u001b[39m]\n\u001b[1;32m----> 4\u001b[0m my_list\u001b[38;5;241m.\u001b[39msort()\n\u001b[0;32m      5\u001b[0m my_list\n",
      "\u001b[1;31mTypeError\u001b[0m: '<' not supported between instances of 'str' and 'int'"
     ]
    }
   ],
   "source": [
    "# 리스트 정렬 - sort:\n",
    "    \n",
    "my_list = [3, \"3\", 2, 4.3476347] #동일한 자료형이어야 된다.\n",
    "my_list.sort()\n",
    "my_list"
   ]
  },
  {
   "cell_type": "code",
   "execution_count": 12,
   "id": "77a48d9c",
   "metadata": {},
   "outputs": [
    {
     "data": {
      "text/plain": [
       "[3, 2, 1]"
      ]
     },
     "execution_count": 12,
     "metadata": {},
     "output_type": "execute_result"
    }
   ],
   "source": [
    "my_list = [1, 2, 3]\n",
    "my_list.reverse()\n",
    "my_list"
   ]
  },
  {
   "cell_type": "code",
   "execution_count": 14,
   "id": "4314e829",
   "metadata": {},
   "outputs": [
    {
     "data": {
      "text/plain": [
       "1"
      ]
     },
     "execution_count": 14,
     "metadata": {},
     "output_type": "execute_result"
    }
   ],
   "source": [
    "my_list = [1, 2, 3, 4, 2]\n",
    "index = my_list.index(2)\n",
    "index"
   ]
  },
  {
   "cell_type": "code",
   "execution_count": 15,
   "id": "0c4de1e6",
   "metadata": {},
   "outputs": [
    {
     "data": {
      "text/plain": [
       "[1, 4, 2, 3]"
      ]
     },
     "execution_count": 15,
     "metadata": {},
     "output_type": "execute_result"
    }
   ],
   "source": [
    "my_list = [1, 2, 3]\n",
    "my_list.insert(1, 4) # 집어넣을 위치, 집어넣고싶은 데이터\n",
    "my_list"
   ]
  },
  {
   "cell_type": "code",
   "execution_count": 16,
   "id": "3a3820d4",
   "metadata": {},
   "outputs": [
    {
     "data": {
      "text/plain": [
       "[1, 3, 4, 2]"
      ]
     },
     "execution_count": 16,
     "metadata": {},
     "output_type": "execute_result"
    }
   ],
   "source": [
    "my_list = [1, 2, 3, 4, 2]\n",
    "my_list.remove(2) # 없애고 싶은 첫번째 데이터\n",
    "my_list"
   ]
  },
  {
   "cell_type": "code",
   "execution_count": 19,
   "id": "e5f3ddc1",
   "metadata": {},
   "outputs": [
    {
     "data": {
      "text/plain": [
       "[1, 2]"
      ]
     },
     "execution_count": 19,
     "metadata": {},
     "output_type": "execute_result"
    }
   ],
   "source": [
    "my_list = [1, 2, 3]\n",
    "popped_item = my_list.pop() # 리스트의 마지막 요소 제거\n",
    "popped_item\n",
    "my_list"
   ]
  },
  {
   "cell_type": "code",
   "execution_count": 21,
   "id": "b52ef54d",
   "metadata": {},
   "outputs": [
    {
     "data": {
      "text/plain": [
       "[1, 2, 3, 4]"
      ]
     },
     "execution_count": 21,
     "metadata": {},
     "output_type": "execute_result"
    }
   ],
   "source": [
    "list1 = [1, 2]\n",
    "list2 = [3, 4]\n",
    "list1.extend(list2)  # [1, 2, 3, 4]\n",
    "list1"
   ]
  },
  {
   "cell_type": "code",
   "execution_count": 27,
   "id": "7e5446c0",
   "metadata": {
    "scrolled": false
   },
   "outputs": [],
   "source": [
    "list1 = [1, 2]\n",
    "list2 = [3, 4]\n",
    "\n",
    "list1.append([3, 4])\n"
   ]
  },
  {
   "cell_type": "code",
   "execution_count": 33,
   "id": "acccbfc5",
   "metadata": {
    "scrolled": true
   },
   "outputs": [
    {
     "ename": "TypeError",
     "evalue": "'tuple' object doesn't support item deletion",
     "output_type": "error",
     "traceback": [
      "\u001b[1;31m---------------------------------------------------------------------------\u001b[0m",
      "\u001b[1;31mTypeError\u001b[0m                                 Traceback (most recent call last)",
      "Cell \u001b[1;32mIn[33], line 5\u001b[0m\n\u001b[0;32m      1\u001b[0m \u001b[38;5;66;03m# 튜플은 삭제불가능\u001b[39;00m\n\u001b[0;32m      2\u001b[0m \u001b[38;5;66;03m# 변하지 않는 중요 데이터 입력 가능\u001b[39;00m\n\u001b[0;32m      4\u001b[0m my_tuple \u001b[38;5;241m=\u001b[39m (\u001b[38;5;241m1\u001b[39m, \u001b[38;5;241m2\u001b[39m, \u001b[38;5;241m3\u001b[39m)\n\u001b[1;32m----> 5\u001b[0m \u001b[38;5;28;01mdel\u001b[39;00m my_tuple[\u001b[38;5;241m1\u001b[39m]\n",
      "\u001b[1;31mTypeError\u001b[0m: 'tuple' object doesn't support item deletion"
     ]
    }
   ],
   "source": [
    "# 튜플은 삭제불가능\n",
    "# 변하지 않는 중요 데이터 입력 가능\n",
    "# 자료형태 별로 사용 함수가 조금씩 차이가 있다. 나중에 외우려 들지말고 생각해야 함\n",
    "\n",
    "\n",
    "my_tuple = (1, 2, 3)\n",
    "del my_tuple[1]"
   ]
  },
  {
   "cell_type": "code",
   "execution_count": 36,
   "id": "73fdd6d8",
   "metadata": {},
   "outputs": [
    {
     "ename": "TypeError",
     "evalue": "'tuple' object does not support item assignment",
     "output_type": "error",
     "traceback": [
      "\u001b[1;31m---------------------------------------------------------------------------\u001b[0m",
      "\u001b[1;31mTypeError\u001b[0m                                 Traceback (most recent call last)",
      "Cell \u001b[1;32mIn[36], line 2\u001b[0m\n\u001b[0;32m      1\u001b[0m my_tuple \u001b[38;5;241m=\u001b[39m (\u001b[38;5;241m1\u001b[39m, \u001b[38;5;241m2\u001b[39m, \u001b[38;5;241m3\u001b[39m)\n\u001b[1;32m----> 2\u001b[0m my_tuple[\u001b[38;5;241m1\u001b[39m] \u001b[38;5;241m=\u001b[39m \u001b[38;5;241m4\u001b[39m \n\u001b[0;32m      3\u001b[0m my_tuple\n",
      "\u001b[1;31mTypeError\u001b[0m: 'tuple' object does not support item assignment"
     ]
    }
   ],
   "source": [
    "my_tuple = (1, 2, 3)\n",
    "my_tuple[1] = 4 \n",
    "my_tuple"
   ]
  },
  {
   "cell_type": "code",
   "execution_count": 38,
   "id": "df01d36f",
   "metadata": {},
   "outputs": [
    {
     "data": {
      "text/plain": [
       "(3, 4)"
      ]
     },
     "execution_count": 38,
     "metadata": {},
     "output_type": "execute_result"
    }
   ],
   "source": [
    "# 순서형 자료구조이므로 인덱싱 & 슬라이싱은 가능\n",
    "\n",
    "my_tuple = (1, 2, 3, 4, 5)\n",
    "item = my_tuple[2:4]\n",
    "item"
   ]
  },
  {
   "cell_type": "code",
   "execution_count": 40,
   "id": "52bbe7c7",
   "metadata": {},
   "outputs": [
    {
     "data": {
      "text/plain": [
       "(1, 2, 3, 4, 5, 6)"
      ]
     },
     "execution_count": 40,
     "metadata": {},
     "output_type": "execute_result"
    }
   ],
   "source": [
    "tuple1 = (1, 2, 3)\n",
    "tuple2 = (4, 5, 6)\n",
    "result = tuple1 + tuple2\n",
    "result"
   ]
  },
  {
   "cell_type": "code",
   "execution_count": 45,
   "id": "486d446d",
   "metadata": {},
   "outputs": [
    {
     "data": {
      "text/plain": [
       "86.6"
      ]
     },
     "execution_count": 45,
     "metadata": {},
     "output_type": "execute_result"
    }
   ],
   "source": [
    "\"\"\" \n",
    "튜플 길이 구하기:\n",
    "튜플의 길이는 len() 함수를 사용하여 구할 수 있습니다.\n",
    "quiz: 해당 함수를 사용하여 평균값을 구해보세요\n",
    "문제해결 --> 뭔 기능이 필요한지 캐치하는 능력\n",
    "\"\"\"\n",
    "my_tuple = (100, 90, 87, 69, 87)\n",
    "length = len(my_tuple)\n",
    "length\n",
    "\n",
    "avg_score = sum(my_tuple)/ len(my_tuple)\n",
    "avg_score = (my_tuple[0]+my_tuple[1]+my_tuple[2]+my_tuple[3]+my_tuple[4])/ len(my_tuple)\n",
    "avg_score"
   ]
  },
  {
   "cell_type": "code",
   "execution_count": 46,
   "id": "5d0533b8",
   "metadata": {},
   "outputs": [
    {
     "data": {
      "text/plain": [
       "5"
      ]
     },
     "execution_count": 46,
     "metadata": {},
     "output_type": "execute_result"
    }
   ],
   "source": [
    "# 딕셔너리는 key와 value로 구성됨\n",
    "# key를 읽음으로서 value를 꺼낼 수 있다.\n",
    "\n",
    "my_dict = {'apple': 2, 'banana': 3, 'cherry': 5}\n",
    "\n",
    "my_dict['cherry']"
   ]
  },
  {
   "cell_type": "code",
   "execution_count": 48,
   "id": "8242955c",
   "metadata": {},
   "outputs": [
    {
     "data": {
      "text/plain": [
       "{'apple': [2, 66, 45, 57], 'banana': 3, 'cherry': 5, 'pine_tree': 777}"
      ]
     },
     "execution_count": 48,
     "metadata": {},
     "output_type": "execute_result"
    }
   ],
   "source": [
    "my_dict = {'apple': [2, 66, 45, 57], 'banana': 3, 'cherry': 5}\n",
    "\n",
    "my_dict['pine_tree'] = 777\n",
    "my_dict"
   ]
  },
  {
   "cell_type": "code",
   "execution_count": 50,
   "id": "3d994c5a",
   "metadata": {},
   "outputs": [
    {
     "data": {
      "text/plain": [
       "dict_keys(['apple', 'banana', 'cherry'])"
      ]
     },
     "execution_count": 50,
     "metadata": {},
     "output_type": "execute_result"
    }
   ],
   "source": [
    "\"\"\" \n",
    "딕셔너리 함수 모음\n",
    "\n",
    "\"\"\" \n",
    "my_dict = {'apple': 2, 'banana': 3, 'cherry': 5}\n",
    "keys_list = my_dict.keys()  \n",
    "keys_list"
   ]
  },
  {
   "cell_type": "code",
   "execution_count": 52,
   "id": "2d8ce37b",
   "metadata": {},
   "outputs": [
    {
     "data": {
      "text/plain": [
       "dict_values([2, 3, 5])"
      ]
     },
     "execution_count": 52,
     "metadata": {},
     "output_type": "execute_result"
    }
   ],
   "source": [
    "my_dict = {'apple': 2, 'banana': 3, 'cherry': 5}\n",
    "values_list = my_dict.values()  \n",
    "values_list"
   ]
  },
  {
   "cell_type": "code",
   "execution_count": 54,
   "id": "8aecf04e",
   "metadata": {
    "scrolled": true
   },
   "outputs": [
    {
     "data": {
      "text/plain": [
       "dict_items([('apple', 2), ('banana', 3), ('cherry', 5)])"
      ]
     },
     "execution_count": 54,
     "metadata": {},
     "output_type": "execute_result"
    }
   ],
   "source": [
    "my_dict = {'apple': 2, 'banana': 3, 'cherry': 5}\n",
    "items_list = my_dict.items() \n",
    "items_list"
   ]
  },
  {
   "cell_type": "code",
   "execution_count": 56,
   "id": "d914c80c",
   "metadata": {},
   "outputs": [
    {
     "data": {
      "text/plain": [
       "{}"
      ]
     },
     "execution_count": 56,
     "metadata": {},
     "output_type": "execute_result"
    }
   ],
   "source": [
    "my_dict = {'apple': 2, 'banana': 3, 'cherry': 5}\n",
    "my_dict.clear() \n",
    "my_dict"
   ]
  },
  {
   "cell_type": "code",
   "execution_count": 60,
   "id": "3ed83085",
   "metadata": {},
   "outputs": [
    {
     "data": {
      "text/plain": [
       "2"
      ]
     },
     "execution_count": 60,
     "metadata": {},
     "output_type": "execute_result"
    }
   ],
   "source": [
    "my_dict = {'apple': 2, 'banana': 3, 'cherry': 5}\n",
    "value_of_apple = my_dict.get('apple')\n",
    "value_of_apple"
   ]
  },
  {
   "cell_type": "code",
   "execution_count": 64,
   "id": "40179179",
   "metadata": {},
   "outputs": [
    {
     "data": {
      "text/plain": [
       "False"
      ]
     },
     "execution_count": 64,
     "metadata": {},
     "output_type": "execute_result"
    }
   ],
   "source": [
    "my_dict = {'apple': 2, 'banana': 3, 'cherry': 5}\n",
    "is_apple_in_dict = 'mario' in my_dict # 찾는데이터 in 찾을 데이터 셋\n",
    "is_apple_in_dict"
   ]
  },
  {
   "cell_type": "code",
   "execution_count": 65,
   "id": "9fd0e416",
   "metadata": {},
   "outputs": [
    {
     "ename": "AttributeError",
     "evalue": "'set' object has no attribute 'sort'",
     "output_type": "error",
     "traceback": [
      "\u001b[1;31m---------------------------------------------------------------------------\u001b[0m",
      "\u001b[1;31mAttributeError\u001b[0m                            Traceback (most recent call last)",
      "Cell \u001b[1;32mIn[65], line 3\u001b[0m\n\u001b[0;32m      1\u001b[0m \u001b[38;5;66;03m# 집합관련함수는 sort 계열 기능이 있을까?\u001b[39;00m\n\u001b[0;32m      2\u001b[0m my_set \u001b[38;5;241m=\u001b[39m {\u001b[38;5;241m1\u001b[39m, \u001b[38;5;241m2\u001b[39m, \u001b[38;5;241m3\u001b[39m}\n\u001b[1;32m----> 3\u001b[0m my_set\u001b[38;5;241m.\u001b[39msort()\n",
      "\u001b[1;31mAttributeError\u001b[0m: 'set' object has no attribute 'sort'"
     ]
    }
   ],
   "source": [
    "# 집합관련함수는 sort 계열 기능이 있을까?\n",
    "my_set = {1, 2, 3}\n",
    "my_set.sort()\n"
   ]
  },
  {
   "cell_type": "code",
   "execution_count": 66,
   "id": "af58c1a6",
   "metadata": {},
   "outputs": [
    {
     "data": {
      "text/plain": [
       "{1, 2, 3, 4, 5}"
      ]
     },
     "execution_count": 66,
     "metadata": {},
     "output_type": "execute_result"
    }
   ],
   "source": [
    "my_set = {1, 2, 3}\n",
    "my_set.update([3, 4, 5])\n",
    "my_set"
   ]
  },
  {
   "cell_type": "code",
   "execution_count": 68,
   "id": "97f65d54",
   "metadata": {},
   "outputs": [
    {
     "data": {
      "text/plain": [
       "{1, 2, 4, 5}"
      ]
     },
     "execution_count": 68,
     "metadata": {},
     "output_type": "execute_result"
    }
   ],
   "source": [
    "my_set = {1, 2, 3, 4, 5}\n",
    "my_set.remove(3)\n",
    "my_set"
   ]
  },
  {
   "cell_type": "code",
   "execution_count": 76,
   "id": "40616e8d",
   "metadata": {},
   "outputs": [
    {
     "name": "stdout",
     "output_type": "stream",
     "text": [
      "택시를 타고 가라\n"
     ]
    }
   ],
   "source": [
    "# if문\n",
    "money = -1\n",
    "if money :\n",
    "    print(\"택시를 타고 가라\")\n",
    "else :\n",
    "    print(\"걸어 가라\")"
   ]
  },
  {
   "cell_type": "code",
   "execution_count": null,
   "id": "1343098b",
   "metadata": {},
   "outputs": [],
   "source": [
    "# 유효숫자\n",
    "\n",
    "\n",
    "3.87 * 5.87 하면 소수점 둘째 자리만 인정함\n",
    "3.870000000003 * 5.869999999999999"
   ]
  },
  {
   "cell_type": "code",
   "execution_count": 77,
   "id": "9cdeb70a",
   "metadata": {},
   "outputs": [
    {
     "data": {
      "text/plain": [
       "22.716900000000003"
      ]
     },
     "execution_count": 77,
     "metadata": {},
     "output_type": "execute_result"
    }
   ],
   "source": [
    "a = 3.87 * 5.87\n",
    "a"
   ]
  },
  {
   "cell_type": "code",
   "execution_count": null,
   "id": "228f9f6c",
   "metadata": {},
   "outputs": [],
   "source": [
    "# 자바스크립트 뒷담화 #2\n",
    "\n",
    "0.2000000005 + 0.299999999999999999999994 == 0.5"
   ]
  },
  {
   "cell_type": "code",
   "execution_count": null,
   "id": "47acf9f1",
   "metadata": {},
   "outputs": [],
   "source": [
    "# 자바스크립트 뒷담화 #3\n",
    "\n",
    "4 - \"1\" == 3\n",
    "4 - \"1\" === 3\n"
   ]
  },
  {
   "cell_type": "code",
   "execution_count": null,
   "id": "97e26192",
   "metadata": {},
   "outputs": [],
   "source": [
    "# if의 조건을 정하는 비교 연산자\n",
    "x = 3\n",
    "y = 2\n",
    "x > y # True\n",
    "x < y # False\n",
    "x == y # False\n",
    "x != y # True\n",
    "x <= 3 # 작거나 같다 혹은 크거나 같다는 부등호가 왼쪽에 온다.\n",
    "x >= 3"
   ]
  },
  {
   "cell_type": "code",
   "execution_count": 78,
   "id": "cf7c7466",
   "metadata": {},
   "outputs": [
    {
     "name": "stdout",
     "output_type": "stream",
     "text": [
      "걸어 가라\n"
     ]
    }
   ],
   "source": [
    "\"\"\"\n",
    "if문 작성 시 주의사항:\n",
    "if들어간 문장은 : 콜론으로 끝나야 한다.\n",
    "if문 바로 아래 줄은 4칸 띄어야 한다. tab키를 치면 4칸 띄워진다.\n",
    "if는 최초조건, elif는 중간 조건, else는 나머지 조건\n",
    "\"\"\"\n",
    "money = 2000\n",
    "if money >= 3000 :\n",
    "    print(\"택시를 타고 가라\")\n",
    "else :\n",
    "    print(\"걸어 가라\")"
   ]
  },
  {
   "cell_type": "code",
   "execution_count": 83,
   "id": "696259d8",
   "metadata": {},
   "outputs": [
    {
     "data": {
      "text/plain": [
       "True"
      ]
     },
     "execution_count": 83,
     "metadata": {},
     "output_type": "execute_result"
    }
   ],
   "source": [
    "# 조건문과 반복문에서 데이터셋 검색 기능에 응용해 쓴다.\n",
    "# x in s, x not in s\n",
    "1 in [1, 2, 3] # True\n",
    "1 not in [1, 2, 3]\n",
    "'a' in ('a', 'b', 'c') # True\n",
    "'j' not in 'python' # True"
   ]
  },
  {
   "cell_type": "code",
   "execution_count": 85,
   "id": "75b35433",
   "metadata": {},
   "outputs": [
    {
     "name": "stdout",
     "output_type": "stream",
     "text": [
      "걸어 가라\n"
     ]
    }
   ],
   "source": [
    "pocket = ['paper', 'cellphone', 'money']\n",
    "if 'money' in pocket :\n",
    "    print('택시를 타고 가라')\n",
    "else :\n",
    "    print('걸어 가라')"
   ]
  },
  {
   "cell_type": "code",
   "execution_count": null,
   "id": "1f267f25",
   "metadata": {},
   "outputs": [],
   "source": [
    "# 조건문에서 아무 일도 하지 않게 설정하고 싶다면\n",
    "pocket = ['paper', 'money', 'cellphone']\n",
    "if 'money' in pocket :\n",
    "    pass # pass가 수행되고 아무런 결과값을 보여주지 않는다.\n",
    "else :\n",
    "    print(\"카드를 꺼내라\")"
   ]
  },
  {
   "cell_type": "code",
   "execution_count": null,
   "id": "8067f81d",
   "metadata": {},
   "outputs": [],
   "source": [
    "# 아까 중간 조건에 elif 쓴다고 했는데 elif 있고 없고 뭐가 다르냐?"
   ]
  },
  {
   "cell_type": "code",
   "execution_count": null,
   "id": "6096ffd6",
   "metadata": {},
   "outputs": [],
   "source": [
    "# 다양한 조건을 판단하는 elif\n",
    "pocket = ['paper', 'cellphone']\n",
    "card = 1\n",
    "if 'money' in pocket :\n",
    "    print(\"택시를 타고 가라\")\n",
    "else :\n",
    "    if card :\n",
    "        print(\"택시를 타고 가라\")\n",
    "    else :\n",
    "        print(\"걸어 가라\")"
   ]
  },
  {
   "cell_type": "code",
   "execution_count": null,
   "id": "186aec44",
   "metadata": {},
   "outputs": [],
   "source": [
    "pocket = ['paper', 'cellphone']\n",
    "caed = 1\n",
    "if 'money' in pocket :\n",
    "    print(\"택시를 타고 가라\")\n",
    "elif card :\n",
    "    print(\"택시를 타고 가라\")\n",
    "else :\n",
    "    print(\"걸어 가라\")"
   ]
  },
  {
   "cell_type": "code",
   "execution_count": 87,
   "id": "68308851",
   "metadata": {},
   "outputs": [
    {
     "name": "stdout",
     "output_type": "stream",
     "text": [
      "택시를 타고 가라\n"
     ]
    }
   ],
   "source": [
    "# if문을 한 줄로 작성하기\n",
    "pocket = ['paper', 'money', 'cellphone']\n",
    "if 'money' in pocket : print(\"택시를 타고 가라\") # 콜론 옆에 참인 조건을 쓰면 if절이 줄어든다.\n",
    "else : print(\"카드를 꺼내라\")"
   ]
  },
  {
   "cell_type": "code",
   "execution_count": 90,
   "id": "d5d179ff",
   "metadata": {},
   "outputs": [
    {
     "name": "stdout",
     "output_type": "stream",
     "text": [
      "Enter an integer : 23\n",
      "축하합니다, 정확히 맞추셨어요.\n",
      "(but you do not win any prizes!)\n"
     ]
    }
   ],
   "source": [
    "number = 23 # 우리가 원하는 정답\n",
    "guess = int(input('정수를 입력해 주시기 바랍니다. : ')) # input함수로 사용자의 입력을 받는데, input함수는 언제나 문자열 자료구조로 받기 때문에 정수처리 해야한다.\n",
    "if number == guess:   # 정확히 추측해서 맞춘경우\n",
    "    print ('축하합니다, 정확히 맞추셨어요.')\n",
    "elif guess < number:\n",
    "    print ('아니오, 그거보단 커야해요')\n",
    "else:\n",
    "    print ('아니오 그거보단 작아야 해요')\n",
    "    print ('끝났습니다.') # 들여써지는 경우, else구문에 해당 로직이 속하게 된다.\n",
    "# 즉, 원래 의도인 if 구문 종료 시 '끝났습니다.' 메세지 출력 대신, 내가 정답보다 크게 추측했을 때 (else 조건에 속할 때) 메세지가 뜬다.\n",
    "# 에러가 나지 않으므로 프론트엔드에서 잡아내기 어려울 수 있다.\n"
   ]
  },
  {
   "cell_type": "code",
   "execution_count": 98,
   "id": "3b3c9ea3",
   "metadata": {},
   "outputs": [
    {
     "name": "stdout",
     "output_type": "stream",
     "text": [
      "23\n"
     ]
    },
    {
     "data": {
      "text/plain": [
       "24"
      ]
     },
     "execution_count": 98,
     "metadata": {},
     "output_type": "execute_result"
    }
   ],
   "source": [
    "guess = int(input())\n",
    "b = guess + 1\n",
    "b"
   ]
  },
  {
   "cell_type": "code",
   "execution_count": 91,
   "id": "a1a0ab7b",
   "metadata": {},
   "outputs": [
    {
     "data": {
      "text/plain": [
       "22.716900000000003"
      ]
     },
     "execution_count": 91,
     "metadata": {},
     "output_type": "execute_result"
    }
   ],
   "source": [
    "# 아까 뒷담화 실전예시\n",
    "# 왜 나는 소수점으로 고통을 받는가?\n",
    "\n",
    "a = 3.87 * 5.87\n",
    "a"
   ]
  },
  {
   "cell_type": "code",
   "execution_count": 99,
   "id": "c16a4a5a",
   "metadata": {},
   "outputs": [
    {
     "name": "stdout",
     "output_type": "stream",
     "text": [
      "걸어 가라\n"
     ]
    }
   ],
   "source": [
    "a = 3.87 * 5.87\n",
    "if a == 22.7169 :\n",
    "    print(\"택시를 타고 가라\")\n",
    "else :\n",
    "    print(\"걸어 가라\")"
   ]
  },
  {
   "cell_type": "code",
   "execution_count": 100,
   "id": "ad12d600",
   "metadata": {},
   "outputs": [
    {
     "name": "stdout",
     "output_type": "stream",
     "text": [
      "현재 count 값: 0\n",
      "현재 count 값: 1\n",
      "현재 count 값: 2\n",
      "현재 count 값: 3\n",
      "현재 count 값: 4\n"
     ]
    }
   ],
   "source": [
    "# while 문 끝에 콜론 : 그리고 그다음 줄 띄어쓰기 4칸\n",
    "count = 0 # count라는 변수에 최초값 0 부여\n",
    "while count < 5:\n",
    "    print(\"현재 count 값:\", count) # 현재 count 상태를 출력\n",
    "    count = count + 1\n",
    "    count += 1"
   ]
  },
  {
   "cell_type": "code",
   "execution_count": 101,
   "id": "e0697616",
   "metadata": {},
   "outputs": [
    {
     "name": "stdout",
     "output_type": "stream",
     "text": [
      "나무를 1번 찍었습니다.\n",
      "나무를 2번 찍었습니다.\n",
      "나무를 3번 찍었습니다.\n",
      "나무를 4번 찍었습니다.\n",
      "나무를 5번 찍었습니다.\n",
      "나무를 6번 찍었습니다.\n",
      "나무를 7번 찍었습니다.\n",
      "나무를 8번 찍었습니다.\n",
      "나무를 9번 찍었습니다.\n",
      "나무를 10번 찍었습니다.\n",
      "나무 넘어갑니다.\n"
     ]
    }
   ],
   "source": [
    "# While문\n",
    "# while문의 기본 구조\n",
    "treeHit = 0\n",
    "while treeHit < 10 :\n",
    "    treeHit = treeHit + 1\n",
    "    print('나무를 %d번 찍었습니다.' % treeHit)\n",
    "    if treeHit == 10 :\n",
    "        print('나무 넘어갑니다.')"
   ]
  },
  {
   "cell_type": "code",
   "execution_count": 105,
   "id": "153e7372",
   "metadata": {},
   "outputs": [
    {
     "name": "stdout",
     "output_type": "stream",
     "text": [
      "돈을 받았으니 커피를 줍니다.\n",
      "남은 커피의 양은 9개 입니다.\n",
      "돈을 받았으니 커피를 줍니다.\n",
      "남은 커피의 양은 8개 입니다.\n",
      "돈을 받았으니 커피를 줍니다.\n",
      "남은 커피의 양은 7개 입니다.\n",
      "돈을 받았으니 커피를 줍니다.\n",
      "남은 커피의 양은 6개 입니다.\n",
      "돈을 받았으니 커피를 줍니다.\n",
      "남은 커피의 양은 5개 입니다.\n",
      "돈을 받았으니 커피를 줍니다.\n",
      "남은 커피의 양은 4개 입니다.\n",
      "돈을 받았으니 커피를 줍니다.\n",
      "남은 커피의 양은 3개 입니다.\n",
      "돈을 받았으니 커피를 줍니다.\n",
      "남은 커피의 양은 2개 입니다.\n",
      "돈을 받았으니 커피를 줍니다.\n",
      "남은 커피의 양은 1개 입니다.\n",
      "돈을 받았으니 커피를 줍니다.\n",
      "남은 커피의 양은 0개 입니다.\n",
      "커피가 다 떨어졌습니다. 판매를 중지합니다.\n"
     ]
    }
   ],
   "source": [
    "# while문 강제로 빠져나가기\n",
    "coffee = 10\n",
    "money = 300\n",
    "while True :\n",
    "    print('돈을 받았으니 커피를 줍니다.')\n",
    "    coffee = coffee -1 \n",
    "    print('남은 커피의 양은 %d개 입니다.' % coffee)\n",
    "    if not coffee :\n",
    "        print('커피가 다 떨어졌습니다. 판매를 중지합니다.')\n",
    "        break"
   ]
  },
  {
   "cell_type": "code",
   "execution_count": 106,
   "id": "ada772d1",
   "metadata": {},
   "outputs": [
    {
     "name": "stdout",
     "output_type": "stream",
     "text": [
      "돈을 받았으니 커피를 줍니다.\n",
      "남은 커피의 양은 9개 입니다.\n",
      "돈을 받았으니 커피를 줍니다.\n",
      "남은 커피의 양은 8개 입니다.\n",
      "돈을 받았으니 커피를 줍니다.\n",
      "남은 커피의 양은 7개 입니다.\n",
      "돈을 받았으니 커피를 줍니다.\n",
      "남은 커피의 양은 6개 입니다.\n",
      "돈을 받았으니 커피를 줍니다.\n",
      "남은 커피의 양은 5개 입니다.\n",
      "돈을 받았으니 커피를 줍니다.\n",
      "남은 커피의 양은 4개 입니다.\n",
      "돈을 받았으니 커피를 줍니다.\n",
      "남은 커피의 양은 3개 입니다.\n",
      "돈을 받았으니 커피를 줍니다.\n",
      "남은 커피의 양은 2개 입니다.\n",
      "돈을 받았으니 커피를 줍니다.\n",
      "남은 커피의 양은 1개 입니다.\n",
      "돈을 받았으니 커피를 줍니다.\n",
      "남은 커피의 양은 0개 입니다.\n",
      "커피가 다 떨어졌습니다. 판매를 중지합니다.\n"
     ]
    }
   ],
   "source": [
    "# while문 강제로 빠져나가기\n",
    "coffee = 10\n",
    "money = 300\n",
    "while money :\n",
    "    print('돈을 받았으니 커피를 줍니다.')\n",
    "    money = money -30\n",
    "    coffee = coffee -1\n",
    "    print('남은 커피의 양은 %d개 입니다.' % coffee)\n",
    "    if money == 0 :\n",
    "        print('커피가 다 떨어졌습니다. 판매를 중지합니다.')\n"
   ]
  },
  {
   "cell_type": "code",
   "execution_count": 108,
   "id": "404406d5",
   "metadata": {},
   "outputs": [
    {
     "name": "stdout",
     "output_type": "stream",
     "text": [
      "정수를 입력해 주세요 : 18\n",
      "그거보다 커요.\n",
      "정수를 입력해 주세요 : 99\n",
      "그거보다 작아요.\n",
      "정수를 입력해 주세요 : 98\n",
      "그거보다 작아요.\n",
      "정수를 입력해 주세요 : 97\n",
      "그거보다 작아요.\n",
      "정수를 입력해 주세요 : 96\n",
      "그거보다 작아요.\n",
      "정수를 입력해 주세요 : 11\n",
      "그거보다 커요.\n",
      "정수를 입력해 주세요 : 23\n",
      "축하드려요 맞추셨네요.\n",
      "The while 문이 끝났습니다.\n",
      "끗\n"
     ]
    }
   ],
   "source": [
    "number = 23\n",
    "running = True\n",
    "while running:\n",
    "    guess = int(input('정수를 입력해 주세요 : '))\n",
    "    if guess == number:\n",
    "        print ('축하드려요 맞추셨네요.')\n",
    "\n",
    "        running = False\n",
    "    elif guess < number:\n",
    "        print ('그거보다 커요.')\n",
    "    else:\n",
    "        print ('그거보다 작아요.')\n",
    "else:\n",
    "    print ('The while 문이 끝났습니다.')\n",
    "\n",
    "print ('끗')"
   ]
  },
  {
   "cell_type": "code",
   "execution_count": null,
   "id": "a8911e91",
   "metadata": {},
   "outputs": [],
   "source": []
  },
  {
   "cell_type": "code",
   "execution_count": null,
   "id": "27f5a5df",
   "metadata": {},
   "outputs": [],
   "source": []
  },
  {
   "cell_type": "code",
   "execution_count": null,
   "id": "58277930",
   "metadata": {},
   "outputs": [],
   "source": []
  },
  {
   "cell_type": "code",
   "execution_count": null,
   "id": "84299f7e",
   "metadata": {},
   "outputs": [],
   "source": []
  }
 ],
 "metadata": {
  "kernelspec": {
   "display_name": "Python 3 (ipykernel)",
   "language": "python",
   "name": "python3"
  },
  "language_info": {
   "codemirror_mode": {
    "name": "ipython",
    "version": 3
   },
   "file_extension": ".py",
   "mimetype": "text/x-python",
   "name": "python",
   "nbconvert_exporter": "python",
   "pygments_lexer": "ipython3",
   "version": "3.11.5"
  }
 },
 "nbformat": 4,
 "nbformat_minor": 5
}
