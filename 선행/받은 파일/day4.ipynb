{
 "cells": [
  {
   "cell_type": "code",
   "execution_count": null,
   "id": "da3366f7",
   "metadata": {},
   "outputs": [],
   "source": [
    "#아래처럼 출력 되도록 for문을 써서 코딩해 주세요\n",
    "#처음에는 빈칸을 출력하고요, 그다음부터 결과를 하나씩 넣어서 출력 가능\n",
    "\n",
    "a = [1,2,3,4]\n",
    "result = []\n",
    "\n",
    "for i in a: # for문을 호출해서 데이터 셋 안에 데이터를 하나씩 끄집어낸다.\n",
    "    print(result)\n",
    "    k = i *3\n",
    "    result.append(k)\n",
    "    \n",
    "\n",
    "\"\"\"\n",
    "[]\n",
    "[3]\n",
    "[3, 6]\n",
    "[3, 6, 9]\n",
    "\"\"\""
   ]
  },
  {
   "cell_type": "code",
   "execution_count": null,
   "id": "2887741f",
   "metadata": {},
   "outputs": [],
   "source": [
    "result = []\n",
    "for x in range(2,10):\n",
    "    for y in range(1,10):\n",
    "        z = x*y\n",
    "        result.append(z)\n",
    "\n",
    "print(result)"
   ]
  },
  {
   "cell_type": "code",
   "execution_count": null,
   "id": "86964f47",
   "metadata": {},
   "outputs": [],
   "source": [
    "# 어제 배운 1줄 for문 완성해 주세요\n",
    "result = [x*y for x in range(2,10) for y in range(1,10)]\n",
    "print(result)"
   ]
  },
  {
   "cell_type": "code",
   "execution_count": null,
   "id": "482b0f16",
   "metadata": {},
   "outputs": [],
   "source": [
    "lst = [1,2,3,4,5]\n",
    "for i in lst :\n",
    "    print(lst[i-1:]) #여기를 바꿔서 아래처럼\n",
    "\n",
    "'''\n",
    "[1, 2, 3, 4, 5]\n",
    "[2, 3, 4, 5]\n",
    "[3, 4, 5]\n",
    "[4, 5]\n",
    "[5]\n",
    "'''     \n",
    "    "
   ]
  },
  {
   "cell_type": "code",
   "execution_count": null,
   "id": "cba30a72",
   "metadata": {},
   "outputs": [],
   "source": [
    "# 직급별로 단어 숫자 세서 딕셔너리에 저장해 주세요.\n",
    "# for문과 if문의 적절한 조화로 문제 푸시면 됩니다.\n",
    "그룹연락처 = ['과장', '부장', '대리', '사장', '대리', '과장']\n",
    "삼성전기 = {} # 결과 저장할 딕셔너리 지정\n",
    "\n",
    "for ch in 그룹연락처 : #데이터 셋 안의 데이터 하나씩 끄집어 내기\n",
    "    print(삼성전기) \n",
    "    if ch in 삼성전기 : #결과 데이터 셋 내부에 끄집어낸 데이터가 있다면\n",
    "        삼성전기[ch] += 1  # 직급 key 데이터에 사람수 value 1 더하기\n",
    "    else :\n",
    "        삼성전기[ch] = 1 # 결과데이터셋에 해당 데이터가 없다면 직급 key 데이터 생성 + 사람수 value 1 지정\n",
    "        \n",
    "print(삼성전기) "
   ]
  },
  {
   "cell_type": "code",
   "execution_count": null,
   "id": "a7acc4a6",
   "metadata": {},
   "outputs": [],
   "source": [
    "student = [\"윤석열\", \"김건희\", \"한동훈\"]\n",
    "numbers = 0\n",
    "\n",
    "for i in student:\n",
    "    print(\"%d 번학생 %s\" %(numbers, i))\n",
    "    numbers += 1"
   ]
  },
  {
   "cell_type": "code",
   "execution_count": null,
   "id": "5ad4d074",
   "metadata": {},
   "outputs": [],
   "source": [
    "# 학생 고유번호를 부여하려고 numbers 계산을 했는데 \n",
    "# 인덱스를 다이렉트로 불러서 numbers 계산을 안함\n",
    "student = [\"윤석열\", \"김건희\", \"한동훈\"]\n",
    "for i in student:\n",
    "    print(\"%d 번학생 %s\" % (student.index(i), i))"
   ]
  },
  {
   "cell_type": "code",
   "execution_count": null,
   "id": "be0eb080",
   "metadata": {},
   "outputs": [],
   "source": [
    "\"\"\"\n",
    "5명의 학생 점수를 하나씩 꺼내서 60점 이상은 \"합격\"이라 출력하고 \n",
    "60점 미만은 \"불합격\"으로 출력해 주세요\n",
    "예) 1번학생 합격, 2번학생 불합격\n",
    "\"\"\"\n",
    "marks = [90, 25, 67, 45, 80]\n",
    "number = 0 #학생 번호를 부여함\n",
    "for i in marks: #데이터 셋 안에 원소를 하나씩 끄집어 내기\n",
    "    number += 1 # 학생별로 1~5번까지 번호부여\n",
    "    if i >= 60: # 60점 이상 (조건문)\n",
    "        print('%d번 학생은 합격' % number)\n",
    "    else:  # if 반대의 경우\n",
    "        print('%d번 학생은 불합격' % number)"
   ]
  },
  {
   "cell_type": "code",
   "execution_count": null,
   "id": "ababbdc2",
   "metadata": {},
   "outputs": [],
   "source": [
    "# 각 학생들의 점수입니다. 60점 이상 받은 학생들은 합격이라 출력해 주시고 \n",
    "# 60점 미만 학생들은 불합격이라고 출력해 주세요.\n",
    "marks = [90, 25, 67, 45, 80]\n",
    "number = {}\n",
    "for i in marks:\n",
    "    if i >= 60:\n",
    "        number[marks.index(i)] = i\n",
    "        print(\"%d번 학생은 합격입니다\" % (marks.index(i)+1))\n",
    "    else:\n",
    "        print(\"%d번 학생은 불합격입니다\" % (marks.index(i)+1))\n",
    "print(number)"
   ]
  },
  {
   "cell_type": "code",
   "execution_count": null,
   "id": "d98cb1da",
   "metadata": {},
   "outputs": [],
   "source": [
    "'''\n",
    "q1. 다음 코드의 결과값은 무엇일까?\n",
    "'''\n",
    "\n",
    "a = \"Life is too short, you need a python\"\n",
    "\n",
    "1. if \"wife\" in a : print(\"wife\")\n",
    "2. elif \"pyton\" in a and \"you\" not in a : print(\"python\")\n",
    "3. elif \"shirt\" not in a : print(\"shirt\")\n",
    "4. elif \"need\" in a : print(\"need\")\n",
    "5. else : print(\"none\")"
   ]
  },
  {
   "cell_type": "code",
   "execution_count": null,
   "id": "bf42962b",
   "metadata": {},
   "outputs": [],
   "source": [
    "user_input = input(\"이름을 입력하세요: \")\n",
    "print(\"안녕하세요, \" + user_input + \"님!\")"
   ]
  },
  {
   "cell_type": "code",
   "execution_count": null,
   "id": "671c8763",
   "metadata": {},
   "outputs": [],
   "source": [
    "message = \"Hello, \" + \"World!\"\n",
    "print(message)"
   ]
  },
  {
   "cell_type": "code",
   "execution_count": null,
   "id": "3193fafa",
   "metadata": {},
   "outputs": [],
   "source": [
    "name = \"Alice\"\n",
    "age = 30\n",
    "print(\"이름:\", name, \"나이:\", age)"
   ]
  },
  {
   "cell_type": "code",
   "execution_count": null,
   "id": "e7e827a5",
   "metadata": {},
   "outputs": [],
   "source": [
    "print(\"한 줄에 출력\", end=\", \")\n",
    "print(\"계속 출력\")"
   ]
  },
  {
   "cell_type": "code",
   "execution_count": 6,
   "id": "856eaa68",
   "metadata": {},
   "outputs": [
    {
     "data": {
      "text/plain": [
       "6620.0"
      ]
     },
     "execution_count": 6,
     "metadata": {},
     "output_type": "execute_result"
    }
   ],
   "source": [
    "import practice_zzang.profit as day4_tired\n",
    "\n",
    "day4_tired.my_profit(10000, 1000, 0.22, 400)"
   ]
  },
  {
   "cell_type": "code",
   "execution_count": null,
   "id": "e85d5066",
   "metadata": {},
   "outputs": [],
   "source": [
    "def say_hello():\n",
    "    print(\"광복절입니다. 할인 이벤트 알리익스프레스\")"
   ]
  },
  {
   "cell_type": "code",
   "execution_count": 9,
   "id": "3af9f124",
   "metadata": {},
   "outputs": [
    {
     "name": "stdout",
     "output_type": "stream",
     "text": [
      "Hello, Alice! You are 30 years old.\n",
      "Hello, 30! You are Alice years old.\n"
     ]
    }
   ],
   "source": [
    "def greet(name, age):\n",
    "    print(f\"Hello, {name}! You are {age} years old.\")\n",
    "\n",
    "greet(\"Alice\", 30)    \n",
    "greet(age=30, name=\"Alice\")  # 매개변수를 지정하여 호출"
   ]
  },
  {
   "cell_type": "code",
   "execution_count": 10,
   "id": "ccfeed7e",
   "metadata": {},
   "outputs": [
    {
     "name": "stdout",
     "output_type": "stream",
     "text": [
      "Hello, Alice! You are 30 years old.\n",
      "None\n"
     ]
    }
   ],
   "source": [
    "print(greet(\"Alice\", 30) )"
   ]
  },
  {
   "cell_type": "code",
   "execution_count": 14,
   "id": "f174a228",
   "metadata": {},
   "outputs": [
    {
     "data": {
      "text/plain": [
       "6"
      ]
     },
     "execution_count": 14,
     "metadata": {},
     "output_type": "execute_result"
    }
   ],
   "source": [
    "# 입력값 3개를 받아서 더해주는 식을 함수로 씀\n",
    "def sum_many(x, y, z):\n",
    "    a = x+y+z\n",
    "    return a\n",
    "\n",
    "result = sum_many(1, 2, 3)\n",
    "result"
   ]
  },
  {
   "cell_type": "code",
   "execution_count": 15,
   "id": "64fe2c4b",
   "metadata": {},
   "outputs": [],
   "source": [
    "# 근데 입력값 5개 7개 99개 이런식으로 늘어나면?????"
   ]
  },
  {
   "cell_type": "code",
   "execution_count": 19,
   "id": "b09a7231",
   "metadata": {},
   "outputs": [
    {
     "data": {
      "text/plain": [
       "28"
      ]
     },
     "execution_count": 19,
     "metadata": {},
     "output_type": "execute_result"
    }
   ],
   "source": [
    "#가변 인수는 변수앞에 * 붙이면 됨 (같은 데이터 타입)\n",
    "def add(*args):\n",
    "    result = 0\n",
    "    for num in args:\n",
    "        result += num\n",
    "    return result\n",
    "\n",
    "total = add(1, 2, 3, 4, 5, 6, 7)  # 임의의 개수의 인수 전달\n",
    "total"
   ]
  },
  {
   "cell_type": "code",
   "execution_count": 1,
   "id": "989274d4",
   "metadata": {},
   "outputs": [
    {
     "name": "stdout",
     "output_type": "stream",
     "text": [
      "0.008333333333333333\n"
     ]
    }
   ],
   "source": [
    "# 여기에 로직 추가해서 나눗셈 기능 넣으세요\n",
    "def sum_mul(choice, *args) :\n",
    "    if choice == 'sum' :\n",
    "        result = 0\n",
    "        for i in args :\n",
    "            result = result + i\n",
    "    elif choice == 'mul' :\n",
    "        result = 1\n",
    "        for i in args :\n",
    "            result = result * i\n",
    "    elif choice == 'div' :\n",
    "        result = 1\n",
    "        for i in args :\n",
    "            result = result / i\n",
    "    return result\n",
    "result = sum_mul('div', 1, 2, 3, 4, 5)\n",
    "print(result)"
   ]
  },
  {
   "cell_type": "code",
   "execution_count": 25,
   "id": "f4135eb8",
   "metadata": {},
   "outputs": [
    {
     "data": {
      "text/plain": [
       "12"
      ]
     },
     "execution_count": 25,
     "metadata": {},
     "output_type": "execute_result"
    }
   ],
   "source": [
    "# 여러 결과를 한번에 나타낼 수 있다.\n",
    "def sum_and_mul(a, b) :\n",
    "    return a + b, a * b\n",
    "\n",
    "result = sum_and_mul(3, 4) # (7, 12)\n",
    "result\n",
    "sum, mul = sum_and_mul(3, 4) # 결과를 하나씩 쪼개서 받을 수 있다.\n",
    "_, mul = sum_and_mul(3, 4)"
   ]
  },
  {
   "cell_type": "code",
   "execution_count": 26,
   "id": "dc3baa04",
   "metadata": {},
   "outputs": [
    {
     "data": {
      "text/plain": [
       "5"
      ]
     },
     "execution_count": 26,
     "metadata": {},
     "output_type": "execute_result"
    }
   ],
   "source": [
    "def sum_and_mul(a, b) :\n",
    "    return a + b\n",
    "    return a * b # 무시\n",
    "\n",
    "result = sum_and_mul(2, 3)\n",
    "result"
   ]
  },
  {
   "cell_type": "code",
   "execution_count": 31,
   "id": "9cc0010e",
   "metadata": {},
   "outputs": [
    {
     "ename": "SyntaxError",
     "evalue": "non-default argument follows default argument (1203433980.py, line 3)",
     "output_type": "error",
     "traceback": [
      "\u001b[1;36m  Cell \u001b[1;32mIn[31], line 3\u001b[1;36m\u001b[0m\n\u001b[1;33m    def say_myself(name, old=42, man) :\u001b[0m\n\u001b[1;37m                                 ^\u001b[0m\n\u001b[1;31mSyntaxError\u001b[0m\u001b[1;31m:\u001b[0m non-default argument follows default argument\n"
     ]
    }
   ],
   "source": [
    "# 입력 인수에 초깃값 미리 설정하기\n",
    "# 남초 회사를 상상하자\n",
    "# 초기값은 뒤에서 부터 설정해야 됩니다.\n",
    "def say_myself(name, old=42, man) :\n",
    "    print('나의 이름은 %s입니다.' % name)\n",
    "    print('나이는 %d살 입니다.' % old)\n",
    "    if man :\n",
    "        print('남자입니다.')\n",
    "    else:\n",
    "        print('여자입니다.')\n",
    "\n",
    "say_myself(\"박상진\", 40, True)"
   ]
  },
  {
   "cell_type": "code",
   "execution_count": 32,
   "id": "2c5425b8",
   "metadata": {},
   "outputs": [
    {
     "name": "stdout",
     "output_type": "stream",
     "text": [
      "name: Alice\n",
      "age: 30\n",
      "city: New York\n"
     ]
    }
   ],
   "source": [
    "# 딕셔너리 자료구조에 한해 **를 사용해서 가변변수 설정가능\n",
    "def person_info(**kwargs):\n",
    "    for key, value in kwargs.items():\n",
    "        print(f\"{key}: {value}\")\n",
    "\n",
    "person_info(name=\"Alice\", age=30, city=\"New York\")"
   ]
  },
  {
   "cell_type": "code",
   "execution_count": 34,
   "id": "7cf56c5d",
   "metadata": {},
   "outputs": [
    {
     "data": {
      "text/plain": [
       "[{'name': 'Bob', 'age': 25},\n",
       " {'name': 'Alice', 'age': 30},\n",
       " {'name': 'Charlie', 'age': 35}]"
      ]
     },
     "execution_count": 34,
     "metadata": {},
     "output_type": "execute_result"
    }
   ],
   "source": [
    "data = [{'name': 'Alice', 'age': 30}, {'name': 'Bob', 'age': 25}, {'name': 'Charlie', 'age': 35}]\n",
    "sorted_data = sorted(data, key=lambda x: x['age'])\n",
    "# 주어진 데이터를 기준으로 각 딕셔너리 데이터셋에서 key값 age를 확인하여 \n",
    "# sort함수를 통해 오름차순 정렬합니다\n",
    "sorted_data "
   ]
  },
  {
   "cell_type": "code",
   "execution_count": 36,
   "id": "53c7dba4",
   "metadata": {},
   "outputs": [
    {
     "data": {
      "text/plain": [
       "[2, 4, 6, 8, 10]"
      ]
     },
     "execution_count": 36,
     "metadata": {},
     "output_type": "execute_result"
    }
   ],
   "source": [
    "numbers = [1, 2, 3, 4, 5, 6, 7, 8, 9, 10]\n",
    "even_numbers = list(filter(lambda x: x % 2 == 0, numbers))\n",
    "# number 데이터 셋에서 개별 원소를 꺼내서 \n",
    "# 2로 나눈 나머지가 0인것만 filter함수를 통해 포함시킵니다\n",
    "even_numbers "
   ]
  },
  {
   "cell_type": "code",
   "execution_count": null,
   "id": "68f53f5a",
   "metadata": {},
   "outputs": [],
   "source": [
    "\"\"\"\n",
    "주의할 점:\n",
    "\n",
    "람다 함수의 한계: 람다 함수는 단순한 함수에만 사용해야 합니다. \n",
    "복잡한 함수나 여러 줄의 코드를 포함하는 함수를 람다로 정의하면 \n",
    "코드의 가독성이 떨어지고 유지보수가 어려워집니다.\n",
    "\n",
    "\n",
    "가독성: 람다 함수는 간단한 경우에만 사용해야 하며, \n",
    "함수의 이름과 문서화가 빠져 있어 가독성이 떨어질 수 있습니다. \n",
    "따라서 의미 있는 함수일 경우에는 명시적인 함수 정의를 고려해야 합니다.\n",
    "\n",
    "람다 함수는 파이썬에서 코드를 간결하게 작성할 때 유용하지만, \n",
    "복잡한 작업에는 일반 함수를 사용하는 것이 더 좋을 수 있습니다.\n",
    "\n",
    "\"\"\"\n",
    " "
   ]
  },
  {
   "cell_type": "code",
   "execution_count": null,
   "id": "d79f7258",
   "metadata": {},
   "outputs": [],
   "source": [
    "# [실습] 문자 빈도수 구하기[1] \n",
    "charset = ['abc', 'code', 'band', 'band', 'abc']\n",
    "wc = {}\n",
    "\n"
   ]
  },
  {
   "cell_type": "code",
   "execution_count": null,
   "id": "4916851b",
   "metadata": {},
   "outputs": [],
   "source": []
  }
 ],
 "metadata": {
  "kernelspec": {
   "display_name": "Python 3 (ipykernel)",
   "language": "python",
   "name": "python3"
  },
  "language_info": {
   "codemirror_mode": {
    "name": "ipython",
    "version": 3
   },
   "file_extension": ".py",
   "mimetype": "text/x-python",
   "name": "python",
   "nbconvert_exporter": "python",
   "pygments_lexer": "ipython3",
   "version": "3.11.5"
  }
 },
 "nbformat": 4,
 "nbformat_minor": 5
}
