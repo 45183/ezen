{
 "cells": [
  {
   "cell_type": "code",
   "execution_count": 3,
   "id": "5ae56591",
   "metadata": {
    "scrolled": true
   },
   "outputs": [
    {
     "name": "stdout",
     "output_type": "stream",
     "text": [
      "현재 count 값: 0\n",
      "현재 count 값: 1\n",
      "현재 count 값: 2\n"
     ]
    }
   ],
   "source": [
    "# quiz: continue를 사용해서 코드를 바꿔서 \n",
    "# 현재 count 값: 4 도 출력되게 프로그램을 바꿔주세요\n",
    "count = 0\n",
    "while count < 5:\n",
    "    if count == 3:\n",
    "        break\n",
    "    print(\"현재 count 값:\", count)\n",
    "    count += 1\n",
    "    \n"
   ]
  },
  {
   "cell_type": "code",
   "execution_count": 4,
   "id": "a4750dd0",
   "metadata": {},
   "outputs": [
    {
     "name": "stdout",
     "output_type": "stream",
     "text": [
      "현재 count 값: 0\n",
      "현재 count 값: 1\n",
      "현재 count 값: 2\n",
      "현재 count 값: 4\n"
     ]
    }
   ],
   "source": [
    "count = 0\n",
    "while count < 5:\n",
    "    if count == 3:\n",
    "        count += 1 # 건너뛰기 전에 4를 만드려고 추가\n",
    "        continue\n",
    "    else: # 3 이 아닌 다른케이스: 건너뛰지 않았을 때\n",
    "        print(\"현재 count 값:\", count)\n",
    "    count += 1"
   ]
  },
  {
   "cell_type": "code",
   "execution_count": 5,
   "id": "f59c7091",
   "metadata": {},
   "outputs": [
    {
     "name": "stdout",
     "output_type": "stream",
     "text": [
      "1\n",
      "3\n",
      "5\n",
      "7\n",
      "9\n"
     ]
    }
   ],
   "source": [
    "# 1에서 9까지 정수에서 while이랑 if 써서 홀수만 출력해 주세요\n",
    "# 힌트는 홀수는 출력하고 짝수는 건너뛰는 것입니다.\n",
    "\n",
    "a = 0\n",
    "while a < 10:\n",
    "    a += 1\n",
    "    if a % 2 == 0: #짝수는 2로 나눴을 때 나머지가 0이다.\n",
    "        continue\n",
    "    else:\n",
    "        print(a)"
   ]
  },
  {
   "cell_type": "code",
   "execution_count": 11,
   "id": "172322a6",
   "metadata": {},
   "outputs": [
    {
     "name": "stdout",
     "output_type": "stream",
     "text": [
      "one\n",
      "two\n",
      "three\n"
     ]
    }
   ],
   "source": [
    "# for문의 기본 구조\n",
    "test_list = ['one', 'two', 'three'] # 데이터를 정의\n",
    "for i in test_list :\n",
    "    print(i) #내가 하고싶은 작업"
   ]
  },
  {
   "cell_type": "code",
   "execution_count": 13,
   "id": "0eb0bfd3",
   "metadata": {},
   "outputs": [
    {
     "name": "stdout",
     "output_type": "stream",
     "text": [
      "H___\n",
      "e___\n",
      "l___\n",
      "l___\n",
      "o___\n"
     ]
    }
   ],
   "source": [
    "# 데이터 셋이 문자열 단어면 글자별로 탐색해서 작업한다.\n",
    "text = \"Hello\"\n",
    "for char in text:\n",
    "    print(char + \"___\")"
   ]
  },
  {
   "cell_type": "code",
   "execution_count": 15,
   "id": "f1be86e5",
   "metadata": {},
   "outputs": [
    {
     "name": "stdout",
     "output_type": "stream",
     "text": [
      "[1, 2, 3, 4, 5, 6, 7, 8, 9, 10, 11, 12, 13, 14, 15, 16, 17, 18, 19, 20, 21, 22, 23, 24, 25, 26, 27, 28, 29, 30, 31, 32, 33, 34, 35, 36, 37, 38, 39, 40, 41, 42, 43, 44, 45, 46, 47, 48, 49, 50, 51, 52, 53, 54, 55, 56, 57, 58, 59, 60, 61, 62, 63, 64, 65, 66, 67, 68, 69, 70, 71, 72, 73, 74, 75, 76, 77, 78, 79, 80, 81, 82, 83, 84, 85, 86, 87, 88, 89, 90, 91, 92, 93, 94, 95, 96, 97, 98, 99, 100]\n"
     ]
    }
   ],
   "source": [
    "#a = [1,2,3,4,5]\n",
    "\n",
    "a = range(1,101)\n",
    "a = list(a)\n",
    "print(a)\n"
   ]
  },
  {
   "cell_type": "code",
   "execution_count": 19,
   "id": "0d458be4",
   "metadata": {},
   "outputs": [
    {
     "name": "stdout",
     "output_type": "stream",
     "text": [
      "현재 count 값: 0\n",
      "현재 count 값: 1\n",
      "현재 count 값: 2\n",
      "현재 count 값: 4\n",
      "현재 count 값: 5\n"
     ]
    }
   ],
   "source": [
    "numbers = [0, 1, 2, 3, 4, 5]\n",
    "for number in numbers:\n",
    "    if number == 3:\n",
    "        continue\n",
    "    print(\"현재 count 값:\", number)"
   ]
  },
  {
   "cell_type": "code",
   "execution_count": 17,
   "id": "01e76796",
   "metadata": {},
   "outputs": [
    {
     "name": "stdout",
     "output_type": "stream",
     "text": [
      "현재 count 값: 0\n",
      "현재 count 값: 1\n",
      "현재 count 값: 2\n",
      "현재 count 값: 4\n",
      "현재 count 값: 5\n"
     ]
    }
   ],
   "source": [
    "count = 0\n",
    "while count < 6:\n",
    "    if count == 3:\n",
    "        count += 1 # 건너뛰기 전에 4를 만드려고 추가\n",
    "        continue\n",
    "    else: # 3 이 아닌 다른케이스: 건너뛰지 않았을 때\n",
    "        print(\"현재 count 값:\", count)\n",
    "    count += 1"
   ]
  },
  {
   "cell_type": "code",
   "execution_count": null,
   "id": "cfd4fb46",
   "metadata": {},
   "outputs": [],
   "source": [
    "\"\"\"\n",
    "while 문은 조건이 변하기 전까지 작업을 반복하므로 while문에서는 작업 수행의 범위를 지정하는 로직이 포함되어야 한다. (무한루프 방지)\n",
    "반면 for문은 데이터셋의 범위 내에서 모든 원소에 대해 반복 작업을 수행해야 하므로 작업을 멈추는 로직이 없어도 데이터셋의 범위 자체가 이미 작업의 범위를 지정하는 것이다.\n",
    "\"\"\""
   ]
  },
  {
   "cell_type": "code",
   "execution_count": 21,
   "id": "0a56a233",
   "metadata": {},
   "outputs": [
    {
     "name": "stdout",
     "output_type": "stream",
     "text": [
      "(1, 2)\n",
      "(3, 4)\n",
      "(5, 6)\n"
     ]
    }
   ],
   "source": [
    "# 다양한 for문의 사용\n",
    "a = [(1, 2), (3, 4), (5, 6)]\n",
    "for (first, last) in a :\n",
    "    print(first + last)\n",
    "\n"
   ]
  },
  {
   "cell_type": "code",
   "execution_count": 23,
   "id": "619402fb",
   "metadata": {},
   "outputs": [
    {
     "name": "stdout",
     "output_type": "stream",
     "text": [
      "1번 학생은 합격\n",
      "2번 학생은 합격\n",
      "3번 학생은 합격\n",
      "4번 학생은 합격\n",
      "5번 학생은 합격\n"
     ]
    }
   ],
   "source": [
    "\"\"\"\n",
    "5명의 학생 점수를 하나씩 꺼내서 60점 이상은 \"합격\"이라 출력하고 \n",
    "60점 미만은 \"불합격\"으로 출력해 주세요\n",
    "예) 1번학생 합격, 2번학생 불합격\n",
    "\"\"\"\n",
    "marks = [90, 25, 67, 45, 80]\n",
    "number = 0 #학생 번호를 부여함\n",
    "for i in marks: #데이터 셋 안에 원소를 하나씩 끄집어 내기\n",
    "    number += 1 # 학생별로 1~5번까지 번호부여\n",
    "    if i >= 60: # 60점 이상 (조건문)\n",
    "        print('%d번 학생은 합격' % number)\n",
    "    else:  # if 반대의 경우\n",
    "        print('%d번 학생은 불합격' % number)\n",
    "\n"
   ]
  },
  {
   "cell_type": "code",
   "execution_count": 24,
   "id": "6fa5337a",
   "metadata": {},
   "outputs": [
    {
     "name": "stdout",
     "output_type": "stream",
     "text": [
      "2 x 1 = 2\n",
      "2 x 2 = 4\n",
      "2 x 3 = 6\n",
      "2 x 4 = 8\n",
      "2 x 5 = 10\n",
      "2 x 6 = 12\n",
      "2 x 7 = 14\n",
      "2 x 8 = 16\n",
      "2 x 9 = 18\n",
      "3 x 1 = 3\n",
      "3 x 2 = 6\n",
      "3 x 3 = 9\n",
      "3 x 4 = 12\n",
      "3 x 5 = 15\n",
      "3 x 6 = 18\n",
      "3 x 7 = 21\n",
      "3 x 8 = 24\n",
      "3 x 9 = 27\n",
      "4 x 1 = 4\n",
      "4 x 2 = 8\n",
      "4 x 3 = 12\n",
      "4 x 4 = 16\n",
      "4 x 5 = 20\n",
      "4 x 6 = 24\n",
      "4 x 7 = 28\n",
      "4 x 8 = 32\n",
      "4 x 9 = 36\n",
      "5 x 1 = 5\n",
      "5 x 2 = 10\n",
      "5 x 3 = 15\n",
      "5 x 4 = 20\n",
      "5 x 5 = 25\n",
      "5 x 6 = 30\n",
      "5 x 7 = 35\n",
      "5 x 8 = 40\n",
      "5 x 9 = 45\n",
      "6 x 1 = 6\n",
      "6 x 2 = 12\n",
      "6 x 3 = 18\n",
      "6 x 4 = 24\n",
      "6 x 5 = 30\n",
      "6 x 6 = 36\n",
      "6 x 7 = 42\n",
      "6 x 8 = 48\n",
      "6 x 9 = 54\n",
      "7 x 1 = 7\n",
      "7 x 2 = 14\n",
      "7 x 3 = 21\n",
      "7 x 4 = 28\n",
      "7 x 5 = 35\n",
      "7 x 6 = 42\n",
      "7 x 7 = 49\n",
      "7 x 8 = 56\n",
      "7 x 9 = 63\n",
      "8 x 1 = 8\n",
      "8 x 2 = 16\n",
      "8 x 3 = 24\n",
      "8 x 4 = 32\n",
      "8 x 5 = 40\n",
      "8 x 6 = 48\n",
      "8 x 7 = 56\n",
      "8 x 8 = 64\n",
      "8 x 9 = 72\n",
      "9 x 1 = 9\n",
      "9 x 2 = 18\n",
      "9 x 3 = 27\n",
      "9 x 4 = 36\n",
      "9 x 5 = 45\n",
      "9 x 6 = 54\n",
      "9 x 7 = 63\n",
      "9 x 8 = 72\n",
      "9 x 9 = 81\n"
     ]
    }
   ],
   "source": [
    "# 이중 for문 : 개별 원소에 대해 추가적인 반복연산 가능\n",
    "for i in range(2, 10): # 2에서 9단까지 구구단의 몇'단' 설정\n",
    "    for j in range(1, 10): # 각 구구단의 계산\n",
    "        print(f\"{i} x {j} = {i * j}\")"
   ]
  },
  {
   "cell_type": "code",
   "execution_count": 26,
   "id": "03d65445",
   "metadata": {},
   "outputs": [
    {
     "data": {
      "text/plain": [
       "[1, 4, 9, 16, 25]"
      ]
     },
     "execution_count": 26,
     "metadata": {},
     "output_type": "execute_result"
    }
   ],
   "source": [
    "# for문은 한줄에 쓸 수 있다.\n",
    "numbers = [1, 2, 3, 4, 5]\n",
    "squares = [x**2 for x in numbers] # 하고싶은 작업 for 원소 in 데이터셋\n",
    "squares"
   ]
  },
  {
   "cell_type": "code",
   "execution_count": 27,
   "id": "50407176",
   "metadata": {},
   "outputs": [
    {
     "name": "stdout",
     "output_type": "stream",
     "text": [
      "1\n",
      "4\n",
      "9\n",
      "16\n",
      "25\n"
     ]
    }
   ],
   "source": [
    "numbers = [1, 2, 3, 4, 5]\n",
    "for x in numbers:\n",
    "    print(x**2)"
   ]
  },
  {
   "cell_type": "code",
   "execution_count": 28,
   "id": "6d927671",
   "metadata": {},
   "outputs": [
    {
     "name": "stdout",
     "output_type": "stream",
     "text": [
      "2\n",
      "4\n",
      "6\n",
      "8\n",
      "10\n",
      "12\n",
      "14\n",
      "16\n",
      "18\n",
      "3\n",
      "6\n",
      "9\n",
      "12\n",
      "15\n",
      "18\n",
      "21\n",
      "24\n",
      "27\n",
      "4\n",
      "8\n",
      "12\n",
      "16\n",
      "20\n",
      "24\n",
      "28\n",
      "32\n",
      "36\n",
      "5\n",
      "10\n",
      "15\n",
      "20\n",
      "25\n",
      "30\n",
      "35\n",
      "40\n",
      "45\n",
      "6\n",
      "12\n",
      "18\n",
      "24\n",
      "30\n",
      "36\n",
      "42\n",
      "48\n",
      "54\n",
      "7\n",
      "14\n",
      "21\n",
      "28\n",
      "35\n",
      "42\n",
      "49\n",
      "56\n",
      "63\n",
      "8\n",
      "16\n",
      "24\n",
      "32\n",
      "40\n",
      "48\n",
      "56\n",
      "64\n",
      "72\n",
      "9\n",
      "18\n",
      "27\n",
      "36\n",
      "45\n",
      "54\n",
      "63\n",
      "72\n",
      "81\n"
     ]
    }
   ],
   "source": [
    "for i in range(2, 10): # 2에서 9단까지 구구단의 몇'단' 설정\n",
    "    for j in range(1, 10): # 각 구구단의 계산\n",
    "        print(i * j)"
   ]
  },
  {
   "cell_type": "code",
   "execution_count": 29,
   "id": "894e493c",
   "metadata": {},
   "outputs": [
    {
     "name": "stdout",
     "output_type": "stream",
     "text": [
      "[2, 4, 6, 8, 10, 12, 14, 16, 18, 3, 6, 9, 12, 15, 18, 21, 24, 27, 4, 8, 12, 16, 20, 24, 28, 32, 36, 5, 10, 15, 20, 25, 30, 35, 40, 45, 6, 12, 18, 24, 30, 36, 42, 48, 54, 7, 14, 21, 28, 35, 42, 49, 56, 63, 8, 16, 24, 32, 40, 48, 56, 64, 72, 9, 18, 27, 36, 45, 54, 63, 72, 81]\n"
     ]
    }
   ],
   "source": [
    "result = [x*y for x in range(2,10) for y in range(1,10)]\n",
    "print(result)"
   ]
  },
  {
   "cell_type": "code",
   "execution_count": 30,
   "id": "653e2abd",
   "metadata": {},
   "outputs": [
    {
     "name": "stdout",
     "output_type": "stream",
     "text": [
      "55\n"
     ]
    }
   ],
   "source": [
    "# 1에서 10까지 정수를 더한 값을 만드세요\n",
    "\n",
    "sum = 0\n",
    "for i in range(1,11):\n",
    "    sum += i\n",
    "print(sum)\n"
   ]
  },
  {
   "cell_type": "code",
   "execution_count": 37,
   "id": "9d19061b",
   "metadata": {},
   "outputs": [
    {
     "name": "stdout",
     "output_type": "stream",
     "text": [
      "광해 [9.24, 1200]\n",
      "공작 [7.86, 500]\n",
      "관상 [8.01, 900]\n",
      "('광해', [9.24, 1200])\n",
      "('공작', [7.86, 500])\n",
      "('관상', [8.01, 900])\n"
     ]
    }
   ],
   "source": [
    "#  {key : [val1, val2]} - {'영화' : [평점, 관객수 = 만명]}\n",
    "movie = {'광해' : [9.24, 1200], '공작' : [7.86, 500], '관상' : [8.01, 900],}\n",
    "\n",
    "# # for문으로 딕셔너리에서 key값들만 한줄씩 출력해 주세요\n",
    "# for xx in movie.keys():\n",
    "#     print(xx)\n",
    "\n",
    "# # for문으로 딕셔너리에서 value값들만 한줄씩 출력해 주세요\n",
    "# for yy in movie.values():\n",
    "#     print(yy)\n",
    "\n",
    "# for문으로 딕셔너리에서 key랑 value값 둘 다 한줄씩 출력해 주세요\n",
    "for zz, k in movie.items():\n",
    "    print(zz, k)\n",
    "\n",
    "for k in movie.items():\n",
    "    print(k)"
   ]
  },
  {
   "cell_type": "code",
   "execution_count": 38,
   "id": "2d95cce1",
   "metadata": {},
   "outputs": [
    {
     "name": "stdout",
     "output_type": "stream",
     "text": [
      "광해\n",
      "관상\n",
      "2100\n"
     ]
    }
   ],
   "source": [
    "#  {key : [val1, val2]} - {'영화' : [평점, 관객수]}\n",
    "movie = {'광해' : [9.24, 1200], '공작' : [7.86, 500], '관상' : [8.01, 900],}\n",
    "\n",
    "#  문] 평점 8이상인 영화들의 제목과 합산관객수 출력하기 \n",
    "'''\n",
    "광해\n",
    "관상\n",
    "누적 관객수 =  2,100\n",
    "'''    \n",
    "tot = 0 #관객수\n",
    "for zz, k in movie.items(): # 데이터 셋 내부 개별 데이터 호출\n",
    "    if k[0] >= 8: # 데이터 안에 평점이 담긴 위치를 호출\n",
    "        print(zz) # 영화제목을 출력함\n",
    "        tot += k[1]\n",
    "print(tot)\n",
    "\n",
    "\n"
   ]
  },
  {
   "cell_type": "code",
   "execution_count": 40,
   "id": "e2f2291c",
   "metadata": {},
   "outputs": [
    {
     "data": {
      "text/plain": [
       "[1, 2, 3, 4, 5]"
      ]
     },
     "execution_count": 40,
     "metadata": {},
     "output_type": "execute_result"
    }
   ],
   "source": [
    "dataset = [3, 5, 1, 2, 4]\n",
    "dataset.sort()\n",
    "dataset"
   ]
  },
  {
   "cell_type": "code",
   "execution_count": 46,
   "id": "642a99d8",
   "metadata": {},
   "outputs": [
    {
     "name": "stdout",
     "output_type": "stream",
     "text": [
      "[3, 5, 1, 2, 4]\n",
      "[3, 1, 2, 4, 5]\n",
      "[1, 2, 3, 4, 5]\n",
      "[1, 2, 3, 4, 5]\n"
     ]
    }
   ],
   "source": [
    "# (1) 오름차순 정렬 sort 함수 없이 정렬 (2중 for문 사용) 해법 1\n",
    "dataset = [3, 5, 1, 2, 4]\n",
    "\n",
    "n = len(dataset)\n",
    "for i in range(0, n-1): #1~ n-1 까지\n",
    "    print(dataset)\n",
    "    for j in range(0, n-i-1): # i+1 ~ n-1\n",
    "        if dataset[j] > dataset[j+1]:\n",
    "            dataset[j], dataset[j+1] = dataset[j+1], dataset[j]      \n",
    "#print(dataset)"
   ]
  },
  {
   "cell_type": "code",
   "execution_count": 53,
   "id": "8e08f649",
   "metadata": {},
   "outputs": [
    {
     "name": "stdout",
     "output_type": "stream",
     "text": [
      "[3, 5, 1, 2, 4]\n",
      "[3, 5, 1, 2, 4]\n",
      "[1, 5, 3, 2, 4]\n",
      "[1, 5, 3, 2, 4]\n",
      "[1, 5, 3, 2, 4]\n",
      "[1, 3, 5, 2, 4]\n",
      "[1, 2, 5, 3, 4]\n",
      "[1, 2, 5, 3, 4]\n",
      "[1, 2, 3, 5, 4]\n",
      "[1, 2, 3, 5, 4]\n"
     ]
    }
   ],
   "source": [
    "# 디버깅 팁: 내가 검증하고 싶은 로직 바로밑에 print 함수 사용 + 변수도 추가\n",
    "dataset = [3, 5, 1, 2, 4]\n",
    "n = len(dataset)\n",
    "for i in range(0, n-1) : # 1 ~ n-1\n",
    "    for j in range(i+1, n) : # i+1 ~ n-1\n",
    "        print(i, j, dataset) # 그냥 dataset을 출력하면 내가 어디있는지 잘 몰라\n",
    "        if dataset[i] > dataset[j] :\n",
    "            tmp = dataset[i]\n",
    "            dataset[i] = dataset[j]\n",
    "            dataset[j] = tmp\n",
    "#print(dataset)"
   ]
  },
  {
   "cell_type": "code",
   "execution_count": null,
   "id": "75629c26",
   "metadata": {},
   "outputs": [],
   "source": [
    "# 코드를 많이 읽어보자"
   ]
  },
  {
   "cell_type": "code",
   "execution_count": 50,
   "id": "c63c4a41",
   "metadata": {},
   "outputs": [
    {
     "name": "stdout",
     "output_type": "stream",
     "text": [
      "0 1 [3, 5, 1, 2, 4]\n",
      "0 2 [5, 3, 1, 2, 4]\n",
      "0 3 [5, 3, 1, 2, 4]\n",
      "0 4 [5, 3, 1, 2, 4]\n",
      "1 2 [5, 3, 1, 2, 4]\n",
      "1 3 [5, 3, 1, 2, 4]\n",
      "1 4 [5, 3, 1, 2, 4]\n",
      "2 3 [5, 4, 1, 2, 3]\n",
      "2 4 [5, 4, 2, 1, 3]\n",
      "3 4 [5, 4, 3, 1, 2]\n",
      "3 4 [5, 4, 3, 2, 1]\n"
     ]
    }
   ],
   "source": [
    "# (2) 내림차순 정렬 sort 함수 없이 정렬 (2중 for문 사용)\n",
    "dataset = [3, 5, 1, 2, 4]\n",
    "\n",
    "n = len(dataset)\n",
    "for i in range(0, n-1) : # 1 ~ n-1 기준 원소\n",
    "    for j in range(i+1, n) : # i+1 ~ n-1 비교할 원소\n",
    "        print(i,  j, dataset)\n",
    "        if dataset[i] < dataset[j] :\n",
    "            tmp = dataset[i]\n",
    "            dataset[i] = dataset[j]\n",
    "            dataset[j] = tmp\n",
    "print(i, j, dataset)"
   ]
  },
  {
   "cell_type": "code",
   "execution_count": 54,
   "id": "2df82273",
   "metadata": {},
   "outputs": [
    {
     "name": "stdout",
     "output_type": "stream",
     "text": [
      "[20, 38, 17, 23, 23, 39]\n"
     ]
    }
   ],
   "source": [
    "# 1-45 중의 정수를 무작위로 6개뽑아서 리스트 자료에 넣어서 보여주세요\n",
    "# 로또 프로그램\n",
    "\n",
    "import random # 무작위 수를 추출하는 모듈입니다.\n",
    "r = [] # 빈 리스트 자료구조를 생성합니다. 뽑은 번호를 넣어야 하니까요.\n",
    "for i in range(6): # 6개의 숫자를 뽑습니다.\n",
    "    r.append(random.randint(1,46)) # random.randint(1,46) 는 1~45 정수중에 하나 무작위로 추출\n",
    "\n",
    "print(r) # 결과출력\n"
   ]
  },
  {
   "cell_type": "code",
   "execution_count": 57,
   "id": "20ae15e9",
   "metadata": {},
   "outputs": [
    {
     "name": "stdout",
     "output_type": "stream",
     "text": [
      "{0: [14, 2, 15, 8, 12, 36], 1: [7, 16, 25, 11, 8, 14], 2: [28, 35, 15, 4, 16, 41], 3: [28, 9, 31, 6, 14, 24], 4: [20, 25, 24, 37, 18, 13], 5: [16, 28, 23, 18, 36, 33], 6: [21, 5, 12, 32, 42, 2], 7: [18, 38, 15, 34, 28, 13], 8: [11, 9, 12, 15, 5, 27], 9: [23, 42, 1, 43, 13, 31]}\n"
     ]
    }
   ],
   "source": [
    "import random\n",
    "results = {} # 최종 복권결과를 저장하는 자료구조 선언\n",
    "for i in range(10): #복권 10장\n",
    "    r = [] # 개별 복권 결과를 저장하는 자료구조 선언\n",
    "\n",
    "    while len(r) < 6: #당첨 숫자 6개가 나올때 까지 계속 로직 돌리세요\n",
    "        number = random.randint(1, 45) # 1부터 45까지 정수 중에 하나 선택\n",
    "        if number not in r:  # 중복된 숫자가 있는지 체크하기\n",
    "            r.append(number)  # 중복된 숫자가 아닌경우 당첨숫자에 추가\n",
    "        results[i] = r #만들어진 당첨 복권 세트 하나씩 최종 결과에 추가\n",
    "print(results)     # 결과출력"
   ]
  },
  {
   "cell_type": "code",
   "execution_count": 58,
   "id": "d653c671",
   "metadata": {},
   "outputs": [
    {
     "name": "stdout",
     "output_type": "stream",
     "text": [
      "{0: [3, 5, 17, 18, 42, 44], 1: [12, 21, 24, 29, 41, 44], 2: [7, 12, 13, 15, 28, 30], 3: [4, 9, 13, 19, 32, 33], 4: [2, 5, 9, 22, 28, 40], 5: [11, 19, 30, 34, 38, 44], 6: [8, 19, 31, 34, 38, 42], 7: [8, 9, 13, 29, 33, 40], 8: [3, 9, 21, 23, 25, 26], 9: [7, 13, 25, 29, 34, 37]}\n"
     ]
    }
   ],
   "source": [
    "# 로또 10세트를 진행해서 딕셔너리 자료구조에 넣어서 보여주세요\n",
    "# 로또는 중복추출이 안되서... 중복추출 방지한 명령어로 다시 보입니다.\n",
    "# 문제: 개별결과 set을 정렬해서 보여주세요\n",
    "import random\n",
    "\n",
    "results = {}\n",
    "for j in range(10):\n",
    "    r = random.sample(range(1,46),6)\n",
    "    r.sort() # 정렬시킴\n",
    "    results[j] = r\n",
    "print(results)"
   ]
  },
  {
   "cell_type": "code",
   "execution_count": 60,
   "id": "54abe0cc",
   "metadata": {},
   "outputs": [
    {
     "name": "stdout",
     "output_type": "stream",
     "text": [
      "[[1, 2, 3, 4, 5], [3, 11, 32, 77, 99], [2, 3, 32, 666, 75645], [1, 3, 4, 32, 666], [2, 5, 7, 323, 666]]\n"
     ]
    }
   ],
   "source": [
    "# 정렬알고리즘에서 오름차순 알고리즘을 사용하여\n",
    "# 아래 5개 데이터셋의 정렬작업을 순차적으로 진행하여 주시기 바랍니다.\n",
    "#맨 위에 for문 하나만 더 쓰면 됩니다.\n",
    "\n",
    "dataset_1 = [3, 5, 1, 2, 4]\n",
    "dataset_2 = [3, 11, 77, 32, 99]\n",
    "dataset_3 = [3, 75645, 32, 2, 666]\n",
    "dataset_4 = [3, 32, 1, 666, 4]\n",
    "dataset_5 = [323, 5, 7, 2, 666]\n",
    "datasets = [dataset_1, dataset_2, dataset_3, dataset_4, dataset_5 ]\n",
    "\n",
    "\n",
    "for dataset in datasets:\n",
    "    n = len(dataset)\n",
    "    for i in range(0, n-1) : # 1 ~ n-1\n",
    "        for j in range(i+1, n) : # i+1 ~ n-1\n",
    "            #print(i, j, dataset) # 그냥 dataset을 출력하면 내가 어디있는지 잘 몰라\n",
    "            if dataset[i] > dataset[j] :\n",
    "                tmp = dataset[i]\n",
    "                dataset[i] = dataset[j]\n",
    "                dataset[j] = tmp\n",
    "print(datasets)"
   ]
  },
  {
   "cell_type": "code",
   "execution_count": 61,
   "id": "8990f11f",
   "metadata": {},
   "outputs": [
    {
     "name": "stdout",
     "output_type": "stream",
     "text": [
      "[2, 4, 6, 8, 10, 12, 14, 16, 18, 20, 22, 24, 26, 28, 30, 32, 34, 36, 38, 40, 42, 44, 46, 48, 50, 52, 54, 56, 58, 60, 62, 64, 66, 68, 70, 72, 74, 76, 78, 80, 82, 84, 86, 88, 90, 92, 94, 96, 98, 100]\n"
     ]
    }
   ],
   "source": [
    "# 1부터 100까지 정수 중에서 짝수만 뽑아서 출력해 주세요.\n",
    "\n",
    "result = list(range(1,101))\n",
    "result3 = []\n",
    "for m in result:\n",
    "    if m % 2 == 0:\n",
    "        result3.append(m)\n",
    "print(result3)\n"
   ]
  },
  {
   "cell_type": "code",
   "execution_count": null,
   "id": "c61af2ce",
   "metadata": {},
   "outputs": [],
   "source": []
  },
  {
   "cell_type": "code",
   "execution_count": null,
   "id": "9630f956",
   "metadata": {},
   "outputs": [],
   "source": []
  },
  {
   "cell_type": "code",
   "execution_count": null,
   "id": "94f45431",
   "metadata": {},
   "outputs": [],
   "source": []
  }
 ],
 "metadata": {
  "kernelspec": {
   "display_name": "Python 3 (ipykernel)",
   "language": "python",
   "name": "python3"
  },
  "language_info": {
   "codemirror_mode": {
    "name": "ipython",
    "version": 3
   },
   "file_extension": ".py",
   "mimetype": "text/x-python",
   "name": "python",
   "nbconvert_exporter": "python",
   "pygments_lexer": "ipython3",
   "version": "3.11.5"
  }
 },
 "nbformat": 4,
 "nbformat_minor": 5
}
