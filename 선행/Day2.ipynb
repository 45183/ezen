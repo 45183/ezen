{
 "cells": [
  {
   "cell_type": "code",
   "execution_count": 3,
   "id": "de9ea8c5",
   "metadata": {},
   "outputs": [],
   "source": [
    "# 정확한 명령을 해야함\n",
    "# 정확한 명령의 의미는 어떤 자료구조에 어떤 결과를 기대한 연산인가?\n",
    "\n",
    "my_list = [1, 2, 3]\n",
    "\n",
    "# my_list + 4"
   ]
  },
  {
   "cell_type": "code",
   "execution_count": 5,
   "id": "32a59b42",
   "metadata": {},
   "outputs": [],
   "source": [
    "# 각 원소에 4씩 더하고 싶으면\n",
    "\n",
    "# 변할 변수의 위치에\n",
    "my_list[0] = my_list[0] + 4\n",
    "my_list[1] = my_list[1] + 4\n",
    "my_list[2] = my_list[2] + 4"
   ]
  },
  {
   "cell_type": "code",
   "execution_count": 6,
   "id": "099b573b",
   "metadata": {},
   "outputs": [
    {
     "data": {
      "text/plain": [
       "[5, 6, 7]"
      ]
     },
     "execution_count": 6,
     "metadata": {},
     "output_type": "execute_result"
    }
   ],
   "source": [
    "my_list"
   ]
  },
  {
   "cell_type": "code",
   "execution_count": 8,
   "id": "66275157",
   "metadata": {},
   "outputs": [
    {
     "data": {
      "text/plain": [
       "[1, 2, 3, 4]"
      ]
     },
     "execution_count": 8,
     "metadata": {},
     "output_type": "execute_result"
    }
   ],
   "source": [
    "'''\n",
    "리스트라는 자료구조를 어떻게 처리할 것인가\n",
    "-> 리스트 관련함수\n",
    "'''\n",
    "\n",
    "# 리스트에 요소 추가 - append\n",
    "\n",
    "my_list = [1, 2, 3]\n",
    "my_list.append(4)\n",
    "my_list"
   ]
  },
  {
   "cell_type": "code",
   "execution_count": 9,
   "id": "4c4eace9",
   "metadata": {},
   "outputs": [
    {
     "data": {
      "text/plain": [
       "[1, 2, 3, 4]"
      ]
     },
     "execution_count": 9,
     "metadata": {},
     "output_type": "execute_result"
    }
   ],
   "source": [
    "my_list = [1, 2, 3]\n",
    "c = [4]\n",
    "\n",
    "my_newlist = my_list + c\n",
    "my_newlist"
   ]
  },
  {
   "cell_type": "code",
   "execution_count": null,
   "id": "d04c8644",
   "metadata": {},
   "outputs": [],
   "source": [
    "# 리스트 정렬 - sort\n",
    "\n",
    "my_list = [3, 1, 2, 4]\n",
    "# my_list = [3, \"1\", 2, 4] - 동일한 자료형이어야 함\n",
    "my_list.sort()\n",
    "my_list"
   ]
  },
  {
   "cell_type": "code",
   "execution_count": 12,
   "id": "2d3514d8",
   "metadata": {},
   "outputs": [
    {
     "data": {
      "text/plain": [
       "[1, 2, 3, 4]"
      ]
     },
     "execution_count": 12,
     "metadata": {},
     "output_type": "execute_result"
    }
   ],
   "source": [
    "# 자바스크립트의 문제점\n",
    "\n",
    "\n",
    "# 3 - \"1\" --> 2\n",
    "# \"1\" + 3 --> \"13\""
   ]
  },
  {
   "cell_type": "code",
   "execution_count": 13,
   "id": "57813a7d",
   "metadata": {},
   "outputs": [
    {
     "data": {
      "text/plain": [
       "[3, 2, 1]"
      ]
     },
     "execution_count": 13,
     "metadata": {},
     "output_type": "execute_result"
    }
   ],
   "source": [
    "# 리스트 뒤집기 - reverse\n",
    "\n",
    "my_list = [1, 2, 3]\n",
    "my_list.reverse()\n",
    "my_list"
   ]
  },
  {
   "cell_type": "code",
   "execution_count": 50,
   "id": "dd4dd533",
   "metadata": {},
   "outputs": [
    {
     "data": {
      "text/plain": [
       "1"
      ]
     },
     "execution_count": 50,
     "metadata": {},
     "output_type": "execute_result"
    }
   ],
   "source": [
    "# 인덱스 반환 - index\n",
    "\n",
    "my_list = [1, 2, 3, 4, 2]\n",
    "index = my_list.index(2) # 첫번째로 나타나는 2의 인덱스\n",
    "index"
   ]
  },
  {
   "cell_type": "code",
   "execution_count": null,
   "id": "db16d1de",
   "metadata": {},
   "outputs": [],
   "source": [
    "# 리스트에 요소 삽입 -insert\n",
    "\n",
    "my_list = [1, 2, 3]\n",
    "my_list.insert(1, 4) # 집어넣을 위치, 집어넣고 싶은 데이터\n",
    "my_list"
   ]
  },
  {
   "cell_type": "code",
   "execution_count": 15,
   "id": "9b42c217",
   "metadata": {},
   "outputs": [
    {
     "data": {
      "text/plain": [
       "[1, 3, 4, 2]"
      ]
     },
     "execution_count": 15,
     "metadata": {},
     "output_type": "execute_result"
    }
   ],
   "source": [
    "# 리스트의 요소 제거 - remove\n",
    "\n",
    "my_list = [1, 2, 3, 4, 2]\n",
    "my_list.remove(2) # 없애고 싶은 첫번째 데이터\n",
    "my_list"
   ]
  },
  {
   "cell_type": "code",
   "execution_count": 17,
   "id": "b51e453c",
   "metadata": {},
   "outputs": [
    {
     "data": {
      "text/plain": [
       "[1, 2]"
      ]
     },
     "execution_count": 17,
     "metadata": {},
     "output_type": "execute_result"
    }
   ],
   "source": [
    "# 리스트 요소 끄집어 내기 - pop\n",
    "\n",
    "my_list = [1, 2, 3]\n",
    "popped_item = my_list.pop() # 리스트의 마지막 요소 제거\n",
    "my_list"
   ]
  },
  {
   "cell_type": "code",
   "execution_count": 18,
   "id": "b577c60f",
   "metadata": {},
   "outputs": [
    {
     "data": {
      "text/plain": [
       "[1, 2, 3, 4]"
      ]
     },
     "execution_count": 18,
     "metadata": {},
     "output_type": "execute_result"
    }
   ],
   "source": [
    "# 리스트의 확장 - extend\n",
    "\n",
    "list1 = [1, 2]\n",
    "list2 = [3, 4]\n",
    "list1.extend(list2)\n",
    "list1"
   ]
  },
  {
   "cell_type": "code",
   "execution_count": 22,
   "id": "68d0c855",
   "metadata": {},
   "outputs": [
    {
     "data": {
      "text/plain": [
       "[1, 2, [3, 4]]"
      ]
     },
     "execution_count": 22,
     "metadata": {},
     "output_type": "execute_result"
    }
   ],
   "source": [
    "list1 = [1, 2]\n",
    "list2 = [3, 4]\n",
    "\n",
    "list1.append(list2)\n",
    "list1"
   ]
  },
  {
   "cell_type": "code",
   "execution_count": null,
   "id": "af3144ed",
   "metadata": {},
   "outputs": [],
   "source": [
    "# 튜플 -  삭제 불가능\n",
    "# 변하지 않는 중요 데이터 입력 가능\n",
    "\n",
    "# 자료형태 별로 사용 함수가 조금씩 차이가 있다.\n",
    "\n",
    "my_tuple = (1, 2, 3)\n",
    "# del my_tuple[1] # 에러, 변경도 불가능"
   ]
  },
  {
   "cell_type": "code",
   "execution_count": 24,
   "id": "d3343b01",
   "metadata": {},
   "outputs": [
    {
     "data": {
      "text/plain": [
       "(3, 4)"
      ]
     },
     "execution_count": 24,
     "metadata": {},
     "output_type": "execute_result"
    }
   ],
   "source": [
    "# 순서형 자료구조이므로 인덱싱은 가능\n",
    "\n",
    "my_tuple = (1, 2, 3, 4, 5)\n",
    "item = my_tuple[2:4]\n",
    "item"
   ]
  },
  {
   "cell_type": "code",
   "execution_count": 25,
   "id": "ed720f69",
   "metadata": {},
   "outputs": [
    {
     "data": {
      "text/plain": [
       "(1, 2, 3, 4, 5, 6)"
      ]
     },
     "execution_count": 25,
     "metadata": {},
     "output_type": "execute_result"
    }
   ],
   "source": [
    "# 튜플 더하기 가능\n",
    "tuple1 = (1, 2, 3)\n",
    "tuple2 = (4, 5, 6)\n",
    "tuple = tuple1 + tuple2\n",
    "tuple"
   ]
  },
  {
   "cell_type": "code",
   "execution_count": 27,
   "id": "cc6ada37",
   "metadata": {},
   "outputs": [
    {
     "data": {
      "text/plain": [
       "86.6"
      ]
     },
     "execution_count": 27,
     "metadata": {},
     "output_type": "execute_result"
    }
   ],
   "source": [
    "# 튜플 길이 구하기\n",
    "\n",
    "my_tuple = (100, 90, 87, 69, 87)\n",
    "\n",
    "length = len(my_tuple)\n",
    "length\n",
    "\n",
    "# 평균\n",
    "\n",
    "avg_score = sum(my_tuple) / len(my_tuple)\n",
    "avg_score"
   ]
  },
  {
   "cell_type": "code",
   "execution_count": 29,
   "id": "da4f5895",
   "metadata": {},
   "outputs": [
    {
     "data": {
      "text/plain": [
       "5"
      ]
     },
     "execution_count": 29,
     "metadata": {},
     "output_type": "execute_result"
    }
   ],
   "source": [
    "# 딕셔너리 - key와 value로 구성\n",
    "\n",
    "my_dict = {'apple' : 2, 'banana' : 3, 'cherry' : 5}\n",
    "\n",
    "# key를 읽음으로서 value를 꺼낼 수 있다.\n",
    "my_dict['cherry']"
   ]
  },
  {
   "cell_type": "code",
   "execution_count": 31,
   "id": "f34288f9",
   "metadata": {},
   "outputs": [
    {
     "data": {
      "text/plain": [
       "{'apple': [2, 30, 12], 'banana': 3, 'cherry': 5, 'pine_tree': 777}"
      ]
     },
     "execution_count": 31,
     "metadata": {},
     "output_type": "execute_result"
    }
   ],
   "source": [
    "my_dict = {'apple' : 2, 'banana' : 3, 'cherry' : 5}\n",
    "# my_dict = {'apple' : [2, 30, 12], 'banana' : 3, 'cherry' : 5} - 복수 데이터 가능\n",
    "\n",
    "# key와 value 추가 가능\n",
    "my_dict['pine_tree'] = 777\n",
    "my_dict"
   ]
  },
  {
   "cell_type": "code",
   "execution_count": 34,
   "id": "7f83cda1",
   "metadata": {},
   "outputs": [
    {
     "data": {
      "text/plain": [
       "dict_items([('apple', 2), ('banana', 3), ('cherry', 5)])"
      ]
     },
     "execution_count": 34,
     "metadata": {},
     "output_type": "execute_result"
    }
   ],
   "source": [
    "# 딕셔너리의 키는 고유 값\n",
    "\n",
    "'''\n",
    "딕셔너리 함수 모음\n",
    "\n",
    "'''\n",
    "\n",
    "my_dict = {'apple' : 2, 'banana' : 3, 'cherry' : 5}\n",
    "keys_list = my_dict.keys()\n",
    "keys_list\n",
    "\n",
    "values_list = my_dict.values()\n",
    "values_list\n",
    "\n",
    "items_list = my_dict.items()\n",
    "items_list"
   ]
  },
  {
   "cell_type": "code",
   "execution_count": 36,
   "id": "d617383e",
   "metadata": {},
   "outputs": [
    {
     "data": {
      "text/plain": [
       "{}"
      ]
     },
     "execution_count": 36,
     "metadata": {},
     "output_type": "execute_result"
    }
   ],
   "source": [
    "# key:value 쌍 모두 지우기 - clear\n",
    "my_dict = {'apple' : 2, 'banana' : 3, 'cherry' : 5}\n",
    "my_dict.clear()\n",
    "my_dict\n",
    "\n",
    "# my_dict = {'apple' : 2, 'banana' : 3, 'cherry' : 5}\n",
    "# my_dict = {}\n",
    "# my_dict"
   ]
  },
  {
   "cell_type": "code",
   "execution_count": 38,
   "id": "d08ee053",
   "metadata": {},
   "outputs": [
    {
     "data": {
      "text/plain": [
       "2"
      ]
     },
     "execution_count": 38,
     "metadata": {},
     "output_type": "execute_result"
    }
   ],
   "source": [
    "my_dict = {'apple' : 2, 'banana' : 3, 'cherry' : 5}\n",
    "value_of_apple = my_dict.get('apple')\n",
    "value_of_apple"
   ]
  },
  {
   "cell_type": "code",
   "execution_count": 39,
   "id": "e9f12227",
   "metadata": {},
   "outputs": [
    {
     "data": {
      "text/plain": [
       "True"
      ]
     },
     "execution_count": 39,
     "metadata": {},
     "output_type": "execute_result"
    }
   ],
   "source": [
    "# 해당 key가 딕셔너리 안에 있는지 조사 - in\n",
    "\n",
    "my_dict = {'apple' : 2, 'banana' : 3, 'cherry' : 5}\n",
    "is_apple_in_dict = 'apple' in my_dict # 찾는 데이터 in 찾을 데이터 셋\n",
    "is_apple_in_dict"
   ]
  },
  {
   "cell_type": "code",
   "execution_count": 40,
   "id": "922d0926",
   "metadata": {},
   "outputs": [
    {
     "data": {
      "text/plain": [
       "{1, 2}"
      ]
     },
     "execution_count": 40,
     "metadata": {},
     "output_type": "execute_result"
    }
   ],
   "source": [
    "# 집합 자료형 - 중복 허용하지 않음, 순서 없음(인덱스 불가)\n",
    "\n",
    "set1 = {1, 2, 3, 4, 5}\n",
    "set2 = {3, 4, 5, 6, 7}\n",
    "\n",
    "difference = set1 - set2\n",
    "difference"
   ]
  },
  {
   "cell_type": "code",
   "execution_count": 41,
   "id": "e9e0b117",
   "metadata": {},
   "outputs": [
    {
     "data": {
      "text/plain": [
       "5"
      ]
     },
     "execution_count": 41,
     "metadata": {},
     "output_type": "execute_result"
    }
   ],
   "source": [
    "set1 = [1, 2, 3, 4, 5, 1, 4, 2, 2, 3]\n",
    "new_set1 = set(set1)\n",
    "len(new_set1)"
   ]
  },
  {
   "cell_type": "code",
   "execution_count": 42,
   "id": "a6a04c45",
   "metadata": {},
   "outputs": [
    {
     "ename": "NameError",
     "evalue": "name 'mt_set' is not defined",
     "output_type": "error",
     "traceback": [
      "\u001b[1;31m---------------------------------------------------------------------------\u001b[0m",
      "\u001b[1;31mNameError\u001b[0m                                 Traceback (most recent call last)",
      "Cell \u001b[1;32mIn[42], line 3\u001b[0m\n\u001b[0;32m      1\u001b[0m \u001b[38;5;66;03m# 집합 관련 함수는 sort 계열 기능이 있을까?\u001b[39;00m\n\u001b[0;32m      2\u001b[0m my_set \u001b[38;5;241m=\u001b[39m {\u001b[38;5;241m1\u001b[39m, \u001b[38;5;241m2\u001b[39m, \u001b[38;5;241m3\u001b[39m}\n\u001b[1;32m----> 3\u001b[0m mt_set\u001b[38;5;241m.\u001b[39msort()\n",
      "\u001b[1;31mNameError\u001b[0m: name 'mt_set' is not defined"
     ]
    }
   ],
   "source": [
    "# 집합 관련 함수는 sort 계열 기능이 있을까? - 순서 없으므로 에러\n",
    "\n",
    "my_set = {1, 2, 3}\n",
    "mt_set.sort()"
   ]
  },
  {
   "cell_type": "code",
   "execution_count": 43,
   "id": "1ed74751",
   "metadata": {},
   "outputs": [
    {
     "data": {
      "text/plain": [
       "{1, 2, 3, 4, 5}"
      ]
     },
     "execution_count": 43,
     "metadata": {},
     "output_type": "execute_result"
    }
   ],
   "source": [
    "my_set = {1, 2, 3}\n",
    "my_set.update([3, 4, 5])\n",
    "my_set"
   ]
  },
  {
   "cell_type": "code",
   "execution_count": 44,
   "id": "10606f8c",
   "metadata": {},
   "outputs": [
    {
     "data": {
      "text/plain": [
       "{1, 2, 4, 5}"
      ]
     },
     "execution_count": 44,
     "metadata": {},
     "output_type": "execute_result"
    }
   ],
   "source": [
    "my_set = {1, 2 ,3, 4, 5}\n",
    "my_set.remove(3)\n",
    "my_set"
   ]
  },
  {
   "cell_type": "code",
   "execution_count": 46,
   "id": "1d40fc1b",
   "metadata": {},
   "outputs": [
    {
     "name": "stdout",
     "output_type": "stream",
     "text": [
      "택시를 타고 가라\n"
     ]
    }
   ],
   "source": [
    "# if문\n",
    "\n",
    "# if문 작성 시 주의사항\n",
    "# if 들어간 문장은 콜론(:)으로 끝나야 한다.\n",
    "# if문 바로 아래 줄은 4칸 띄어야한다.(tab키)\n",
    "# if는 최초조건, elif는 중간 조건, else는 나머지 조건\n",
    "\n",
    "money = 0.5 # 실수는 0 빼고 전부 true\n",
    "if money :\n",
    "    print(\"택시를 타고 가라\")\n",
    "else :\n",
    "    print(\"걸어가라\")"
   ]
  },
  {
   "cell_type": "code",
   "execution_count": null,
   "id": "c8312edc",
   "metadata": {},
   "outputs": [],
   "source": [
    "# 자바스크립트 문제점\n",
    "\n",
    "0.2 + 0.3 == 0.5 # false\n",
    "0.2000000000002 + 0.2999999999 == 0.5"
   ]
  },
  {
   "cell_type": "code",
   "execution_count": null,
   "id": "ee505548",
   "metadata": {},
   "outputs": [],
   "source": [
    "# 유효숫자\n",
    "\n",
    "# 3.87 * 5.87 하면 소수점 둘째 자리까지만 인정\n",
    "3.870000000002 * 5.8699999999 "
   ]
  },
  {
   "cell_type": "code",
   "execution_count": 47,
   "id": "accc4d81",
   "metadata": {},
   "outputs": [
    {
     "data": {
      "text/plain": [
       "22.716900000000003"
      ]
     },
     "execution_count": 47,
     "metadata": {},
     "output_type": "execute_result"
    }
   ],
   "source": [
    "a = 3.87 * 5.87\n",
    "a # 정확히 22.7169가 나오지 않음"
   ]
  },
  {
   "cell_type": "code",
   "execution_count": null,
   "id": "6b9679c1",
   "metadata": {},
   "outputs": [],
   "source": [
    "# 자바스크립트 문제점\n",
    "\n",
    "4 - \"1\" == 3 # true\n",
    "4 - \"1\" === 3 #false - ===의 경우 자료 형태까지"
   ]
  },
  {
   "cell_type": "code",
   "execution_count": null,
   "id": "baf45936",
   "metadata": {},
   "outputs": [],
   "source": [
    "# if의 조건을 정하는 비교연산자\n",
    "\n",
    "x = 3\n",
    "y = 2\n",
    "\n",
    "x < y # false\n",
    "x > y # true\n",
    "x == y # false\n",
    "x != y # true\n",
    "\n",
    "<=, >= # 작거나 같다 혹은 크거나 같다는 부등호가 왼쪽\n"
   ]
  },
  {
   "cell_type": "code",
   "execution_count": null,
   "id": "5dfa4367",
   "metadata": {},
   "outputs": [],
   "source": [
    "# 조건문과 반복문에서 데이터셋 검색 기능에 응용해 사용\n",
    "# x in s, x not in s\n",
    "\n",
    "1 in [1, 2, 3] # true\n",
    "1 not in [1, 2, 3] # false\n",
    "\n",
    "'a' in ('a', 'b', 'c') # true\n",
    "'j' not in 'python' # true"
   ]
  },
  {
   "cell_type": "code",
   "execution_count": null,
   "id": "96afa15b",
   "metadata": {},
   "outputs": [],
   "source": [
    "pocket = ['paper', 'cellphone', 'money']\n",
    "if 'money' in pocket :\n",
    "    print(\"택시를 타고 가라\")\n",
    "else :\n",
    "    print(\"걸어가라\")"
   ]
  },
  {
   "cell_type": "code",
   "execution_count": null,
   "id": "512d4011",
   "metadata": {},
   "outputs": [],
   "source": [
    "# 조건문에서 아무 일도 하지 않게 설정하고 싶다면\n",
    "pocket = ['paper', 'cellphone', 'money']\n",
    "if 'money' in pocket :\n",
    "    pass # pass가 수행되고 아무런 결과값을 보여주지 않는다.\n",
    "else :\n",
    "    print(\"걸어가라\")"
   ]
  },
  {
   "cell_type": "code",
   "execution_count": null,
   "id": "8935ccbe",
   "metadata": {},
   "outputs": [],
   "source": [
    "# 다양한 조건을 판단하는 elif\n",
    "\n",
    "pocket = ['paper', 'cellphone']\n",
    "if 'money' in pocket :\n",
    "    print(\"택시를 타고 가라\")\n",
    "else :\n",
    "    if card :\n",
    "        print(\"택시를 타고 가라\")\n",
    "    else : \n",
    "        print(\"걸어가라\")\n",
    "        \n",
    "        \n",
    "# pocket = ['paper', 'cellphone']\n",
    "# if 'money' in pocket :\n",
    "#     print(\"택시를 타고 가라\")\n",
    "# elif card :\n",
    "#     print(\"택시를 타고 가라\")\n",
    "# else : \n",
    "#     print(\"걸어가라\")"
   ]
  },
  {
   "cell_type": "code",
   "execution_count": 53,
   "id": "9936f80c",
   "metadata": {},
   "outputs": [
    {
     "name": "stdout",
     "output_type": "stream",
     "text": [
      "택시를 타고 가라\n"
     ]
    }
   ],
   "source": [
    "# if문을 한 줄로 작성하기\n",
    "\n",
    "pocket = ['money', 'cellphone']\n",
    "if 'money' in pocket : print(\"택시를 타고 가라\") # 콜론 옆에 참인 조건을 쓰면 if절이 줄어든다.\n",
    "    "
   ]
  },
  {
   "cell_type": "code",
   "execution_count": 63,
   "id": "6cbd5202",
   "metadata": {},
   "outputs": [
    {
     "name": "stdout",
     "output_type": "stream",
     "text": [
      "Enter an integer : 33\n",
      "No, it is a little lower than that\n",
      "Done\n"
     ]
    }
   ],
   "source": [
    "number = 23\n",
    "guess = int(input('Enter an integer : ')) # input 함수로 사용자의 입력을 받는데, input함수는 언제나 문자열 자료구조로 받기 때문에 정수처리해야한다.\n",
    "if number == guess:\n",
    "    print ('Congratulations, you guessed it.')\n",
    "elif guess < number:\n",
    "    print ('No, it is a little higher than that')\n",
    "else:\n",
    "    print ('No, it is a little lower than that')\n",
    "print ('Done') # 들여써지는 경우, else 구문에 해당 로직이 속하게 된다. 즉, 원래 의도인 if 종료시 'Done' 메세지 출력 대신, 내가 정답보다 크게 추측한 경우에 'Done' 메세지 출력 \n"
   ]
  },
  {
   "cell_type": "code",
   "execution_count": 64,
   "id": "7115a0bd",
   "metadata": {},
   "outputs": [
    {
     "name": "stdout",
     "output_type": "stream",
     "text": [
      "현재 count 값 :  0\n",
      "현재 count 값 :  1\n",
      "현재 count 값 :  2\n",
      "현재 count 값 :  3\n",
      "현재 count 값 :  4\n"
     ]
    }
   ],
   "source": [
    "# while문 끝에 콜론(:) 그리고 그 다음 줄 띄어쓰기 4칸(tab키)\n",
    "count = 0 # count라는 변수에 최초값 0 부여\n",
    "while count < 5:\n",
    "    print(\"현재 count 값 : \", count)\n",
    "    count += 1 # count = count + 1"
   ]
  },
  {
   "cell_type": "code",
   "execution_count": 70,
   "id": "3ad07879",
   "metadata": {},
   "outputs": [
    {
     "name": "stdout",
     "output_type": "stream",
     "text": [
      "나무를 1번 찍었습니다.\n",
      "나무를 2번 찍었습니다.\n",
      "나무를 3번 찍었습니다.\n",
      "나무를 4번 찍었습니다.\n",
      "나무를 5번 찍었습니다.\n",
      "나무를 6번 찍었습니다.\n",
      "나무를 7번 찍었습니다.\n",
      "나무를 8번 찍었습니다.\n",
      "나무를 9번 찍었습니다.\n",
      "나무를 10번 찍었습니다.\n",
      "나무가 넘어갑니다.\n"
     ]
    }
   ],
   "source": [
    "# while문의 기본 구조\n",
    "\n",
    "treeHit = 0\n",
    "while treeHit < 10:\n",
    "    treeHit  = treeHit + 1\n",
    "    print('나무를 %d번 찍었습니다.' %treeHit)\n",
    "    if treeHit == 10 :\n",
    "        print(\"나무가 넘어갑니다.\")"
   ]
  },
  {
   "cell_type": "code",
   "execution_count": 71,
   "id": "e15b5f93",
   "metadata": {},
   "outputs": [
    {
     "name": "stdout",
     "output_type": "stream",
     "text": [
      "돈을 받았으니 커피를 줍니다.\n",
      "남은 커피의 양은 9개 입니다.\n",
      "돈을 받았으니 커피를 줍니다.\n",
      "남은 커피의 양은 8개 입니다.\n",
      "돈을 받았으니 커피를 줍니다.\n",
      "남은 커피의 양은 7개 입니다.\n",
      "돈을 받았으니 커피를 줍니다.\n",
      "남은 커피의 양은 6개 입니다.\n",
      "돈을 받았으니 커피를 줍니다.\n",
      "남은 커피의 양은 5개 입니다.\n",
      "돈을 받았으니 커피를 줍니다.\n",
      "남은 커피의 양은 4개 입니다.\n",
      "돈을 받았으니 커피를 줍니다.\n",
      "남은 커피의 양은 3개 입니다.\n",
      "돈을 받았으니 커피를 줍니다.\n",
      "남은 커피의 양은 2개 입니다.\n",
      "돈을 받았으니 커피를 줍니다.\n",
      "남은 커피의 양은 1개 입니다.\n",
      "돈을 받았으니 커피를 줍니다.\n",
      "남은 커피의 양은 0개 입니다.\n",
      "커피가 다 떨어졌습니다. 판매를 중지합니다.\n"
     ]
    }
   ],
   "source": [
    "# while문 강제로 빠져나가기\n",
    "\n",
    "coffee =  10\n",
    "money = 300\n",
    "\n",
    "while money :\n",
    "    print(\"돈을 받았으니 커피를 줍니다.\")\n",
    "    coffee -= 1\n",
    "    print(\"남은 커피의 양은 %d개 입니다.\" %coffee)\n",
    "    if not coffee :\n",
    "        print(\"커피가 다 떨어졌습니다. 판매를 중지합니다.\")\n",
    "        break"
   ]
  },
  {
   "cell_type": "code",
   "execution_count": 72,
   "id": "3937fc0b",
   "metadata": {},
   "outputs": [
    {
     "name": "stdout",
     "output_type": "stream",
     "text": [
      "돈을 받았으니 커피를 줍니다.\n",
      "남은 커피의 양은 9개 입니다.\n",
      "돈을 받았으니 커피를 줍니다.\n",
      "남은 커피의 양은 8개 입니다.\n",
      "돈을 받았으니 커피를 줍니다.\n",
      "남은 커피의 양은 7개 입니다.\n",
      "돈을 받았으니 커피를 줍니다.\n",
      "남은 커피의 양은 6개 입니다.\n",
      "돈을 받았으니 커피를 줍니다.\n",
      "남은 커피의 양은 5개 입니다.\n",
      "돈을 받았으니 커피를 줍니다.\n",
      "남은 커피의 양은 4개 입니다.\n",
      "돈을 받았으니 커피를 줍니다.\n",
      "남은 커피의 양은 3개 입니다.\n",
      "돈을 받았으니 커피를 줍니다.\n",
      "남은 커피의 양은 2개 입니다.\n",
      "돈을 받았으니 커피를 줍니다.\n",
      "남은 커피의 양은 1개 입니다.\n",
      "돈을 받았으니 커피를 줍니다.\n",
      "남은 커피의 양은 0개 입니다.\n",
      "커피가 다 떨어졌습니다. 판매를 종료합니다.\n"
     ]
    }
   ],
   "source": [
    "coffee =  10\n",
    "money = 300\n",
    "\n",
    "while money :\n",
    "    print(\"돈을 받았으니 커피를 줍니다.\")\n",
    "    money -= 30\n",
    "    coffee -= 1\n",
    "    print(\"남은 커피의 양은 %d개 입니다.\" %coffee)\n",
    "    if money == 0 :\n",
    "        print(\"커피가 다 떨어졌습니다. 판매를 종료합니다.\")\n",
    "        "
   ]
  },
  {
   "cell_type": "code",
   "execution_count": 79,
   "id": "2425dc88",
   "metadata": {},
   "outputs": [
    {
     "name": "stdout",
     "output_type": "stream",
     "text": [
      "Enter an integer : 23\n",
      "Congratulations, you guessed it.\n",
      "The while loop is over.\n",
      "Done\n"
     ]
    }
   ],
   "source": [
    "number = 23\n",
    "running = True\n",
    "while running:\n",
    "    guess = int(input('Enter an integer : '))\n",
    "    if guess == number:\n",
    "        print ('Congratulations, you guessed it.')\n",
    "        running = False\n",
    "    elif guess < number:\n",
    "        print ('No, it is a little higher than that.')\n",
    "    else:\n",
    "        print ('No, it is a little lower than that.')\n",
    "else: # while문에서도 else\n",
    "    print ('The while loop is over.')\n",
    "print ('Done')"
   ]
  },
  {
   "cell_type": "code",
   "execution_count": null,
   "id": "2b5c5c67",
   "metadata": {},
   "outputs": [],
   "source": []
  },
  {
   "cell_type": "code",
   "execution_count": null,
   "id": "35fd6bc0",
   "metadata": {},
   "outputs": [],
   "source": []
  },
  {
   "cell_type": "code",
   "execution_count": null,
   "id": "100258da",
   "metadata": {},
   "outputs": [],
   "source": []
  },
  {
   "cell_type": "code",
   "execution_count": null,
   "id": "df461045",
   "metadata": {},
   "outputs": [],
   "source": []
  },
  {
   "cell_type": "code",
   "execution_count": null,
   "id": "24d93a33",
   "metadata": {},
   "outputs": [],
   "source": []
  },
  {
   "cell_type": "code",
   "execution_count": null,
   "id": "2f646f0a",
   "metadata": {},
   "outputs": [],
   "source": []
  }
 ],
 "metadata": {
  "kernelspec": {
   "display_name": "Python 3 (ipykernel)",
   "language": "python",
   "name": "python3"
  },
  "language_info": {
   "codemirror_mode": {
    "name": "ipython",
    "version": 3
   },
   "file_extension": ".py",
   "mimetype": "text/x-python",
   "name": "python",
   "nbconvert_exporter": "python",
   "pygments_lexer": "ipython3",
   "version": "3.11.5"
  }
 },
 "nbformat": 4,
 "nbformat_minor": 5
}
