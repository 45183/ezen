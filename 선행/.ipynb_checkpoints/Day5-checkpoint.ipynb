{
 "cells": [
  {
   "cell_type": "code",
   "execution_count": 2,
   "id": "9c5ae074",
   "metadata": {},
   "outputs": [
    {
     "data": {
      "text/plain": [
       "(0.5, 0.4, 0.1, 1.0)"
      ]
     },
     "execution_count": 2,
     "metadata": {},
     "output_type": "execute_result"
    }
   ],
   "source": [
    "# library 생성 예제\n",
    "\n",
    "def profit_calc(revenue, cost, tax, dividend) :\n",
    "    x = (revenue - cost) * (1 - tax) - dividend\n",
    "    return x\n",
    "\n",
    "def revenue_breakdown(revenue, chicken, pizza, sauce) :\n",
    "    y = chicken / revenue\n",
    "    z = pizza / revenue\n",
    "    r = sauce / revenue\n",
    "    error_chk = (chicken + pizza + sauce) / revenue\n",
    "    return y, z, r, error_chk\n",
    "\n",
    "if __name__ == \"__main__\" : \n",
    "    # 이 파일이 메인으로 돌아갈 때만 if 아래를 실행\n",
    "    print(profit_calc(10000, 1000, 0.22, 400))\n",
    "    print(revenue_breakdown(10000, 5000, 4000, 1000))\n",
    "    \n",
    "else :\n",
    "    # 이 파일이 메인이 아닐 때만 실행 (다른 곳에서 import 해서 사용시 실행)\n",
    "    print(profit_calc(1000000, 60000, 0.22, 46000))\n",
    "    print(revenue_breakdown(120000, 51000, 40000, 1000))\n",
    "\n",
    "    "
   ]
  },
  {
   "cell_type": "code",
   "execution_count": 5,
   "id": "ea8a0a16",
   "metadata": {},
   "outputs": [],
   "source": [
    "# 파이썬에서 파일을 생성하는 법\n",
    "\n",
    "file = open(\"이젠_AWS.txt\", \"w\") # 파일을 새로 생성하며 파일을 연다\n",
    "file.write(\"Hello, World_AWS!\") # 열린 파일에 원하는 메세지 입력\n",
    "file.close() # 파일 생성하고 닫음"
   ]
  },
  {
   "cell_type": "code",
   "execution_count": 6,
   "id": "20973131",
   "metadata": {},
   "outputs": [],
   "source": [
    "# for문을 사용하여 예제와 같은 메세지를 txt파일 내에 저장\n",
    "\n",
    "f = open(\"./이젠AWS.txt\", \"w\") # ./ -> 현재 작업하는 폴더 위치\n",
    "for i in range(1, 11) :\n",
    "    data = \"%d번째 줄입니다. \\n\" %i\n",
    "    f.write(data)\n",
    "f.close()"
   ]
  },
  {
   "cell_type": "code",
   "execution_count": 7,
   "id": "6b1474de",
   "metadata": {},
   "outputs": [
    {
     "name": "stdout",
     "output_type": "stream",
     "text": [
      "1번째 줄입니다. \n",
      "\n",
      "2번째 줄입니다. \n",
      "\n",
      "3번째 줄입니다. \n",
      "\n",
      "4번째 줄입니다. \n",
      "\n",
      "5번째 줄입니다. \n",
      "\n",
      "6번째 줄입니다. \n",
      "\n",
      "7번째 줄입니다. \n",
      "\n",
      "8번째 줄입니다. \n",
      "\n",
      "9번째 줄입니다. \n",
      "\n",
      "10번째 줄입니다. \n",
      "\n"
     ]
    }
   ],
   "source": [
    "f = open(\"./이젠AWS.txt\", \"r\") #open 뒤의 r - 파일을 읽는다는 뜻\n",
    "\n",
    "while True : # for문을 사용하지 않은 이유는 파일 내용이 언제 끝날지 모르기 때문\n",
    "    line = f.readline() # 파일의 내용을 한줄씩 읽음\n",
    "    if not line : # 파일의 내용이 더이상 존재하지 않는 경우 강제종료\n",
    "        break\n",
    "    print(line) # 읽은 내용을 출력\n",
    "f.close()"
   ]
  },
  {
   "cell_type": "code",
   "execution_count": 9,
   "id": "77d5abb1",
   "metadata": {},
   "outputs": [
    {
     "name": "stdout",
     "output_type": "stream",
     "text": [
      "['1번째 줄입니다. \\n', '2번째 줄입니다. \\n', '3번째 줄입니다. \\n', '4번째 줄입니다. \\n', '5번째 줄입니다. \\n', '6번째 줄입니다. \\n', '7번째 줄입니다. \\n', '8번째 줄입니다. \\n', '9번째 줄입니다. \\n', '10번째 줄입니다. \\n']\n"
     ]
    }
   ],
   "source": [
    "f = open(\"./이젠AWS.txt\", \"r\")\n",
    "lines = f.readlines() # 모든 라인을 읽어서 각각의 줄을 요소로 갖는 리스트 리턴\n",
    "print(lines)\n",
    "f.close()"
   ]
  },
  {
   "cell_type": "code",
   "execution_count": 10,
   "id": "f19df864",
   "metadata": {},
   "outputs": [
    {
     "name": "stdout",
     "output_type": "stream",
     "text": [
      "1번째 줄입니다. \n",
      "2번째 줄입니다. \n",
      "3번째 줄입니다. \n",
      "4번째 줄입니다. \n",
      "5번째 줄입니다. \n",
      "6번째 줄입니다. \n",
      "7번째 줄입니다. \n",
      "8번째 줄입니다. \n",
      "9번째 줄입니다. \n",
      "10번째 줄입니다. \n",
      "\n"
     ]
    }
   ],
   "source": [
    "f = open(\"./이젠AWS.txt\", \"r\")\n",
    "data = f.read() # 파일 내용의 전체를 문자열로 리턴\n",
    "print(data)\n",
    "f.close()"
   ]
  },
  {
   "cell_type": "code",
   "execution_count": 11,
   "id": "ee63f93e",
   "metadata": {},
   "outputs": [],
   "source": [
    "# for 문을 사용하여 '11 ~ 20번째 줄입니다.' 메세지를 추가\n",
    "f = open(\"./이젠AWS.txt\", \"a\")\n",
    "for i in range(11, 21) :\n",
    "    data = \"%d번째 줄입니다. \\n\" %i\n",
    "    f.write(data)\n",
    "f.close()"
   ]
  },
  {
   "cell_type": "code",
   "execution_count": null,
   "id": "845128e5",
   "metadata": {},
   "outputs": [],
   "source": [
    "# with 문과 함께 사용\n",
    "\n",
    "f = open(\"./foo.txt\", \"w\")\n",
    "f.write('Life is too short, you need python')\n",
    "\n",
    "# --------------------------------------------------------------------- 나중에 체크"
   ]
  },
  {
   "cell_type": "code",
   "execution_count": null,
   "id": "6a89769f",
   "metadata": {},
   "outputs": [],
   "source": [
    "with open(\"example.txt\", \"r\") as file:\n",
    "    for line in file:\n",
    "        print(line, end=\"\")\n",
    "        \n",
    "# --------------------------------------------------------------------- 나중에 체크"
   ]
  },
  {
   "cell_type": "code",
   "execution_count": null,
   "id": "96a7472d",
   "metadata": {},
   "outputs": [],
   "source": []
  },
  {
   "cell_type": "code",
   "execution_count": 18,
   "id": "cc580ff7",
   "metadata": {},
   "outputs": [
    {
     "name": "stdout",
     "output_type": "stream",
     "text": [
      "입력값 1 : 6\n",
      "입력값 2 : 7\n"
     ]
    },
    {
     "data": {
      "text/plain": [
       "13"
      ]
     },
     "execution_count": 18,
     "metadata": {},
     "output_type": "execute_result"
    }
   ],
   "source": [
    "# 두개의 인풋값을 받아서 결과를 더하는 함수 만들기\n",
    "\n",
    "input1 = input('입력값 1 : ')\n",
    "input2 = input('입력값 2 : ')\n",
    "\n",
    "def sum(x, y) :\n",
    "    return int(x) + int(y)\n",
    "\n",
    "sum(input1, input2)\n"
   ]
  },
  {
   "cell_type": "code",
   "execution_count": 21,
   "id": "9f28fbf0",
   "metadata": {},
   "outputs": [
    {
     "name": "stdout",
     "output_type": "stream",
     "text": [
      "입력값 1 : 6\n",
      "입력값 2 : 7\n"
     ]
    },
    {
     "data": {
      "text/plain": [
       "13"
      ]
     },
     "execution_count": 21,
     "metadata": {},
     "output_type": "execute_result"
    }
   ],
   "source": [
    "input1 = int(input('입력값 1 : '))\n",
    "input2 = int(input('입력값 2 : '))\n",
    "\n",
    "def sum(x, y) :\n",
    "    return x + y\n",
    "\n",
    "sum(input1, input2)"
   ]
  },
  {
   "cell_type": "code",
   "execution_count": 22,
   "id": "7fe3bac1",
   "metadata": {},
   "outputs": [
    {
     "name": "stdout",
     "output_type": "stream",
     "text": [
      "입력값 1 : 6\n",
      "입력값 2 : 7\n",
      "13\n"
     ]
    }
   ],
   "source": [
    "input1 = input('입력값 1 : ')\n",
    "input2 = input('입력값 2 : ')\n",
    "\n",
    "def sum(input1, input2) :\n",
    "    total = int(input1) + int(input2)\n",
    "    # input 함수로 받는 데이터는 문자열이므로 int로 바꿔줘야함\n",
    "    return total\n",
    "\n",
    "print(sum(input1, input2))"
   ]
  },
  {
   "cell_type": "code",
   "execution_count": 28,
   "id": "a62fa80a",
   "metadata": {},
   "outputs": [
    {
     "name": "stdout",
     "output_type": "stream",
     "text": [
      "3\n",
      "7\n",
      "3\n",
      "10\n"
     ]
    }
   ],
   "source": [
    "# 한 프로그램에서 2개의 계산기가 필요한 상황\n",
    "\n",
    "result1 = 0\n",
    "result2 = 0\n",
    "\n",
    "def adder1(num) :\n",
    "    global result1\n",
    "    result1 += num\n",
    "    return result1\n",
    "\n",
    "def adder2(num) :\n",
    "    global result2\n",
    "    result2 += num\n",
    "    return result2\n",
    "\n",
    "print(adder1(3)) # 3\n",
    "print(adder1(4)) # 7\n",
    "print(adder2(3)) # 3\n",
    "print(adder2(7)) # 10"
   ]
  },
  {
   "cell_type": "code",
   "execution_count": 29,
   "id": "167b7d6c",
   "metadata": {},
   "outputs": [
    {
     "name": "stdout",
     "output_type": "stream",
     "text": [
      "3\n",
      "7\n",
      "3\n",
      "10\n"
     ]
    }
   ],
   "source": [
    "# 클래스 이용\n",
    "\n",
    "# self 대신 다른것으로 바꿀 수 있지만, 다른 사람이 보면 알아보기 힘들다.\n",
    "\n",
    "class Calculator :\n",
    "    def __init__(self) : # 클래스를 실행하면 무조건 실행되는 블럭 - 생성자\n",
    "        self.result = 0\n",
    "        \n",
    "    def adder(self, num) : # 클래스 내부 더하기 함수\n",
    "        self.result += num # 누적 더하기\n",
    "        return self.result\n",
    "    \n",
    "cal1 = Calculator() # 클래스를 실행해서 cal1이라는 객체를 생성\n",
    "cal2 = Calculator() # 클래스를 실행해서 cal2이라는 객체를 생성\n",
    "\n",
    "print(cal1.adder(3)) # 3           # cal1 객체에서 adder라는 함수를 불러서 3을 더함 - 누적 3 \n",
    "print(cal1.adder(4)) # 7           # cal1 객체에서 adder라는 함수를 불러서 4를 더함 - 누적 7\n",
    "print(cal2.adder(3)) # 3           # cal2 객체에서 adder라는 함수를 불러서 3을 더함 - 누적 3 \n",
    "print(cal2.adder(7)) # 10          # cal2 객체에서 adder라는 함수를 불러서 7을 더함 - 누적 10"
   ]
  },
  {
   "cell_type": "code",
   "execution_count": 30,
   "id": "a4c8a889",
   "metadata": {},
   "outputs": [
    {
     "name": "stdout",
     "output_type": "stream",
     "text": [
      "Blue Sedan이 출발합니다.\n",
      "Red SUV이 출발합니다.\n"
     ]
    }
   ],
   "source": [
    "# 현대차 기업이라 생각\n",
    "\n",
    "# 클래스 사용 방법은 \n",
    "# 1. 클래스를 만들고 생성자를 사용하여 초기 조건을 지정한다.\n",
    "# 2. 클래스 내부에 하위 함수를 구현하여 사용하고 싶은 함수를 만든다.\n",
    "# 3. 만든 클래스를 호출하여 지정한 변수에 부여하여 객체를 형성한다.\n",
    "# 4. 생성된 객체는 자유롭게 하위 함수를 호출하여 원하는 작업을 한다.\n",
    "\n",
    "class Car:\n",
    "    def __init__(self, model, color, speed):\n",
    "        self.model = model\n",
    "        self.color = color\n",
    "        self.speed = speed\n",
    "        \n",
    "#     def __init__(self, model1, color1, speed1): # 1 작성한것끼리 같다보면 됨\n",
    "#         self.model = model1\n",
    "#         self.color = color1\n",
    "#         self.speed = speed1\n",
    "\n",
    "    def start(self):\n",
    "        print(f\"{self.color} {self.model}이 출발합니다.\")\n",
    "        \n",
    "# print(f\"{}\")\n",
    "# 포맷 문자열 리터럴을 사용하려면, 시작 인용 부호 또는 삼중 인용 부호 앞에\n",
    "# f 또는 F 를 붙여 문자열을 시작하십시오. 이 문자열 안에서, { 및 } 문자 사이에, \n",
    "# 변수 또는 리터럴 값을 참조할 수 있는 파이썬 표현식을 작성할 수 있습니다.\n",
    "\n",
    "car1 = Car(\"Sedan\", \"Blue\", 100)\n",
    "car2 = Car(\"SUV\", \"Red\", 120)\n",
    "\n",
    "car1.start()\n",
    "car2.start()"
   ]
  },
  {
   "cell_type": "code",
   "execution_count": 34,
   "id": "47b3db7f",
   "metadata": {},
   "outputs": [
    {
     "name": "stdout",
     "output_type": "stream",
     "text": [
      "안녕, 나는 Alice이고, 30살이야.\n",
      "안녕, 나는 Bob이고, 25살이야.\n"
     ]
    }
   ],
   "source": [
    "class Person : \n",
    "    def __init__(self, name, age) :\n",
    "        self.name = name\n",
    "        self.age = age\n",
    "    \n",
    "    def greet(self) :\n",
    "        print(f\"안녕, 나는 {self.name}이고, {self.age}살이야.\")\n",
    "        \n",
    "person1 = Person(\"Alice\", 30)\n",
    "person2 = Person(\"Bob\", 25)\n",
    "\n",
    "person1.greet()\n",
    "person2.greet()"
   ]
  },
  {
   "cell_type": "code",
   "execution_count": null,
   "id": "60fdaf26",
   "metadata": {},
   "outputs": [],
   "source": [
    "# 생성자 - 객체가 생성될 때 초기화 작업을 수행하는 특별한 메서드입니다. \n",
    "# 일반적으로 __init__ 메서드로 정의되며, 객체를 생성할 때 자동으로 호출됩니다."
   ]
  },
  {
   "cell_type": "code",
   "execution_count": null,
   "id": "a0c169a5",
   "metadata": {},
   "outputs": [],
   "source": [
    "# 생성자가 없는 경우\n",
    "# 클래스 하위 함수인 set_name, set_age는 초기 강아지 정보를 부르는 함수이다.\n",
    "# 생성자가 없다면 클래스 자체를 부른 후에 클래스 내부 하위 함수를 통해 정보를 2단계로 읽어야 한다.\n",
    "\n",
    "# class Dog:\n",
    "#     def set_name(self, name):\n",
    "#         self.name = name\n",
    "\n",
    "#     def set_age(self, age):\n",
    "#         self.age = age\n",
    "\n",
    "#     def bark(self):\n",
    "#         print(f\"{self.name} is barking!\")\n",
    "\n",
    "# # Dog 클래스의 인스턴스 생성\n",
    "# dog1 = Dog()\n",
    "# dog2 = Dog()\n",
    "\n",
    "# # 각 개의 이름과 나이 설정\n",
    "# dog1.set_name(\"Buddy\")\n",
    "# dog1.set_age(3)\n",
    "\n",
    "# dog2.set_name(\"Milo\")\n",
    "# dog2.set_age(2)\n",
    "\n",
    "# # 개의 정보 출력\n",
    "# print(f\"{dog1.name} is {dog1.age} years old.\")\n",
    "# print(f\"{dog2.name} is {dog2.age} years old.\")\n",
    "\n",
    "# # 개의 짖는 소리 출력\n",
    "# dog1.bark()\n",
    "# dog2.bark()"
   ]
  },
  {
   "cell_type": "code",
   "execution_count": 38,
   "id": "846aae99",
   "metadata": {},
   "outputs": [
    {
     "name": "stdout",
     "output_type": "stream",
     "text": [
      "Buddy is barking!\n",
      "Buddy is 3 years old.\n",
      "Milo is barking!\n",
      "Milo is 2 years old.\n"
     ]
    }
   ],
   "source": [
    "# 생성자 예제와 블로그 방금 예제 합쳐서 생성자를 사용하는 예제로 만들기\n",
    "# 생성자가 있을 때와 없을 때 객체 생성과 함수호출이 어덯게 달라지는지 확인\n",
    "\n",
    "class Dog :\n",
    "    def __init__(self, name, age) :\n",
    "        self.name = name\n",
    "        self.age = age\n",
    "    \n",
    "    def bark(self) :\n",
    "        print(f\"{self.name} is barking!\")\n",
    "        print(f\"{self.name} is {self.age} years old.\")\n",
    "        \n",
    "dog1 = Dog('Buddy', 3)\n",
    "dog2 = Dog('Milo', 2)\n",
    "\n",
    "dog1.bark()\n",
    "dog2.bark()\n"
   ]
  },
  {
   "cell_type": "code",
   "execution_count": 1,
   "id": "88f7f153",
   "metadata": {},
   "outputs": [
    {
     "data": {
      "text/plain": [
       "2.0"
      ]
     },
     "execution_count": 1,
     "metadata": {},
     "output_type": "execute_result"
    }
   ],
   "source": [
    "class Fourcal:\n",
    "    def __init__(self, first, second):  # 생성자: 클래스 실행 시 항상실행되는 메서드(함수)\n",
    "        self.first = first\n",
    "        self.second = second\n",
    "    def add(self):\n",
    "        result = self.first + self.second\n",
    "        return result\n",
    "    def sub(self):\n",
    "        result = self.first - self.second\n",
    "        return result\n",
    "    def div(self):\n",
    "        result = self.first / self.second\n",
    "        return result    \n",
    "    def mul(self):\n",
    "        result = self.first * self.second\n",
    "        return result    \n",
    "\n",
    "b = Fourcal(4,2)\n",
    "#b.setdata(4,2)\n",
    "b.add()\n",
    "b.div()"
   ]
  },
  {
   "cell_type": "code",
   "execution_count": 2,
   "id": "dc51e508",
   "metadata": {},
   "outputs": [],
   "source": [
    "# 곱하기, 빼기, 나누기, 기능 만들기\n",
    "class FourCal :\n",
    "    def setdata(self, first, second) :\n",
    "        self.first = first\n",
    "        self.second = second\n",
    "\n",
    "    def sum(self) :\n",
    "        result = self.first + self.second\n",
    "        return result\n",
    "\n",
    "    def mul(self) :\n",
    "        result = self.first * self.second\n",
    "        return result\n",
    "\n",
    "    def sub(self) :\n",
    "        result = self.first - self.second\n",
    "        return result\n",
    "\n",
    "    def div(self) :\n",
    "        result = self.first / self.second\n",
    "        return result"
   ]
  },
  {
   "cell_type": "code",
   "execution_count": 3,
   "id": "ea38e80b",
   "metadata": {},
   "outputs": [
    {
     "name": "stdout",
     "output_type": "stream",
     "text": [
      "2\n",
      "66\n",
      "44\n"
     ]
    }
   ],
   "source": [
    "# 클래스의 독립성 확인 예시\n",
    "f = FourCal() \n",
    "d = FourCal() \n",
    "k = FourCal() \n",
    "\n",
    "f.setdata(2,7) \n",
    "d.setdata(66,99) \n",
    "k.setdata(44,33) \n",
    "\n",
    "print(f.first )\n",
    "print(d.first)\n",
    "print(k.first)"
   ]
  },
  {
   "cell_type": "code",
   "execution_count": 4,
   "id": "22826c33",
   "metadata": {},
   "outputs": [
    {
     "name": "stdout",
     "output_type": "stream",
     "text": [
      "140723038821192\n",
      "140723038819144\n"
     ]
    }
   ],
   "source": [
    "\"\"\"\n",
    "클래스로 만든 객체의 객체변수는\n",
    "다른 객체의 객체변수와 상관없이 독립적인 값을 유지!\n",
    "id 함수는 변수의 메모리 주소를 찾는 명령어\n",
    "메모리 주소가 다르다면 독립적으로 따로 저장되어 있는 것이다.\n",
    "# id 함수를 사용해서 독립성 증명\n",
    "\"\"\" \n",
    "\n",
    "print(id(d.first))\n",
    "print(id(f.first))"
   ]
  },
  {
   "cell_type": "code",
   "execution_count": null,
   "id": "ffa15ab8",
   "metadata": {},
   "outputs": [],
   "source": [
    "# 딥카피 / 쉘로우카피\n",
    "\n",
    "a = 3\n",
    "b = 3 # 메모리 주소 다름\n",
    "\n",
    "c = d =3 # 메모리주소 같음, 서로 연동, 하나 바뀌면 같이 바뀜"
   ]
  },
  {
   "cell_type": "code",
   "execution_count": null,
   "id": "f263e74c",
   "metadata": {},
   "outputs": [],
   "source": [
    "# # 클래스 상속예시 - 부모클래스, 자식클래스\n",
    "\n",
    "# class Morefour(Fourcal) :\n",
    "#     pass\n",
    "\n",
    "# a = Morefour(4, 2) # Fourcal 부모클래스를 상속받은 Morefour 자식클래스 호출\n",
    "# print(a.mul()) # 자식클래스가 부모클래스 하위 함수를 호출하여 실행\n",
    "\n",
    "\n",
    "# #  ------------- 다시"
   ]
  },
  {
   "cell_type": "code",
   "execution_count": null,
   "id": "0fa0e692",
   "metadata": {},
   "outputs": [],
   "source": [
    "# 부모클래스와 자식 클래스에 같은 함수 이름이 있으면 자식 클래스꺼가 돌아가고\n",
    "# 자식클래스가 호출된 함수 이름이 없는 경우 부모 클래스 함수가 돌아간다."
   ]
  },
  {
   "cell_type": "code",
   "execution_count": 6,
   "id": "9c0e7341",
   "metadata": {},
   "outputs": [],
   "source": [
    "# 클래스 상속 예시\n",
    "class Fourcal:\n",
    "    lastname = \"lee\"\n",
    "    def __init__(self, first, second):  # 생성자: 클래스 실행 시 항상실행되는 메서드(함수)\n",
    "        self.first = first\n",
    "        self.second = second\n",
    "    def add(self):\n",
    "        result = self.first + self.second\n",
    "        return result\n",
    "    def sub(self):\n",
    "        result = self.first - self.second\n",
    "        return result\n",
    "    def div(self):\n",
    "        result = self.first / self.second\n",
    "        return result    \n",
    "    def mul(self):\n",
    "        result = self.first * self.second\n",
    "        return result   "
   ]
  },
  {
   "cell_type": "code",
   "execution_count": 7,
   "id": "b69e5f10",
   "metadata": {},
   "outputs": [
    {
     "name": "stdout",
     "output_type": "stream",
     "text": [
      "8\n",
      "lee\n"
     ]
    }
   ],
   "source": [
    "# 상속에 대한 설명\n",
    "class Morefour(Fourcal):\n",
    "    pass\n",
    "\n",
    "\n",
    "a = Morefour(4,2) #Fourcal 부모클래스를 상속받은 Morefour 자식클래스 호출\n",
    "print(a.mul()) # 자식클래스가 부모클래스 하위 함수를 호출하여 실행\n",
    "print(Fourcal.lastname)"
   ]
  },
  {
   "cell_type": "code",
   "execution_count": null,
   "id": "921824b4",
   "metadata": {},
   "outputs": [],
   "source": []
  },
  {
   "cell_type": "code",
   "execution_count": null,
   "id": "279c3746",
   "metadata": {},
   "outputs": [],
   "source": []
  },
  {
   "cell_type": "code",
   "execution_count": null,
   "id": "4f4d0b09",
   "metadata": {},
   "outputs": [],
   "source": []
  },
  {
   "cell_type": "code",
   "execution_count": null,
   "id": "f61b634d",
   "metadata": {},
   "outputs": [],
   "source": []
  },
  {
   "cell_type": "code",
   "execution_count": null,
   "id": "986f4216",
   "metadata": {},
   "outputs": [],
   "source": []
  },
  {
   "cell_type": "code",
   "execution_count": null,
   "id": "355ae688",
   "metadata": {},
   "outputs": [],
   "source": []
  },
  {
   "cell_type": "code",
   "execution_count": null,
   "id": "7831abc5",
   "metadata": {},
   "outputs": [],
   "source": []
  }
 ],
 "metadata": {
  "kernelspec": {
   "display_name": "Python 3 (ipykernel)",
   "language": "python",
   "name": "python3"
  },
  "language_info": {
   "codemirror_mode": {
    "name": "ipython",
    "version": 3
   },
   "file_extension": ".py",
   "mimetype": "text/x-python",
   "name": "python",
   "nbconvert_exporter": "python",
   "pygments_lexer": "ipython3",
   "version": "3.11.5"
  }
 },
 "nbformat": 4,
 "nbformat_minor": 5
}
