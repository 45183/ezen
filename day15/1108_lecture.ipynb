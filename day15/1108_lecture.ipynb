{
 "cells": [
  {
   "cell_type": "markdown",
   "id": "a43252c5",
   "metadata": {},
   "source": [
    "#### 유니코드로 문자열 다루기\n",
    "\n",
    "\n",
    "유니코드 문자를 바이트 문자열로 변환하는 것을 엔코딩이라 하는데 엔코딩 작업을 거쳐야 파일에 적거나 다른 시스템으로 전송할 수 있습니다\n",
    "아래는 유니코드 문자열을 바이트 문자열로 바꾸는 예시입니다."
   ]
  },
  {
   "cell_type": "code",
   "execution_count": 1,
   "id": "ba81d6ec",
   "metadata": {},
   "outputs": [
    {
     "data": {
      "text/plain": [
       "bytes"
      ]
     },
     "execution_count": 1,
     "metadata": {},
     "output_type": "execute_result"
    }
   ],
   "source": [
    "a = \"life is short\"\n",
    "b = a.encode('utf-8')\n",
    "\n",
    "b\n",
    "type(b)"
   ]
  },
  {
   "cell_type": "code",
   "execution_count": 3,
   "id": "5a59a18d",
   "metadata": {},
   "outputs": [
    {
     "data": {
      "text/plain": [
       "b'\\xc7\\xd1\\xb1\\xdb'"
      ]
     },
     "execution_count": 3,
     "metadata": {},
     "output_type": "execute_result"
    }
   ],
   "source": [
    "a = \"한글\"\n",
    "a.encode(\"euckr\")"
   ]
  },
  {
   "cell_type": "markdown",
   "id": "c4038a40",
   "metadata": {},
   "source": [
    "아스키 방식은 한글을 엔코딩할 수 없어서 에러가 난다."
   ]
  },
  {
   "cell_type": "code",
   "execution_count": 2,
   "id": "fbbc33e5",
   "metadata": {},
   "outputs": [
    {
     "ename": "UnicodeEncodeError",
     "evalue": "'ascii' codec can't encode characters in position 0-1: ordinal not in range(128)",
     "output_type": "error",
     "traceback": [
      "\u001b[1;31m---------------------------------------------------------------------------\u001b[0m",
      "\u001b[1;31mUnicodeEncodeError\u001b[0m                        Traceback (most recent call last)",
      "Cell \u001b[1;32mIn[2], line 2\u001b[0m\n\u001b[0;32m      1\u001b[0m a \u001b[38;5;241m=\u001b[39m \u001b[38;5;124m\"\u001b[39m\u001b[38;5;124m한글\u001b[39m\u001b[38;5;124m\"\u001b[39m\n\u001b[1;32m----> 2\u001b[0m a\u001b[38;5;241m.\u001b[39mencode(\u001b[38;5;124m\"\u001b[39m\u001b[38;5;124mascii\u001b[39m\u001b[38;5;124m\"\u001b[39m)\n",
      "\u001b[1;31mUnicodeEncodeError\u001b[0m: 'ascii' codec can't encode characters in position 0-1: ordinal not in range(128)"
     ]
    }
   ],
   "source": [
    "a = \"한글\"\n",
    "a.encode(\"ascii\")"
   ]
  },
  {
   "cell_type": "markdown",
   "id": "1f184429",
   "metadata": {},
   "source": [
    "#### 엔코딩 관련 파일 입출력\n",
    "아래의 예시에서 encoding 사용법 등을 잘 확인하자."
   ]
  },
  {
   "cell_type": "code",
   "execution_count": 5,
   "id": "234491e5",
   "metadata": {},
   "outputs": [],
   "source": [
    "# euc_kr.py\n",
    "# 1. euc-kr로 작성된 파일 읽기\n",
    "with open('euc_kr.txt', encoding='euc-kr') as f:\n",
    "    data = f.read()  # 유니코드 문자열 \n",
    "\n",
    "# 2. unicode 문자열로 프로그램 수행하기\n",
    "data = data + \"\\n\" + \"hate this Hangul config!!!!\"\n",
    "\n",
    "# 3. euc-kr로 수정된 문자열 저장하기\n",
    "with open('euc_kr.txt', encoding='euc-kr', mode='a') as f:\n",
    "    f.write(data)\n"
   ]
  },
  {
   "cell_type": "markdown",
   "id": "5edb4c70",
   "metadata": {},
   "source": [
    "참고로 파이썬 3.0부터는 UTF-8이 기본으로 적용된다."
   ]
  },
  {
   "cell_type": "markdown",
   "id": "19dc224f",
   "metadata": {},
   "source": [
    "### 클로저\n",
    "\n",
    "함수안에 내부 함수를 구현하고 그 내부함수를 리턴함. 외부함수는 자신이 가진 변수값 등을 내부함수에 전달할 수 있습니다.\n",
    "\n",
    "해당 기능이 필요한 이유는 아래 함수 예시를 보시면 알 수 있습니다.\n",
    "곱셈 수가 달라질때 마다 함수를 생성해야합니다."
   ]
  },
  {
   "cell_type": "code",
   "execution_count": null,
   "id": "7c5e11c8",
   "metadata": {},
   "outputs": [],
   "source": [
    "def mul3(n):\n",
    "    return n *3\n",
    "\n",
    "def mul5(n):\n",
    "    return n*5"
   ]
  },
  {
   "cell_type": "code",
   "execution_count": 6,
   "id": "d2bff519",
   "metadata": {},
   "outputs": [
    {
     "name": "stdout",
     "output_type": "stream",
     "text": [
      "30\n",
      "50\n"
     ]
    }
   ],
   "source": [
    "class Mul:\n",
    "    def __init__(self, m):\n",
    "        self.m = m\n",
    "\n",
    "    def mult(self, n):\n",
    "        return self.m * n\n",
    "\n",
    "if __name__ == \"__main__\":\n",
    "    mul3 = Mul(3) # 외부 클래스에 값 부여(assign) & 객체생성\n",
    "    mul5 = Mul(5)\n",
    "\n",
    "    print(mul3.mult(10))  # 30 출력\n",
    "    print(mul5.mult(10))  # 50 출력"
   ]
  },
  {
   "cell_type": "code",
   "execution_count": 7,
   "id": "32dd5f85",
   "metadata": {},
   "outputs": [
    {
     "name": "stdout",
     "output_type": "stream",
     "text": [
      "30\n",
      "50\n"
     ]
    }
   ],
   "source": [
    "# 함수안의 함수\n",
    "def mul(m):\n",
    "    def wrapper(n): #내부함수 선언\n",
    "        return m * n # 내부함수에서 필요한 계산 수행\n",
    "    return wrapper #내부함수 자체를 리턴\n",
    "\n",
    "if __name__ == \"__main__\":\n",
    "    mul3 = mul(3)\n",
    "    mul5 = mul(5)\n",
    "\n",
    "    print(mul3(10))  # 30 출력\n",
    "    print(mul5(10))  # 50 출력"
   ]
  },
  {
   "cell_type": "markdown",
   "id": "c11d2b26",
   "metadata": {},
   "source": [
    "### 데코레이터\n",
    "\n",
    "함수 사이사이에 추가해야 하는 함수 구문을 감싸듯이 (wrap) 작성할 수 있다."
   ]
  },
  {
   "cell_type": "code",
   "execution_count": 8,
   "id": "3a75ebe8",
   "metadata": {},
   "outputs": [
    {
     "name": "stdout",
     "output_type": "stream",
     "text": [
      "함수가 실행됩니다.\n",
      "0.8655810356140137\n"
     ]
    }
   ],
   "source": [
    "import time\n",
    "xxx = []\n",
    "def myfunc():\n",
    "    start = time.time()\n",
    "    print(\"함수가 실행됩니다.\")\n",
    "    for i in range(1,1000):\n",
    "        for j in range(1,10000):\n",
    "            xxx.append(i*j)\n",
    "    end = time.time()\n",
    "\n",
    "    print(end - start)\n",
    "\n",
    "myfunc()"
   ]
  },
  {
   "cell_type": "code",
   "execution_count": null,
   "id": "68c02d37",
   "metadata": {},
   "outputs": [],
   "source": [
    "import time\n",
    "xxx = []\n",
    "\n",
    "def elapsed(original_func):   # 기존 함수를 인수로 받는다.\n",
    "    def wrapper():\n",
    "        start = time.time() # 설치\n",
    "        result = original_func()    # 기존 함수를 수행한다.\n",
    "        end = time.time()   # 설치\n",
    "        print(\"함수 수행시간: %f 초\" % (end - start))  # 기존 함수의 수행시간을 출력한다.\n",
    "        return result  # 기존 함수의 수행 결과를 리턴한다.\n",
    "    return wrapper\n",
    "\n",
    "def myfunc():\n",
    "    print(\"함수가 실행됩니다.\")\n",
    "    for i in range(1,1000):\n",
    "        for j in range(1,10000):\n",
    "            xxx.append(i*j)\n",
    "\n",
    "decorated_myfunc = elapsed(myfunc) \n",
    "decorated_myfunc()"
   ]
  },
  {
   "cell_type": "code",
   "execution_count": null,
   "id": "60555fb9",
   "metadata": {},
   "outputs": [],
   "source": []
  },
  {
   "cell_type": "code",
   "execution_count": null,
   "id": "83ae1e4d",
   "metadata": {},
   "outputs": [],
   "source": []
  },
  {
   "cell_type": "code",
   "execution_count": null,
   "id": "d3bfe379",
   "metadata": {},
   "outputs": [],
   "source": []
  }
 ],
 "metadata": {
  "kernelspec": {
   "display_name": "Python 3 (ipykernel)",
   "language": "python",
   "name": "python3"
  },
  "language_info": {
   "codemirror_mode": {
    "name": "ipython",
    "version": 3
   },
   "file_extension": ".py",
   "mimetype": "text/x-python",
   "name": "python",
   "nbconvert_exporter": "python",
   "pygments_lexer": "ipython3",
   "version": "3.11.5"
  }
 },
 "nbformat": 4,
 "nbformat_minor": 5
}
