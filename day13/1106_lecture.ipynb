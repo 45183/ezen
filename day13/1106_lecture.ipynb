{
 "cells": [
  {
   "cell_type": "code",
   "execution_count": null,
   "id": "53a329ac",
   "metadata": {},
   "outputs": [],
   "source": [
    "quiz) 학교에서 파이썬 코딩대회를 주최합니다.\n",
    "참석률을 높이기 위해 댓글 이벤트를 진행하기로 했습니다.\n",
    "댓글 작성자 중에 추첨을 통해 1명은 치킨 3명은 커피쿠폰을 받게 됩니다.\n",
    "추첨프로그램을 작성해 주세요\n",
    "\n",
    "조건1: 편의상 댓글은 20명이 작성하였고 아이디는 1~20이라 가정\n",
    "조건2 : 댓글 내용과 상관없이 무작위로 추첨하되 중복불가\n",
    "조건3  :  random 모듈의 shuffle과 sample을 활용"
   ]
  },
  {
   "cell_type": "code",
   "execution_count": null,
   "id": "96454c1b",
   "metadata": {},
   "outputs": [],
   "source": [
    "(출력예제)\n",
    "-- 당첨자 발표 --\n",
    "치킨 당첨자 : 1\n",
    "커피 당첨자 : [2,3,4]\n",
    "-- 축하합니다."
   ]
  },
  {
   "cell_type": "code",
   "execution_count": null,
   "id": "a26922b5",
   "metadata": {},
   "outputs": [],
   "source": [
    "활용예제\n",
    "\n",
    "from random import *\n",
    "lst = [1,2,3,4,5]\n",
    "print(lst)\n",
    "shuffle(lst)\n",
    "print(lst)\n",
    "print(sample(lst,1))"
   ]
  },
  {
   "cell_type": "code",
   "execution_count": null,
   "id": "3d189b7e",
   "metadata": {},
   "outputs": [],
   "source": [
    "#정답\n",
    "from random import *\n",
    "\n",
    "users = range(1,21)\n",
    "users = list(users)\n",
    "# 위에 까지가 1~20까지의 정수를 리스트 자료구조에 담는 코드이다.\n",
    "shuffle(users)\n",
    "winners = sample(users, 4)\n",
    "print('-- 당첨자 발표 --')\n",
    "print('치킨 당첨자 : {}'.format(winners[0]))\n",
    "print('커피 당첨자 : {}'.format(winners[1:]))\n",
    "print('-- 축하합니다.--')"
   ]
  },
  {
   "cell_type": "code",
   "execution_count": null,
   "id": "313992d2",
   "metadata": {},
   "outputs": [],
   "source": [
    "# special contributor: 김연진님, 감사합니다~\n",
    "import random\n",
    "for i in range(1, 21) :\n",
    "    list=[ ]\n",
    "    while len(list) < 4 :\n",
    "        number = random.randint(1,21)\n",
    "        if number not in list :\n",
    "            list.append(number)\n",
    "print(list)"
   ]
  },
  {
   "cell_type": "code",
   "execution_count": null,
   "id": "6c199968",
   "metadata": {},
   "outputs": [],
   "source": [
    "print(\"hello \\nworld\")\n",
    "print(\"hello \\tworld\")"
   ]
  },
  {
   "cell_type": "code",
   "execution_count": null,
   "id": "368c0b88",
   "metadata": {},
   "outputs": [],
   "source": [
    "# 문자열 안에 바꿀 내용을 변수처리해서 아래처럼 쓸 수 있습니다.\n",
    "\n",
    "이름 = \"Bob\"\n",
    "나이 = 25\n",
    "인사문 = \"안녕하세요, 제 이름은 %s이고, 나이는 %d세 입니다.\" % (이름, 나이)\n",
    "print(인사문)"
   ]
  },
  {
   "cell_type": "code",
   "execution_count": null,
   "id": "82c50a73",
   "metadata": {},
   "outputs": [],
   "source": [
    "# 큰 따옴표 혹은 작은 따옴표 3개는 영역 코멘트 처리\n",
    "\n",
    "'''\n",
    "새로 버그가 패치된 스타2 1.23 패치가 나왔습니다.\n",
    "2023-10-11\n",
    "아직 배포하진 마세요.\n",
    "'''"
   ]
  },
  {
   "cell_type": "code",
   "execution_count": null,
   "id": "1dac558e",
   "metadata": {},
   "outputs": [],
   "source": [
    "# 문자열 안에 바꿀 내용을 변수처리해서 아래처럼 쓸 수 있습니다.\n",
    "이름 = \"Bob\"\n",
    "나이 = 25\n",
    "인사문 = \"안녕하세요, 제 이름은 {}이고, 나이는 {}세 입니다.\".format(이름, 나이)\n",
    "print(인사문)"
   ]
  },
  {
   "cell_type": "code",
   "execution_count": null,
   "id": "8bdf7840",
   "metadata": {},
   "outputs": [],
   "source": [
    "number = 10\n",
    "day = \"three\"\n",
    "\"I ate {1} apples. so I was sick for {0} days.\".format(number, day)"
   ]
  },
  {
   "cell_type": "code",
   "execution_count": null,
   "id": "3421a87e",
   "metadata": {},
   "outputs": [],
   "source": [
    "\"I ate {number} apples. so I was sick for {day} days.\".format(number=10, day=3)"
   ]
  },
  {
   "cell_type": "code",
   "execution_count": null,
   "id": "ee491668",
   "metadata": {},
   "outputs": [],
   "source": [
    "my_list = [1, 2, 3, 4, 5]\n",
    "item = my_list[2]  # 3을 가져옴\n",
    "print(item)"
   ]
  },
  {
   "cell_type": "code",
   "execution_count": null,
   "id": "32f046b7",
   "metadata": {},
   "outputs": [],
   "source": [
    "list1 = [1, 2, 3]\n",
    "list2 = [4, 5, 6]\n",
    "result = list1 + list2  # [1, 2, 3, 4, 5, 6]\n",
    "print(result)"
   ]
  },
  {
   "cell_type": "code",
   "execution_count": null,
   "id": "8c7deea6",
   "metadata": {},
   "outputs": [],
   "source": [
    "#내가 원소에 4씩 더하고 싶다면?\n",
    "\n",
    "# 변할 변수의 위치 = 현재 변수의 위치, 하고싶은 연산\n",
    "my_list[0] = my_list[0] +4\n",
    "my_list[1] = my_list[1] +4\n",
    "my_list[2] = my_list[2] +4\n",
    "print(my_list)"
   ]
  },
  {
   "cell_type": "code",
   "execution_count": null,
   "id": "c97903ab",
   "metadata": {},
   "outputs": [],
   "source": [
    "original_list = [1, 2, 3]\n",
    "repeated_list = original_list * 3  # [1, 2, 3, 1, 2, 3, 1, 2, 3]\n",
    "print(repeated_list)"
   ]
  },
  {
   "cell_type": "code",
   "execution_count": null,
   "id": "82a423f1",
   "metadata": {},
   "outputs": [],
   "source": [
    "# 문자열 곱하기 - 해당 문자가 반복 출력된다.\n",
    "a = [1, 2, 3]\n",
    "a * 3\n",
    "x = \"----\" * 10\n",
    "print(x)"
   ]
  },
  {
   "cell_type": "code",
   "execution_count": null,
   "id": "f4f49453",
   "metadata": {},
   "outputs": [],
   "source": [
    "# 문자열 연결하기의 응용\n",
    "# 여러 대기업을 동시에 감사하고 감사 보고서 쓰는 회계사를 상상하자\n",
    "a = \"삼성전자\"\n",
    "b = '의 이번 2023년 3분기 당기 순이익은 2조원 입니다.'\n",
    "c = 'LG전자'\n",
    "\n",
    "a + b\n",
    "c + b"
   ]
  },
  {
   "cell_type": "code",
   "execution_count": null,
   "id": "31e1ad55",
   "metadata": {},
   "outputs": [],
   "source": [
    "# 문자열 곱하기 - 해당 문자가 반복 출력된다.\n",
    "\n",
    "a * 3\n",
    "x = \"----\" * 10"
   ]
  },
  {
   "cell_type": "code",
   "execution_count": null,
   "id": "917dd37f",
   "metadata": {},
   "outputs": [],
   "source": [
    "# 변수의 숫자와 문자 데이터는 향후에 SQL 등의 데이터 서버에서 불러올 수 있다.\n",
    "\n",
    "\n",
    "print(x)\n",
    "print(a + b)\n",
    "print(x)"
   ]
  },
  {
   "cell_type": "code",
   "execution_count": null,
   "id": "e459787e",
   "metadata": {},
   "outputs": [],
   "source": [
    "# 두산그룹의 이번 2023년 3분기 당기 순이익은 2000억원 입니다."
   ]
  },
  {
   "cell_type": "code",
   "execution_count": null,
   "id": "6ef553b4",
   "metadata": {},
   "outputs": [],
   "source": [
    "my_list = [1, 2, 3, 4, 5]\n",
    "length = len(my_list)  # 5"
   ]
  },
  {
   "cell_type": "code",
   "execution_count": null,
   "id": "5376b171",
   "metadata": {},
   "outputs": [],
   "source": [
    "my_list = [1, 2, 3, 4, 5]\n",
    "my_list[2] = 6  # [1, 2, 6, 4, 5]\n",
    "my_list[3] = \"\"\n",
    "print(my_list)"
   ]
  },
  {
   "cell_type": "code",
   "execution_count": null,
   "id": "a622fdaf",
   "metadata": {},
   "outputs": [],
   "source": [
    "my_list = [1, 2, 3, 4, 5]\n",
    "del my_list[3]  # [1, 2, 3, 5]"
   ]
  },
  {
   "cell_type": "code",
   "execution_count": null,
   "id": "eae5b83d",
   "metadata": {},
   "outputs": [],
   "source": [
    "my_list = [1, 2, 3]\n",
    "my_list.append(4)  # [1, 2, 3, 4]\n",
    "print(my_list)"
   ]
  },
  {
   "cell_type": "code",
   "execution_count": null,
   "id": "b929ab52",
   "metadata": {},
   "outputs": [],
   "source": [
    "my_list = [3, 1, 2, 4]\n",
    "my_list.sort()  # [1, 2, 3, 4]\n",
    "\n",
    "print(my_list)\n"
   ]
  },
  {
   "cell_type": "code",
   "execution_count": null,
   "id": "d33f3730",
   "metadata": {},
   "outputs": [],
   "source": [
    "# 내장함수가 없는 세상이라면? (인생 하드모드)\n",
    "dataset = [3, 5, 1, 2, 4]\n",
    "n = len(dataset)\n",
    "for i in range(0, n-1) : # 1 ~ n-1\n",
    "    for j in range(i+1, n) : # i+1 ~ n-1\n",
    "        print(i, j, dataset) # 그냥 dataset을 출력하면 내가 어디있는지 잘 몰라\n",
    "        if dataset[i] > dataset[j] :\n",
    "            tmp = dataset[i]\n",
    "            dataset[i] = dataset[j]\n",
    "            dataset[j] = tmp\n",
    "print(dataset)"
   ]
  },
  {
   "cell_type": "code",
   "execution_count": null,
   "id": "cc1973d0",
   "metadata": {},
   "outputs": [],
   "source": [
    "# (2) 내림차순 정렬 sort 함수 없이 정렬 (2중 for문 사용)\n",
    "dataset = [3, 5, 1, 2, 4]\n",
    "\n",
    "n = len(dataset)\n",
    "for i in range(0, n-1) : # 1 ~ n-1 기준 원소\n",
    "    for j in range(i+1, n) : # i+1 ~ n-1 비교할 원소\n",
    "        print(i,  j, dataset)\n",
    "        if dataset[i] < dataset[j] :\n",
    "            tmp = dataset[i]\n",
    "            dataset[i] = dataset[j]\n",
    "            dataset[j] = tmp\n",
    "print(i, j, dataset)"
   ]
  },
  {
   "cell_type": "code",
   "execution_count": null,
   "id": "052ed704",
   "metadata": {},
   "outputs": [],
   "source": [
    "my_list = [1, 2, 3,7 , 11, 4]\n",
    "my_list.reverse()  # [3, 2, 1]\n",
    "print(my_list)"
   ]
  },
  {
   "cell_type": "code",
   "execution_count": null,
   "id": "29032056",
   "metadata": {},
   "outputs": [],
   "source": [
    "\"\"\"  \n",
    "파이썬 문자열 관련 함수\n",
    "find, index 함수는 같은기능을 하는데 에러메세지 유형이 다르다.\n",
    "find는 찾는 문자열이 없으면 -1, \n",
    "index는 찾는 문자열이 없으면 에러를 일으킨다.\n",
    "\"\"\"\n",
    "a = \"삼성전자\"\n",
    "b = '의 이번 2023년 3분기 당기 순이익은 2조원 입니다.'\n",
    "c = 'LG전자'\n",
    "d = \"현재 결과는 미래를 보장해 주지는 않으니 참고하세요...\"\n",
    "e = 3\n",
    "h = 0.2\n",
    "j = \"wElCome0000\"\n",
    "\n",
    "# 문자개수 세기 \n",
    "d.count(\"현\") #1\n",
    "d.count(\".\") #3\n",
    "\n",
    "#위치를 알려주기 find, index 함수는 같은기능을 하는데 에러메세지 유형이 다르다.\n",
    "a.find(\"현\")\n",
    "#a.index(\"현\")\n",
    "#문자열 삽입\n",
    "ttt = \" \"\n",
    "ttt.join(j)\n",
    "\n",
    "#대문자\n",
    "j.upper()\n",
    "\n",
    "#소문자\n",
    "j.lower()\n",
    "\n",
    "# 문자열 변환\n",
    "\n",
    "b = '삼성전자의 이번 2023년 3분기 당기 순이익은 2조원 입니다.'\n",
    "c = 'LG전자'\n",
    "\n",
    "b.replace(\"삼성전자\", \"LG디스플레이\") #고치고 싶은 단어, 고칠 단어\n",
    "b.replace(\"삼성전자\", c)"
   ]
  },
  {
   "cell_type": "code",
   "execution_count": null,
   "id": "934f5a69",
   "metadata": {},
   "outputs": [],
   "source": [
    "# 문자열 나누기\n",
    "\n",
    "b = '삼성전자의 이번 2023년 3분기 당기 순이익은 2조원 입니다.'\n",
    "b.split()\n"
   ]
  },
  {
   "cell_type": "code",
   "execution_count": null,
   "id": "2f9922a2",
   "metadata": {},
   "outputs": [],
   "source": [
    "my_list = [1, 2, 3, 4, 2]\n",
    "index = my_list.index(2)  # 1 (첫 번째로 나타나는 2의 인덱스)\n",
    "print(index)"
   ]
  },
  {
   "cell_type": "code",
   "execution_count": null,
   "id": "cd54eb2c",
   "metadata": {},
   "outputs": [],
   "source": [
    "my_list = [1, 2, 3]\n",
    "my_list.insert(1, 4)  # [1, 4, 2, 3]\n",
    "print(my_list)"
   ]
  },
  {
   "cell_type": "code",
   "execution_count": null,
   "id": "4afaff21",
   "metadata": {},
   "outputs": [],
   "source": [
    "my_list = [1, 2, 3, 4, 2]\n",
    "my_list.remove(2)  # [1, 3, 4, 2] (첫 번째로 나타나는 2 제거)\n",
    "print(my_list)"
   ]
  },
  {
   "cell_type": "code",
   "execution_count": null,
   "id": "8d89c9f0",
   "metadata": {},
   "outputs": [],
   "source": [
    "my_list = [1, 2, 3]\n",
    "popped_item = my_list.pop()  # 3, 리스트에서 마지막 항목을 꺼내고 리스트에서 제거"
   ]
  },
  {
   "cell_type": "code",
   "execution_count": null,
   "id": "7f783f9f",
   "metadata": {},
   "outputs": [],
   "source": [
    "print(my_list)"
   ]
  },
  {
   "cell_type": "code",
   "execution_count": null,
   "id": "46d3054b",
   "metadata": {},
   "outputs": [],
   "source": [
    "my_list = [1, 2, 3, 2, 2]\n",
    "count = my_list.count(2)  # 3 (2가 3번 나타남)\n",
    "print(count)"
   ]
  },
  {
   "cell_type": "code",
   "execution_count": null,
   "id": "4e29efcb",
   "metadata": {},
   "outputs": [],
   "source": [
    "my_tuple = (1, 2, 3)\n",
    "del my_tuple[1]  # TypeError: 'tuple' object doesn't support item deletion"
   ]
  },
  {
   "cell_type": "code",
   "execution_count": null,
   "id": "5fd2f3be",
   "metadata": {},
   "outputs": [],
   "source": [
    "my_tuple = (1, 2, 3)\n",
    "my_tuple[1] = 4  # TypeError: 'tuple' object does not support item assignment"
   ]
  },
  {
   "cell_type": "code",
   "execution_count": null,
   "id": "fdf2dc80",
   "metadata": {},
   "outputs": [],
   "source": [
    "my_tuple = (1, 2, 3, 4, 5)\n",
    "item = my_tuple[2]  # 3을 가져옴\n",
    "print(item)"
   ]
  },
  {
   "cell_type": "code",
   "execution_count": null,
   "id": "df04706e",
   "metadata": {},
   "outputs": [],
   "source": [
    "my_tuple = (1, 2, 3, 4, 5)\n",
    "sliced_tuple = my_tuple[1:4]  # (2, 3, 4)을 가져옴\n",
    "print(sliced_tuple)"
   ]
  },
  {
   "cell_type": "code",
   "execution_count": null,
   "id": "e9058e86",
   "metadata": {},
   "outputs": [],
   "source": [
    "my_dict = {'apple': 2, 'banana': 3, 'cherry': 5}\n"
   ]
  },
  {
   "cell_type": "code",
   "execution_count": null,
   "id": "792b9f92",
   "metadata": {},
   "outputs": [],
   "source": [
    "import pandas as pd\n",
    "my_dict = {'apple': 2, 'banana': 3}\n",
    "my_dict['cherry_2'] = [15,1,1,1,1,1,1,1,1,1,1,1,1,1,1,1,1,1,1,1]\n",
    "# my_dict는 {'apple': 2, 'banana': 3, 'cherry': 5}\n",
    "df = pd.DataFrame(my_dict)\n",
    "df\n",
    "df.to_csv('dddddd.csv')"
   ]
  },
  {
   "cell_type": "code",
   "execution_count": null,
   "id": "5747e058",
   "metadata": {},
   "outputs": [],
   "source": [
    "my_dict = {'apple': 2, 'banana': 3, 'cherry': 5}\n",
    "del my_dict['banana']\n",
    "# my_dict는 {'apple': 2, 'cherry': 5}\n",
    "print(my_dict)"
   ]
  },
  {
   "cell_type": "code",
   "execution_count": null,
   "id": "53a5a0f3",
   "metadata": {},
   "outputs": [],
   "source": [
    "my_dict = {'apple': 2, 'banana': 3, 'cherry': 5}\n",
    "value_of_banana = my_dict['cherry']\n",
    "# value_of_banana는 3\n",
    "print(value_of_banana)"
   ]
  },
  {
   "cell_type": "code",
   "execution_count": null,
   "id": "ab5c15ba",
   "metadata": {},
   "outputs": [],
   "source": [
    "my_dict = {'apple': 2, 'banana': 3, 'cherry': 5}\n",
    "keys_list = my_dict.keys()  # dict_keys(['apple', 'banana', 'cherry'])\n",
    "print(keys_list)"
   ]
  },
  {
   "cell_type": "code",
   "execution_count": null,
   "id": "a786eab6",
   "metadata": {},
   "outputs": [],
   "source": [
    "my_dict = {'apple': 2, 'banana': 3, 'cherry': 5}\n",
    "values_list = my_dict.values()  # dict_values([2, 3, 5])\n",
    "print(values_list)"
   ]
  },
  {
   "cell_type": "code",
   "execution_count": null,
   "id": "b0768d76",
   "metadata": {},
   "outputs": [],
   "source": [
    "my_dict = {'apple': 2, 'banana': 3, 'cherry': 5}\n",
    "items_list = my_dict.items()  # dict_items([('apple', 2), ('banana', 3), ('cherry', 5)])\n",
    "print(items_list)"
   ]
  },
  {
   "cell_type": "code",
   "execution_count": null,
   "id": "c6e2381b",
   "metadata": {},
   "outputs": [],
   "source": [
    "my_dict = {'apple': 2, 'banana': 3, 'cherry': 5}\n",
    "my_dict.clear()  # my_dict는 {}\n",
    "print(my_dict)"
   ]
  },
  {
   "cell_type": "code",
   "execution_count": null,
   "id": "0c5b7b4c",
   "metadata": {},
   "outputs": [],
   "source": [
    "my_dict = {'apple': 2, 'banana': 3, 'cherry': 5}\n",
    "value_of_apple = my_dict.get('apple')  # 2\n",
    "print(value_of_apple)"
   ]
  },
  {
   "cell_type": "code",
   "execution_count": null,
   "id": "1218b6b7",
   "metadata": {},
   "outputs": [],
   "source": [
    "my_dict = {'apple': 2, 'banana': 3, 'cherry': 5}\n",
    "value_of_banana = my_dict['apple']\n",
    "\n",
    "print(value_of_banana)"
   ]
  },
  {
   "cell_type": "code",
   "execution_count": null,
   "id": "b9086c3f",
   "metadata": {},
   "outputs": [],
   "source": [
    "my_dict = {'apple': 2, 'banana': 3, 'cherry': 5}\n",
    "is_apple_in_dict = 'apple' in my_dict  # True\n",
    "is_grape_in_dict = 'grape' in my_dict  # False\n",
    "print(is_grape_in_dict)"
   ]
  },
  {
   "cell_type": "code",
   "execution_count": null,
   "id": "656836cf",
   "metadata": {},
   "outputs": [],
   "source": [
    "\"\"\" \n",
    "데이터 자료구조의 이해\n",
    "\n",
    "리스트: 가변 자료구조, 순서형 구조, 대괄호안에 데이터 들간다 [1, 2, 3]\n",
    "중복 리스트 가능 [1, 2, [1,2,3]] 이미지 데이터 처리 시 사용 (딥러닝)\n",
    "\n",
    "딕셔너리 : 가변 자료구조, key와 value로 구성, {\"캐릭터\": [\"마리오\", \"루이지\"], \"아이템\": \"버섯\"}\n",
    "튜플 : 변경 불가능 자료구조, 순서형 구조, 소괄호안에 데이터 들감 (1, 2, 3)\n",
    "\n",
    "집합 : 가변 자료구조, \"비\"순서형 구조, 합집합 차집합 여집합 계산 가능\n",
    "\n",
    "\"\"\""
   ]
  },
  {
   "cell_type": "code",
   "execution_count": null,
   "id": "09ed3831",
   "metadata": {},
   "outputs": [],
   "source": [
    "my_set = {1, 2, 3, 4, 5,1,2,2,2,2,2,2}\n",
    "print(my_set)"
   ]
  },
  {
   "cell_type": "code",
   "execution_count": null,
   "id": "23cee5a1",
   "metadata": {},
   "outputs": [],
   "source": [
    "# 다중 리스트 인덱싱 방법\n",
    "u = [1, 2, [7,8,9]]\n",
    "\n",
    "u[0] #1\n",
    "u[1] #2\n",
    "u[2] # 7,8,9\n",
    "u[2][1] #8\n",
    "u[2][2] #9"
   ]
  },
  {
   "cell_type": "code",
   "execution_count": null,
   "id": "3b267067",
   "metadata": {},
   "outputs": [],
   "source": [
    "# 원하는 데이터 슬라이싱\n",
    "\n",
    "u = [1, 2, [7,8,9,[\"zelle\", 777]]]\n",
    "u[2][3][1]\n",
    "u[-1][-1][-1]"
   ]
  },
  {
   "cell_type": "code",
   "execution_count": null,
   "id": "38b0580e",
   "metadata": {},
   "outputs": [],
   "source": [
    "set1 = {1, 2, 3, 4, 5}\n",
    "set2 = {3, 4, 5, 6, 7}\n",
    "intersection = set1 & set2  # {3, 4, 5}\n",
    "print(intersection)"
   ]
  },
  {
   "cell_type": "code",
   "execution_count": null,
   "id": "7a15b600",
   "metadata": {},
   "outputs": [],
   "source": [
    "set1 = {1, 2, 3, 4, 5}\n",
    "set2 = {3, 4, 5, 6, 7}\n",
    "union = set1 | set2  # {1, 2, 3, 4, 5, 6, 7}\n",
    "print(union)"
   ]
  },
  {
   "cell_type": "code",
   "execution_count": null,
   "id": "e57bc942",
   "metadata": {},
   "outputs": [],
   "source": [
    "set1 = {1, 2, 3, 4, 5}\n",
    "set2 = {3, 4, 5, 6, 7}\n",
    "difference = set1 - set2  # {1, 2}\n",
    "print(difference)"
   ]
  },
  {
   "cell_type": "code",
   "execution_count": null,
   "id": "adcfd47b",
   "metadata": {},
   "outputs": [],
   "source": [
    "my_set = {1, 2, 3}\n",
    "my_set.update([3, 4, 5])\n",
    "# my_set는 {1, 2, 3, 4, 5}\n",
    "print(my_set)"
   ]
  },
  {
   "cell_type": "code",
   "execution_count": null,
   "id": "9f05aa47",
   "metadata": {},
   "outputs": [],
   "source": [
    "my_set = {1, 2, 3, 4, 5}\n",
    "my_set.remove(3)\n",
    "# my_set는 {1, 2, 4, 5}\n",
    "print(my_set)"
   ]
  },
  {
   "cell_type": "code",
   "execution_count": null,
   "id": "76befa28",
   "metadata": {},
   "outputs": [],
   "source": [
    "\"\"\"\n",
    "자료형의 참과 거짓\n",
    "\n",
    "파이썬에서는 여러 상황에서 참과 거짓을 판별할 수 있습니다. \n",
    "일반적으로 다음과 같은 규칙에 따릅니다:\n",
    "\n",
    "0, 빈 문자열, 빈 리스트, 빈 튜플, 빈 딕셔너리, None은 거짓(False)으로 간주됩니다.\n",
    "그 외의 숫자, 문자열, 리스트, 튜플, 딕셔너리, 객체는 참(True)으로 간주됩니다.\n",
    "\n",
    "\"\"\""
   ]
  },
  {
   "cell_type": "code",
   "execution_count": null,
   "id": "9337233b",
   "metadata": {},
   "outputs": [],
   "source": [
    "x = True\n",
    "y = False\n",
    "\n",
    "result1 = x and y  # False\n",
    "result2 = x or y   # True\n",
    "result3 = not x    # False\n",
    "print(result3)"
   ]
  },
  {
   "cell_type": "code",
   "execution_count": null,
   "id": "4e76d9b6",
   "metadata": {},
   "outputs": [],
   "source": [
    "# 리스트 정렬 - sort:\n",
    "# 중간에 문자열 들가면 안되요    \n",
    "my_list = [3, \"3\", 2, 4.3476347] #동일한 자료형이어야 된다.\n",
    "my_list.sort()\n",
    "my_list"
   ]
  },
  {
   "cell_type": "code",
   "execution_count": null,
   "id": "2f5a8fb6",
   "metadata": {},
   "outputs": [],
   "source": [
    "# 유효숫자의 개념\n",
    "# 왜 프로그래밍 기초가 중요하고 왜 개발자를 아직도 채용 하는가?\n",
    "\n",
    "#3.87 * 5.87 하면 소수점 둘째 자리만 인정함\n",
    "3.870000000003 * 5.869999999999999"
   ]
  },
  {
   "cell_type": "code",
   "execution_count": null,
   "id": "78d4db0e",
   "metadata": {},
   "outputs": [],
   "source": [
    "x = 28\n",
    "\n",
    "if x > 10:\n",
    "    print(\"x는 10보다 큽니다.\")\n",
    "elif x > 5:\n",
    "    print(\"x는 5보다 큽니다.\")\n",
    "else:\n",
    "    print(\"x는 5 이하입니다.\")"
   ]
  },
  {
   "cell_type": "code",
   "execution_count": null,
   "id": "a2c7c4bf",
   "metadata": {},
   "outputs": [],
   "source": [
    "pocket = ['paper', 'cellphone', 'money']\n",
    "if 'money' in pocket :\n",
    "    print('택시를 타고 가라')\n",
    "else :\n",
    "    print('걸어 가라')"
   ]
  },
  {
   "cell_type": "code",
   "execution_count": null,
   "id": "efd89971",
   "metadata": {},
   "outputs": [],
   "source": [
    "# 다양한 조건을 판단하는 elif\n",
    "pocket = ['paper', 'cellphone']\n",
    "card = 1\n",
    "if 'money' in pocket :\n",
    "    print(\"택시를 타고 가라\")\n",
    "else :\n",
    "    if card :\n",
    "        print(\"택시를 타고 가라\")\n",
    "    else :\n",
    "        print(\"걸어 가라\")"
   ]
  },
  {
   "cell_type": "code",
   "execution_count": null,
   "id": "eb51f351",
   "metadata": {},
   "outputs": [],
   "source": [
    "# if문을 한 줄로 작성하기\n",
    "pocket = ['paper', 'money', 'cellphone']\n",
    "if 'money' in pocket : print(\"택시를 타고 가라\") \n",
    "    # 콜론 옆에 참인 조건을 쓰면 if절이 줄어든다.\n",
    "else : print(\"카드를 꺼내라\")"
   ]
  },
  {
   "cell_type": "code",
   "execution_count": null,
   "id": "83fba971",
   "metadata": {},
   "outputs": [],
   "source": [
    "number = 23 # 우리가 원하는 정답\n",
    "guess = int(input('정수를 입력해 주시기 바랍니다. : ')) \n",
    "# input함수로 사용자의 입력을 받는데, \n",
    "# input함수는 언제나 문자열 자료구조로 받기 때문에 정수처리 해야한다.\n",
    "if number == guess:   # 정확히 추측해서 맞춘경우\n",
    "    print ('축하합니다, 정확히 맞추셨어요.')\n",
    "elif guess < number:\n",
    "    print ('아니오, 그거보단 커야해요')\n",
    "else:\n",
    "    print ('아니오 그거보단 작아야 해요')\n",
    "print ('끝났습니다.') # 들여써지는 경우, else구문에 해당 로직이 속하게 된다.\n",
    "# 즉, 원래 의도인 if 구문 종료 시 '끝났습니다.' 메세지 출력 대신, \n",
    "# 내가 정답보다 크게 추측했을 때 (else 조건에 속할 때) 메세지가 뜬다.\n",
    "# 에러가 나지 않으므로 프론트엔드에서 잡아내기 어려울 수 있다."
   ]
  },
  {
   "cell_type": "code",
   "execution_count": null,
   "id": "e3866e57",
   "metadata": {},
   "outputs": [],
   "source": [
    "# 왜 int 가 필요한가?\n",
    "guess = input()\n",
    "b = guess + 1\n",
    "b"
   ]
  },
  {
   "cell_type": "code",
   "execution_count": null,
   "id": "48852760",
   "metadata": {},
   "outputs": [],
   "source": [
    "# 왜 나는 소수점으로 고통을 받는가?\n",
    "\n",
    "a = 3.87 * 5.87\n",
    "a"
   ]
  },
  {
   "cell_type": "code",
   "execution_count": null,
   "id": "4c60d998",
   "metadata": {},
   "outputs": [],
   "source": [
    "a = 3.87 * 5.87\n",
    "if a == 22.7169 :\n",
    "    print(\"택시를 타고 가라\")\n",
    "else :\n",
    "    print(\"걸어 가라\")"
   ]
  },
  {
   "cell_type": "code",
   "execution_count": null,
   "id": "e2e93b0a",
   "metadata": {},
   "outputs": [],
   "source": [
    "# while 문 끝에 콜론 : 그리고 그다음 줄 띄어쓰기 4칸\n",
    "count = 0 # count라는 변수에 최초값 0 부여\n",
    "while count < 5:\n",
    "    print(\"현재 count 값:\", count) # 현재 count 상태를 출력\n",
    "    count = count + 1\n",
    "    count += 1"
   ]
  },
  {
   "cell_type": "code",
   "execution_count": null,
   "id": "a5edcb05",
   "metadata": {},
   "outputs": [],
   "source": [
    "# While문\n",
    "# while문의 기본 구조\n",
    "treeHit = 0\n",
    "while treeHit < 10 :\n",
    "    treeHit = treeHit + 1\n",
    "    print('나무를 %d번 찍었습니다.' % treeHit)\n",
    "    if treeHit == 10 :\n",
    "        print('나무 넘어갑니다.')"
   ]
  },
  {
   "cell_type": "code",
   "execution_count": null,
   "id": "4ae691b0",
   "metadata": {},
   "outputs": [],
   "source": [
    "# while문 강제로 빠져나가기\n",
    "coffee = 10\n",
    "money = 300\n",
    "while True :\n",
    "    print('돈을 받았으니 커피를 줍니다.')\n",
    "    coffee = coffee -1 \n",
    "    #print('남은 커피의 양은 {}개 입니다.'.format(coffee))\n",
    "    print('남은 커피의 양은 %s개 입니다.' % coffee) # 안전하게 문자열 처리를 하여 출력한다~\n",
    "    if not coffee :\n",
    "        print('남은 커피의 양은 %s개 입니다.' % coffee)\n",
    "        print('커피가 다 떨어졌습니다. 판매를 중지합니다.')\n",
    "        break"
   ]
  },
  {
   "cell_type": "code",
   "execution_count": null,
   "id": "4e2ef0cf",
   "metadata": {},
   "outputs": [],
   "source": [
    "# while문 강제로 빠져나가기\n",
    "coffee = 10\n",
    "money = 300\n",
    "while money :\n",
    "    print('돈을 받았으니 커피를 줍니다.')\n",
    "    money = money -30\n",
    "    coffee = coffee -1\n",
    "    print('남은 커피의 양은 %d개 입니다.' % coffee)\n",
    "    if money == 0 :\n",
    "        print('커피가 다 떨어졌습니다. 판매를 중지합니다.')\n"
   ]
  },
  {
   "cell_type": "code",
   "execution_count": null,
   "id": "dca7def0",
   "metadata": {},
   "outputs": [],
   "source": [
    "number = 23 # 우리가 원하는 정답\n",
    "guess = int(input('정수를 입력해 주시기 바랍니다. : ')) \n",
    "# input함수로 사용자의 입력을 받는데, \n",
    "# input함수는 언제나 문자열 자료구조로 받기 때문에 정수처리 해야한다.\n",
    "if number == guess:   # 정확히 추측해서 맞춘경우\n",
    "    print ('축하합니다, 정확히 맞추셨어요.')\n",
    "elif guess < number:\n",
    "    print ('아니오, 그거보단 커야해요')\n",
    "else:\n",
    "    print ('아니오 그거보단 작아야 해요')\n",
    "print ('끝났습니다.') # 들여써지는 경우, else구문에 해당 로직이 속하게 된다.\n",
    "# 즉, 원래 의도인 if 구문 종료 시 '끝났습니다.' 메세지 출력 대신, \n",
    "# 내가 정답보다 크게 추측했을 때 (else 조건에 속할 때) 메세지가 뜬다.\n",
    "# 에러가 나지 않으므로 프론트엔드에서 잡아내기 어려울 수 있다."
   ]
  },
  {
   "cell_type": "code",
   "execution_count": null,
   "id": "39706783",
   "metadata": {},
   "outputs": [],
   "source": [
    "number = 23\n",
    "running = True\n",
    "while running:\n",
    "    guess = int(input('정수를 입력해 주세요 : '))\n",
    "    if guess == number:\n",
    "        print ('축하드려요 맞추셨네요.')\n",
    "\n",
    "        running = False\n",
    "    elif guess < number:\n",
    "        print ('그거보다 커요.')\n",
    "    else:\n",
    "        print ('그거보다 작아요.')\n",
    "else:\n",
    "    print ('The while 문이 끝났습니다.')\n",
    "\n",
    "print ('끗')"
   ]
  },
  {
   "cell_type": "code",
   "execution_count": null,
   "id": "03da3d2b",
   "metadata": {},
   "outputs": [],
   "source": [
    "# quiz: continue를 사용해서 코드를 바꿔서 \n",
    "# 현재 count 값: 4 도 출력되게 프로그램을 바꿔주세요\n",
    "\n",
    "count = 0\n",
    "while count < 5:\n",
    "    if count == 3:\n",
    "        break\n",
    "    print(\"현재 count 값:\", count)\n",
    "    count += 1\n",
    "    "
   ]
  },
  {
   "cell_type": "code",
   "execution_count": null,
   "id": "43537beb",
   "metadata": {},
   "outputs": [],
   "source": [
    "count = 0\n",
    "while count < 5:\n",
    "    if count == 3:\n",
    "        count += 1 # 건너뛰기 전에 4를 만드려고 추가\n",
    "        continue\n",
    "    else: # 3 이 아닌 다른케이스: 건너뛰지 않았을 때\n",
    "        print(\"현재 count 값:\", count)\n",
    "    count += 1"
   ]
  },
  {
   "cell_type": "code",
   "execution_count": null,
   "id": "b3e4d759",
   "metadata": {},
   "outputs": [],
   "source": [
    "# 1에서 9까지 정수에서 while이랑 if 써서 홀수만 출력해 주세요\n",
    "# 힌트는 홀수는 출력하고 짝수는 건너뛰는 것입니다.\n",
    "\n",
    "a = 0\n",
    "while a < 10:\n",
    "    a += 1\n",
    "    if a % 2 == 0: #짝수는 2로 나눴을 때 나머지가 0이다.\n",
    "        continue\n",
    "    else:\n",
    "        print(a)\n"
   ]
  },
  {
   "cell_type": "code",
   "execution_count": 1,
   "id": "fa3869f3",
   "metadata": {},
   "outputs": [
    {
     "name": "stdout",
     "output_type": "stream",
     "text": [
      "one\n",
      "two\n",
      "three\n"
     ]
    }
   ],
   "source": [
    "# for문의 기본 구조\n",
    "test_list = ['one', 'two', 'three'] # 데이터를 정의\n",
    "for i in test_list :\n",
    "    print(i) #내가 하고싶은 작업"
   ]
  },
  {
   "cell_type": "code",
   "execution_count": 2,
   "id": "a8c738d2",
   "metadata": {},
   "outputs": [
    {
     "name": "stdout",
     "output_type": "stream",
     "text": [
      "H___\n",
      "e___\n",
      "l___\n",
      "l___\n",
      "o___\n"
     ]
    }
   ],
   "source": [
    "# 데이터 셋이 문자열 단어면 글자별로 탐색해서 작업한다.\n",
    "text = \"Hello\"\n",
    "for char in text:\n",
    "    print(char + \"___\")"
   ]
  },
  {
   "cell_type": "code",
   "execution_count": null,
   "id": "5a1237c1",
   "metadata": {},
   "outputs": [],
   "source": [
    "#a = [1,2,3,4,5]\n",
    "\n",
    "a = range(1,101)\n",
    "a = list(a)\n",
    "print(a)\n"
   ]
  },
  {
   "cell_type": "code",
   "execution_count": null,
   "id": "8375c1e0",
   "metadata": {},
   "outputs": [],
   "source": [
    "numbers = [0, 1, 2, 3, 4, 5]\n",
    "for number in numbers:\n",
    "    if number == 3:\n",
    "        continue\n",
    "    print(\"현재 count 값:\", number)"
   ]
  },
  {
   "cell_type": "code",
   "execution_count": null,
   "id": "9dbb6864",
   "metadata": {},
   "outputs": [],
   "source": [
    "\"\"\"\n",
    "while 문은 조건이 변하기 전까지 작업을 반복하므로 \n",
    "while문에서는 작업 수행의 범위를 지정하는 로직이 포함되어야 한다. (무한루프 방지)\n",
    "반면 for문은 데이터셋의 범위 내에서 모든 원소에 대해 반복 작업을 수행해야 하므로 \n",
    "작업을 멈추는 로직이 없어도 데이터셋의 범위 자체가 이미 작업의 범위를 지정하는 것이다.\n",
    "\"\"\""
   ]
  },
  {
   "cell_type": "code",
   "execution_count": 3,
   "id": "3b2e44bc",
   "metadata": {},
   "outputs": [
    {
     "name": "stdout",
     "output_type": "stream",
     "text": [
      "3\n",
      "7\n",
      "11\n"
     ]
    }
   ],
   "source": [
    "# 다양한 for문의 사용\n",
    "a = [(1, 2), (3, 4), (5, 6)]\n",
    "for (first, last) in a :\n",
    "    print(first + last)"
   ]
  },
  {
   "cell_type": "code",
   "execution_count": 5,
   "id": "bb55ee68",
   "metadata": {},
   "outputs": [
    {
     "name": "stdout",
     "output_type": "stream",
     "text": [
      "(1, 2)\n",
      "(3, 4)\n",
      "(5, 6)\n"
     ]
    }
   ],
   "source": [
    "# 다양한 for문의 사용\n",
    "a = [(1, 2), (3, 4), (5, 6)]\n",
    "for ㅋㅋㅋ in a :\n",
    "    print(ㅋㅋㅋ )"
   ]
  },
  {
   "cell_type": "code",
   "execution_count": null,
   "id": "8ab6f4db",
   "metadata": {},
   "outputs": [],
   "source": [
    "\"\"\"\n",
    "5명의 학생 점수를 하나씩 꺼내서 60점 이상은 \"합격\"이라 출력하고 \n",
    "60점 미만은 \"불합격\"으로 출력해 주세요\n",
    "예) 1번학생 합격, 2번학생 불합격\n",
    "\"\"\"\n",
    "marks = [90, 25, 67, 45, 80]\n",
    "number = 1 #학생 번호를 부여함\n",
    "for i in marks: #데이터 셋 안에 원소를 하나씩 끄집어 내기\n",
    "\n",
    "    if i >= 60: # 60점 이상 (조건문)\n",
    "        print('%d번 학생은 합격' % number)\n",
    "    else:  # if 반대의 경우\n",
    "        print('%d번 학생은 불합격' % number)\n",
    "    number += 1 # 학생별로 1~5번까지 번호부여"
   ]
  },
  {
   "cell_type": "code",
   "execution_count": null,
   "id": "88ce850f",
   "metadata": {},
   "outputs": [],
   "source": [
    "# 이중 for문 : 개별 원소에 대해 추가적인 반복연산 가능\n",
    "for i in range(2, 10): # 2에서 9단까지 구구단의 몇'단' 설정\n",
    "    for j in range(1, 10): # 각 구구단의 계산\n",
    "        print(f\"{i} x {j} = {i * j}\")"
   ]
  },
  {
   "cell_type": "code",
   "execution_count": null,
   "id": "517f728c",
   "metadata": {},
   "outputs": [],
   "source": [
    "# for문은 한줄에 쓸 수 있다.\n",
    "numbers = [1, 2, 3, 4, 5]\n",
    "squares = [x**2 for x in numbers] # 하고싶은 작업 for 원소 in 데이터셋\n",
    "squares"
   ]
  },
  {
   "cell_type": "code",
   "execution_count": null,
   "id": "5401f023",
   "metadata": {},
   "outputs": [],
   "source": [
    "numbers = [1, 2, 3, 4, 5]\n",
    "for x in numbers:\n",
    "    print(x**2)"
   ]
  },
  {
   "cell_type": "code",
   "execution_count": null,
   "id": "61c707ba",
   "metadata": {},
   "outputs": [],
   "source": [
    "result = [x*y for x in range(2,10) for y in range(1,10)]\n",
    "print(result)"
   ]
  },
  {
   "cell_type": "code",
   "execution_count": null,
   "id": "8d398ddb",
   "metadata": {},
   "outputs": [],
   "source": [
    "for i in range(2, 10): # 2에서 9단까지 구구단의 몇'단' 설정\n",
    "    for j in range(1, 10): # 각 구구단의 계산\n",
    "        print(i * j)"
   ]
  },
  {
   "cell_type": "code",
   "execution_count": 6,
   "id": "ce547bc3",
   "metadata": {},
   "outputs": [
    {
     "name": "stdout",
     "output_type": "stream",
     "text": [
      "광해 [9.24, 1200]\n",
      "공작 [7.86, 500]\n",
      "관상 [8.01, 900]\n",
      "('광해', [9.24, 1200])\n",
      "('공작', [7.86, 500])\n",
      "('관상', [8.01, 900])\n"
     ]
    }
   ],
   "source": [
    "#  {key : [val1, val2]} - {'영화' : [평점, 관객수 = 만명]}\n",
    "movie = {'광해' : [9.24, 1200], '공작' : [7.86, 500], '관상' : [8.01, 900],}\n",
    "\n",
    "# # for문으로 딕셔너리에서 key값들만 한줄씩 출력해 주세요\n",
    "# for xx in movie.keys():\n",
    "#     print(xx)\n",
    "\n",
    "# # for문으로 딕셔너리에서 value값들만 한줄씩 출력해 주세요\n",
    "# for yy in movie.values():\n",
    "#     print(yy)\n",
    "\n",
    "# for문으로 딕셔너리에서 key랑 value값 둘 다 한줄씩 출력해 주세요\n",
    "for zz, k in movie.items():\n",
    "    print(zz, k)\n",
    "\n",
    "for k in movie.items():\n",
    "    print(k)"
   ]
  },
  {
   "cell_type": "code",
   "execution_count": null,
   "id": "23ae493b",
   "metadata": {},
   "outputs": [],
   "source": [
    "#  {key : [val1, val2]} - {'영화' : [평점, 관객수]}\n",
    "movie = {'광해' : [9.24, 1200], '공작' : [7.86, 500], '관상' : [8.01, 900],}\n",
    "\n",
    "#  문] 평점 8이상인 영화들의 제목과 합산관객수 출력하기 \n",
    "'''\n",
    "광해\n",
    "관상\n",
    "누적 관객수 =  2,100\n",
    "'''    \n",
    "\n",
    "아래의 코드를 참고해서 푸세요\n",
    "# for문으로 딕셔너리에서 key랑 value값 둘 다 한줄씩 출력해 주세요\n",
    "for zz, k in movie.items():\n",
    "    print(zz, k)\n",
    "\n",
    "for k in movie.items():\n",
    "    print(k)"
   ]
  },
  {
   "cell_type": "code",
   "execution_count": 7,
   "id": "a6b3f0fb",
   "metadata": {},
   "outputs": [
    {
     "name": "stdout",
     "output_type": "stream",
     "text": [
      "광해\n",
      "관상\n",
      "2100\n"
     ]
    }
   ],
   "source": [
    "#  {key : [val1, val2]} - {'영화' : [평점, 관객수]}\n",
    "movie = {'광해' : [9.24, 1200], '공작' : [7.86, 500], '관상' : [8.01, 900],}\n",
    "\n",
    "tot = 0 #관객수\n",
    "for zz, k in movie.items(): # 데이터 셋 내부 개별 데이터 호출\n",
    "    if k[0] >= 8: # 데이터 안에 평점이 담긴 위치를 호출\n",
    "        print(zz) # 영화제목을 출력함\n",
    "        tot += k[1]\n",
    "print(tot)"
   ]
  },
  {
   "cell_type": "code",
   "execution_count": 8,
   "id": "52b3cb11",
   "metadata": {},
   "outputs": [
    {
     "name": "stdout",
     "output_type": "stream",
     "text": [
      "[34, 40, 18, 20, 22, 45]\n"
     ]
    }
   ],
   "source": [
    "# 1-45 중의 정수를 무작위로 6개뽑아서 리스트 자료에 넣어서 보여주세요\n",
    "# 로또 프로그램\n",
    "\n",
    "import random # 무작위 수를 추출하는 모듈입니다.\n",
    "r = [] # 빈 리스트 자료구조를 생성합니다. 뽑은 번호를 넣어야 하니까요.\n",
    "for i in range(6): # 6개의 숫자를 뽑습니다.\n",
    "    r.append(random.randint(1,46)) # random.randint(1,46) 는 1~45 정수중에 하나 무작위로 추출\n",
    "\n",
    "print(r) # 결과출력\n"
   ]
  },
  {
   "cell_type": "code",
   "execution_count": null,
   "id": "6f5b81cf",
   "metadata": {},
   "outputs": [],
   "source": [
    "# 지금 코드 참고해서 중복없이 만들어 보기\n",
    "import random\n",
    "for i in range(20) :\n",
    "    list=[ ]\n",
    "    while len(list) < 4 :\n",
    "        number = random.randint(1,20)\n",
    "        if number not in list :\n",
    "            list.append(number)\n",
    "print(list)"
   ]
  },
  {
   "cell_type": "code",
   "execution_count": 9,
   "id": "c8b96af3",
   "metadata": {},
   "outputs": [
    {
     "name": "stdout",
     "output_type": "stream",
     "text": [
      "{0: [20, 40, 14, 4, 18, 26], 1: [32, 9, 44, 19, 2, 24], 2: [8, 35, 29, 20, 1, 14], 3: [4, 11, 43, 44, 28, 25], 4: [11, 33, 31, 44, 1, 12], 5: [21, 23, 17, 33, 45, 18], 6: [5, 16, 1, 6, 17, 24], 7: [9, 8, 12, 24, 21, 2], 8: [12, 31, 21, 29, 22, 1], 9: [18, 11, 21, 40, 27, 3]}\n"
     ]
    }
   ],
   "source": [
    "import random\n",
    "results = {} # 최종 복권결과를 저장하는 자료구조 선언\n",
    "for i in range(10): #복권 10장\n",
    "    r = [] # 개별 복권 결과를 저장하는 자료구조 선언\n",
    "\n",
    "    while len(r) < 6: #당첨 숫자 6개가 나올때 까지 계속 로직 돌리세요\n",
    "        number = random.randint(1, 45) # 1부터 45까지 정수 중에 하나 선택\n",
    "        if number not in r:  # 중복된 숫자가 있는지 체크하기\n",
    "            r.append(number)  # 중복된 숫자가 아닌경우 당첨숫자에 추가\n",
    "        results[i] = r #만들어진 당첨 복권 세트 하나씩 최종 결과에 추가\n",
    "print(results)     # 결과출력"
   ]
  },
  {
   "cell_type": "code",
   "execution_count": null,
   "id": "577f147b",
   "metadata": {},
   "outputs": [],
   "source": [
    "# 로또 10세트를 진행해서 딕셔너리 자료구조에 넣어서 보여주세요\n",
    "# 로또는 중복추출이 안되서... 중복추출 방지한 명령어로 다시 보입니다.\n",
    "# 문제: 개별결과 set을 정렬해서 보여주세요\n",
    "import random\n",
    "\n",
    "results = {}\n",
    "for j in range(10):\n",
    "    r = random.sample(range(1,46),6)\n",
    "    r.sort() # 정렬시킴\n",
    "    results[j] = r\n",
    "print(results)"
   ]
  },
  {
   "cell_type": "code",
   "execution_count": null,
   "id": "568f2d85",
   "metadata": {},
   "outputs": [],
   "source": [
    "# 정렬알고리즘에서 오름차순 알고리즘을 사용하여\n",
    "# 아래 5개 데이터셋의 정렬작업을 순차적으로 진행하여 주시기 바랍니다.\n",
    "#맨 위에 for문 하나만 더 쓰면 됩니다.\n",
    "\n",
    "dataset_1 = [3, 5, 1, 2, 4]\n",
    "dataset_2 = [3, 11, 77, 32, 99]\n",
    "dataset_3 = [3, 75645, 32, 2, 666]\n",
    "dataset_4 = [3, 32, 1, 666, 4]\n",
    "dataset_5 = [323, 5, 7, 2, 666]\n",
    "datasets = [dataset_1, dataset_2, dataset_3, dataset_4, dataset_5 ]\n",
    "\n",
    "\n",
    "for dataset in datasets:\n",
    "    n = len(dataset)\n",
    "    for i in range(0, n-1) : # 1 ~ n-1\n",
    "        for j in range(i+1, n) : # i+1 ~ n-1\n",
    "            #print(i, j, dataset) # 그냥 dataset을 출력하면 내가 어디있는지 잘 몰라\n",
    "            if dataset[i] > dataset[j] :\n",
    "                tmp = dataset[i]\n",
    "                dataset[i] = dataset[j]\n",
    "                dataset[j] = tmp\n",
    "print(datasets)"
   ]
  },
  {
   "cell_type": "code",
   "execution_count": null,
   "id": "cebceddd",
   "metadata": {},
   "outputs": [],
   "source": [
    "# 1~10번 학생 중 결석한 학생을 제외하고 (결석자는 2,5번)  \n",
    "# 아래의 메세지를 출력해 주세요.\n",
    "\n",
    "1 번, 책을 읽으세요\n",
    "3 번, 책을 읽으세요\n",
    "4 번, 책을 읽으세요\n",
    "6 번, 책을 읽으세요\n",
    "7 번, 책을 읽으세요\n",
    "8 번, 책을 읽으세요"
   ]
  },
  {
   "cell_type": "code",
   "execution_count": null,
   "id": "ae0b1f3e",
   "metadata": {},
   "outputs": [],
   "source": [
    "for student in range(1,11):\n",
    "    if student ==2 or student ==5:\n",
    "        continue\n",
    "    else:\n",
    "        print(\"{}번, 책을 읽으세요\".format(student))"
   ]
  },
  {
   "cell_type": "code",
   "execution_count": 10,
   "id": "d358ee0d",
   "metadata": {},
   "outputs": [
    {
     "name": "stdout",
     "output_type": "stream",
     "text": [
      "1번, 책을 읽으세요\n",
      "3번, 책을 읽으세요\n",
      "4번, 책을 읽으세요\n",
      "6번, 책을 읽으세요\n",
      "7번, 책을 읽으세요\n",
      "8번, 책을 읽으세요\n",
      "9번, 책을 읽으세요\n",
      "10번, 책을 읽으세요\n"
     ]
    }
   ],
   "source": [
    "absent = [2,5]\n",
    "for student in range(1,11):\n",
    "    if student in absent:\n",
    "        continue\n",
    "    print(\"{}번, 책을 읽으세요\".format(student))"
   ]
  },
  {
   "cell_type": "code",
   "execution_count": null,
   "id": "58ff7948",
   "metadata": {},
   "outputs": [],
   "source": [
    "# 위의 문제에서 7번학생이 책을 가져오지 않았습니다.\n",
    "#7번학생을 만나면 \"7번은 책을 안가져왔군\" 이란 말이 나오도록 \n",
    "#코드를 수정해 주세요"
   ]
  },
  {
   "cell_type": "code",
   "execution_count": 15,
   "id": "02b24579",
   "metadata": {},
   "outputs": [
    {
     "name": "stdout",
     "output_type": "stream",
     "text": [
      "1번, 책을 읽으세요\n",
      "3번, 책을 읽으세요\n",
      "4번, 책을 읽으세요\n",
      "6번, 책을 읽으세요\n",
      "7번은 책을 안가져왔군\n",
      "8번, 책을 읽으세요\n",
      "9번, 책을 읽으세요\n",
      "10번, 책을 읽으세요\n"
     ]
    }
   ],
   "source": [
    "absent = [2,5]\n",
    "no_book = [7]\n",
    "for student in range(1,11):\n",
    "    if student in absent:\n",
    "        continue\n",
    "    elif student in no_book:\n",
    "        print(\"{}번은 책을 안가져왔군\".format(student))\n",
    "    else:\n",
    "        print(\"{}번, 책을 읽으세요\".format(student))"
   ]
  },
  {
   "cell_type": "code",
   "execution_count": null,
   "id": "91b28f96",
   "metadata": {},
   "outputs": [],
   "source": [
    "quiz) 당신은 카카오 서비스를 이용하는 택시기사입니다.\n",
    "50명의 승객과 매칭기회가 있을 때, 총 탑승 승객수를 구하는 프로그램을 작성하시오.\n",
    "\n",
    "조건1: 승객별 운행 소요시간은 5~50분 사이의 난수로 정해집니다.\n",
    "    조건2: 당신은 소요시간 5분~15분 사이의 승객만 매칭해야 합니다.\n",
    "        \n",
    "(출력문 예제)\n",
    "[0] 1번째 손님 (소요시간 : 15분)\n",
    "[ ] 2번째 손님 (소요시간 : 50분)\n",
    "[0] 3번째 손님 (소요시간 : 5분)\n",
    "\n",
    "총 탑승 승객 : 2분"
   ]
  },
  {
   "cell_type": "code",
   "execution_count": 16,
   "id": "647f57ea",
   "metadata": {},
   "outputs": [
    {
     "name": "stdout",
     "output_type": "stream",
     "text": [
      "[ ] 1번째 손님 (소요시간 : 35분)\n",
      "[ ] 2번째 손님 (소요시간 : 22분)\n",
      "[ ] 3번째 손님 (소요시간 : 48분)\n",
      "[ ] 4번째 손님 (소요시간 : 45분)\n",
      "[ ] 5번째 손님 (소요시간 : 37분)\n",
      "[ ] 6번째 손님 (소요시간 : 27분)\n",
      "[ ] 7번째 손님 (소요시간 : 38분)\n",
      "[ ] 8번째 손님 (소요시간 : 17분)\n",
      "[ ] 9번째 손님 (소요시간 : 31분)\n",
      "[ ] 10번째 손님 (소요시간 : 49분)\n",
      "[ ] 11번째 손님 (소요시간 : 46분)\n",
      "[0] 12번째 손님 (소요시간 : 13분)\n",
      "[ ] 13번째 손님 (소요시간 : 20분)\n",
      "[ ] 14번째 손님 (소요시간 : 25분)\n",
      "[0] 15번째 손님 (소요시간 : 13분)\n",
      "[ ] 16번째 손님 (소요시간 : 49분)\n",
      "[ ] 17번째 손님 (소요시간 : 41분)\n",
      "[ ] 18번째 손님 (소요시간 : 51분)\n",
      "[0] 19번째 손님 (소요시간 : 7분)\n",
      "[ ] 20번째 손님 (소요시간 : 26분)\n",
      "[ ] 21번째 손님 (소요시간 : 29분)\n",
      "[0] 22번째 손님 (소요시간 : 7분)\n",
      "[ ] 23번째 손님 (소요시간 : 34분)\n",
      "[ ] 24번째 손님 (소요시간 : 19분)\n",
      "[ ] 25번째 손님 (소요시간 : 31분)\n",
      "[ ] 26번째 손님 (소요시간 : 29분)\n",
      "[ ] 27번째 손님 (소요시간 : 37분)\n",
      "[0] 28번째 손님 (소요시간 : 15분)\n",
      "[ ] 29번째 손님 (소요시간 : 16분)\n",
      "[ ] 30번째 손님 (소요시간 : 21분)\n",
      "[0] 31번째 손님 (소요시간 : 14분)\n",
      "[ ] 32번째 손님 (소요시간 : 40분)\n",
      "[ ] 33번째 손님 (소요시간 : 18분)\n",
      "[ ] 34번째 손님 (소요시간 : 33분)\n",
      "[ ] 35번째 손님 (소요시간 : 26분)\n",
      "[0] 36번째 손님 (소요시간 : 7분)\n",
      "[0] 37번째 손님 (소요시간 : 8분)\n",
      "[ ] 38번째 손님 (소요시간 : 25분)\n",
      "[ ] 39번째 손님 (소요시간 : 33분)\n",
      "[0] 40번째 손님 (소요시간 : 10분)\n",
      "[ ] 41번째 손님 (소요시간 : 22분)\n",
      "[ ] 42번째 손님 (소요시간 : 49분)\n",
      "[ ] 43번째 손님 (소요시간 : 23분)\n",
      "[ ] 44번째 손님 (소요시간 : 36분)\n",
      "[ ] 45번째 손님 (소요시간 : 32분)\n",
      "[ ] 46번째 손님 (소요시간 : 21분)\n",
      "[ ] 47번째 손님 (소요시간 : 44분)\n",
      "[ ] 48번째 손님 (소요시간 : 35분)\n",
      "[ ] 49번째 손님 (소요시간 : 38분)\n",
      "[ ] 50번째 손님 (소요시간 : 32분)\n",
      "총 탑승 승객 : 9분\n"
     ]
    }
   ],
   "source": [
    "from random import *\n",
    "cnt = 0\n",
    "for i in range(1,51):\n",
    "    time = randint(5,50)\n",
    "    if 5 <= time <= 15:\n",
    "        print(\"[0] {}번째 손님 (소요시간 : {}분)\".format(i, time))\n",
    "        cnt += 1\n",
    "    else: \n",
    "        print(\"[ ] {}번째 손님 (소요시간 : {}분)\".format(i, time))\n",
    "\n",
    "print(\"총 탑승 승객 : {}분\".format(cnt))"
   ]
  },
  {
   "cell_type": "code",
   "execution_count": 21,
   "id": "7e3a8f7e",
   "metadata": {},
   "outputs": [
    {
     "name": "stdout",
     "output_type": "stream",
     "text": [
      "450\n",
      "350\n",
      "{'hong': 350, 'lee': 300, 'kang': 550}\n",
      "{'lee': 300, 'kang': 550}\n",
      "{'lee': 300, 'kang': 550, 'yoo': 250}\n"
     ]
    }
   ],
   "source": [
    "emp = {'hong' : 350, 'lee' : 450, 'kang' : 550}\n",
    "\n",
    "print(emp['lee'])\n",
    "print(emp.get('hong')) # 350\n",
    "\n",
    "# dict 원소 수정 \n",
    "emp['lee'] = 300\n",
    "print(emp)\n",
    "\n",
    "# dict 원소 제거 \n",
    "del emp['hong']\n",
    "print(emp) \n",
    "\n",
    "# dict 원소 추가 \n",
    "emp['yoo'] = 250\n",
    "print(emp) # {'lee': 300, 'kang': 550, 'yoo': 250}\n",
    "\n"
   ]
  },
  {
   "cell_type": "code",
   "execution_count": null,
   "id": "a2728296",
   "metadata": {},
   "outputs": [],
   "source": [
    "'''\n",
    "key = input('찾을 키 : ')\n",
    "\n",
    "# 형식) if value in object :\n",
    "if key in person :  \n",
    "    print(key + ' 있어요')\n",
    "    print(person[key])\n",
    "else :\n",
    "    print(key + ' 없어요')\n",
    "'''"
   ]
  },
  {
   "cell_type": "code",
   "execution_count": 23,
   "id": "be7160e1",
   "metadata": {},
   "outputs": [
    {
     "name": "stdout",
     "output_type": "stream",
     "text": [
      "있음\n",
      "name : hong => pay 350\n",
      "name : lee => pay 450\n",
      "name : kang => pay 550\n"
     ]
    }
   ],
   "source": [
    "emp = {'hong' : 350, 'lee' : 450, 'kang' : 550}\n",
    "\n",
    "if 'kang' in emp : \n",
    "    print('있음')\n",
    "else : \n",
    "    print('없음')\n",
    "\n",
    "for name, pay in emp.items():\n",
    "    print(f\"name : {name} => pay {pay}\")"
   ]
  },
  {
   "cell_type": "code",
   "execution_count": null,
   "id": "63ba9c5e",
   "metadata": {},
   "outputs": [],
   "source": [
    "# [실습] 문자 빈도수 구하기[1]\n",
    "charset = ['abc', 'code', 'band', 'band', 'abc']\n",
    "wc = {}\n",
    "\n",
    "for ch in charset :\n",
    "\n",
    "위 for 문을 사용하여 각 단어의 출현 개수를 구하시오"
   ]
  },
  {
   "cell_type": "code",
   "execution_count": null,
   "id": "11a9ce85",
   "metadata": {},
   "outputs": [],
   "source": []
  }
 ],
 "metadata": {
  "kernelspec": {
   "display_name": "Python 3 (ipykernel)",
   "language": "python",
   "name": "python3"
  },
  "language_info": {
   "codemirror_mode": {
    "name": "ipython",
    "version": 3
   },
   "file_extension": ".py",
   "mimetype": "text/x-python",
   "name": "python",
   "nbconvert_exporter": "python",
   "pygments_lexer": "ipython3",
   "version": "3.11.5"
  }
 },
 "nbformat": 4,
 "nbformat_minor": 5
}
