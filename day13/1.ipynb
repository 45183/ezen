{
 "cells": [
  {
   "cell_type": "code",
   "execution_count": null,
   "id": "5d345e88",
   "metadata": {},
   "outputs": [],
   "source": [
    "# quiz - 학교에서 파이썬 코딩 대회 주최\n",
    "# 댓글 이벤트 - 댓글 작성자 중 추첨 통해 1명 치킨, 3명 커피쿠폰\n",
    "\n",
    "# 조건 1 - 편의상 댓글 20명이 작성, 아이디 1-20이라 가정\n",
    "# 조건 2 - 댓글 내용과 상관없이 무작위로 추첨하되 중복불가\n",
    "# 조건 3 - random 모듈의 shuflle과 sample을 활용"
   ]
  },
  {
   "cell_type": "code",
   "execution_count": null,
   "id": "b318ee88",
   "metadata": {},
   "outputs": [],
   "source": [
    "'''\n",
    "\n",
    "(출력예제)\n",
    "-- 당첨자 발표 --\n",
    "치킨 당첨자 : 1\n",
    "커피 당첨자 : [2,3,4]\n",
    "-- 축하합니다.\n",
    "\n",
    "'''"
   ]
  },
  {
   "cell_type": "code",
   "execution_count": 1,
   "id": "0df0a0c9",
   "metadata": {},
   "outputs": [
    {
     "name": "stdout",
     "output_type": "stream",
     "text": [
      "[1, 2, 3, 4, 5]\n",
      "[5, 1, 2, 3, 4]\n",
      "[3]\n"
     ]
    }
   ],
   "source": [
    "# 활용예제\n",
    "\n",
    "from random import *\n",
    "lst = [1,2,3,4,5]\n",
    "print(lst)\n",
    "shuffle(lst)\n",
    "print(lst)\n",
    "print(sample(lst,1))"
   ]
  },
  {
   "cell_type": "code",
   "execution_count": 45,
   "id": "90d57734",
   "metadata": {},
   "outputs": [
    {
     "name": "stdout",
     "output_type": "stream",
     "text": [
      "[20, 5, 13, 2]\n",
      "-- 당첨자 발표 --\n",
      "치킨 당첨자  :  20\n",
      "커피 당첨자 :  [5, 13, 2]\n",
      "-- 축하합니다. --\n"
     ]
    }
   ],
   "source": [
    "from random import *\n",
    "\n",
    "lst = []\n",
    "for i in range(20):\n",
    "    a = randint(1, 20)\n",
    "    while a in lst:\n",
    "        a = randint(1, 20)\n",
    "    lst.append(a)\n",
    "# print(lst)\n",
    "# shuffle(lst)  # 이미 1-20 랜덤으로 섞여서 필요없음\n",
    "b = sample(lst, 4)\n",
    "print(b)\n",
    "print(\"-- 당첨자 발표 --\")\n",
    "print(\"치킨 당첨자  : \", b[0])\n",
    "print(\"커피 당첨자 : \", b[1:])\n",
    "print(\"-- 축하합니다. --\")\n",
    "\n",
    "# sample로 각각 출력시 치킨 당첨자와 커피 당첨자에서 같은 사람이 나올 수 있다. - 먼저 sample로 4개 추출해야한다."
   ]
  },
  {
   "cell_type": "code",
   "execution_count": 42,
   "id": "4e213c88",
   "metadata": {},
   "outputs": [
    {
     "name": "stdout",
     "output_type": "stream",
     "text": [
      "-- 당첨자 발표 --\n",
      "치킨 당첨자  : 13\n",
      "커피 당첨자 : [11, 16, 17]\n",
      "-- 축하합니다. --\n"
     ]
    }
   ],
   "source": [
    "# 정답\n",
    "from random import *\n",
    "\n",
    "users = range(1, 21)\n",
    "users = list(users) # 1에서 20까지 리스트\n",
    "\n",
    "shuffle(users)\n",
    "winners = sample(users, 4)\n",
    "\n",
    "print(\"-- 당첨자 발표 --\")\n",
    "print(\"치킨 당첨자  : {}\".format(winners[0]))\n",
    "print(\"커피 당첨자 : {}\".format(winners[1:]))\n",
    "print(\"-- 축하합니다. --\")"
   ]
  },
  {
   "cell_type": "code",
   "execution_count": 47,
   "id": "a8b6de18",
   "metadata": {},
   "outputs": [
    {
     "name": "stdout",
     "output_type": "stream",
     "text": [
      "hello\n",
      "World\n",
      "hello\tWorld\n"
     ]
    }
   ],
   "source": [
    "print(\"hello\\nWorld\") # \\n - 줄바꿈\n",
    "print(\"hello\\tWorld\") # \\t - 간격 tap만큼"
   ]
  },
  {
   "cell_type": "code",
   "execution_count": 53,
   "id": "6b40c169",
   "metadata": {},
   "outputs": [
    {
     "name": "stdout",
     "output_type": "stream",
     "text": [
      "안녕하세요. 제 이름은 Bob이고, 나이는 25세 입니다.\n"
     ]
    }
   ],
   "source": [
    "이름 = \"Bob\"\n",
    "나이 = 25\n",
    "인사문 = \"안녕하세요. 제 이름은 %s이고, 나이는 %d세 입니다.\" %(이름, 나이)\n",
    "print(인사문)\n"
   ]
  },
  {
   "cell_type": "code",
   "execution_count": 52,
   "id": "11af72b5",
   "metadata": {},
   "outputs": [
    {
     "name": "stdout",
     "output_type": "stream",
     "text": [
      "안녕하세요. 제 이름은 Bob이고, 나이는 25세 입니다.\n"
     ]
    }
   ],
   "source": [
    "이름 = \"Bob\"\n",
    "나이 = 25\n",
    "인사문 = \"안녕하세요. 제 이름은 {}이고, 나이는 {}세 입니다.\".format(이름, 나이)\n",
    "print(인사문)"
   ]
  },
  {
   "cell_type": "code",
   "execution_count": 55,
   "id": "3882b205",
   "metadata": {},
   "outputs": [
    {
     "name": "stdout",
     "output_type": "stream",
     "text": [
      "안녕하세요. 제 이름은 Bob이고, 나이는 25.000000세 입니다.\n"
     ]
    }
   ],
   "source": [
    "이름 = \"Bob\"\n",
    "나이 = 25\n",
    "인사문 = \"안녕하세요. 제 이름은 %s이고, 나이는 %f세 입니다.\" %(이름, 나이)   # %s 대신 %c 사용시 문자 하나가 아니므로 오류 발생\n",
    "print(인사문)"
   ]
  },
  {
   "cell_type": "code",
   "execution_count": 59,
   "id": "9a3317fe",
   "metadata": {},
   "outputs": [
    {
     "data": {
      "text/plain": [
       "'I ate three apples. so I was sick for 10 days.'"
      ]
     },
     "execution_count": 59,
     "metadata": {},
     "output_type": "execute_result"
    }
   ],
   "source": [
    "number = 10\n",
    "day = \"three\"\n",
    "\"I ate {1} apples. so I was sick for {0} days.\".format(number, day) # 0, 1 순"
   ]
  },
  {
   "cell_type": "code",
   "execution_count": 60,
   "id": "2fd4a381",
   "metadata": {},
   "outputs": [
    {
     "data": {
      "text/plain": [
       "'I ate 10 apples. so I was sick for 3 days.'"
      ]
     },
     "execution_count": 60,
     "metadata": {},
     "output_type": "execute_result"
    }
   ],
   "source": [
    "\"I ate {number} apples. so I was sick for {day} days.\".format(number=10, day=3)"
   ]
  },
  {
   "cell_type": "code",
   "execution_count": 61,
   "id": "f505ce60",
   "metadata": {},
   "outputs": [
    {
     "name": "stdout",
     "output_type": "stream",
     "text": [
      "3\n"
     ]
    }
   ],
   "source": [
    "my_list = [1, 2, 3, 4, 5]\n",
    "item = my_list[2]  # 3을 가져옴\n",
    "print(item)"
   ]
  },
  {
   "cell_type": "code",
   "execution_count": 62,
   "id": "6ceba79a",
   "metadata": {},
   "outputs": [
    {
     "name": "stdout",
     "output_type": "stream",
     "text": [
      "[2, 3, 4]\n"
     ]
    }
   ],
   "source": [
    "my_list = [1, 2, 3, 4, 5]\n",
    "sliced_list = my_list[1:4]  # [2, 3, 4]를 가져옴\n",
    "print(sliced_list)"
   ]
  },
  {
   "cell_type": "code",
   "execution_count": 63,
   "id": "ac739e71",
   "metadata": {},
   "outputs": [
    {
     "name": "stdout",
     "output_type": "stream",
     "text": [
      "[1, 2, 3, 4, 5, 6]\n"
     ]
    }
   ],
   "source": [
    "list1 = [1, 2, 3]\n",
    "list2 = [4, 5, 6]\n",
    "result = list1 + list2  # [1, 2, 3, 4, 5, 6]\n",
    "print(result)"
   ]
  },
  {
   "cell_type": "code",
   "execution_count": 64,
   "id": "9cc1a461",
   "metadata": {},
   "outputs": [
    {
     "name": "stdout",
     "output_type": "stream",
     "text": [
      "[1, 2, 3, 1, 2, 3, 1, 2, 3]\n"
     ]
    }
   ],
   "source": [
    "original_list = [1, 2, 3]\n",
    "repeated_list = original_list * 3  # [1, 2, 3, 1, 2, 3, 1, 2, 3]\n",
    "print(repeated_list)"
   ]
  },
  {
   "cell_type": "code",
   "execution_count": 65,
   "id": "57a0420e",
   "metadata": {},
   "outputs": [
    {
     "name": "stdout",
     "output_type": "stream",
     "text": [
      "5\n"
     ]
    }
   ],
   "source": [
    "my_list = [1, 2, 3, 4, 5]\n",
    "length = len(my_list)  # 5\n",
    "print(length)"
   ]
  },
  {
   "cell_type": "code",
   "execution_count": 66,
   "id": "de0e7360",
   "metadata": {},
   "outputs": [
    {
     "name": "stdout",
     "output_type": "stream",
     "text": [
      "[1, 2, 6, 4, 5]\n"
     ]
    }
   ],
   "source": [
    "my_list = [1, 2, 3, 4, 5]\n",
    "my_list[2] = 6  # [1, 2, 6, 4, 5]\n",
    "print(my_list)"
   ]
  },
  {
   "cell_type": "code",
   "execution_count": 67,
   "id": "4f0543bc",
   "metadata": {},
   "outputs": [
    {
     "name": "stdout",
     "output_type": "stream",
     "text": [
      "[1, 2, 3, 5]\n"
     ]
    }
   ],
   "source": [
    "my_list = [1, 2, 3, 4, 5]\n",
    "del my_list[3]  # [1, 2, 3, 5]\n",
    "print(my_list)"
   ]
  },
  {
   "cell_type": "code",
   "execution_count": 68,
   "id": "ed9fd26f",
   "metadata": {},
   "outputs": [
    {
     "name": "stdout",
     "output_type": "stream",
     "text": [
      "[1, 2, 3, 4]\n"
     ]
    }
   ],
   "source": [
    "my_list = [1, 2, 3]\n",
    "my_list.append(4)  # [1, 2, 3, 4]\n",
    "print(my_list)"
   ]
  },
  {
   "cell_type": "code",
   "execution_count": 70,
   "id": "2e0c048f",
   "metadata": {},
   "outputs": [
    {
     "name": "stdout",
     "output_type": "stream",
     "text": [
      "[1, 2, 3, 4]\n"
     ]
    }
   ],
   "source": [
    "my_list = [3, 1, 2, 4]\n",
    "my_list.sort()  # [1, 2, 3, 4]\n",
    "print(my_list)"
   ]
  },
  {
   "cell_type": "code",
   "execution_count": 71,
   "id": "e779f927",
   "metadata": {},
   "outputs": [
    {
     "name": "stdout",
     "output_type": "stream",
     "text": [
      "[3, 2, 1]\n"
     ]
    }
   ],
   "source": [
    "my_list = [1, 2, 3]\n",
    "my_list.reverse()  # [3, 2, 1] - 순서만 뒤집기 (역정렬x)\n",
    "print(my_list)"
   ]
  },
  {
   "cell_type": "code",
   "execution_count": 75,
   "id": "304c8c96",
   "metadata": {},
   "outputs": [
    {
     "name": "stdout",
     "output_type": "stream",
     "text": [
      "------------------------------------------------------------\n",
      "두산그룹의 이번 2023년 3분기 당기 순이익은 2000억원 입니다.\n",
      "------------------------------------------------------------\n"
     ]
    }
   ],
   "source": [
    "a = \"두산그룹\"\n",
    "b = \"의 이번 2023년 3분기 당기 순이익은 2000억원 입니다.\"\n",
    "x = \"----\" * 15\n",
    "\n",
    "\n",
    "print(x)\n",
    "print(a+b)\n",
    "print(x)"
   ]
  },
  {
   "cell_type": "code",
   "execution_count": 76,
   "id": "e8a98b68",
   "metadata": {},
   "outputs": [
    {
     "data": {
      "text/plain": [
       "['의', '이번', '2023년', '3분기', '당기', '순이익은', '2000억원', '입니다.']"
      ]
     },
     "execution_count": 76,
     "metadata": {},
     "output_type": "execute_result"
    }
   ],
   "source": [
    "# find, index -> find는 찾는 문자가 없으면 -1 출력, index는 없으면 에러발생\n",
    "\n",
    "# 문자열 나누기 - split()\n",
    "b.split()"
   ]
  },
  {
   "cell_type": "code",
   "execution_count": null,
   "id": "ab4d07ca",
   "metadata": {},
   "outputs": [],
   "source": [
    "# 다중 리스트의 인덱싱 방법\n",
    "u = [1, 2, [7, 8, 9]]\n",
    "u[0] # 1\n",
    "u[1] # 2\n",
    "u[2] # [7, 8, 9]\n",
    "u[2][0] # 7\n",
    "u[2][1] # 8\n",
    "u[2][2] # 9"
   ]
  },
  {
   "cell_type": "code",
   "execution_count": 101,
   "id": "1d25279e",
   "metadata": {},
   "outputs": [
    {
     "data": {
      "text/plain": [
       "777"
      ]
     },
     "execution_count": 101,
     "metadata": {},
     "output_type": "execute_result"
    }
   ],
   "source": [
    "# 원하는 데이터 슬라이싱\n",
    "\n",
    "u = [1, 2, [7, 8, 9, ['zelle', 777]]]\n",
    "u[-1][-1][-1]\n",
    "u[2][3][1]"
   ]
  },
  {
   "cell_type": "code",
   "execution_count": 77,
   "id": "98c445ce",
   "metadata": {},
   "outputs": [
    {
     "ename": "TypeError",
     "evalue": "'tuple' object doesn't support item deletion",
     "output_type": "error",
     "traceback": [
      "\u001b[1;31m---------------------------------------------------------------------------\u001b[0m",
      "\u001b[1;31mTypeError\u001b[0m                                 Traceback (most recent call last)",
      "Cell \u001b[1;32mIn[77], line 2\u001b[0m\n\u001b[0;32m      1\u001b[0m my_tuple \u001b[38;5;241m=\u001b[39m (\u001b[38;5;241m1\u001b[39m, \u001b[38;5;241m2\u001b[39m, \u001b[38;5;241m3\u001b[39m)\n\u001b[1;32m----> 2\u001b[0m \u001b[38;5;28;01mdel\u001b[39;00m my_tuple[\u001b[38;5;241m1\u001b[39m]\n",
      "\u001b[1;31mTypeError\u001b[0m: 'tuple' object doesn't support item deletion"
     ]
    }
   ],
   "source": [
    "my_tuple = (1, 2, 3)\n",
    "del my_tuple[1]  # TypeError: 'tuple' object doesn't support item deletion\n",
    "# 튜플은 한 번 생성되면 요솟값을 삭제하거나 변경할 수 없다.\n",
    "# 튜플은 불변(immutable)한 데이터 구조"
   ]
  },
  {
   "cell_type": "code",
   "execution_count": 78,
   "id": "476a9488",
   "metadata": {},
   "outputs": [
    {
     "ename": "TypeError",
     "evalue": "'tuple' object does not support item assignment",
     "output_type": "error",
     "traceback": [
      "\u001b[1;31m---------------------------------------------------------------------------\u001b[0m",
      "\u001b[1;31mTypeError\u001b[0m                                 Traceback (most recent call last)",
      "Cell \u001b[1;32mIn[78], line 2\u001b[0m\n\u001b[0;32m      1\u001b[0m my_tuple \u001b[38;5;241m=\u001b[39m (\u001b[38;5;241m1\u001b[39m, \u001b[38;5;241m2\u001b[39m, \u001b[38;5;241m3\u001b[39m)\n\u001b[1;32m----> 2\u001b[0m my_tuple[\u001b[38;5;241m1\u001b[39m] \u001b[38;5;241m=\u001b[39m \u001b[38;5;241m4\u001b[39m\n",
      "\u001b[1;31mTypeError\u001b[0m: 'tuple' object does not support item assignment"
     ]
    }
   ],
   "source": [
    "my_tuple = (1, 2, 3)\n",
    "my_tuple[1] = 4  # TypeError: 'tuple' object does not support item assignment"
   ]
  },
  {
   "cell_type": "code",
   "execution_count": 80,
   "id": "84060718",
   "metadata": {},
   "outputs": [
    {
     "name": "stdout",
     "output_type": "stream",
     "text": [
      "3\n"
     ]
    }
   ],
   "source": [
    "# 튜플은 인덱스와 슬라이싱은 가능\n",
    "my_tuple = (1, 2, 3, 4, 5)\n",
    "item = my_tuple[2]  # 3을 가져옴\n",
    "print(item)"
   ]
  },
  {
   "cell_type": "code",
   "execution_count": 81,
   "id": "94f6bb87",
   "metadata": {},
   "outputs": [
    {
     "name": "stdout",
     "output_type": "stream",
     "text": [
      "(2, 3, 4)\n"
     ]
    }
   ],
   "source": [
    "my_tuple = (1, 2, 3, 4, 5)\n",
    "sliced_tuple = my_tuple[1:4]  # (2, 3, 4)을 가져옴\n",
    "print(sliced_tuple)"
   ]
  },
  {
   "cell_type": "code",
   "execution_count": 82,
   "id": "b1698ed4",
   "metadata": {},
   "outputs": [
    {
     "name": "stdout",
     "output_type": "stream",
     "text": [
      "(1, 2, 3, 4, 5, 6)\n"
     ]
    }
   ],
   "source": [
    "tuple1 = (1, 2, 3)\n",
    "tuple2 = (4, 5, 6)\n",
    "result = tuple1 + tuple2  # (1, 2, 3, 4, 5, 6)\n",
    "print(result)"
   ]
  },
  {
   "cell_type": "code",
   "execution_count": 83,
   "id": "82d0dc59",
   "metadata": {},
   "outputs": [
    {
     "name": "stdout",
     "output_type": "stream",
     "text": [
      "(1, 2, 3, 1, 2, 3, 1, 2, 3)\n"
     ]
    }
   ],
   "source": [
    "original_tuple = (1, 2, 3)\n",
    "repeated_tuple = original_tuple * 3  # (1, 2, 3, 1, 2, 3, 1, 2, 3)\n",
    "print(repeated_tuple)"
   ]
  },
  {
   "cell_type": "code",
   "execution_count": null,
   "id": "ef9f7cd0",
   "metadata": {},
   "outputs": [],
   "source": [
    "# 딕셔너리 - {key:value}\n",
    "my_dict = {'apple': 2, 'banana': 3, 'cherry': 5}"
   ]
  },
  {
   "cell_type": "code",
   "execution_count": 84,
   "id": "cce5a0e5",
   "metadata": {},
   "outputs": [
    {
     "name": "stdout",
     "output_type": "stream",
     "text": [
      "{'apple': 2, 'banana': 3, 'cherry_2': 15}\n"
     ]
    }
   ],
   "source": [
    "my_dict = {'apple': 2, 'banana': 3}\n",
    "my_dict['cherry_2'] = 15\n",
    "# my_dict는 {'apple': 2, 'banana': 3, 'cherry_2': 15}\n",
    "print(my_dict)"
   ]
  },
  {
   "cell_type": "code",
   "execution_count": 85,
   "id": "4a356348",
   "metadata": {},
   "outputs": [
    {
     "name": "stdout",
     "output_type": "stream",
     "text": [
      "{'apple': 2, 'banana': 3, 'cherry_2': [15, 1, 1, 2, 3, 4, 5]}\n"
     ]
    }
   ],
   "source": [
    "my_dict = {'apple': 2, 'banana': 3}\n",
    "my_dict['cherry_2'] = [15, 1,1, 2, 3, 4, 5]\n",
    "# my_dict는 {'apple': 2, 'banana': 3, 'cherry_2': 15}\n",
    "print(my_dict)\n",
    "# 단일 key 값의 value가 여러개 가능"
   ]
  },
  {
   "cell_type": "code",
   "execution_count": 86,
   "id": "474de4b5",
   "metadata": {},
   "outputs": [
    {
     "data": {
      "text/html": [
       "<div>\n",
       "<style scoped>\n",
       "    .dataframe tbody tr th:only-of-type {\n",
       "        vertical-align: middle;\n",
       "    }\n",
       "\n",
       "    .dataframe tbody tr th {\n",
       "        vertical-align: top;\n",
       "    }\n",
       "\n",
       "    .dataframe thead th {\n",
       "        text-align: right;\n",
       "    }\n",
       "</style>\n",
       "<table border=\"1\" class=\"dataframe\">\n",
       "  <thead>\n",
       "    <tr style=\"text-align: right;\">\n",
       "      <th></th>\n",
       "      <th>apple</th>\n",
       "      <th>banana</th>\n",
       "      <th>cherry_2</th>\n",
       "    </tr>\n",
       "  </thead>\n",
       "  <tbody>\n",
       "    <tr>\n",
       "      <th>0</th>\n",
       "      <td>2</td>\n",
       "      <td>3</td>\n",
       "      <td>15</td>\n",
       "    </tr>\n",
       "    <tr>\n",
       "      <th>1</th>\n",
       "      <td>2</td>\n",
       "      <td>3</td>\n",
       "      <td>1</td>\n",
       "    </tr>\n",
       "    <tr>\n",
       "      <th>2</th>\n",
       "      <td>2</td>\n",
       "      <td>3</td>\n",
       "      <td>1</td>\n",
       "    </tr>\n",
       "    <tr>\n",
       "      <th>3</th>\n",
       "      <td>2</td>\n",
       "      <td>3</td>\n",
       "      <td>2</td>\n",
       "    </tr>\n",
       "    <tr>\n",
       "      <th>4</th>\n",
       "      <td>2</td>\n",
       "      <td>3</td>\n",
       "      <td>3</td>\n",
       "    </tr>\n",
       "    <tr>\n",
       "      <th>5</th>\n",
       "      <td>2</td>\n",
       "      <td>3</td>\n",
       "      <td>4</td>\n",
       "    </tr>\n",
       "    <tr>\n",
       "      <th>6</th>\n",
       "      <td>2</td>\n",
       "      <td>3</td>\n",
       "      <td>5</td>\n",
       "    </tr>\n",
       "  </tbody>\n",
       "</table>\n",
       "</div>"
      ],
      "text/plain": [
       "   apple  banana  cherry_2\n",
       "0      2       3        15\n",
       "1      2       3         1\n",
       "2      2       3         1\n",
       "3      2       3         2\n",
       "4      2       3         3\n",
       "5      2       3         4\n",
       "6      2       3         5"
      ]
     },
     "execution_count": 86,
     "metadata": {},
     "output_type": "execute_result"
    }
   ],
   "source": [
    "import pandas as pd\n",
    "my_dict = {'apple': 2, 'banana': 3}\n",
    "my_dict['cherry_2'] = [15, 1,1, 2, 3, 4, 5]\n",
    "# my_dict는 {'apple': 2, 'banana': 3, 'cherry_2': 15}\n",
    "df = pd.DataFrame(my_dict)\n",
    "df"
   ]
  },
  {
   "cell_type": "code",
   "execution_count": 87,
   "id": "60d1cfce",
   "metadata": {},
   "outputs": [
    {
     "name": "stdout",
     "output_type": "stream",
     "text": [
      "{'apple': 2, 'cherry': 5}\n"
     ]
    }
   ],
   "source": [
    "my_dict = {'apple': 2, 'banana': 3, 'cherry': 5}\n",
    "del my_dict['banana']\n",
    "# my_dict는 {'apple': 2, 'cherry': 5}\n",
    "print(my_dict)"
   ]
  },
  {
   "cell_type": "code",
   "execution_count": 88,
   "id": "49870af1",
   "metadata": {},
   "outputs": [
    {
     "name": "stdout",
     "output_type": "stream",
     "text": [
      "3\n"
     ]
    }
   ],
   "source": [
    "my_dict = {'apple': 2, 'banana': 3, 'cherry': 5}\n",
    "value_of_banana = my_dict['banana']\n",
    "# value_of_banana는 3\n",
    "print(value_of_banana)"
   ]
  },
  {
   "cell_type": "code",
   "execution_count": 89,
   "id": "ff164db2",
   "metadata": {},
   "outputs": [
    {
     "name": "stdout",
     "output_type": "stream",
     "text": [
      "dict_keys(['apple', 'banana', 'cherry'])\n"
     ]
    }
   ],
   "source": [
    "my_dict = {'apple': 2, 'banana': 3, 'cherry': 5}\n",
    "keys_list = my_dict.keys()  # dict_keys(['apple', 'banana', 'cherry'])\n",
    "print(keys_list)"
   ]
  },
  {
   "cell_type": "code",
   "execution_count": 90,
   "id": "7007d73e",
   "metadata": {},
   "outputs": [
    {
     "name": "stdout",
     "output_type": "stream",
     "text": [
      "dict_values([2, 3, 5])\n"
     ]
    }
   ],
   "source": [
    "my_dict = {'apple': 2, 'banana': 3, 'cherry': 5}\n",
    "values_list = my_dict.values()  # dict_values([2, 3, 5])\n",
    "print(values_list)"
   ]
  },
  {
   "cell_type": "code",
   "execution_count": 91,
   "id": "db5b3f5b",
   "metadata": {},
   "outputs": [
    {
     "name": "stdout",
     "output_type": "stream",
     "text": [
      "dict_items([('apple', 2), ('banana', 3), ('cherry', 5)])\n"
     ]
    }
   ],
   "source": [
    "my_dict = {'apple': 2, 'banana': 3, 'cherry': 5}\n",
    "items_list = my_dict.items()  # dict_items([('apple', 2), ('banana', 3), ('cherry', 5)])\n",
    "print(items_list)"
   ]
  },
  {
   "cell_type": "code",
   "execution_count": 92,
   "id": "089c31e8",
   "metadata": {},
   "outputs": [
    {
     "name": "stdout",
     "output_type": "stream",
     "text": [
      "{}\n"
     ]
    }
   ],
   "source": [
    "my_dict = {'apple': 2, 'banana': 3, 'cherry': 5}\n",
    "my_dict.clear()  # my_dict는 {}\n",
    "print(my_dict)"
   ]
  },
  {
   "cell_type": "code",
   "execution_count": 96,
   "id": "6e6faed5",
   "metadata": {},
   "outputs": [
    {
     "name": "stdout",
     "output_type": "stream",
     "text": [
      "2\n"
     ]
    }
   ],
   "source": [
    "my_dict = {'apple': 2, 'banana': 3, 'cherry': 5}\n",
    "value_of_apple = my_dict.get('apple')  # 2\n",
    "# value_of_apple = my_dict['apple']   # 대체 가능\n",
    "print(value_of_apple)"
   ]
  },
  {
   "cell_type": "code",
   "execution_count": 98,
   "id": "c28b60b7",
   "metadata": {},
   "outputs": [
    {
     "name": "stdout",
     "output_type": "stream",
     "text": [
      "True\n",
      "False\n"
     ]
    }
   ],
   "source": [
    "my_dict = {'apple': 2, 'banana': 3, 'cherry': 5}\n",
    "is_apple_in_dict = 'apple' in my_dict  # True\n",
    "is_grape_in_dict = 'grape' in my_dict  # False\n",
    "print(is_apple_in_dict)\n",
    "print(is_grape_in_dict)"
   ]
  },
  {
   "cell_type": "code",
   "execution_count": 99,
   "id": "0a27f824",
   "metadata": {},
   "outputs": [
    {
     "name": "stdout",
     "output_type": "stream",
     "text": [
      "{1, 2, 3, 4, 5}\n"
     ]
    }
   ],
   "source": [
    "# 집합 자료형 - 중복, 순서 허용 x\n",
    "my_set = {1, 2, 3, 4, 5, 2, 2, 1, 2, 3}\n",
    "print(my_set)"
   ]
  },
  {
   "cell_type": "code",
   "execution_count": 102,
   "id": "9870c6e3",
   "metadata": {},
   "outputs": [
    {
     "name": "stdout",
     "output_type": "stream",
     "text": [
      "{3, 4, 5}\n"
     ]
    }
   ],
   "source": [
    "set1 = {1, 2, 3, 4, 5}\n",
    "set2 = {3, 4, 5, 6, 7}\n",
    "intersection = set1 & set2  # {3, 4, 5}\n",
    "print(intersection)"
   ]
  },
  {
   "cell_type": "code",
   "execution_count": 103,
   "id": "b1f99aaa",
   "metadata": {},
   "outputs": [
    {
     "name": "stdout",
     "output_type": "stream",
     "text": [
      "{1, 2, 3, 4, 5, 6, 7}\n"
     ]
    }
   ],
   "source": [
    "set1 = {1, 2, 3, 4, 5}\n",
    "set2 = {3, 4, 5, 6, 7}\n",
    "union = set1 | set2  # {1, 2, 3, 4, 5, 6, 7}\n",
    "print(union)"
   ]
  },
  {
   "cell_type": "code",
   "execution_count": 104,
   "id": "c84d7f52",
   "metadata": {},
   "outputs": [
    {
     "name": "stdout",
     "output_type": "stream",
     "text": [
      "{1, 2}\n"
     ]
    }
   ],
   "source": [
    "set1 = {1, 2, 3, 4, 5}\n",
    "set2 = {3, 4, 5, 6, 7}\n",
    "difference = set1 - set2  # {1, 2}\n",
    "print(difference)"
   ]
  },
  {
   "cell_type": "code",
   "execution_count": 105,
   "id": "5aaccc8a",
   "metadata": {},
   "outputs": [
    {
     "name": "stdout",
     "output_type": "stream",
     "text": [
      "{1, 2, 3, 4}\n"
     ]
    }
   ],
   "source": [
    "my_set = {1, 2, 3}\n",
    "my_set.add(4)\n",
    "# my_set는 {1, 2, 3, 4}\n",
    "print(my_set)"
   ]
  },
  {
   "cell_type": "code",
   "execution_count": 106,
   "id": "21320b0d",
   "metadata": {},
   "outputs": [
    {
     "name": "stdout",
     "output_type": "stream",
     "text": [
      "{1, 2, 3, 4, 5}\n"
     ]
    }
   ],
   "source": [
    "my_set = {1, 2, 3}\n",
    "my_set.update([3, 4, 5])\n",
    "# my_set는 {1, 2, 3, 4, 5}\n",
    "print(my_set)"
   ]
  },
  {
   "cell_type": "code",
   "execution_count": 107,
   "id": "4ba53e7e",
   "metadata": {},
   "outputs": [
    {
     "name": "stdout",
     "output_type": "stream",
     "text": [
      "{1, 2, 4, 5}\n"
     ]
    }
   ],
   "source": [
    "my_set = {1, 2, 3, 4, 5}\n",
    "my_set.remove(3)\n",
    "# my_set는 {1, 2, 4, 5}\n",
    "print(my_set)"
   ]
  },
  {
   "cell_type": "code",
   "execution_count": 108,
   "id": "b0a8effc",
   "metadata": {},
   "outputs": [],
   "source": [
    "is_true = bool(1)  # True\n",
    "is_false = bool(0)  # False"
   ]
  },
  {
   "cell_type": "code",
   "execution_count": null,
   "id": "a2e5577c",
   "metadata": {},
   "outputs": [],
   "source": [
    "'''\n",
    "자료형의 참과 거짓\n",
    "\n",
    "파이썬에서는 여러 상황에서 참과 거짓을 판별할 수 있습니다. 일반적으로 다음과 같은 규칙에 따릅니다:\n",
    "\n",
    "0,            빈 문자열, 빈 리스트, 빈 튜플, 빈 딕셔너리, None은 거짓(False)으로 간주됩니다.\n",
    "그 외의 숫자, 문자열,    리스트,    튜플,    딕셔너리,    객체는 참(True)으로 간주됩니다\n",
    "'''"
   ]
  },
  {
   "cell_type": "code",
   "execution_count": 109,
   "id": "c60bb207",
   "metadata": {},
   "outputs": [
    {
     "name": "stdout",
     "output_type": "stream",
     "text": [
      "False\n",
      "True\n",
      "False\n"
     ]
    }
   ],
   "source": [
    "x = True\n",
    "y = False\n",
    "\n",
    "result1 = x and y  # False\n",
    "result2 = x or y   # True\n",
    "result3 = not x    # False\n",
    "print(result1)\n",
    "print(result2)\n",
    "print(result3)"
   ]
  },
  {
   "cell_type": "code",
   "execution_count": 111,
   "id": "f17e9d8b",
   "metadata": {},
   "outputs": [
    {
     "name": "stdout",
     "output_type": "stream",
     "text": [
      "택시를 타고 가라\n"
     ]
    }
   ],
   "source": [
    "# elif\n",
    "\n",
    "pocket = ['paper', 'cellphone']\n",
    "card = 1\n",
    "\n",
    "if 'money' in pocket :\n",
    "    print('택시를 타고 가라')\n",
    "else :\n",
    "    if card :\n",
    "        print(\"택시를 타고 가라\")\n",
    "    else :\n",
    "        print(\"걸어가라\")"
   ]
  },
  {
   "cell_type": "code",
   "execution_count": 112,
   "id": "e6b68877",
   "metadata": {},
   "outputs": [
    {
     "name": "stdout",
     "output_type": "stream",
     "text": [
      "택시를 타고 가라\n"
     ]
    }
   ],
   "source": [
    "pocket = ['paper', 'cellphone']\n",
    "card = 1\n",
    "\n",
    "if 'money' in pocket :\n",
    "    print('택시를 타고 가라')\n",
    "elif card :\n",
    "    print(\"택시를 타고 가라\")\n",
    "else :\n",
    "    print(\"걸어가라\")"
   ]
  },
  {
   "cell_type": "code",
   "execution_count": null,
   "id": "bc0d566b",
   "metadata": {},
   "outputs": [],
   "source": [
    "# if문 한줄로 작성\n",
    "pocket = ['paper', 'money', 'cellphone']\n",
    "if 'money' in pocket : print(\"택시를 타고가라\")   # 콜론 옆에 참인 조건 작성\n",
    "else : print(\"카드를 꺼내라\")"
   ]
  },
  {
   "cell_type": "code",
   "execution_count": 116,
   "id": "19ddac44",
   "metadata": {},
   "outputs": [
    {
     "name": "stdout",
     "output_type": "stream",
     "text": [
      "정수를 입력해 주시기 바랍니다. : 23\n",
      "축하합니다. 정확히 맞추셨어요.\n",
      "끝났습니다.\n"
     ]
    }
   ],
   "source": [
    "number = 23\n",
    "guess = int(input('정수를 입력해 주시기 바랍니다. : ')) # input 함수로 입력을 받으면 문자열로 받기때문에 int()를 사용해서 정수처리\n",
    "if number == guess :\n",
    "    print(\"축하합니다. 정확히 맞추셨어요.\")\n",
    "elif guess < number :\n",
    "    print(\"아니오. 그거보단 커야해요\")\n",
    "else :\n",
    "    print(\"아니오. 그거보단 작아야해요\")\n",
    "print(\"끝났습니다.\")"
   ]
  },
  {
   "cell_type": "code",
   "execution_count": 121,
   "id": "b7288028",
   "metadata": {},
   "outputs": [
    {
     "name": "stdout",
     "output_type": "stream",
     "text": [
      "정수를 입력해 주세요 : 23\n",
      "축하드려요. 맞추셨네요.\n",
      "The while 문이 끝났습니다.\n",
      "끝\n"
     ]
    }
   ],
   "source": [
    "number = 23\n",
    "running = True\n",
    "\n",
    "while running :\n",
    "    guess = int(input(\"정수를 입력해 주세요 : \"))\n",
    "    if guess == number :\n",
    "        print(\"축하드려요. 맞추셨네요.\")\n",
    "        running = False\n",
    "    elif guess < number :\n",
    "        print(\"그거보다 커요.\")\n",
    "    else :\n",
    "        print(\"그거보다 작아요.\")\n",
    "else :\n",
    "    print(\"The while 문이 끝났습니다.\")\n",
    "    \n",
    "print(\"끝\")"
   ]
  },
  {
   "cell_type": "code",
   "execution_count": 122,
   "id": "dc89a83c",
   "metadata": {},
   "outputs": [
    {
     "name": "stdout",
     "output_type": "stream",
     "text": [
      "정수를 입력해 주세요 : 20\n",
      "그거보다 커요.\n",
      "정수를 입력해 주세요 : 50\n",
      "그거보다 작아요.\n",
      "정수를 입력해 주세요 : 40\n",
      "그거보다 커요.\n",
      "정수를 입력해 주세요 : 45\n",
      "그거보다 작아요.\n",
      "정수를 입력해 주세요 : 43\n",
      "그거보다 작아요.\n",
      "정수를 입력해 주세요 : 42\n",
      "축하드려요. 맞추셨네요.\n",
      "The while 문이 끝났습니다.\n",
      "끝\n"
     ]
    }
   ],
   "source": [
    "from random import *\n",
    "number = randint(1, 100)\n",
    "running = True\n",
    "\n",
    "while running :\n",
    "    guess = int(input(\"정수를 입력해 주세요 : \"))\n",
    "    if guess == number :\n",
    "        print(\"축하드려요. 맞추셨네요.\")\n",
    "        running = False\n",
    "    elif guess < number :\n",
    "        print(\"그거보다 커요.\")\n",
    "    else :\n",
    "        print(\"그거보다 작아요.\")\n",
    "else :\n",
    "    print(\"The while 문이 끝났습니다.\")\n",
    "    \n",
    "print(\"끝\")"
   ]
  },
  {
   "cell_type": "code",
   "execution_count": 129,
   "id": "7ec186ef",
   "metadata": {},
   "outputs": [
    {
     "name": "stdout",
     "output_type": "stream",
     "text": [
      "현재 count 값 :  0\n",
      "현재 count 값 :  1\n",
      "현재 count 값 :  2\n"
     ]
    }
   ],
   "source": [
    "# quiz - continue를 사용해서 코드 바꿔서\n",
    "# 현재 count 값 4도 출력되게 바꾸기\n",
    "\n",
    "count = 0\n",
    "while count < 5 :\n",
    "    if count == 3:\n",
    "        break\n",
    "    print(\"현재 count 값 : \", count)\n",
    "    count += 1"
   ]
  },
  {
   "cell_type": "code",
   "execution_count": 134,
   "id": "e643d7a5",
   "metadata": {},
   "outputs": [
    {
     "name": "stdout",
     "output_type": "stream",
     "text": [
      "현재 count 값 :  0\n",
      "현재 count 값 :  1\n",
      "현재 count 값 :  2\n",
      "현재 count 값 :  4\n"
     ]
    }
   ],
   "source": [
    "count = 0\n",
    "while count < 5 :\n",
    "    if count == 3:\n",
    "        count += 1 # 건너뛰기 전에 4 만드려고 추가\n",
    "        continue\n",
    "    else : # 3이 아닌 다른 케이스 - 건너뛰지 않았을때\n",
    "        print(\"현재 count 값 : \", count)\n",
    "    count += 1 # while문 종료를 위해 - count =5를 만들기 위해\n"
   ]
  },
  {
   "cell_type": "code",
   "execution_count": 137,
   "id": "d4d3c4f3",
   "metadata": {},
   "outputs": [
    {
     "name": "stdout",
     "output_type": "stream",
     "text": [
      "1\n",
      "3\n",
      "5\n",
      "7\n",
      "9\n"
     ]
    }
   ],
   "source": [
    "# 1에서 9까지 정수에서 while과 if를 써서 홀수만 출력\n",
    "\n",
    "\n",
    "a = 0\n",
    "while a < 10:\n",
    "    a += 1\n",
    "    if a % 2 == 0 :\n",
    "        continue\n",
    "    else :\n",
    "        print(a)\n"
   ]
  },
  {
   "cell_type": "code",
   "execution_count": 139,
   "id": "c50bd9f5",
   "metadata": {},
   "outputs": [
    {
     "name": "stdout",
     "output_type": "stream",
     "text": [
      "apple\n",
      "banana\n",
      "cherry\n"
     ]
    }
   ],
   "source": [
    "fruits = ['apple', 'banana', 'cherry']\n",
    "for fruit in fruits:\n",
    "    print(fruit)"
   ]
  },
  {
   "cell_type": "code",
   "execution_count": 140,
   "id": "733cac79",
   "metadata": {},
   "outputs": [
    {
     "name": "stdout",
     "output_type": "stream",
     "text": [
      "H\n",
      "e\n",
      "l\n",
      "l\n",
      "o\n"
     ]
    }
   ],
   "source": [
    "text = \"Hello\"\n",
    "for char in text:\n",
    "    print(char)"
   ]
  },
  {
   "cell_type": "code",
   "execution_count": 141,
   "id": "078f2177",
   "metadata": {},
   "outputs": [
    {
     "name": "stdout",
     "output_type": "stream",
     "text": [
      "1\n",
      "2\n",
      "3\n",
      "4\n",
      "5\n"
     ]
    }
   ],
   "source": [
    "for number in range(1, 6):\n",
    "    print(number)"
   ]
  },
  {
   "cell_type": "code",
   "execution_count": 143,
   "id": "934316b6",
   "metadata": {},
   "outputs": [
    {
     "name": "stdout",
     "output_type": "stream",
     "text": [
      "3\n",
      "7\n",
      "11\n"
     ]
    }
   ],
   "source": [
    "a = [(1, 2), (3, 4), (5, 6)]\n",
    "for (first, last) in a :\n",
    "    print(first+last)"
   ]
  },
  {
   "cell_type": "code",
   "execution_count": 145,
   "id": "8d334cb4",
   "metadata": {},
   "outputs": [
    {
     "name": "stdout",
     "output_type": "stream",
     "text": [
      "1번 학생 합격\n",
      "2번 학생 불합격\n",
      "3번 학생 합격\n",
      "4번 학생 불합격\n",
      "5번 학생 합격\n"
     ]
    }
   ],
   "source": [
    "# 5명의 학생 점수를 하나씩 꺼내서 60점 이상은 합격, 미만은 불합격으로 출력\n",
    "# 예) 1번학생 합격\n",
    "\n",
    "marks = [90, 25, 67, 45, 80]\n",
    "count = 0\n",
    "for i in marks :\n",
    "    count += 1\n",
    "    if i >= 60:\n",
    "#         print(count, \"번 학생 합격\")\n",
    "        print(\"%d번 학생 합격\" %count)\n",
    "    else :\n",
    "#         print(count, \"번 학생 불합격\")\n",
    "        print(\"%d번 학생 불합격\" %count)"
   ]
  },
  {
   "cell_type": "code",
   "execution_count": 149,
   "id": "fe2c5c34",
   "metadata": {},
   "outputs": [
    {
     "name": "stdout",
     "output_type": "stream",
     "text": [
      "2 x 1 = 2\n",
      "2 x 2 = 4\n",
      "2 x 3 = 6\n",
      "2 x 4 = 8\n",
      "2 x 5 = 10\n",
      "2 x 6 = 12\n",
      "2 x 7 = 14\n",
      "2 x 8 = 16\n",
      "2 x 9 = 18\n",
      "3 x 1 = 3\n",
      "3 x 2 = 6\n",
      "3 x 3 = 9\n",
      "3 x 4 = 12\n",
      "3 x 5 = 15\n",
      "3 x 6 = 18\n",
      "3 x 7 = 21\n",
      "3 x 8 = 24\n",
      "3 x 9 = 27\n",
      "4 x 1 = 4\n",
      "4 x 2 = 8\n",
      "4 x 3 = 12\n",
      "4 x 4 = 16\n",
      "4 x 5 = 20\n",
      "4 x 6 = 24\n",
      "4 x 7 = 28\n",
      "4 x 8 = 32\n",
      "4 x 9 = 36\n",
      "5 x 1 = 5\n",
      "5 x 2 = 10\n",
      "5 x 3 = 15\n",
      "5 x 4 = 20\n",
      "5 x 5 = 25\n",
      "5 x 6 = 30\n",
      "5 x 7 = 35\n",
      "5 x 8 = 40\n",
      "5 x 9 = 45\n",
      "6 x 1 = 6\n",
      "6 x 2 = 12\n",
      "6 x 3 = 18\n",
      "6 x 4 = 24\n",
      "6 x 5 = 30\n",
      "6 x 6 = 36\n",
      "6 x 7 = 42\n",
      "6 x 8 = 48\n",
      "6 x 9 = 54\n",
      "7 x 1 = 7\n",
      "7 x 2 = 14\n",
      "7 x 3 = 21\n",
      "7 x 4 = 28\n",
      "7 x 5 = 35\n",
      "7 x 6 = 42\n",
      "7 x 7 = 49\n",
      "7 x 8 = 56\n",
      "7 x 9 = 63\n",
      "8 x 1 = 8\n",
      "8 x 2 = 16\n",
      "8 x 3 = 24\n",
      "8 x 4 = 32\n",
      "8 x 5 = 40\n",
      "8 x 6 = 48\n",
      "8 x 7 = 56\n",
      "8 x 8 = 64\n",
      "8 x 9 = 72\n",
      "9 x 1 = 9\n",
      "9 x 2 = 18\n",
      "9 x 3 = 27\n",
      "9 x 4 = 36\n",
      "9 x 5 = 45\n",
      "9 x 6 = 54\n",
      "9 x 7 = 63\n",
      "9 x 8 = 72\n",
      "9 x 9 = 81\n"
     ]
    }
   ],
   "source": [
    "# 이중 for 문\n",
    "\n",
    "for i in range(2, 10) :\n",
    "    for j in range(1, 10):\n",
    "        print(f\"{i} x {j} = {i * j}\")"
   ]
  },
  {
   "cell_type": "code",
   "execution_count": 150,
   "id": "6f74663c",
   "metadata": {},
   "outputs": [
    {
     "data": {
      "text/plain": [
       "[1, 4, 9, 16, 25]"
      ]
     },
     "execution_count": 150,
     "metadata": {},
     "output_type": "execute_result"
    }
   ],
   "source": [
    "# for문을 한줄로 쓰기\n",
    "numbers = [1, 2, 3, 4, 5]\n",
    "squares = [x**2 for x in numbers]    # 하고싶은 작업 for 원소 in 데이터셋\n",
    "squares\n",
    "\n",
    "# 아래와 같음\n",
    "# for x in numbers:\n",
    "#     print(x**2)"
   ]
  },
  {
   "cell_type": "code",
   "execution_count": 151,
   "id": "81a33501",
   "metadata": {},
   "outputs": [
    {
     "data": {
      "text/plain": [
       "[2,\n",
       " 4,\n",
       " 6,\n",
       " 8,\n",
       " 10,\n",
       " 12,\n",
       " 14,\n",
       " 16,\n",
       " 18,\n",
       " 3,\n",
       " 6,\n",
       " 9,\n",
       " 12,\n",
       " 15,\n",
       " 18,\n",
       " 21,\n",
       " 24,\n",
       " 27,\n",
       " 4,\n",
       " 8,\n",
       " 12,\n",
       " 16,\n",
       " 20,\n",
       " 24,\n",
       " 28,\n",
       " 32,\n",
       " 36,\n",
       " 5,\n",
       " 10,\n",
       " 15,\n",
       " 20,\n",
       " 25,\n",
       " 30,\n",
       " 35,\n",
       " 40,\n",
       " 45,\n",
       " 6,\n",
       " 12,\n",
       " 18,\n",
       " 24,\n",
       " 30,\n",
       " 36,\n",
       " 42,\n",
       " 48,\n",
       " 54,\n",
       " 7,\n",
       " 14,\n",
       " 21,\n",
       " 28,\n",
       " 35,\n",
       " 42,\n",
       " 49,\n",
       " 56,\n",
       " 63,\n",
       " 8,\n",
       " 16,\n",
       " 24,\n",
       " 32,\n",
       " 40,\n",
       " 48,\n",
       " 56,\n",
       " 64,\n",
       " 72,\n",
       " 9,\n",
       " 18,\n",
       " 27,\n",
       " 36,\n",
       " 45,\n",
       " 54,\n",
       " 63,\n",
       " 72,\n",
       " 81]"
      ]
     },
     "execution_count": 151,
     "metadata": {},
     "output_type": "execute_result"
    }
   ],
   "source": [
    "result = [x*y for x in range(2, 10) for y in range(1, 10)]\n",
    "result\n",
    "\n",
    "# 아래와 같음\n",
    "# for i in range(2, 10) :\n",
    "#     for j in range(1, 10) :\n",
    "#         print(i*j)"
   ]
  },
  {
   "cell_type": "code",
   "execution_count": 171,
   "id": "7a934764",
   "metadata": {},
   "outputs": [
    {
     "name": "stdout",
     "output_type": "stream",
     "text": [
      "광해\n",
      "관상\n",
      "누적 관객수 = 2100\n"
     ]
    }
   ],
   "source": [
    "#  {key : [val1, val2]} - {'영화' : [평점, 관객수]}\n",
    "movie = {'광해' : [9.24, 1200], '공작' : [7.86, 500], '관상' : [8.01, 900],}\n",
    "\n",
    "#  문] 평점 8이상인 영화들의 제목과 합산관객수 출력하기\n",
    "'''\n",
    "광해\n",
    "관상\n",
    "누적 관객수 =  2,100\n",
    "'''    \n",
    "\n",
    "# 아래의 코드를 참고해서 문제를 푸세요\n",
    "# for문으로 딕셔너리에서 key랑 value값 둘 다 한줄씩 출력해 주세요\n",
    "# for zz, k in movie.items():\n",
    "#     print(zz, k)\n",
    "\n",
    "# for k in movie.items():\n",
    "#     print(k)\n",
    "    \n",
    "z = 0    \n",
    "for x, y in movie.items() :\n",
    "    if y[0] >= 8 :\n",
    "        print(x)\n",
    "        z += y[1]\n",
    "#     else :\n",
    "#         pass\n",
    "print(\"누적 관객수 = %d\" %z)"
   ]
  },
  {
   "cell_type": "code",
   "execution_count": 191,
   "id": "c9f2e0af",
   "metadata": {},
   "outputs": [
    {
     "name": "stdout",
     "output_type": "stream",
     "text": [
      "[43, 45, 8, 28, 26, 39]\n"
     ]
    }
   ],
   "source": [
    "import random\n",
    "lst = []\n",
    "for i in range(6):\n",
    "    a = randint(1, 45)\n",
    "    while a in lst:\n",
    "        a = randint(1, 45)\n",
    "    lst.append(a)\n",
    "\n",
    "print(lst)"
   ]
  },
  {
   "cell_type": "code",
   "execution_count": 200,
   "id": "2b50fc79",
   "metadata": {},
   "outputs": [
    {
     "name": "stdout",
     "output_type": "stream",
     "text": [
      "[24, 42, 37, 26, 28, 45]\n"
     ]
    }
   ],
   "source": [
    "import random\n",
    "\n",
    "lst =[]\n",
    "for i in range(45):\n",
    "    while len(lst) < 6:\n",
    "        number = random.randint(1, 45)\n",
    "        if number not in lst :\n",
    "            lst.append(number)\n",
    "print(lst)"
   ]
  },
  {
   "cell_type": "code",
   "execution_count": null,
   "id": "038f57df",
   "metadata": {},
   "outputs": [],
   "source": [
    "import random\n",
    "\n",
    "results = {}\n",
    "\n",
    "for i in range(10):\n",
    "    r = random.sample(45, 6)"
   ]
  },
  {
   "cell_type": "code",
   "execution_count": null,
   "id": "efa20c0f",
   "metadata": {},
   "outputs": [],
   "source": [
    "# 정렬 알고리즘에서 오름차순 알고리즘 사용\n",
    "# 아래 5개 데이터셋의 정렬작업을 순차적으로 진행하여 주시기 바랍니다.\n",
    "#맨 위에 for문 하나만 더 쓰면 됩니다.\n",
    "\n",
    "dataset_1 = [3, 5, 1, 2, 4]\n",
    "dataset_2 = [3, 11, 77, 32, 99]\n",
    "dataset_3 = [3, 75645, 32, 2, 666]\n",
    "dataset_4 = [3, 32, 1, 666, 4]\n",
    "dataset_5 = [323, 5, 7, 2, 666]\n",
    "datasets = [dataset_1, dataset_2, dataset_3, dataset_4, dataset_5 ]\n",
    "\n",
    "# 아래 오름차순 알고리즘을 5개 데이터셋을 순차적으로 정렬하는데 써주세요\n",
    "dataset = [3, 5, 1, 2, 4]\n",
    "n = len(dataset)\n",
    "for i in range(0, n-1) : # 1 ~ n-1\n",
    "    for j in range(i+1, n) : # i+1 ~ n-1\n",
    "        print(i, j, dataset) # 그냥 dataset을 출력하면 내가 어디있는지 잘 몰라\n",
    "        if dataset[i] > dataset[j] :\n",
    "            tmp = dataset[i]\n",
    "            dataset[i] = dataset[j]\n",
    "            dataset[j] = tmp\n",
    "print(dataset)"
   ]
  },
  {
   "cell_type": "code",
   "execution_count": 202,
   "id": "71a7d8e0",
   "metadata": {},
   "outputs": [
    {
     "name": "stdout",
     "output_type": "stream",
     "text": [
      "[[1, 2, 3, 4, 5], [3, 11, 32, 77, 99], [2, 3, 32, 666, 75645], [1, 3, 4, 32, 666], [2, 5, 7, 323, 666]]\n"
     ]
    }
   ],
   "source": [
    "dataset_1 = [3, 5, 1, 2, 4]\n",
    "dataset_2 = [3, 11, 77, 32, 99]\n",
    "dataset_3 = [3, 75645, 32, 2, 666]\n",
    "dataset_4 = [3, 32, 1, 666, 4]\n",
    "dataset_5 = [323, 5, 7, 2, 666]\n",
    "datasets = [dataset_1, dataset_2, dataset_3, dataset_4, dataset_5 ]\n",
    "\n",
    "for dataset in datasets :\n",
    "    n = len(dataset)\n",
    "    for i in range(0, n-1) :\n",
    "        for j in range(i+1, n) :\n",
    "            if dataset[i]>dataset[j] :\n",
    "                tmp = dataset[i]\n",
    "                dataset[i] = dataset[j]\n",
    "                dataset[j] = tmp\n",
    "print(datasets)"
   ]
  },
  {
   "cell_type": "code",
   "execution_count": 204,
   "id": "d8cd7df0",
   "metadata": {},
   "outputs": [
    {
     "name": "stdout",
     "output_type": "stream",
     "text": [
      "1번, 책을 읽으세요\n",
      "3번, 책을 읽으세요\n",
      "4번, 책을 읽으세요\n",
      "6번, 책을 읽으세요\n",
      "7번, 책을 읽으세요\n",
      "8번, 책을 읽으세요\n",
      "9번, 책을 읽으세요\n",
      "10번, 책을 읽으세요\n"
     ]
    }
   ],
   "source": [
    "# 1 ~ 10 번 학생 중 결석한 학생을 제외하고 (결석자는 2, 5번)\n",
    "# 아래의 메세지를 출력\n",
    "\n",
    "# 1번, 책을 읽으세요\n",
    "# 3번, 책을 읽으세요\n",
    "# 4번, 책을 읽으세요\n",
    "# 6번, 책을 읽으세요\n",
    "# 7번, 책을 읽으세요\n",
    "# 8번, 책을 읽으세요\n",
    "# 9번, 책을 읽으세요\n",
    "# 10번, 책을 읽으세요\n",
    "\n",
    "\n",
    "for i in range(1,11) :\n",
    "    if i == 2 :\n",
    "        pass\n",
    "    elif i == 5 :\n",
    "        pass\n",
    "    else :\n",
    "        print(\"%d번, 책을 읽으세요\" %i)"
   ]
  },
  {
   "cell_type": "code",
   "execution_count": 210,
   "id": "22ac9e3a",
   "metadata": {},
   "outputs": [
    {
     "name": "stdout",
     "output_type": "stream",
     "text": [
      "1번, 책을 읽으세요\n",
      "3번, 책을 읽으세요\n",
      "4번, 책을 읽으세요\n",
      "6번, 책을 읽으세요\n",
      "7번, 책을 읽으세요\n",
      "8번, 책을 읽으세요\n",
      "9번, 책을 읽으세요\n",
      "10번, 책을 읽으세요\n"
     ]
    }
   ],
   "source": [
    "for i in range(1,11) :\n",
    "    if i == 2 or i == 5:\n",
    "        continue\n",
    "    else :\n",
    "        print(\"%d번, 책을 읽으세요\" %i)"
   ]
  },
  {
   "cell_type": "code",
   "execution_count": 211,
   "id": "abb2ba54",
   "metadata": {},
   "outputs": [
    {
     "name": "stdout",
     "output_type": "stream",
     "text": [
      "1번, 책을 읽으세요\n",
      "3번, 책을 읽으세요\n",
      "4번, 책을 읽으세요\n",
      "6번, 책을 읽으세요\n",
      "7번, 책을 읽으세요\n",
      "8번, 책을 읽으세요\n",
      "9번, 책을 읽으세요\n",
      "10번, 책을 읽으세요\n"
     ]
    }
   ],
   "source": [
    "absent = [2,5]\n",
    "\n",
    "for student in range(1, 11):\n",
    "    if student in absent :\n",
    "        continue\n",
    "    else :\n",
    "        print(\"{}번, 책을 읽으세요\".format(student))"
   ]
  },
  {
   "cell_type": "code",
   "execution_count": 215,
   "id": "ff32044a",
   "metadata": {},
   "outputs": [
    {
     "name": "stdout",
     "output_type": "stream",
     "text": [
      "1번, 책을 읽으세요\n",
      "3번, 책을 읽으세요\n",
      "4번, 책을 읽으세요\n",
      "6번, 책을 읽으세요\n",
      "7번은 책을 안가져왔군\n",
      "8번, 책을 읽으세요\n",
      "9번, 책을 읽으세요\n",
      "10번, 책을 읽으세요\n"
     ]
    }
   ],
   "source": [
    "for i in range(1,11) :\n",
    "    if i == 2 or i == 5:\n",
    "        continue\n",
    "    elif i == 7 :\n",
    "        print(\"%d번은 책을 안가져왔군\" %i)\n",
    "    else :\n",
    "        print(\"%d번, 책을 읽으세요\" %i)"
   ]
  },
  {
   "cell_type": "code",
   "execution_count": 216,
   "id": "db011d8e",
   "metadata": {},
   "outputs": [
    {
     "name": "stdout",
     "output_type": "stream",
     "text": [
      "1번, 책을 읽으세요\n",
      "3번, 책을 읽으세요\n",
      "4번, 책을 읽으세요\n",
      "6번, 책을 읽으세요\n",
      "7번은 책을 안가져왔군\n",
      "8번, 책을 읽으세요\n",
      "9번, 책을 읽으세요\n",
      "10번, 책을 읽으세요\n"
     ]
    }
   ],
   "source": [
    "# 위의 문제에서 7번 학생이 책을 가져오지 않았습니다.\n",
    "# 7번 학생을 만나면 \"7번은 책을 안가져왔군\" 이란 말이 나오도록 코드 변경\n",
    "\n",
    "\n",
    "absent = [2,5]\n",
    "no_book = [7]\n",
    "\n",
    "for student in range(1, 11):\n",
    "    if student in absent :\n",
    "        continue\n",
    "    elif student in no_book:\n",
    "        print(\"{}번은 책을 안가져왔군\".format(student))\n",
    "    else :\n",
    "        print(\"{}번, 책을 읽으세요\".format(student))"
   ]
  },
  {
   "cell_type": "code",
   "execution_count": null,
   "id": "cd93eaba",
   "metadata": {},
   "outputs": [],
   "source": [
    "# quiz) 당신은 카카오 서비스를 이용하는 택시기사입니다.\n",
    "# 50명의 승객과 매칭기회가 있을 때, 총 탑승 승객수를 구하는 프로그램을 작성하시오.\n",
    "\n",
    "# 조건1: 승객별 운행 소요시간은 5~50분 사이의 난수로 정해집니다.\n",
    "# 조건2: 당신은 소요시간 5분~15분 사이의 승객만 매칭해야 합니다.\n",
    "       \n",
    "# (출력문 예제)\n",
    "# [0] 1번째 손님 (소요시간 : 15분)\n",
    "# [ ] 2번째 손님 (소요시간 : 50분)\n",
    "# [0] 3번째 손님 (소요시간 : 5분)\n",
    "\n",
    "# 총 탑승 승객 : 2분\n",
    "\n",
    "# 아래의 함수를 이용해서 푸세요\n",
    "\n",
    "from random import *\n",
    "time = randint(5,51)\n",
    "print(\"총 탑승 승객 : {}분\")"
   ]
  },
  {
   "cell_type": "code",
   "execution_count": 266,
   "id": "df37436f",
   "metadata": {},
   "outputs": [
    {
     "name": "stdout",
     "output_type": "stream",
     "text": [
      "[ ] 1번째 손님 (소요시간 : 43분)\n",
      "[ ] 2번째 손님 (소요시간 : 18분)\n",
      "[0] 3번째 손님 (소요시간 : 6분)\n",
      "[0] 4번째 손님 (소요시간 : 9분)\n",
      "[ ] 5번째 손님 (소요시간 : 32분)\n",
      "[ ] 6번째 손님 (소요시간 : 25분)\n",
      "[ ] 7번째 손님 (소요시간 : 18분)\n",
      "[ ] 8번째 손님 (소요시간 : 48분)\n",
      "[ ] 9번째 손님 (소요시간 : 33분)\n",
      "[ ] 10번째 손님 (소요시간 : 45분)\n",
      "[0] 11번째 손님 (소요시간 : 5분)\n",
      "[ ] 12번째 손님 (소요시간 : 26분)\n",
      "[ ] 13번째 손님 (소요시간 : 46분)\n",
      "[0] 14번째 손님 (소요시간 : 11분)\n",
      "[ ] 15번째 손님 (소요시간 : 36분)\n",
      "[ ] 16번째 손님 (소요시간 : 30분)\n",
      "[ ] 17번째 손님 (소요시간 : 28분)\n",
      "[0] 18번째 손님 (소요시간 : 14분)\n",
      "[0] 19번째 손님 (소요시간 : 10분)\n",
      "[ ] 20번째 손님 (소요시간 : 23분)\n",
      "[0] 21번째 손님 (소요시간 : 9분)\n",
      "[ ] 22번째 손님 (소요시간 : 23분)\n",
      "[ ] 23번째 손님 (소요시간 : 44분)\n",
      "[ ] 24번째 손님 (소요시간 : 22분)\n",
      "[ ] 25번째 손님 (소요시간 : 23분)\n",
      "[ ] 26번째 손님 (소요시간 : 41분)\n",
      "[ ] 27번째 손님 (소요시간 : 26분)\n",
      "[ ] 28번째 손님 (소요시간 : 16분)\n",
      "[ ] 29번째 손님 (소요시간 : 30분)\n",
      "[ ] 30번째 손님 (소요시간 : 50분)\n",
      "[ ] 31번째 손님 (소요시간 : 31분)\n",
      "[ ] 32번째 손님 (소요시간 : 47분)\n",
      "[ ] 33번째 손님 (소요시간 : 44분)\n",
      "[0] 34번째 손님 (소요시간 : 12분)\n",
      "[ ] 35번째 손님 (소요시간 : 17분)\n",
      "[0] 36번째 손님 (소요시간 : 11분)\n",
      "[ ] 37번째 손님 (소요시간 : 21분)\n",
      "[0] 38번째 손님 (소요시간 : 5분)\n",
      "[0] 39번째 손님 (소요시간 : 12분)\n",
      "[0] 40번째 손님 (소요시간 : 12분)\n",
      "[0] 41번째 손님 (소요시간 : 6분)\n",
      "[ ] 42번째 손님 (소요시간 : 31분)\n",
      "[ ] 43번째 손님 (소요시간 : 18분)\n",
      "[ ] 44번째 손님 (소요시간 : 40분)\n",
      "[ ] 45번째 손님 (소요시간 : 41분)\n",
      "[ ] 46번째 손님 (소요시간 : 17분)\n",
      "[ ] 47번째 손님 (소요시간 : 28분)\n",
      "[0] 48번째 손님 (소요시간 : 15분)\n",
      "[ ] 49번째 손님 (소요시간 : 22분)\n",
      "[ ] 50번째 손님 (소요시간 : 26분)\n",
      "총 탑승 승객 : 14분\n"
     ]
    }
   ],
   "source": [
    "from random import *\n",
    "count = 0\n",
    "for i in range(1, 51):\n",
    "    time = randint(5, 50)\n",
    "    if time >=5 and time <= 15 :\n",
    "        print(\"[0] {}번째 손님 (소요시간 : {}분)\".format(i, time))\n",
    "        count += 1\n",
    "    else :\n",
    "        print(\"[ ] {}번째 손님 (소요시간 : {}분)\".format(i, time))\n",
    "print(\"총 탑승 승객 : {}분\".format(count))"
   ]
  },
  {
   "cell_type": "code",
   "execution_count": 270,
   "id": "c3be38e7",
   "metadata": {},
   "outputs": [
    {
     "name": "stdout",
     "output_type": "stream",
     "text": [
      "450\n",
      "350\n",
      "{'hong': 350, 'lee': 300, 'kang': 500}\n",
      "{'lee': 300, 'kang': 500}\n",
      "{'lee': 300, 'kang': 500, 'yoo': 250}\n"
     ]
    }
   ],
   "source": [
    "emp = {'hong' : 350, 'lee' : 450, 'kang' : 500}\n",
    "print(emp['lee'])\n",
    "print(emp.get('hong'))\n",
    "\n",
    "# dict 원소 수정\n",
    "emp['lee'] = 300\n",
    "print(emp)\n",
    "\n",
    "\n",
    "# dict 원소 제거\n",
    "del emp['hong']\n",
    "print(emp)\n",
    "\n",
    "# dict 원소 추가\n",
    "emp['yoo'] = 250\n",
    "print(emp)"
   ]
  },
  {
   "cell_type": "code",
   "execution_count": 274,
   "id": "0cffa433",
   "metadata": {},
   "outputs": [
    {
     "name": "stdout",
     "output_type": "stream",
     "text": [
      "있음\n",
      "name : hong => pay : 350\n",
      "name : lee => pay : 450\n",
      "name : kang => pay : 500\n"
     ]
    }
   ],
   "source": [
    "emp = {'hong' : 350, 'lee' : 450, 'kang' : 500}\n",
    "\n",
    "if 'kang' in emp :\n",
    "    print('있음')\n",
    "else :\n",
    "    print('없음')\n",
    "    \n",
    "\n",
    "for name, pay in emp.items() :\n",
    "    print(f\"name : {name} => pay : {pay}\")"
   ]
  },
  {
   "cell_type": "code",
   "execution_count": null,
   "id": "38c7b777",
   "metadata": {},
   "outputs": [],
   "source": [
    "# [실습] 문자 빈도수 구하기[1]\n",
    "charset = ['abc', 'code', 'band', 'band', 'abc']\n",
    "wc = {}\n",
    "\n",
    "for ch in charset :\n",
    "\n",
    "# 위 for 문을 사용하여 각 단어의 출현 개수를 구하시오\n"
   ]
  },
  {
   "cell_type": "code",
   "execution_count": 280,
   "id": "b1035b96",
   "metadata": {},
   "outputs": [
    {
     "name": "stdout",
     "output_type": "stream",
     "text": [
      "{'abc': 2, 'code': 1, 'band': 2}\n"
     ]
    }
   ],
   "source": [
    "charset = ['abc', 'code', 'band', 'band', 'abc']\n",
    "wc = {}\n",
    "\n",
    "for ch in charset :\n",
    "    if ch not in wc :\n",
    "        wc[ch] = 1\n",
    "    else :\n",
    "        wc[ch] += 1\n",
    "print(wc)"
   ]
  }
 ],
 "metadata": {
  "kernelspec": {
   "display_name": "Python 3 (ipykernel)",
   "language": "python",
   "name": "python3"
  },
  "language_info": {
   "codemirror_mode": {
    "name": "ipython",
    "version": 3
   },
   "file_extension": ".py",
   "mimetype": "text/x-python",
   "name": "python",
   "nbconvert_exporter": "python",
   "pygments_lexer": "ipython3",
   "version": "3.11.5"
  }
 },
 "nbformat": 4,
 "nbformat_minor": 5
}
