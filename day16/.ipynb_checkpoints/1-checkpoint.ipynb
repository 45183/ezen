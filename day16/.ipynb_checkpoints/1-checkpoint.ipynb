{
 "cells": [
  {
   "cell_type": "code",
   "execution_count": null,
   "id": "52720b43",
   "metadata": {},
   "outputs": [],
   "source": [
    "import time\n",
    "xxx = []\n",
    "\n",
    "def elapsed(original_func): # 기존 함수를 인수로 받는다\n",
    "    def wrapper():\n",
    "        start = time.time() # 설치\n",
    "        result = original_func() # 기존 함수 수행\n",
    "        end = time.time() # 설치\n",
    "        print(\"함수 수행시간 : %f 초\" % (end - start)) # 기존 함수의 수행시간을 출력\n",
    "        return result # 기존 함수의 수행 결과를 리턴\n",
    "    return wrapper\n",
    "\n",
    "def myfunc():\n",
    "    print(\"함수가 실행됩니다.\")\n",
    "    for i in range(1, 1000):\n",
    "        for j in range(1, 10000):\n",
    "            xxx.append(i*j)\n",
    "            \n",
    "decorated_myfunc = elapsed(myfunc) \n",
    "decorated_myfunc()"
   ]
  },
  {
   "cell_type": "markdown",
   "id": "8ebd7d12",
   "metadata": {},
   "source": [
    "# 시간복잡도"
   ]
  },
  {
   "cell_type": "code",
   "execution_count": null,
   "id": "4e84514a",
   "metadata": {},
   "outputs": [],
   "source": [
    "# 다음 코드는 오류를 발생시킨다.\n",
    "# 이유는 ? -  가능하면 수정까지\n",
    "\n",
    "# 힌트 - 이전 함수는 인풋이 필요없었는데 지금 계산하는 함수는 인풋값을 받는데 시간 측정에서 인풋을 받아주지 않는다.\n",
    "\n",
    "\n",
    "import time\n",
    "\n",
    "def elapsed(original_func):\n",
    "    def wrapper(???):\n",
    "        start = time.time()\n",
    "        result = original_func(???)\n",
    "        end = time.time()\n",
    "        print(\"함수 수행 시간 : %f 초\" % (end - strart))\n",
    "        return result\n",
    "    return wrapper\n",
    "\n",
    "@elapsed\n",
    "def myfunc(fff):\n",
    "    print(\"함수가 {}실행됩니다.\".format(fff))\n",
    "    for i in range(1, 1000):\n",
    "        for j in range(1, 10000):\n",
    "            xxx.append(i*j)\n",
    "            \n",
    "myfunc(fffff)"
   ]
  },
  {
   "cell_type": "code",
   "execution_count": null,
   "id": "3953b0b1",
   "metadata": {},
   "outputs": [],
   "source": [
    "import time\n",
    "\n",
    "def elapsed(original_func):\n",
    "    def wrapper(*args, **kwargs):\n",
    "        start = time.time()\n",
    "        result = original_func(*args, **kwargs)\n",
    "        end = time.time()\n",
    "        print(\"함수 수행 시간 : %f 초\" % (end - start))\n",
    "        return result\n",
    "    return wrapper\n",
    "\n",
    "@elapsed\n",
    "def myfunc(fff):\n",
    "    print(\"함수가 {}실행됩니다.\".format(fff))\n",
    "    for i in range(1, 1000):\n",
    "        for j in range(1, 10000):\n",
    "            xxx.append(i*j)\n",
    "            \n",
    "myfunc('fffff')"
   ]
  },
  {
   "cell_type": "markdown",
   "id": "5d8a34be",
   "metadata": {},
   "source": [
    "# @함수명 - 이렇게 작성하면 데코레이터 함수로 인식한다"
   ]
  },
  {
   "cell_type": "markdown",
   "id": "915906d4",
   "metadata": {},
   "source": [
    "# 어노테이션\n",
    "\n",
    "\n",
    "# 프로그램 실행 중 변수의 타입을 동적으로 바꿀 수 있는 경우 동적 프로그래밍 언어라 한다\n",
    "\n",
    "# 동적 언어의 단점이 프로그램을 쓰다가 변수의 속성을 바꾸면 중간에 문제가 생길 소지가 있는데 이를 방지하고자 변수형에 힌트를 알리는게 어노테이션이다."
   ]
  },
  {
   "cell_type": "code",
   "execution_count": null,
   "id": "c1962b4b",
   "metadata": {},
   "outputs": [],
   "source": [
    "def div(a: int, b: float) -> int :\n",
    "    return a / b\n",
    "\n",
    "result  = div(3, 4)\n",
    "print(result)"
   ]
  },
  {
   "cell_type": "code",
   "execution_count": null,
   "id": "57140b0f",
   "metadata": {},
   "outputs": [],
   "source": [
    "\"\"\"\n",
    "quiz) 231 ~~~ 240페이지 참고해 주세요\n",
    "동네에 항상 대기 손님이 있는 치킨집이 있습니다.\n",
    "대기손님의 대기시간을 줄이고자 주문시스템을 만들었습니다.\n",
    "시스템 코드를 확인하고 적잘한 예외처리 구문을 넣으시오\n",
    "\n",
    "조건1: 1보다 작거나 숫자가 아닌 입력값이 들오면 ValueError 로 처리해 주세요\n",
    "        출력 메세지: \"잘못된 값을 입력하셨습니다.\"\n",
    "\n",
    "조건2: 대기 손님이 주문할 수 있는 총 치킨량은 10마리로 한정\n",
    "        치킨 소진 시 사용자 정의 에러 [soldOutError] 를 발생시키고 프로그램 출략메세지는\n",
    "        출력 메세지: \"재고가 소진되어 더 이상 주문을 받지 않습니다\"\n",
    "\"\"\"\n",
    "\n",
    "chicken = 10\n",
    "waiting = 1 # 홀 안은 만석, 대기번호 1부터 시작\n",
    "while(True):\n",
    "    print(\"[남은치킨 : {}]\".format(chicken))\n",
    "    order = int(input(\"치킨 몇마리 주문하시겠습니까?\"))\n",
    "    if order > chicken: #남은치킨보다 주문량이 많을 때\n",
    "        print(\"재료가 부족합니다\")\n",
    "    else:\n",
    "        print(\"[대기번호{}] {}마리 주문이 완료되었습니다.\".format(waiting, order))\n",
    "        waiting += 1\n",
    "        chicken -= order"
   ]
  },
  {
   "cell_type": "code",
   "execution_count": null,
   "id": "1a7c4922",
   "metadata": {},
   "outputs": [],
   "source": [
    "chicken = 10\n",
    "waiting = 1 # 홀 안은 만석, 대기번호 1부터 시작\n",
    "      \n",
    "\n",
    "while(chicken > 0):\n",
    "    try :\n",
    "        print(\"[남은치킨 : {}]\".format(chicken))\n",
    "        order = int(input(\"치킨 몇마리 주문하시겠습니까?\"))\n",
    "        if order < 1 :\n",
    "            raise ValueError\n",
    "        elif order > chicken: #남은치킨보다 주문량이 많을 때\n",
    "            print(\"재료가 부족합니다\")\n",
    "        else:\n",
    "            print(\"[대기번호{}] {}마리 주문이 완료되었습니다.\".format(waiting, order))\n",
    "            waiting += 1\n",
    "            chicken -= order\n",
    "            \n",
    "            if chicken == 0:\n",
    "                raise SoldOutError\n",
    "    except ValueError:\n",
    "        print(\"잘못된 값을 입력하셨습니다.\")\n",
    "    except SoldOutError:\n",
    "        print(\"재고가 소진되어 더 이상 주문을 받지 않습니다\")      \n"
   ]
  },
  {
   "cell_type": "code",
   "execution_count": null,
   "id": "dc5cfe0b",
   "metadata": {},
   "outputs": [],
   "source": [
    "class SoldOutError(Exception):\n",
    "    def __str__(self):\n",
    "        return (\"재고가 소진되어 더 이상 주문을 받지 않습니다\")\n",
    "    \n",
    "chicken = 10\n",
    "waiting = 1 # 홀 안은 만석, 대기번호 1부터 시작\n",
    "      \n",
    "\n",
    "while(chicken > 0):\n",
    "    try :\n",
    "        print(\"[남은치킨 : {}]\".format(chicken))\n",
    "        order = int(input(\"치킨 몇마리 주문하시겠습니까?\"))\n",
    "        if order < 1 :\n",
    "            raise ValueError\n",
    "        elif order > chicken: #남은치킨보다 주문량이 많을 때\n",
    "            print(\"재료가 부족합니다\")\n",
    "        else:\n",
    "            print(\"[대기번호{}] {}마리 주문이 완료되었습니다.\".format(waiting, order))\n",
    "            waiting += 1\n",
    "            chicken -= order\n",
    "            \n",
    "            if chicken == 0:\n",
    "                raise SoldOutError\n",
    "                break\n",
    "    except ValueError:\n",
    "        print(\"잘못된 값을 입력하셨습니다.\")\n",
    "    except SoldOutError as err:\n",
    "        print(err)"
   ]
  },
  {
   "cell_type": "code",
   "execution_count": null,
   "id": "47f17cbb",
   "metadata": {},
   "outputs": [],
   "source": [
    "chicken = 10\n",
    "waiting = 1 # 홀 안은 만석, 대기번호 1부터 시작\n",
    "      \n",
    "\n",
    "while(chicken > 0):\n",
    "    try :\n",
    "        print(\"[남은치킨 : {}]\".format(chicken))\n",
    "        order = int(input(\"치킨 몇마리 주문하시겠습니까?\"))\n",
    "        if order < 1 :\n",
    "            raise ValueError\n",
    "        elif order > chicken: #남은치킨보다 주문량이 많을 때\n",
    "            print(\"재료가 부족합니다\")\n",
    "        else:\n",
    "            print(\"[대기번호{}] {}마리 주문이 완료되었습니다.\".format(waiting, order))\n",
    "            waiting += 1\n",
    "            chicken -= order\n",
    "            \n",
    "            if chicken == 0:\n",
    "                raise SoldOutError\n",
    "    except ValueError:\n",
    "        print(\"잘못된 값을 입력하셨습니다.\")\n",
    "    except SoldOutError:\n",
    "        print(\"재고가 소진되어 더 이상 주문을 받지 않습니다\")\n",
    "        break"
   ]
  },
  {
   "cell_type": "markdown",
   "id": "5d9731c4",
   "metadata": {},
   "source": [
    "# 정답"
   ]
  },
  {
   "cell_type": "code",
   "execution_count": null,
   "id": "9f381882",
   "metadata": {},
   "outputs": [],
   "source": [
    "class SoldOutError(Exception):\n",
    "    pass\n",
    "\n",
    "chicken = 10\n",
    "waiting = 1 # 홀 안은 만석, 대기번호 1부터 시작\n",
    "while(True):\n",
    "    try:   \n",
    "        print(\"[남은치킨 : {}]\".format(chicken))\n",
    "        order = int(input(\"치킨 몇마리 주문하시겠습니까?\"))\n",
    "        if order > chicken: #남은치킨보다 주문량이 많을 때\n",
    "            print(\"재료가 부족합니다\")\n",
    "        elif order <= 0:\n",
    "            raise ValueError\n",
    "        else:\n",
    "            print(\"[대기번호{}] {}마리 주문이 완료되었습니다.\".format(waiting, order))\n",
    "            waiting += 1\n",
    "            chicken -= order\n",
    "\n",
    "        if chicken == 0:\n",
    "            raise SoldOutError\n",
    "\n",
    "    except ValueError:\n",
    "        print(\"잘못된 값을 입력하셨습니다.\")\n",
    "    except SoldOutError:\n",
    "        print(\"재고가 소진되어 더 이상 주문을 받지 않습니다\")\n",
    "        break"
   ]
  },
  {
   "cell_type": "markdown",
   "id": "f6744b8d",
   "metadata": {},
   "source": [
    "# 클래스 연습문제\n",
    "\n",
    "\n",
    "# stock 클래스의 객체가 생성될 때 종목명과 종목코드를 입력 받을 수 있도록 생성자를 정의해보세요\n",
    "\n",
    "# 삼성 = Stock(\"삼성전자\", \"005930\")"
   ]
  },
  {
   "cell_type": "code",
   "execution_count": null,
   "id": "aeee7c81",
   "metadata": {},
   "outputs": [],
   "source": [
    "삼성 = Stock(\"삼성전자\", \"005930\")\n",
    "print(삼성.name)\n",
    "print(삼성.code)\n",
    "\n",
    "'''\n",
    "삼성전자\n",
    "005930\n",
    "'''"
   ]
  },
  {
   "cell_type": "code",
   "execution_count": 1,
   "id": "f1ffdad6",
   "metadata": {},
   "outputs": [
    {
     "name": "stdout",
     "output_type": "stream",
     "text": [
      "삼성전자\n",
      "005930\n"
     ]
    }
   ],
   "source": [
    "class Stock:\n",
    "    def __init__(self, name, code):\n",
    "        self.name = name\n",
    "        self.code = code\n",
    "        \n",
    "    def set_name(self, name):\n",
    "        self.name = name\n",
    "    def set_code(self, code):\n",
    "        self.code = code\n",
    "\n",
    "        \n",
    "삼성 = Stock(\"삼성전자\", \"005930\")\n",
    "print(삼성.name)\n",
    "print(삼성.code)"
   ]
  },
  {
   "cell_type": "code",
   "execution_count": null,
   "id": "23589dd5",
   "metadata": {},
   "outputs": [],
   "source": []
  },
  {
   "cell_type": "code",
   "execution_count": null,
   "id": "5429aa7e",
   "metadata": {},
   "outputs": [],
   "source": []
  },
  {
   "cell_type": "code",
   "execution_count": null,
   "id": "9ff0181c",
   "metadata": {},
   "outputs": [],
   "source": []
  },
  {
   "cell_type": "code",
   "execution_count": null,
   "id": "2b0a18e2",
   "metadata": {},
   "outputs": [],
   "source": []
  },
  {
   "cell_type": "code",
   "execution_count": null,
   "id": "c0b318d0",
   "metadata": {},
   "outputs": [],
   "source": []
  },
  {
   "cell_type": "code",
   "execution_count": null,
   "id": "ac704b86",
   "metadata": {},
   "outputs": [],
   "source": []
  },
  {
   "cell_type": "code",
   "execution_count": null,
   "id": "1ccefd5b",
   "metadata": {},
   "outputs": [],
   "source": []
  },
  {
   "cell_type": "code",
   "execution_count": null,
   "id": "10763c66",
   "metadata": {},
   "outputs": [],
   "source": []
  },
  {
   "cell_type": "code",
   "execution_count": null,
   "id": "c6312340",
   "metadata": {},
   "outputs": [],
   "source": []
  },
  {
   "cell_type": "code",
   "execution_count": null,
   "id": "b56a873a",
   "metadata": {},
   "outputs": [],
   "source": []
  }
 ],
 "metadata": {
  "kernelspec": {
   "display_name": "Python 3 (ipykernel)",
   "language": "python",
   "name": "python3"
  },
  "language_info": {
   "codemirror_mode": {
    "name": "ipython",
    "version": 3
   },
   "file_extension": ".py",
   "mimetype": "text/x-python",
   "name": "python",
   "nbconvert_exporter": "python",
   "pygments_lexer": "ipython3",
   "version": "3.11.5"
  }
 },
 "nbformat": 4,
 "nbformat_minor": 5
}
